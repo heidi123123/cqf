{
 "cells": [
  {
   "cell_type": "markdown",
   "id": "9b179a1f-4332-4700-91d1-949d240c70d9",
   "metadata": {},
   "source": [
    "<center><img src=\"Python Logo.jpg\"/></center>"
   ]
  },
  {
   "cell_type": "markdown",
   "id": "11869a82-e69f-427c-bd1b-13770f8fd600",
   "metadata": {},
   "source": [
    "<div style=\"font-family: Arial; text-align: center;\">\n",
    "\n",
    "## Application of Neural Networks\n",
    "#### Kannan Singaravelu, CQF"
   ]
  },
  {
   "cell_type": "markdown",
   "id": "8bed4208-a994-4647-8a02-e915f0fc1895",
   "metadata": {},
   "source": [
    "## Deep Sequence Modeling"
   ]
  },
  {
   "cell_type": "markdown",
   "id": "7b138360-c94c-43eb-906f-ae6e90d9be6d",
   "metadata": {},
   "source": [
    "Deep sequence modeling is essentially applying neural network to problems involving sequential processing of data. Sequence data has memory and comes in many forms such as text, audio, video and financial time series. Thus, requiring a different modeling approaches."
   ]
  },
  {
   "cell_type": "markdown",
   "id": "3550f2b3-832d-46f7-8b21-fdc7f2b64775",
   "metadata": {},
   "source": [
    "### Recurrent Neural Network"
   ]
  },
  {
   "cell_type": "markdown",
   "id": "fbc2cc1d-4e06-46ee-9df1-3e8bca379b25",
   "metadata": {},
   "source": [
    "Recurrent Neural Network (RNN) generalize the feedforward neural network with an internal memory state and good at modeling sequence data as it uses sequential memory for prediction. Sequential memory is a mechanism used to identify the sequence patterns. RNNs are faster and use less computational resources as there are less tensor operations. Sequence problems can be broadly categorized into the following types"
   ]
  },
  {
   "cell_type": "markdown",
   "id": "bc5e171c-15ca-4642-ab39-e26d52c7047e",
   "metadata": {},
   "source": [
    "<img src=\"../Python Labs/JAP13_NNs1.jpeg\"/>\n",
    "Diagrammatic Representation of RNNs for Sequence Modeling [1]\n"
   ]
  },
  {
   "cell_type": "markdown",
   "id": "c1816621-835f-4ee5-a04f-c921d262ef94",
   "metadata": {},
   "source": [
    "### Long Short Term Memory Network"
   ]
  },
  {
   "cell_type": "markdown",
   "id": "855f18f2-c472-4c97-bed5-f28ac192f173",
   "metadata": {},
   "source": [
    "Long Short Term Memory (LSTM) algorithm is a special kind of RNN, explicitly designed to avoid the long-term dependency problem by addressing the problem of short term memory. LSTM models are fundamental to deep learning for financial timeseries and have four interacting layers as given below"
   ]
  },
  {
   "cell_type": "markdown",
   "id": "e8f66c4f-782d-4d93-887c-189801a0332d",
   "metadata": {},
   "source": [
    "<img src=\"../Python Labs/JAP13_NNs2.jpeg\"/>\n",
    "Diagrammatic Representation of LSTM cell and its operation [2]\n"
   ]
  },
  {
   "cell_type": "markdown",
   "id": "eef69519-a024-4560-af9a-09c6e3364c2b",
   "metadata": {},
   "source": [
    "## TensorFlow = Tensor + Flow"
   ]
  },
  {
   "cell_type": "markdown",
   "id": "1e0f5f93-f1ae-46b7-8396-a9090435916b",
   "metadata": {},
   "source": [
    "TensorFlow is an open-source library for numerical computation originally developed by researchers and engineers working at the Google Brain team. It was originally built as a proprietary machine learning system based on deep learning neural networks."
   ]
  },
  {
   "cell_type": "markdown",
   "id": "54783b0f-7943-43f6-b836-529430495069",
   "metadata": {},
   "source": [
    "TensorFlow is made up of two words tensor and flow where Tensor is a multidimensional array and Flow is a graph of operations. Internally, TensorFlow implements machine learning algorithms as a graph of operations on multidimensional array. Tensor is a container for data to store numerical data (almost always) and are a generalization of matrices to an arbitrary number of dimensions which are also called as axis or rank. A tensor is defined by three key attributes:"
   ]
  },
  {
   "cell_type": "markdown",
   "id": "00d49ed9-30c6-4780-9942-12509da951e3",
   "metadata": {},
   "source": [
    "* a) Number of axis or ranks `ndim`\n",
    "* b) Shape `shape`\n",
    "* c) Data type `dtype`"
   ]
  },
  {
   "cell_type": "markdown",
   "id": "84498eaa-a4ce-4dca-898a-3f7dfea33cba",
   "metadata": {},
   "source": [
    "TensorFlow is preferred for the following reason\n"
   ]
  },
  {
   "cell_type": "markdown",
   "id": "f2589fbd-684a-4dc1-9cc7-b90b4ed64d03",
   "metadata": {},
   "source": [
    "* Easy to build and deploy machine learning models for a beginner.\n",
    "* Build state of art machine learning models with Keras functional API and model sub classing APIs.\n",
    "* Supports production of machine learning models, anywhere from CPUs, GPUs to edge devices as well as web servers.\n",
    "* APIs available for Python, Java and Go programming languages.\n",
    "* Has a very flexible architecture\n",
    "* Enables easy deployment across different hardware platforms like CPUs, TPUs and GPUs, and computing devices like desktops, servers, mobile devices, and edge devices."
   ]
  },
  {
   "cell_type": "markdown",
   "id": "ce0a2fd5-bc2e-45e2-a2ca-afe5263872fd",
   "metadata": {},
   "source": [
    "***TensorFlow*** is a foundation (base) library that can be used to create deep learning models directly or by using wrapper libraries that simplify the process built on top of it. It is an open source (symbolic math) library for fast numerical computing, created and maintained by Google. Like NumPy, the primary purpose of TensorFlow is to manipulate mathematical expressions over numerical tensors. It can run not only on CPU, but also on GPUs and TPUs, highly-parallel hardware accelerators"
   ]
  },
  {
   "cell_type": "markdown",
   "id": "57db02e2-1c28-4715-b455-ff76e8391618",
   "metadata": {},
   "source": [
    "Theano is an open source project developed by now Montreal Institute for Learning Algorithms group at the University of Montreal. However, Theano is considered effectively dead with the team announcing on September 2017 that they would cease all its major development after the release of 1.0 version."
   ]
  },
  {
   "cell_type": "markdown",
   "id": "d0edbf57-83a6-4e96-b4b8-1b705fbecbbc",
   "metadata": {},
   "source": [
    "### TensorFlow 2 Installation"
   ]
  },
  {
   "cell_type": "markdown",
   "id": "74a21358-8484-4175-8284-5951cbc480b9",
   "metadata": {},
   "source": [
    "Refer [here](https://www.tensorflow.org/install) for installation of latest version of TensorFlow. Tensorflow is tested and supported on the 64-bit systems and has the following system requirements:"
   ]
  },
  {
   "cell_type": "markdown",
   "id": "66618db3-6591-46fa-8a4b-2a3339f137dd",
   "metadata": {},
   "source": [
    "* Python 3.7–3.10\n",
    "* pip 19.0 (or >20.3 for macOS)\n",
    "* Ubuntu 16.04 or later\n",
    "* Windows 7 or later (with C++ redistributable)\n",
    "* macOS 10.12.6 (Sierra) or later (no GPU support)\n",
    "* Raspbian 9.0 or later : GPU support requires a CUDA®-enabled card (Ubuntu and Windows)\n",
    "* WSL2 via Windows 10 19044 or higher including GPUs (Experimental)"
   ]
  },
  {
   "cell_type": "markdown",
   "id": "1cb32ef4-74d8-4ac4-81a4-911d28d8d7c3",
   "metadata": {},
   "source": [
    "Install the Python development environment on your system (recommended)\n"
   ]
  },
  {
   "cell_type": "markdown",
   "id": "c30ed8d1-5310-4646-8536-7999afc9fd4c",
   "metadata": {},
   "source": [
    "!pip install --user virtualenv"
   ]
  },
  {
   "cell_type": "code",
   "execution_count": 2,
   "id": "ca0a52f5-1e99-4821-b257-691da07d3bd4",
   "metadata": {},
   "outputs": [
    {
     "name": "stdout",
     "output_type": "stream",
     "text": [
      "Collecting tensorflow\n",
      "  Downloading tensorflow-2.16.1-cp311-cp311-win_amd64.whl.metadata (3.5 kB)\n",
      "Collecting tensorflow-intel==2.16.1 (from tensorflow)\n",
      "  Downloading tensorflow_intel-2.16.1-cp311-cp311-win_amd64.whl.metadata (5.0 kB)\n",
      "Collecting absl-py>=1.0.0 (from tensorflow-intel==2.16.1->tensorflow)\n",
      "  Downloading absl_py-2.1.0-py3-none-any.whl.metadata (2.3 kB)\n",
      "Collecting astunparse>=1.6.0 (from tensorflow-intel==2.16.1->tensorflow)\n",
      "  Downloading astunparse-1.6.3-py2.py3-none-any.whl.metadata (4.4 kB)\n",
      "Collecting flatbuffers>=23.5.26 (from tensorflow-intel==2.16.1->tensorflow)\n",
      "  Downloading flatbuffers-24.3.25-py2.py3-none-any.whl.metadata (850 bytes)\n",
      "Collecting gast!=0.5.0,!=0.5.1,!=0.5.2,>=0.2.1 (from tensorflow-intel==2.16.1->tensorflow)\n",
      "  Downloading gast-0.5.4-py3-none-any.whl.metadata (1.3 kB)\n",
      "Collecting google-pasta>=0.1.1 (from tensorflow-intel==2.16.1->tensorflow)\n",
      "  Downloading google_pasta-0.2.0-py3-none-any.whl.metadata (814 bytes)\n",
      "Collecting h5py>=3.10.0 (from tensorflow-intel==2.16.1->tensorflow)\n",
      "  Downloading h5py-3.11.0-cp311-cp311-win_amd64.whl.metadata (2.5 kB)\n",
      "Collecting libclang>=13.0.0 (from tensorflow-intel==2.16.1->tensorflow)\n",
      "  Downloading libclang-18.1.1-py2.py3-none-win_amd64.whl.metadata (5.3 kB)\n",
      "Collecting ml-dtypes~=0.3.1 (from tensorflow-intel==2.16.1->tensorflow)\n",
      "  Downloading ml_dtypes-0.3.2-cp311-cp311-win_amd64.whl.metadata (20 kB)\n",
      "Collecting opt-einsum>=2.3.2 (from tensorflow-intel==2.16.1->tensorflow)\n",
      "  Downloading opt_einsum-3.3.0-py3-none-any.whl.metadata (6.5 kB)\n",
      "Requirement already satisfied: packaging in c:\\users\\heidi\\anaconda3\\lib\\site-packages (from tensorflow-intel==2.16.1->tensorflow) (23.1)\n",
      "Collecting protobuf!=4.21.0,!=4.21.1,!=4.21.2,!=4.21.3,!=4.21.4,!=4.21.5,<5.0.0dev,>=3.20.3 (from tensorflow-intel==2.16.1->tensorflow)\n",
      "  Downloading protobuf-4.25.3-cp310-abi3-win_amd64.whl.metadata (541 bytes)\n",
      "Requirement already satisfied: requests<3,>=2.21.0 in c:\\users\\heidi\\anaconda3\\lib\\site-packages (from tensorflow-intel==2.16.1->tensorflow) (2.31.0)\n",
      "Requirement already satisfied: setuptools in c:\\users\\heidi\\anaconda3\\lib\\site-packages (from tensorflow-intel==2.16.1->tensorflow) (69.2.0)\n",
      "Requirement already satisfied: six>=1.12.0 in c:\\users\\heidi\\anaconda3\\lib\\site-packages (from tensorflow-intel==2.16.1->tensorflow) (1.16.0)\n",
      "Collecting termcolor>=1.1.0 (from tensorflow-intel==2.16.1->tensorflow)\n",
      "  Downloading termcolor-2.4.0-py3-none-any.whl.metadata (6.1 kB)\n",
      "Requirement already satisfied: typing-extensions>=3.6.6 in c:\\users\\heidi\\anaconda3\\lib\\site-packages (from tensorflow-intel==2.16.1->tensorflow) (4.7.1)\n",
      "Requirement already satisfied: wrapt>=1.11.0 in c:\\users\\heidi\\anaconda3\\lib\\site-packages (from tensorflow-intel==2.16.1->tensorflow) (1.14.1)\n",
      "Collecting grpcio<2.0,>=1.24.3 (from tensorflow-intel==2.16.1->tensorflow)\n",
      "  Downloading grpcio-1.64.1-cp311-cp311-win_amd64.whl.metadata (3.4 kB)\n",
      "Collecting tensorboard<2.17,>=2.16 (from tensorflow-intel==2.16.1->tensorflow)\n",
      "  Downloading tensorboard-2.16.2-py3-none-any.whl.metadata (1.6 kB)\n",
      "Collecting keras>=3.0.0 (from tensorflow-intel==2.16.1->tensorflow)\n",
      "  Downloading keras-3.3.3-py3-none-any.whl.metadata (5.7 kB)\n",
      "Collecting tensorflow-io-gcs-filesystem>=0.23.1 (from tensorflow-intel==2.16.1->tensorflow)\n",
      "  Downloading tensorflow_io_gcs_filesystem-0.31.0-cp311-cp311-win_amd64.whl.metadata (14 kB)\n",
      "Requirement already satisfied: numpy<2.0.0,>=1.23.5 in c:\\users\\heidi\\anaconda3\\lib\\site-packages (from tensorflow-intel==2.16.1->tensorflow) (1.24.3)\n",
      "Requirement already satisfied: wheel<1.0,>=0.23.0 in c:\\users\\heidi\\anaconda3\\lib\\site-packages (from astunparse>=1.6.0->tensorflow-intel==2.16.1->tensorflow) (0.43.0)\n",
      "Collecting rich (from keras>=3.0.0->tensorflow-intel==2.16.1->tensorflow)\n",
      "  Downloading rich-13.7.1-py3-none-any.whl.metadata (18 kB)\n",
      "Collecting namex (from keras>=3.0.0->tensorflow-intel==2.16.1->tensorflow)\n",
      "  Downloading namex-0.0.8-py3-none-any.whl.metadata (246 bytes)\n",
      "Collecting optree (from keras>=3.0.0->tensorflow-intel==2.16.1->tensorflow)\n",
      "  Downloading optree-0.11.0-cp311-cp311-win_amd64.whl.metadata (46 kB)\n",
      "     ---------------------------------------- 0.0/46.2 kB ? eta -:--:--\n",
      "     ---------------------------------------- 46.2/46.2 kB 2.2 MB/s eta 0:00:00\n",
      "Requirement already satisfied: charset-normalizer<4,>=2 in c:\\users\\heidi\\anaconda3\\lib\\site-packages (from requests<3,>=2.21.0->tensorflow-intel==2.16.1->tensorflow) (2.0.4)\n",
      "Requirement already satisfied: idna<4,>=2.5 in c:\\users\\heidi\\anaconda3\\lib\\site-packages (from requests<3,>=2.21.0->tensorflow-intel==2.16.1->tensorflow) (3.4)\n",
      "Requirement already satisfied: urllib3<3,>=1.21.1 in c:\\users\\heidi\\anaconda3\\lib\\site-packages (from requests<3,>=2.21.0->tensorflow-intel==2.16.1->tensorflow) (1.26.16)\n",
      "Requirement already satisfied: certifi>=2017.4.17 in c:\\users\\heidi\\anaconda3\\lib\\site-packages (from requests<3,>=2.21.0->tensorflow-intel==2.16.1->tensorflow) (2023.7.22)\n",
      "Requirement already satisfied: markdown>=2.6.8 in c:\\users\\heidi\\anaconda3\\lib\\site-packages (from tensorboard<2.17,>=2.16->tensorflow-intel==2.16.1->tensorflow) (3.4.1)\n",
      "Collecting tensorboard-data-server<0.8.0,>=0.7.0 (from tensorboard<2.17,>=2.16->tensorflow-intel==2.16.1->tensorflow)\n",
      "  Downloading tensorboard_data_server-0.7.2-py3-none-any.whl.metadata (1.1 kB)\n",
      "Requirement already satisfied: werkzeug>=1.0.1 in c:\\users\\heidi\\anaconda3\\lib\\site-packages (from tensorboard<2.17,>=2.16->tensorflow-intel==2.16.1->tensorflow) (2.2.3)\n",
      "Requirement already satisfied: MarkupSafe>=2.1.1 in c:\\users\\heidi\\anaconda3\\lib\\site-packages (from werkzeug>=1.0.1->tensorboard<2.17,>=2.16->tensorflow-intel==2.16.1->tensorflow) (2.1.1)\n",
      "Requirement already satisfied: markdown-it-py>=2.2.0 in c:\\users\\heidi\\anaconda3\\lib\\site-packages (from rich->keras>=3.0.0->tensorflow-intel==2.16.1->tensorflow) (2.2.0)\n",
      "Requirement already satisfied: pygments<3.0.0,>=2.13.0 in c:\\users\\heidi\\anaconda3\\lib\\site-packages (from rich->keras>=3.0.0->tensorflow-intel==2.16.1->tensorflow) (2.15.1)\n",
      "Requirement already satisfied: mdurl~=0.1 in c:\\users\\heidi\\anaconda3\\lib\\site-packages (from markdown-it-py>=2.2.0->rich->keras>=3.0.0->tensorflow-intel==2.16.1->tensorflow) (0.1.0)\n",
      "Downloading tensorflow-2.16.1-cp311-cp311-win_amd64.whl (2.1 kB)\n",
      "Downloading tensorflow_intel-2.16.1-cp311-cp311-win_amd64.whl (377.0 MB)\n",
      "   ---------------------------------------- 0.0/377.0 MB ? eta -:--:--\n",
      "   ---------------------------------------- 0.4/377.0 MB 8.1 MB/s eta 0:00:47\n",
      "   ---------------------------------------- 0.9/377.0 MB 9.6 MB/s eta 0:00:40\n",
      "   ---------------------------------------- 1.5/377.0 MB 10.8 MB/s eta 0:00:35\n",
      "   ---------------------------------------- 2.1/377.0 MB 11.4 MB/s eta 0:00:33\n",
      "   ---------------------------------------- 2.8/377.0 MB 11.9 MB/s eta 0:00:32\n",
      "   ---------------------------------------- 3.4/377.0 MB 12.0 MB/s eta 0:00:32\n",
      "   ---------------------------------------- 3.9/377.0 MB 11.9 MB/s eta 0:00:32\n",
      "   ---------------------------------------- 4.6/377.0 MB 12.2 MB/s eta 0:00:31\n",
      "    --------------------------------------- 5.2/377.0 MB 12.3 MB/s eta 0:00:31\n",
      "    --------------------------------------- 5.8/377.0 MB 12.4 MB/s eta 0:00:30\n",
      "    --------------------------------------- 6.5/377.0 MB 12.5 MB/s eta 0:00:30\n",
      "    --------------------------------------- 7.1/377.0 MB 12.5 MB/s eta 0:00:30\n",
      "    --------------------------------------- 7.7/377.0 MB 12.6 MB/s eta 0:00:30\n",
      "    --------------------------------------- 8.3/377.0 MB 12.6 MB/s eta 0:00:30\n",
      "    --------------------------------------- 8.9/377.0 MB 12.6 MB/s eta 0:00:30\n",
      "   - -------------------------------------- 9.5/377.0 MB 12.7 MB/s eta 0:00:30\n",
      "   - -------------------------------------- 10.1/377.0 MB 12.7 MB/s eta 0:00:29\n",
      "   - -------------------------------------- 10.8/377.0 MB 13.4 MB/s eta 0:00:28\n",
      "   - -------------------------------------- 11.4/377.0 MB 13.4 MB/s eta 0:00:28\n",
      "   - -------------------------------------- 12.0/377.0 MB 13.1 MB/s eta 0:00:28\n",
      "   - -------------------------------------- 12.6/377.0 MB 13.1 MB/s eta 0:00:28\n",
      "   - -------------------------------------- 13.2/377.0 MB 13.1 MB/s eta 0:00:28\n",
      "   - -------------------------------------- 13.5/377.0 MB 13.4 MB/s eta 0:00:28\n",
      "   - -------------------------------------- 14.5/377.0 MB 13.4 MB/s eta 0:00:28\n",
      "   - -------------------------------------- 15.1/377.0 MB 13.1 MB/s eta 0:00:28\n",
      "   - -------------------------------------- 15.7/377.0 MB 13.1 MB/s eta 0:00:28\n",
      "   - -------------------------------------- 16.3/377.0 MB 13.1 MB/s eta 0:00:28\n",
      "   - -------------------------------------- 16.5/377.0 MB 13.4 MB/s eta 0:00:27\n",
      "   - -------------------------------------- 17.6/377.0 MB 13.4 MB/s eta 0:00:27\n",
      "   - -------------------------------------- 18.2/377.0 MB 13.4 MB/s eta 0:00:27\n",
      "   - -------------------------------------- 18.7/377.0 MB 13.4 MB/s eta 0:00:27\n",
      "   -- ------------------------------------- 19.4/377.0 MB 13.4 MB/s eta 0:00:27\n",
      "   -- ------------------------------------- 19.9/377.0 MB 13.4 MB/s eta 0:00:27\n",
      "   -- ------------------------------------- 20.7/377.0 MB 13.4 MB/s eta 0:00:27\n",
      "   -- ------------------------------------- 21.3/377.0 MB 13.4 MB/s eta 0:00:27\n",
      "   -- ------------------------------------- 21.9/377.0 MB 13.4 MB/s eta 0:00:27\n",
      "   -- ------------------------------------- 22.3/377.0 MB 13.4 MB/s eta 0:00:27\n",
      "   -- ------------------------------------- 23.0/377.0 MB 13.1 MB/s eta 0:00:28\n",
      "   -- ------------------------------------- 23.7/377.0 MB 13.4 MB/s eta 0:00:27\n",
      "   -- ------------------------------------- 24.2/377.0 MB 13.4 MB/s eta 0:00:27\n",
      "   -- ------------------------------------- 24.9/377.0 MB 13.4 MB/s eta 0:00:27\n",
      "   -- ------------------------------------- 25.2/377.0 MB 13.4 MB/s eta 0:00:27\n",
      "   -- ------------------------------------- 26.2/377.0 MB 13.4 MB/s eta 0:00:27\n",
      "   -- ------------------------------------- 26.3/377.0 MB 13.6 MB/s eta 0:00:26\n",
      "   -- ------------------------------------- 26.3/377.0 MB 13.6 MB/s eta 0:00:26\n",
      "   -- ------------------------------------- 28.0/377.0 MB 13.4 MB/s eta 0:00:27\n",
      "   -- ------------------------------------- 28.2/377.0 MB 13.1 MB/s eta 0:00:27\n",
      "   --- ------------------------------------ 29.2/377.0 MB 13.4 MB/s eta 0:00:27\n",
      "   --- ------------------------------------ 29.8/377.0 MB 13.6 MB/s eta 0:00:26\n",
      "   --- ------------------------------------ 30.4/377.0 MB 13.4 MB/s eta 0:00:26\n",
      "   --- ------------------------------------ 31.1/377.0 MB 13.4 MB/s eta 0:00:26\n",
      "   --- ------------------------------------ 31.7/377.0 MB 13.4 MB/s eta 0:00:26\n",
      "   --- ------------------------------------ 32.3/377.0 MB 13.1 MB/s eta 0:00:27\n",
      "   --- ------------------------------------ 32.9/377.0 MB 13.6 MB/s eta 0:00:26\n",
      "   --- ------------------------------------ 33.5/377.0 MB 13.4 MB/s eta 0:00:26\n",
      "   --- ------------------------------------ 34.2/377.0 MB 13.4 MB/s eta 0:00:26\n",
      "   --- ------------------------------------ 34.8/377.0 MB 13.4 MB/s eta 0:00:26\n",
      "   --- ------------------------------------ 35.4/377.0 MB 13.4 MB/s eta 0:00:26\n",
      "   --- ------------------------------------ 36.0/377.0 MB 13.6 MB/s eta 0:00:25\n",
      "   --- ------------------------------------ 36.6/377.0 MB 15.2 MB/s eta 0:00:23\n",
      "   --- ------------------------------------ 37.2/377.0 MB 14.6 MB/s eta 0:00:24\n",
      "   ---- ----------------------------------- 37.7/377.0 MB 13.9 MB/s eta 0:00:25\n",
      "   ---- ----------------------------------- 38.4/377.0 MB 13.4 MB/s eta 0:00:26\n",
      "   ---- ----------------------------------- 39.0/377.0 MB 13.4 MB/s eta 0:00:26\n",
      "   ---- ----------------------------------- 39.6/377.0 MB 13.4 MB/s eta 0:00:26\n",
      "   ---- ----------------------------------- 40.2/377.0 MB 13.1 MB/s eta 0:00:26\n",
      "   ---- ----------------------------------- 40.8/377.0 MB 13.4 MB/s eta 0:00:26\n",
      "   ---- ----------------------------------- 41.5/377.0 MB 13.1 MB/s eta 0:00:26\n",
      "   ---- ----------------------------------- 42.1/377.0 MB 13.1 MB/s eta 0:00:26\n",
      "   ---- ----------------------------------- 42.7/377.0 MB 13.1 MB/s eta 0:00:26\n",
      "   ---- ----------------------------------- 43.3/377.0 MB 13.1 MB/s eta 0:00:26\n",
      "   ---- ----------------------------------- 43.9/377.0 MB 13.4 MB/s eta 0:00:25\n",
      "   ---- ----------------------------------- 44.6/377.0 MB 13.4 MB/s eta 0:00:25\n",
      "   ---- ----------------------------------- 45.1/377.0 MB 13.4 MB/s eta 0:00:25\n",
      "   ---- ----------------------------------- 45.8/377.0 MB 13.4 MB/s eta 0:00:25\n",
      "   ---- ----------------------------------- 46.3/377.0 MB 13.4 MB/s eta 0:00:25\n",
      "   ---- ----------------------------------- 47.0/377.0 MB 13.4 MB/s eta 0:00:25\n",
      "   ----- ---------------------------------- 47.6/377.0 MB 13.4 MB/s eta 0:00:25\n",
      "   ----- ---------------------------------- 48.2/377.0 MB 13.4 MB/s eta 0:00:25\n",
      "   ----- ---------------------------------- 48.6/377.0 MB 13.4 MB/s eta 0:00:25\n",
      "   ----- ---------------------------------- 49.4/377.0 MB 13.4 MB/s eta 0:00:25\n",
      "   ----- ---------------------------------- 50.0/377.0 MB 13.1 MB/s eta 0:00:25\n",
      "   ----- ---------------------------------- 50.6/377.0 MB 13.4 MB/s eta 0:00:25\n",
      "   ----- ---------------------------------- 51.2/377.0 MB 13.1 MB/s eta 0:00:25\n",
      "   ----- ---------------------------------- 51.9/377.0 MB 13.4 MB/s eta 0:00:25\n",
      "   ----- ---------------------------------- 52.5/377.0 MB 13.4 MB/s eta 0:00:25\n",
      "   ----- ---------------------------------- 53.1/377.0 MB 13.4 MB/s eta 0:00:25\n",
      "   ----- ---------------------------------- 53.7/377.0 MB 13.4 MB/s eta 0:00:25\n",
      "   ----- ---------------------------------- 54.4/377.0 MB 13.4 MB/s eta 0:00:25\n",
      "   ----- ---------------------------------- 55.0/377.0 MB 13.1 MB/s eta 0:00:25\n",
      "   ----- ---------------------------------- 55.6/377.0 MB 13.1 MB/s eta 0:00:25\n",
      "   ----- ---------------------------------- 56.2/377.0 MB 13.4 MB/s eta 0:00:24\n",
      "   ------ --------------------------------- 56.7/377.0 MB 13.4 MB/s eta 0:00:24\n",
      "   ------ --------------------------------- 57.4/377.0 MB 13.4 MB/s eta 0:00:24\n",
      "   ------ --------------------------------- 58.0/377.0 MB 13.4 MB/s eta 0:00:24\n",
      "   ------ --------------------------------- 58.6/377.0 MB 13.4 MB/s eta 0:00:24\n",
      "   ------ --------------------------------- 59.2/377.0 MB 13.4 MB/s eta 0:00:24\n",
      "   ------ --------------------------------- 59.8/377.0 MB 13.4 MB/s eta 0:00:24\n",
      "   ------ --------------------------------- 60.4/377.0 MB 13.4 MB/s eta 0:00:24\n",
      "   ------ --------------------------------- 60.9/377.0 MB 13.4 MB/s eta 0:00:24\n",
      "   ------ --------------------------------- 61.4/377.0 MB 13.4 MB/s eta 0:00:24\n",
      "   ------ --------------------------------- 62.2/377.0 MB 13.1 MB/s eta 0:00:25\n",
      "   ------ --------------------------------- 62.8/377.0 MB 13.4 MB/s eta 0:00:24\n",
      "   ------ --------------------------------- 63.4/377.0 MB 13.1 MB/s eta 0:00:24\n",
      "   ------ --------------------------------- 64.1/377.0 MB 13.4 MB/s eta 0:00:24\n",
      "   ------ --------------------------------- 64.7/377.0 MB 13.4 MB/s eta 0:00:24\n",
      "   ------ --------------------------------- 65.3/377.0 MB 13.4 MB/s eta 0:00:24\n",
      "   ------ --------------------------------- 65.9/377.0 MB 13.4 MB/s eta 0:00:24\n",
      "   ------- -------------------------------- 66.6/377.0 MB 13.1 MB/s eta 0:00:24\n",
      "   ------- -------------------------------- 67.2/377.0 MB 13.1 MB/s eta 0:00:24\n",
      "   ------- -------------------------------- 67.8/377.0 MB 13.1 MB/s eta 0:00:24\n",
      "   ------- -------------------------------- 68.4/377.0 MB 13.1 MB/s eta 0:00:24\n",
      "   ------- -------------------------------- 69.1/377.0 MB 13.1 MB/s eta 0:00:24\n",
      "   ------- -------------------------------- 69.7/377.0 MB 13.1 MB/s eta 0:00:24\n",
      "   ------- -------------------------------- 70.3/377.0 MB 13.4 MB/s eta 0:00:23\n",
      "   ------- -------------------------------- 70.9/377.0 MB 13.4 MB/s eta 0:00:23\n",
      "   ------- -------------------------------- 71.5/377.0 MB 13.4 MB/s eta 0:00:23\n",
      "   ------- -------------------------------- 72.1/377.0 MB 13.4 MB/s eta 0:00:23\n",
      "   ------- -------------------------------- 72.7/377.0 MB 13.4 MB/s eta 0:00:23\n",
      "   ------- -------------------------------- 73.3/377.0 MB 13.4 MB/s eta 0:00:23\n",
      "   ------- -------------------------------- 73.9/377.0 MB 13.4 MB/s eta 0:00:23\n",
      "   ------- -------------------------------- 74.4/377.0 MB 13.4 MB/s eta 0:00:23\n",
      "   ------- -------------------------------- 74.4/377.0 MB 13.4 MB/s eta 0:00:23\n",
      "   ------- -------------------------------- 74.4/377.0 MB 13.4 MB/s eta 0:00:23\n",
      "   -------- ------------------------------- 76.4/377.0 MB 13.4 MB/s eta 0:00:23\n",
      "   -------- ------------------------------- 77.0/377.0 MB 13.1 MB/s eta 0:00:23\n",
      "   -------- ------------------------------- 77.6/377.0 MB 13.1 MB/s eta 0:00:23\n",
      "   -------- ------------------------------- 78.2/377.0 MB 13.1 MB/s eta 0:00:23\n",
      "   -------- ------------------------------- 78.8/377.0 MB 13.1 MB/s eta 0:00:23\n",
      "   -------- ------------------------------- 79.5/377.0 MB 13.1 MB/s eta 0:00:23\n",
      "   -------- ------------------------------- 80.1/377.0 MB 13.1 MB/s eta 0:00:23\n",
      "   -------- ------------------------------- 80.2/377.0 MB 13.4 MB/s eta 0:00:23\n",
      "   -------- ------------------------------- 81.3/377.0 MB 13.1 MB/s eta 0:00:23\n",
      "   -------- ------------------------------- 81.9/377.0 MB 13.1 MB/s eta 0:00:23\n",
      "   -------- ------------------------------- 82.5/377.0 MB 13.1 MB/s eta 0:00:23\n",
      "   -------- ------------------------------- 83.1/377.0 MB 13.4 MB/s eta 0:00:23\n",
      "   -------- ------------------------------- 83.5/377.0 MB 12.8 MB/s eta 0:00:23\n",
      "   -------- ------------------------------- 84.4/377.0 MB 13.4 MB/s eta 0:00:22\n",
      "   --------- ------------------------------ 85.0/377.0 MB 15.6 MB/s eta 0:00:19\n",
      "   --------- ------------------------------ 85.6/377.0 MB 14.5 MB/s eta 0:00:21\n",
      "   --------- ------------------------------ 86.0/377.0 MB 13.9 MB/s eta 0:00:21\n",
      "   --------- ------------------------------ 86.7/377.0 MB 13.4 MB/s eta 0:00:22\n",
      "   --------- ------------------------------ 87.5/377.0 MB 13.4 MB/s eta 0:00:22\n",
      "   --------- ------------------------------ 88.1/377.0 MB 13.4 MB/s eta 0:00:22\n",
      "   --------- ------------------------------ 88.5/377.0 MB 13.4 MB/s eta 0:00:22\n",
      "   --------- ------------------------------ 89.0/377.0 MB 13.1 MB/s eta 0:00:22\n",
      "   --------- ------------------------------ 89.9/377.0 MB 13.4 MB/s eta 0:00:22\n",
      "   --------- ------------------------------ 90.6/377.0 MB 13.9 MB/s eta 0:00:21\n",
      "   --------- ------------------------------ 91.2/377.0 MB 13.4 MB/s eta 0:00:22\n",
      "   --------- ------------------------------ 91.8/377.0 MB 13.4 MB/s eta 0:00:22\n",
      "   --------- ------------------------------ 92.0/377.0 MB 12.8 MB/s eta 0:00:23\n",
      "   --------- ------------------------------ 93.0/377.0 MB 13.4 MB/s eta 0:00:22\n",
      "   --------- ------------------------------ 93.7/377.0 MB 13.9 MB/s eta 0:00:21\n",
      "   ---------- ----------------------------- 94.3/377.0 MB 13.4 MB/s eta 0:00:22\n",
      "   ---------- ----------------------------- 94.9/377.0 MB 13.4 MB/s eta 0:00:22\n",
      "   ---------- ----------------------------- 95.5/377.0 MB 13.4 MB/s eta 0:00:22\n",
      "   ---------- ----------------------------- 96.1/377.0 MB 13.4 MB/s eta 0:00:22\n",
      "   ---------- ----------------------------- 96.7/377.0 MB 13.4 MB/s eta 0:00:21\n",
      "   ---------- ----------------------------- 97.3/377.0 MB 13.4 MB/s eta 0:00:21\n",
      "   ---------- ----------------------------- 97.9/377.0 MB 13.1 MB/s eta 0:00:22\n",
      "   ---------- ----------------------------- 98.5/377.0 MB 13.1 MB/s eta 0:00:22\n",
      "   ---------- ----------------------------- 99.0/377.0 MB 13.1 MB/s eta 0:00:22\n",
      "   ---------- ----------------------------- 99.8/377.0 MB 13.4 MB/s eta 0:00:21\n",
      "   ---------- ---------------------------- 100.3/377.0 MB 13.4 MB/s eta 0:00:21\n",
      "   ---------- ---------------------------- 101.0/377.0 MB 13.4 MB/s eta 0:00:21\n",
      "   ---------- ---------------------------- 101.6/377.0 MB 13.4 MB/s eta 0:00:21\n",
      "   ---------- ---------------------------- 102.2/377.0 MB 13.9 MB/s eta 0:00:20\n",
      "   ---------- ---------------------------- 102.8/377.0 MB 13.4 MB/s eta 0:00:21\n",
      "   ---------- ---------------------------- 103.4/377.0 MB 13.4 MB/s eta 0:00:21\n",
      "   ---------- ---------------------------- 104.0/377.0 MB 13.4 MB/s eta 0:00:21\n",
      "   ---------- ---------------------------- 104.6/377.0 MB 13.4 MB/s eta 0:00:21\n",
      "   ---------- ---------------------------- 105.3/377.0 MB 13.9 MB/s eta 0:00:20\n",
      "   ---------- ---------------------------- 105.9/377.0 MB 13.4 MB/s eta 0:00:21\n",
      "   ----------- --------------------------- 106.5/377.0 MB 13.4 MB/s eta 0:00:21\n",
      "   ----------- --------------------------- 107.1/377.0 MB 13.4 MB/s eta 0:00:21\n",
      "   ----------- --------------------------- 107.7/377.0 MB 13.1 MB/s eta 0:00:21\n",
      "   ----------- --------------------------- 108.3/377.0 MB 13.4 MB/s eta 0:00:21\n",
      "   ----------- --------------------------- 108.9/377.0 MB 13.4 MB/s eta 0:00:21\n",
      "   ----------- --------------------------- 109.5/377.0 MB 13.1 MB/s eta 0:00:21\n",
      "   ----------- --------------------------- 110.1/377.0 MB 13.1 MB/s eta 0:00:21\n",
      "   ----------- --------------------------- 110.8/377.0 MB 13.1 MB/s eta 0:00:21\n",
      "   ----------- --------------------------- 111.4/377.0 MB 13.4 MB/s eta 0:00:20\n",
      "   ----------- --------------------------- 112.0/377.0 MB 13.4 MB/s eta 0:00:20\n",
      "   ----------- --------------------------- 112.6/377.0 MB 13.4 MB/s eta 0:00:20\n",
      "   ----------- --------------------------- 113.2/377.0 MB 13.4 MB/s eta 0:00:20\n",
      "   ----------- --------------------------- 113.8/377.0 MB 13.4 MB/s eta 0:00:20\n",
      "   ----------- --------------------------- 114.4/377.0 MB 13.4 MB/s eta 0:00:20\n",
      "   ----------- --------------------------- 115.0/377.0 MB 13.4 MB/s eta 0:00:20\n",
      "   ----------- --------------------------- 115.6/377.0 MB 13.4 MB/s eta 0:00:20\n",
      "   ------------ -------------------------- 116.3/377.0 MB 13.4 MB/s eta 0:00:20\n",
      "   ------------ -------------------------- 116.8/377.0 MB 13.1 MB/s eta 0:00:20\n",
      "   ------------ -------------------------- 117.5/377.0 MB 13.4 MB/s eta 0:00:20\n",
      "   ------------ -------------------------- 118.1/377.0 MB 13.4 MB/s eta 0:00:20\n",
      "   ------------ -------------------------- 118.8/377.0 MB 13.4 MB/s eta 0:00:20\n",
      "   ------------ -------------------------- 119.4/377.0 MB 13.4 MB/s eta 0:00:20\n",
      "   ------------ -------------------------- 120.0/377.0 MB 13.4 MB/s eta 0:00:20\n",
      "   ------------ -------------------------- 120.6/377.0 MB 13.4 MB/s eta 0:00:20\n",
      "   ------------ -------------------------- 121.3/377.0 MB 13.4 MB/s eta 0:00:20\n",
      "   ------------ -------------------------- 121.9/377.0 MB 13.4 MB/s eta 0:00:20\n",
      "   ------------ -------------------------- 122.5/377.0 MB 13.4 MB/s eta 0:00:20\n",
      "   ------------ -------------------------- 123.1/377.0 MB 13.4 MB/s eta 0:00:20\n",
      "   ------------ -------------------------- 123.6/377.0 MB 13.4 MB/s eta 0:00:19\n",
      "   ------------ -------------------------- 124.3/377.0 MB 13.1 MB/s eta 0:00:20\n",
      "   ------------ -------------------------- 124.8/377.0 MB 13.4 MB/s eta 0:00:19\n",
      "   ------------ -------------------------- 125.5/377.0 MB 13.1 MB/s eta 0:00:20\n",
      "   ------------- ------------------------- 126.1/377.0 MB 13.1 MB/s eta 0:00:20\n",
      "   ------------- ------------------------- 126.7/377.0 MB 13.4 MB/s eta 0:00:19\n",
      "   ------------- ------------------------- 127.3/377.0 MB 13.4 MB/s eta 0:00:19\n",
      "   ------------- ------------------------- 128.0/377.0 MB 13.4 MB/s eta 0:00:19\n",
      "   ------------- ------------------------- 128.6/377.0 MB 13.4 MB/s eta 0:00:19\n",
      "   ------------- ------------------------- 129.2/377.0 MB 13.4 MB/s eta 0:00:19\n",
      "   ------------- ------------------------- 129.8/377.0 MB 13.4 MB/s eta 0:00:19\n",
      "   ------------- ------------------------- 130.4/377.0 MB 13.4 MB/s eta 0:00:19\n",
      "   ------------- ------------------------- 131.0/377.0 MB 13.4 MB/s eta 0:00:19\n",
      "   ------------- ------------------------- 131.6/377.0 MB 13.4 MB/s eta 0:00:19\n",
      "   ------------- ------------------------- 132.2/377.0 MB 13.4 MB/s eta 0:00:19\n",
      "   ------------- ------------------------- 132.8/377.0 MB 13.1 MB/s eta 0:00:19\n",
      "   ------------- ------------------------- 133.4/377.0 MB 13.4 MB/s eta 0:00:19\n",
      "   ------------- ------------------------- 134.0/377.0 MB 13.1 MB/s eta 0:00:19\n",
      "   ------------- ------------------------- 134.6/377.0 MB 13.1 MB/s eta 0:00:19\n",
      "   ------------- ------------------------- 135.2/377.0 MB 13.1 MB/s eta 0:00:19\n",
      "   -------------- ------------------------ 135.9/377.0 MB 13.1 MB/s eta 0:00:19\n",
      "   -------------- ------------------------ 136.5/377.0 MB 13.6 MB/s eta 0:00:18\n",
      "   -------------- ------------------------ 137.1/377.0 MB 13.4 MB/s eta 0:00:18\n",
      "   -------------- ------------------------ 137.7/377.0 MB 13.4 MB/s eta 0:00:18\n",
      "   -------------- ------------------------ 138.3/377.0 MB 13.4 MB/s eta 0:00:18\n",
      "   -------------- ------------------------ 138.8/377.0 MB 13.4 MB/s eta 0:00:18\n",
      "   -------------- ------------------------ 139.5/377.0 MB 13.4 MB/s eta 0:00:18\n",
      "   -------------- ------------------------ 140.1/377.0 MB 13.4 MB/s eta 0:00:18\n",
      "   -------------- ------------------------ 140.7/377.0 MB 13.4 MB/s eta 0:00:18\n",
      "   -------------- ------------------------ 141.2/377.0 MB 13.1 MB/s eta 0:00:19\n",
      "   -------------- ------------------------ 142.0/377.0 MB 13.4 MB/s eta 0:00:18\n",
      "   -------------- ------------------------ 142.5/377.0 MB 13.1 MB/s eta 0:00:18\n",
      "   -------------- ------------------------ 143.2/377.0 MB 13.1 MB/s eta 0:00:18\n",
      "   -------------- ------------------------ 143.8/377.0 MB 13.1 MB/s eta 0:00:18\n",
      "   -------------- ------------------------ 144.4/377.0 MB 13.1 MB/s eta 0:00:18\n",
      "   -------------- ------------------------ 145.0/377.0 MB 13.4 MB/s eta 0:00:18\n",
      "   --------------- ----------------------- 145.6/377.0 MB 13.4 MB/s eta 0:00:18\n",
      "   --------------- ----------------------- 146.2/377.0 MB 13.4 MB/s eta 0:00:18\n",
      "   --------------- ----------------------- 146.8/377.0 MB 13.4 MB/s eta 0:00:18\n",
      "   --------------- ----------------------- 147.4/377.0 MB 13.4 MB/s eta 0:00:18\n",
      "   --------------- ----------------------- 148.1/377.0 MB 13.4 MB/s eta 0:00:18\n",
      "   --------------- ----------------------- 148.6/377.0 MB 13.4 MB/s eta 0:00:18\n",
      "   --------------- ----------------------- 149.3/377.0 MB 13.4 MB/s eta 0:00:18\n",
      "   --------------- ----------------------- 149.8/377.0 MB 13.4 MB/s eta 0:00:17\n",
      "   --------------- ----------------------- 150.5/377.0 MB 13.4 MB/s eta 0:00:17\n",
      "   --------------- ----------------------- 151.1/377.0 MB 13.1 MB/s eta 0:00:18\n",
      "   --------------- ----------------------- 151.7/377.0 MB 13.1 MB/s eta 0:00:18\n",
      "   --------------- ----------------------- 152.2/377.0 MB 13.4 MB/s eta 0:00:17\n",
      "   --------------- ----------------------- 152.9/377.0 MB 13.1 MB/s eta 0:00:18\n",
      "   --------------- ----------------------- 153.5/377.0 MB 13.1 MB/s eta 0:00:18\n",
      "   --------------- ----------------------- 154.1/377.0 MB 13.1 MB/s eta 0:00:18\n",
      "   ---------------- ---------------------- 154.8/377.0 MB 13.1 MB/s eta 0:00:17\n",
      "   ---------------- ---------------------- 155.4/377.0 MB 13.1 MB/s eta 0:00:17\n",
      "   ---------------- ---------------------- 156.0/377.0 MB 13.1 MB/s eta 0:00:17\n",
      "   ---------------- ---------------------- 156.6/377.0 MB 13.4 MB/s eta 0:00:17\n",
      "   ---------------- ---------------------- 157.2/377.0 MB 13.1 MB/s eta 0:00:17\n",
      "   ---------------- ---------------------- 157.8/377.0 MB 13.4 MB/s eta 0:00:17\n",
      "   ---------------- ---------------------- 158.4/377.0 MB 13.4 MB/s eta 0:00:17\n",
      "   ---------------- ---------------------- 159.1/377.0 MB 13.4 MB/s eta 0:00:17\n",
      "   ---------------- ---------------------- 159.7/377.0 MB 13.4 MB/s eta 0:00:17\n",
      "   ---------------- ---------------------- 160.3/377.0 MB 13.4 MB/s eta 0:00:17\n",
      "   ---------------- ---------------------- 160.9/377.0 MB 13.6 MB/s eta 0:00:16\n",
      "   ---------------- ---------------------- 161.5/377.0 MB 13.4 MB/s eta 0:00:17\n",
      "   ---------------- ---------------------- 162.2/377.0 MB 13.4 MB/s eta 0:00:17\n",
      "   ---------------- ---------------------- 162.8/377.0 MB 13.4 MB/s eta 0:00:17\n",
      "   ---------------- ---------------------- 163.4/377.0 MB 13.4 MB/s eta 0:00:16\n",
      "   ---------------- ---------------------- 164.0/377.0 MB 13.4 MB/s eta 0:00:16\n",
      "   ----------------- --------------------- 164.7/377.0 MB 13.4 MB/s eta 0:00:16\n",
      "   ----------------- --------------------- 165.3/377.0 MB 13.4 MB/s eta 0:00:16\n",
      "   ----------------- --------------------- 165.9/377.0 MB 13.4 MB/s eta 0:00:16\n",
      "   ----------------- --------------------- 166.5/377.0 MB 13.4 MB/s eta 0:00:16\n",
      "   ----------------- --------------------- 167.1/377.0 MB 13.4 MB/s eta 0:00:16\n",
      "   ----------------- --------------------- 167.7/377.0 MB 13.4 MB/s eta 0:00:16\n",
      "   ----------------- --------------------- 168.3/377.0 MB 13.4 MB/s eta 0:00:16\n",
      "   ----------------- --------------------- 168.9/377.0 MB 13.4 MB/s eta 0:00:16\n",
      "   ----------------- --------------------- 169.6/377.0 MB 13.4 MB/s eta 0:00:16\n",
      "   ----------------- --------------------- 170.2/377.0 MB 13.4 MB/s eta 0:00:16\n",
      "   ----------------- --------------------- 170.7/377.0 MB 13.1 MB/s eta 0:00:16\n",
      "   ----------------- --------------------- 171.4/377.0 MB 13.1 MB/s eta 0:00:16\n",
      "   ----------------- --------------------- 172.0/377.0 MB 13.4 MB/s eta 0:00:16\n",
      "   ----------------- --------------------- 172.6/377.0 MB 13.4 MB/s eta 0:00:16\n",
      "   ----------------- --------------------- 173.2/377.0 MB 13.6 MB/s eta 0:00:15\n",
      "   ----------------- --------------------- 173.8/377.0 MB 13.4 MB/s eta 0:00:16\n",
      "   ------------------ -------------------- 174.4/377.0 MB 13.4 MB/s eta 0:00:16\n",
      "   ------------------ -------------------- 175.1/377.0 MB 13.4 MB/s eta 0:00:16\n",
      "   ------------------ -------------------- 175.7/377.0 MB 13.4 MB/s eta 0:00:16\n",
      "   ------------------ -------------------- 176.3/377.0 MB 13.4 MB/s eta 0:00:16\n",
      "   ------------------ -------------------- 176.9/377.0 MB 13.4 MB/s eta 0:00:15\n",
      "   ------------------ -------------------- 177.5/377.0 MB 13.4 MB/s eta 0:00:15\n",
      "   ------------------ -------------------- 178.1/377.0 MB 13.4 MB/s eta 0:00:15\n",
      "   ------------------ -------------------- 178.7/377.0 MB 13.4 MB/s eta 0:00:15\n",
      "   ------------------ -------------------- 179.3/377.0 MB 13.1 MB/s eta 0:00:16\n",
      "   ------------------ -------------------- 179.9/377.0 MB 13.1 MB/s eta 0:00:16\n",
      "   ------------------ -------------------- 180.5/377.0 MB 13.1 MB/s eta 0:00:15\n",
      "   ------------------ -------------------- 181.1/377.0 MB 13.1 MB/s eta 0:00:15\n",
      "   ------------------ -------------------- 181.7/377.0 MB 13.1 MB/s eta 0:00:15\n",
      "   ------------------ -------------------- 182.4/377.0 MB 13.1 MB/s eta 0:00:15\n",
      "   ------------------ -------------------- 183.0/377.0 MB 13.1 MB/s eta 0:00:15\n",
      "   ------------------ -------------------- 183.6/377.0 MB 13.1 MB/s eta 0:00:15\n",
      "   ------------------- ------------------- 184.2/377.0 MB 13.1 MB/s eta 0:00:15\n",
      "   ------------------- ------------------- 184.8/377.0 MB 13.4 MB/s eta 0:00:15\n",
      "   ------------------- ------------------- 185.4/377.0 MB 13.4 MB/s eta 0:00:15\n",
      "   ------------------- ------------------- 186.0/377.0 MB 13.4 MB/s eta 0:00:15\n",
      "   ------------------- ------------------- 186.7/377.0 MB 13.4 MB/s eta 0:00:15\n",
      "   ------------------- ------------------- 187.3/377.0 MB 13.4 MB/s eta 0:00:15\n",
      "   ------------------- ------------------- 187.9/377.0 MB 13.4 MB/s eta 0:00:15\n",
      "   ------------------- ------------------- 188.5/377.0 MB 13.4 MB/s eta 0:00:15\n",
      "   ------------------- ------------------- 189.1/377.0 MB 13.4 MB/s eta 0:00:15\n",
      "   ------------------- ------------------- 189.6/377.0 MB 13.1 MB/s eta 0:00:15\n",
      "   ------------------- ------------------- 190.3/377.0 MB 13.4 MB/s eta 0:00:14\n",
      "   ------------------- ------------------- 190.9/377.0 MB 13.4 MB/s eta 0:00:14\n",
      "   ------------------- ------------------- 191.6/377.0 MB 13.4 MB/s eta 0:00:14\n",
      "   ------------------- ------------------- 192.2/377.0 MB 13.4 MB/s eta 0:00:14\n",
      "   ------------------- ------------------- 192.8/377.0 MB 13.4 MB/s eta 0:00:14\n",
      "   -------------------- ------------------ 193.4/377.0 MB 13.1 MB/s eta 0:00:15\n",
      "   -------------------- ------------------ 194.0/377.0 MB 13.1 MB/s eta 0:00:14\n",
      "   -------------------- ------------------ 194.6/377.0 MB 13.1 MB/s eta 0:00:14\n",
      "   -------------------- ------------------ 195.2/377.0 MB 13.4 MB/s eta 0:00:14\n",
      "   -------------------- ------------------ 195.8/377.0 MB 13.4 MB/s eta 0:00:14\n",
      "   -------------------- ------------------ 196.4/377.0 MB 13.4 MB/s eta 0:00:14\n",
      "   -------------------- ------------------ 197.0/377.0 MB 13.4 MB/s eta 0:00:14\n",
      "   -------------------- ------------------ 197.5/377.0 MB 13.4 MB/s eta 0:00:14\n",
      "   -------------------- ------------------ 198.2/377.0 MB 13.4 MB/s eta 0:00:14\n",
      "   -------------------- ------------------ 198.9/377.0 MB 13.4 MB/s eta 0:00:14\n",
      "   -------------------- ------------------ 199.5/377.0 MB 13.4 MB/s eta 0:00:14\n",
      "   -------------------- ------------------ 200.1/377.0 MB 13.4 MB/s eta 0:00:14\n",
      "   -------------------- ------------------ 200.7/377.0 MB 13.4 MB/s eta 0:00:14\n",
      "   -------------------- ------------------ 201.3/377.0 MB 13.4 MB/s eta 0:00:14\n",
      "   -------------------- ------------------ 202.0/377.0 MB 13.4 MB/s eta 0:00:14\n",
      "   -------------------- ------------------ 202.5/377.0 MB 13.4 MB/s eta 0:00:14\n",
      "   --------------------- ----------------- 203.1/377.0 MB 13.1 MB/s eta 0:00:14\n",
      "   --------------------- ----------------- 203.8/377.0 MB 13.1 MB/s eta 0:00:14\n",
      "   --------------------- ----------------- 204.4/377.0 MB 13.1 MB/s eta 0:00:14\n",
      "   --------------------- ----------------- 205.0/377.0 MB 13.1 MB/s eta 0:00:14\n",
      "   --------------------- ----------------- 205.6/377.0 MB 13.1 MB/s eta 0:00:14\n",
      "   --------------------- ----------------- 206.3/377.0 MB 13.1 MB/s eta 0:00:14\n",
      "   --------------------- ----------------- 206.8/377.0 MB 13.4 MB/s eta 0:00:13\n",
      "   --------------------- ----------------- 207.4/377.0 MB 13.4 MB/s eta 0:00:13\n",
      "   --------------------- ----------------- 208.1/377.0 MB 13.1 MB/s eta 0:00:13\n",
      "   --------------------- ----------------- 208.7/377.0 MB 13.4 MB/s eta 0:00:13\n",
      "   --------------------- ----------------- 209.2/377.0 MB 13.1 MB/s eta 0:00:13\n",
      "   --------------------- ----------------- 209.9/377.0 MB 13.4 MB/s eta 0:00:13\n",
      "   --------------------- ----------------- 210.5/377.0 MB 13.4 MB/s eta 0:00:13\n",
      "   --------------------- ----------------- 211.1/377.0 MB 13.4 MB/s eta 0:00:13\n",
      "   --------------------- ----------------- 211.7/377.0 MB 13.4 MB/s eta 0:00:13\n",
      "   --------------------- ----------------- 212.3/377.0 MB 13.4 MB/s eta 0:00:13\n",
      "   ---------------------- ---------------- 213.0/377.0 MB 13.4 MB/s eta 0:00:13\n",
      "   ---------------------- ---------------- 213.7/377.0 MB 13.4 MB/s eta 0:00:13\n",
      "   ---------------------- ---------------- 214.3/377.0 MB 13.4 MB/s eta 0:00:13\n",
      "   ---------------------- ---------------- 214.9/377.0 MB 13.4 MB/s eta 0:00:13\n",
      "   ---------------------- ---------------- 215.5/377.0 MB 13.4 MB/s eta 0:00:13\n",
      "   ---------------------- ---------------- 216.1/377.0 MB 13.4 MB/s eta 0:00:13\n",
      "   ---------------------- ---------------- 216.7/377.0 MB 13.4 MB/s eta 0:00:12\n",
      "   ---------------------- ---------------- 217.4/377.0 MB 13.4 MB/s eta 0:00:12\n",
      "   ---------------------- ---------------- 218.0/377.0 MB 13.6 MB/s eta 0:00:12\n",
      "   ---------------------- ---------------- 218.6/377.0 MB 13.4 MB/s eta 0:00:12\n",
      "   ---------------------- ---------------- 219.2/377.0 MB 13.4 MB/s eta 0:00:12\n",
      "   ---------------------- ---------------- 219.9/377.0 MB 13.4 MB/s eta 0:00:12\n",
      "   ---------------------- ---------------- 220.4/377.0 MB 13.4 MB/s eta 0:00:12\n",
      "   ---------------------- ---------------- 221.1/377.0 MB 13.4 MB/s eta 0:00:12\n",
      "   ---------------------- ---------------- 221.7/377.0 MB 13.4 MB/s eta 0:00:12\n",
      "   ---------------------- ---------------- 222.2/377.0 MB 13.4 MB/s eta 0:00:12\n",
      "   ----------------------- --------------- 222.7/377.0 MB 13.6 MB/s eta 0:00:12\n",
      "   ----------------------- --------------- 223.5/377.0 MB 13.4 MB/s eta 0:00:12\n",
      "   ----------------------- --------------- 224.1/377.0 MB 13.1 MB/s eta 0:00:12\n",
      "   ----------------------- --------------- 224.7/377.0 MB 13.1 MB/s eta 0:00:12\n",
      "   ----------------------- --------------- 225.3/377.0 MB 13.1 MB/s eta 0:00:12\n",
      "   ----------------------- --------------- 225.9/377.0 MB 13.4 MB/s eta 0:00:12\n",
      "   ----------------------- --------------- 226.5/377.0 MB 13.4 MB/s eta 0:00:12\n",
      "   ----------------------- --------------- 227.1/377.0 MB 13.4 MB/s eta 0:00:12\n",
      "   ----------------------- --------------- 227.8/377.0 MB 13.4 MB/s eta 0:00:12\n",
      "   ----------------------- --------------- 228.4/377.0 MB 13.4 MB/s eta 0:00:12\n",
      "   ----------------------- --------------- 229.0/377.0 MB 13.4 MB/s eta 0:00:12\n",
      "   ----------------------- --------------- 229.6/377.0 MB 13.4 MB/s eta 0:00:12\n",
      "   ----------------------- --------------- 230.2/377.0 MB 13.4 MB/s eta 0:00:11\n",
      "   ----------------------- --------------- 230.8/377.0 MB 13.4 MB/s eta 0:00:11\n",
      "   ----------------------- --------------- 231.4/377.0 MB 13.4 MB/s eta 0:00:11\n",
      "   ------------------------ -------------- 232.0/377.0 MB 13.4 MB/s eta 0:00:11\n",
      "   ------------------------ -------------- 232.6/377.0 MB 13.4 MB/s eta 0:00:11\n",
      "   ------------------------ -------------- 233.2/377.0 MB 13.1 MB/s eta 0:00:11\n",
      "   ------------------------ -------------- 233.9/377.0 MB 13.1 MB/s eta 0:00:11\n",
      "   ------------------------ -------------- 234.5/377.0 MB 13.4 MB/s eta 0:00:11\n",
      "   ------------------------ -------------- 235.1/377.0 MB 13.1 MB/s eta 0:00:11\n",
      "   ------------------------ -------------- 235.7/377.0 MB 13.1 MB/s eta 0:00:11\n",
      "   ------------------------ -------------- 236.3/377.0 MB 13.1 MB/s eta 0:00:11\n",
      "   ------------------------ -------------- 236.9/377.0 MB 13.4 MB/s eta 0:00:11\n",
      "   ------------------------ -------------- 237.5/377.0 MB 13.4 MB/s eta 0:00:11\n",
      "   ------------------------ -------------- 238.1/377.0 MB 13.4 MB/s eta 0:00:11\n",
      "   ------------------------ -------------- 238.7/377.0 MB 13.4 MB/s eta 0:00:11\n",
      "   ------------------------ -------------- 239.4/377.0 MB 13.4 MB/s eta 0:00:11\n",
      "   ------------------------ -------------- 240.0/377.0 MB 13.4 MB/s eta 0:00:11\n",
      "   ------------------------ -------------- 240.6/377.0 MB 13.4 MB/s eta 0:00:11\n",
      "   ------------------------ -------------- 241.2/377.0 MB 13.4 MB/s eta 0:00:11\n",
      "   ------------------------- ------------- 241.8/377.0 MB 13.4 MB/s eta 0:00:11\n",
      "   ------------------------- ------------- 242.4/377.0 MB 13.4 MB/s eta 0:00:11\n",
      "   ------------------------- ------------- 243.0/377.0 MB 13.4 MB/s eta 0:00:11\n",
      "   ------------------------- ------------- 243.7/377.0 MB 13.4 MB/s eta 0:00:10\n",
      "   ------------------------- ------------- 244.3/377.0 MB 13.4 MB/s eta 0:00:10\n",
      "   ------------------------- ------------- 244.9/377.0 MB 13.4 MB/s eta 0:00:10\n",
      "   ------------------------- ------------- 245.5/377.0 MB 13.4 MB/s eta 0:00:10\n",
      "   ------------------------- ------------- 246.2/377.0 MB 13.4 MB/s eta 0:00:10\n",
      "   ------------------------- ------------- 246.8/377.0 MB 13.4 MB/s eta 0:00:10\n",
      "   ------------------------- ------------- 247.2/377.0 MB 13.1 MB/s eta 0:00:10\n",
      "   ------------------------- ------------- 248.0/377.0 MB 13.1 MB/s eta 0:00:10\n",
      "   ------------------------- ------------- 248.5/377.0 MB 13.1 MB/s eta 0:00:10\n",
      "   ------------------------- ------------- 249.2/377.0 MB 13.1 MB/s eta 0:00:10\n",
      "   ------------------------- ------------- 249.8/377.0 MB 13.1 MB/s eta 0:00:10\n",
      "   ------------------------- ------------- 250.4/377.0 MB 13.4 MB/s eta 0:00:10\n",
      "   ------------------------- ------------- 251.0/377.0 MB 13.4 MB/s eta 0:00:10\n",
      "   -------------------------- ------------ 251.6/377.0 MB 13.4 MB/s eta 0:00:10\n",
      "   -------------------------- ------------ 252.2/377.0 MB 13.4 MB/s eta 0:00:10\n",
      "   -------------------------- ------------ 252.8/377.0 MB 13.4 MB/s eta 0:00:10\n",
      "   -------------------------- ------------ 253.4/377.0 MB 13.4 MB/s eta 0:00:10\n",
      "   -------------------------- ------------ 254.0/377.0 MB 13.4 MB/s eta 0:00:10\n",
      "   -------------------------- ------------ 254.6/377.0 MB 13.4 MB/s eta 0:00:10\n",
      "   -------------------------- ------------ 255.3/377.0 MB 13.4 MB/s eta 0:00:10\n",
      "   -------------------------- ------------ 255.9/377.0 MB 13.4 MB/s eta 0:00:10\n",
      "   -------------------------- ------------ 256.5/377.0 MB 13.4 MB/s eta 0:00:10\n",
      "   -------------------------- ------------ 257.1/377.0 MB 13.1 MB/s eta 0:00:10\n",
      "   -------------------------- ------------ 257.6/377.0 MB 13.4 MB/s eta 0:00:09\n",
      "   -------------------------- ------------ 258.3/377.0 MB 13.4 MB/s eta 0:00:09\n",
      "   -------------------------- ------------ 259.0/377.0 MB 13.4 MB/s eta 0:00:09\n",
      "   -------------------------- ------------ 259.6/377.0 MB 13.4 MB/s eta 0:00:09\n",
      "   -------------------------- ------------ 260.2/377.0 MB 13.1 MB/s eta 0:00:09\n",
      "   -------------------------- ------------ 260.8/377.0 MB 13.1 MB/s eta 0:00:09\n",
      "   --------------------------- ----------- 261.4/377.0 MB 13.1 MB/s eta 0:00:09\n",
      "   --------------------------- ----------- 262.0/377.0 MB 13.4 MB/s eta 0:00:09\n",
      "   --------------------------- ----------- 262.6/377.0 MB 13.4 MB/s eta 0:00:09\n",
      "   --------------------------- ----------- 263.2/377.0 MB 13.4 MB/s eta 0:00:09\n",
      "   --------------------------- ----------- 263.9/377.0 MB 13.4 MB/s eta 0:00:09\n",
      "   --------------------------- ----------- 264.5/377.0 MB 13.4 MB/s eta 0:00:09\n",
      "   --------------------------- ----------- 265.1/377.0 MB 13.4 MB/s eta 0:00:09\n",
      "   --------------------------- ----------- 265.7/377.0 MB 13.4 MB/s eta 0:00:09\n",
      "   --------------------------- ----------- 266.3/377.0 MB 13.4 MB/s eta 0:00:09\n",
      "   --------------------------- ----------- 266.9/377.0 MB 13.4 MB/s eta 0:00:09\n",
      "   --------------------------- ----------- 267.5/377.0 MB 13.4 MB/s eta 0:00:09\n",
      "   --------------------------- ----------- 268.1/377.0 MB 13.4 MB/s eta 0:00:09\n",
      "   --------------------------- ----------- 268.7/377.0 MB 13.4 MB/s eta 0:00:09\n",
      "   --------------------------- ----------- 269.3/377.0 MB 13.1 MB/s eta 0:00:09\n",
      "   --------------------------- ----------- 270.0/377.0 MB 13.4 MB/s eta 0:00:09\n",
      "   --------------------------- ----------- 270.6/377.0 MB 13.1 MB/s eta 0:00:09\n",
      "   ---------------------------- ---------- 271.2/377.0 MB 13.1 MB/s eta 0:00:09\n",
      "   ---------------------------- ---------- 271.8/377.0 MB 13.1 MB/s eta 0:00:09\n",
      "   ---------------------------- ---------- 272.2/377.0 MB 13.1 MB/s eta 0:00:08\n",
      "   ---------------------------- ---------- 273.0/377.0 MB 13.4 MB/s eta 0:00:08\n",
      "   ---------------------------- ---------- 273.6/377.0 MB 13.4 MB/s eta 0:00:08\n",
      "   ---------------------------- ---------- 274.2/377.0 MB 13.4 MB/s eta 0:00:08\n",
      "   ---------------------------- ---------- 274.6/377.0 MB 13.4 MB/s eta 0:00:08\n",
      "   ---------------------------- ---------- 275.4/377.0 MB 13.4 MB/s eta 0:00:08\n",
      "   ---------------------------- ---------- 276.0/377.0 MB 13.4 MB/s eta 0:00:08\n",
      "   ---------------------------- ---------- 276.6/377.0 MB 13.4 MB/s eta 0:00:08\n",
      "   ---------------------------- ---------- 277.2/377.0 MB 13.4 MB/s eta 0:00:08\n",
      "   ---------------------------- ---------- 277.8/377.0 MB 13.1 MB/s eta 0:00:08\n",
      "   ---------------------------- ---------- 278.4/377.0 MB 13.1 MB/s eta 0:00:08\n",
      "   ---------------------------- ---------- 279.1/377.0 MB 13.1 MB/s eta 0:00:08\n",
      "   ---------------------------- ---------- 279.4/377.0 MB 13.4 MB/s eta 0:00:08\n",
      "   ---------------------------- ---------- 279.4/377.0 MB 13.4 MB/s eta 0:00:08\n",
      "   ---------------------------- ---------- 279.4/377.0 MB 13.4 MB/s eta 0:00:08\n",
      "   ----------------------------- --------- 281.5/377.0 MB 13.4 MB/s eta 0:00:08\n",
      "   ----------------------------- --------- 282.1/377.0 MB 13.4 MB/s eta 0:00:08\n",
      "   ----------------------------- --------- 282.5/377.0 MB 13.6 MB/s eta 0:00:07\n",
      "   ----------------------------- --------- 283.3/377.0 MB 13.6 MB/s eta 0:00:07\n",
      "   ----------------------------- --------- 283.9/377.0 MB 13.4 MB/s eta 0:00:07\n",
      "   ----------------------------- --------- 284.5/377.0 MB 13.4 MB/s eta 0:00:07\n",
      "   ----------------------------- --------- 285.2/377.0 MB 13.4 MB/s eta 0:00:07\n",
      "   ----------------------------- --------- 285.8/377.0 MB 13.4 MB/s eta 0:00:07\n",
      "   ----------------------------- --------- 286.4/377.0 MB 13.4 MB/s eta 0:00:07\n",
      "   ----------------------------- --------- 286.9/377.0 MB 13.1 MB/s eta 0:00:07\n",
      "   ----------------------------- --------- 287.6/377.0 MB 13.1 MB/s eta 0:00:07\n",
      "   ----------------------------- --------- 288.2/377.0 MB 13.1 MB/s eta 0:00:07\n",
      "   ----------------------------- --------- 288.8/377.0 MB 13.4 MB/s eta 0:00:07\n",
      "   ----------------------------- --------- 289.4/377.0 MB 13.4 MB/s eta 0:00:07\n",
      "   ------------------------------ -------- 290.0/377.0 MB 15.2 MB/s eta 0:00:06\n",
      "   ------------------------------ -------- 290.6/377.0 MB 14.6 MB/s eta 0:00:06\n",
      "   ------------------------------ -------- 291.3/377.0 MB 13.6 MB/s eta 0:00:07\n",
      "   ------------------------------ -------- 291.9/377.0 MB 13.4 MB/s eta 0:00:07\n",
      "   ------------------------------ -------- 292.5/377.0 MB 13.4 MB/s eta 0:00:07\n",
      "   ------------------------------ -------- 293.1/377.0 MB 13.4 MB/s eta 0:00:07\n",
      "   ------------------------------ -------- 293.7/377.0 MB 13.4 MB/s eta 0:00:07\n",
      "   ------------------------------ -------- 294.3/377.0 MB 13.4 MB/s eta 0:00:07\n",
      "   ------------------------------ -------- 294.8/377.0 MB 13.4 MB/s eta 0:00:07\n",
      "   ------------------------------ -------- 295.5/377.0 MB 13.4 MB/s eta 0:00:07\n",
      "   ------------------------------ -------- 296.1/377.0 MB 13.1 MB/s eta 0:00:07\n",
      "   ------------------------------ -------- 296.7/377.0 MB 13.1 MB/s eta 0:00:07\n",
      "   ------------------------------ -------- 297.4/377.0 MB 13.4 MB/s eta 0:00:06\n",
      "   ------------------------------ -------- 298.0/377.0 MB 13.4 MB/s eta 0:00:06\n",
      "   ------------------------------ -------- 298.6/377.0 MB 13.4 MB/s eta 0:00:06\n",
      "   ------------------------------ -------- 299.2/377.0 MB 13.1 MB/s eta 0:00:06\n",
      "   ------------------------------- ------- 299.8/377.0 MB 13.1 MB/s eta 0:00:06\n",
      "   ------------------------------- ------- 300.5/377.0 MB 13.4 MB/s eta 0:00:06\n",
      "   ------------------------------- ------- 301.1/377.0 MB 13.4 MB/s eta 0:00:06\n",
      "   ------------------------------- ------- 301.7/377.0 MB 13.1 MB/s eta 0:00:06\n",
      "   ------------------------------- ------- 302.3/377.0 MB 13.4 MB/s eta 0:00:06\n",
      "   ------------------------------- ------- 302.9/377.0 MB 13.4 MB/s eta 0:00:06\n",
      "   ------------------------------- ------- 303.5/377.0 MB 13.4 MB/s eta 0:00:06\n",
      "   ------------------------------- ------- 304.1/377.0 MB 13.4 MB/s eta 0:00:06\n",
      "   ------------------------------- ------- 304.7/377.0 MB 13.4 MB/s eta 0:00:06\n",
      "   ------------------------------- ------- 305.3/377.0 MB 13.4 MB/s eta 0:00:06\n",
      "   ------------------------------- ------- 305.9/377.0 MB 13.4 MB/s eta 0:00:06\n",
      "   ------------------------------- ------- 306.3/377.0 MB 13.4 MB/s eta 0:00:06\n",
      "   ------------------------------- ------- 307.1/377.0 MB 13.4 MB/s eta 0:00:06\n",
      "   ------------------------------- ------- 307.8/377.0 MB 13.1 MB/s eta 0:00:06\n",
      "   ------------------------------- ------- 308.3/377.0 MB 13.1 MB/s eta 0:00:06\n",
      "   ------------------------------- ------- 309.0/377.0 MB 13.4 MB/s eta 0:00:06\n",
      "   -------------------------------- ------ 309.6/377.0 MB 13.4 MB/s eta 0:00:06\n",
      "   -------------------------------- ------ 310.2/377.0 MB 13.1 MB/s eta 0:00:06\n",
      "   -------------------------------- ------ 310.8/377.0 MB 13.1 MB/s eta 0:00:06\n",
      "   -------------------------------- ------ 311.4/377.0 MB 13.1 MB/s eta 0:00:06\n",
      "   -------------------------------- ------ 312.0/377.0 MB 13.4 MB/s eta 0:00:05\n",
      "   -------------------------------- ------ 312.5/377.0 MB 13.1 MB/s eta 0:00:05\n",
      "   -------------------------------- ------ 313.3/377.0 MB 13.4 MB/s eta 0:00:05\n",
      "   -------------------------------- ------ 313.8/377.0 MB 13.4 MB/s eta 0:00:05\n",
      "   -------------------------------- ------ 314.5/377.0 MB 13.4 MB/s eta 0:00:05\n",
      "   -------------------------------- ------ 315.1/377.0 MB 13.4 MB/s eta 0:00:05\n",
      "   -------------------------------- ------ 315.7/377.0 MB 13.4 MB/s eta 0:00:05\n",
      "   -------------------------------- ------ 316.3/377.0 MB 13.4 MB/s eta 0:00:05\n",
      "   -------------------------------- ------ 316.9/377.0 MB 13.4 MB/s eta 0:00:05\n",
      "   -------------------------------- ------ 317.5/377.0 MB 13.4 MB/s eta 0:00:05\n",
      "   -------------------------------- ------ 318.1/377.0 MB 13.4 MB/s eta 0:00:05\n",
      "   -------------------------------- ------ 318.8/377.0 MB 13.4 MB/s eta 0:00:05\n",
      "   --------------------------------- ----- 319.4/377.0 MB 13.4 MB/s eta 0:00:05\n",
      "   --------------------------------- ----- 320.0/377.0 MB 13.4 MB/s eta 0:00:05\n",
      "   --------------------------------- ----- 320.6/377.0 MB 13.1 MB/s eta 0:00:05\n",
      "   --------------------------------- ----- 321.2/377.0 MB 13.1 MB/s eta 0:00:05\n",
      "   --------------------------------- ----- 321.8/377.0 MB 13.1 MB/s eta 0:00:05\n",
      "   --------------------------------- ----- 322.4/377.0 MB 13.1 MB/s eta 0:00:05\n",
      "   --------------------------------- ----- 323.1/377.0 MB 13.1 MB/s eta 0:00:05\n",
      "   --------------------------------- ----- 323.7/377.0 MB 13.1 MB/s eta 0:00:05\n",
      "   --------------------------------- ----- 324.3/377.0 MB 13.1 MB/s eta 0:00:05\n",
      "   --------------------------------- ----- 324.7/377.0 MB 13.4 MB/s eta 0:00:04\n",
      "   --------------------------------- ----- 325.5/377.0 MB 13.4 MB/s eta 0:00:04\n",
      "   --------------------------------- ----- 326.1/377.0 MB 13.4 MB/s eta 0:00:04\n",
      "   --------------------------------- ----- 326.7/377.0 MB 13.4 MB/s eta 0:00:04\n",
      "   --------------------------------- ----- 327.3/377.0 MB 13.4 MB/s eta 0:00:04\n",
      "   --------------------------------- ----- 328.0/377.0 MB 13.4 MB/s eta 0:00:04\n",
      "   --------------------------------- ----- 328.6/377.0 MB 13.4 MB/s eta 0:00:04\n",
      "   ---------------------------------- ---- 329.2/377.0 MB 13.4 MB/s eta 0:00:04\n",
      "   ---------------------------------- ---- 329.8/377.0 MB 13.4 MB/s eta 0:00:04\n",
      "   ---------------------------------- ---- 330.4/377.0 MB 13.4 MB/s eta 0:00:04\n",
      "   ---------------------------------- ---- 331.1/377.0 MB 13.4 MB/s eta 0:00:04\n",
      "   ---------------------------------- ---- 331.7/377.0 MB 13.4 MB/s eta 0:00:04\n",
      "   ---------------------------------- ---- 332.3/377.0 MB 13.4 MB/s eta 0:00:04\n",
      "   ---------------------------------- ---- 332.9/377.0 MB 13.4 MB/s eta 0:00:04\n",
      "   ---------------------------------- ---- 333.5/377.0 MB 13.1 MB/s eta 0:00:04\n",
      "   ---------------------------------- ---- 334.1/377.0 MB 13.1 MB/s eta 0:00:04\n",
      "   ---------------------------------- ---- 334.7/377.0 MB 13.4 MB/s eta 0:00:04\n",
      "   ---------------------------------- ---- 335.3/377.0 MB 13.1 MB/s eta 0:00:04\n",
      "   ---------------------------------- ---- 335.9/377.0 MB 13.4 MB/s eta 0:00:04\n",
      "   ---------------------------------- ---- 336.5/377.0 MB 13.1 MB/s eta 0:00:04\n",
      "   ---------------------------------- ---- 337.1/377.0 MB 13.1 MB/s eta 0:00:04\n",
      "   ---------------------------------- ---- 337.7/377.0 MB 13.6 MB/s eta 0:00:03\n",
      "   ----------------------------------- --- 338.4/377.0 MB 13.4 MB/s eta 0:00:03\n",
      "   ----------------------------------- --- 339.0/377.0 MB 13.4 MB/s eta 0:00:03\n",
      "   ----------------------------------- --- 339.6/377.0 MB 13.4 MB/s eta 0:00:03\n",
      "   ----------------------------------- --- 340.2/377.0 MB 13.4 MB/s eta 0:00:03\n",
      "   ----------------------------------- --- 340.8/377.0 MB 13.4 MB/s eta 0:00:03\n",
      "   ----------------------------------- --- 341.4/377.0 MB 13.4 MB/s eta 0:00:03\n",
      "   ----------------------------------- --- 342.0/377.0 MB 13.4 MB/s eta 0:00:03\n",
      "   ----------------------------------- --- 342.6/377.0 MB 13.4 MB/s eta 0:00:03\n",
      "   ----------------------------------- --- 343.2/377.0 MB 13.4 MB/s eta 0:00:03\n",
      "   ----------------------------------- --- 343.8/377.0 MB 13.1 MB/s eta 0:00:03\n",
      "   ----------------------------------- --- 344.4/377.0 MB 13.1 MB/s eta 0:00:03\n",
      "   ----------------------------------- --- 345.1/377.0 MB 13.1 MB/s eta 0:00:03\n",
      "   ----------------------------------- --- 345.7/377.0 MB 13.1 MB/s eta 0:00:03\n",
      "   ----------------------------------- --- 346.3/377.0 MB 13.1 MB/s eta 0:00:03\n",
      "   ----------------------------------- --- 346.9/377.0 MB 13.1 MB/s eta 0:00:03\n",
      "   ----------------------------------- --- 347.5/377.0 MB 13.4 MB/s eta 0:00:03\n",
      "   ------------------------------------ -- 348.1/377.0 MB 13.6 MB/s eta 0:00:03\n",
      "   ------------------------------------ -- 348.8/377.0 MB 13.4 MB/s eta 0:00:03\n",
      "   ------------------------------------ -- 349.4/377.0 MB 13.4 MB/s eta 0:00:03\n",
      "   ------------------------------------ -- 350.0/377.0 MB 13.4 MB/s eta 0:00:03\n",
      "   ------------------------------------ -- 350.6/377.0 MB 13.4 MB/s eta 0:00:02\n",
      "   ------------------------------------ -- 351.2/377.0 MB 13.4 MB/s eta 0:00:02\n",
      "   ------------------------------------ -- 351.8/377.0 MB 13.4 MB/s eta 0:00:02\n",
      "   ------------------------------------ -- 352.4/377.0 MB 13.4 MB/s eta 0:00:02\n",
      "   ------------------------------------ -- 353.0/377.0 MB 13.4 MB/s eta 0:00:02\n",
      "   ------------------------------------ -- 353.6/377.0 MB 13.4 MB/s eta 0:00:02\n",
      "   ------------------------------------ -- 354.2/377.0 MB 13.4 MB/s eta 0:00:02\n",
      "   ------------------------------------ -- 354.8/377.0 MB 13.1 MB/s eta 0:00:02\n",
      "   ------------------------------------ -- 355.5/377.0 MB 13.1 MB/s eta 0:00:02\n",
      "   ------------------------------------ -- 356.1/377.0 MB 13.1 MB/s eta 0:00:02\n",
      "   ------------------------------------ -- 356.7/377.0 MB 13.1 MB/s eta 0:00:02\n",
      "   ------------------------------------ -- 357.3/377.0 MB 13.1 MB/s eta 0:00:02\n",
      "   ------------------------------------- - 357.9/377.0 MB 13.1 MB/s eta 0:00:02\n",
      "   ------------------------------------- - 358.6/377.0 MB 13.1 MB/s eta 0:00:02\n",
      "   ------------------------------------- - 359.2/377.0 MB 13.1 MB/s eta 0:00:02\n",
      "   ------------------------------------- - 359.8/377.0 MB 13.4 MB/s eta 0:00:02\n",
      "   ------------------------------------- - 360.4/377.0 MB 13.4 MB/s eta 0:00:02\n",
      "   ------------------------------------- - 360.9/377.0 MB 13.4 MB/s eta 0:00:02\n",
      "   ------------------------------------- - 361.6/377.0 MB 13.4 MB/s eta 0:00:02\n",
      "   ------------------------------------- - 362.2/377.0 MB 13.6 MB/s eta 0:00:02\n",
      "   ------------------------------------- - 362.8/377.0 MB 13.4 MB/s eta 0:00:02\n",
      "   ------------------------------------- - 363.4/377.0 MB 13.4 MB/s eta 0:00:02\n",
      "   ------------------------------------- - 364.1/377.0 MB 13.4 MB/s eta 0:00:01\n",
      "   ------------------------------------- - 364.7/377.0 MB 13.4 MB/s eta 0:00:01\n",
      "   ------------------------------------- - 365.2/377.0 MB 13.4 MB/s eta 0:00:01\n",
      "   ------------------------------------- - 365.2/377.0 MB 13.4 MB/s eta 0:00:01\n",
      "   ------------------------------------- - 365.2/377.0 MB 13.4 MB/s eta 0:00:01\n",
      "   ------------------------------------- - 365.9/377.0 MB 11.9 MB/s eta 0:00:01\n",
      "   --------------------------------------  367.7/377.0 MB 13.4 MB/s eta 0:00:01\n",
      "   --------------------------------------  368.4/377.0 MB 13.4 MB/s eta 0:00:01\n",
      "   --------------------------------------  369.0/377.0 MB 13.4 MB/s eta 0:00:01\n",
      "   --------------------------------------  369.6/377.0 MB 13.4 MB/s eta 0:00:01\n",
      "   --------------------------------------  370.2/377.0 MB 13.4 MB/s eta 0:00:01\n",
      "   --------------------------------------  370.9/377.0 MB 13.4 MB/s eta 0:00:01\n",
      "   --------------------------------------  371.5/377.0 MB 13.1 MB/s eta 0:00:01\n",
      "   --------------------------------------  372.1/377.0 MB 13.1 MB/s eta 0:00:01\n",
      "   --------------------------------------  372.6/377.0 MB 13.4 MB/s eta 0:00:01\n",
      "   --------------------------------------  373.3/377.0 MB 13.1 MB/s eta 0:00:01\n",
      "   --------------------------------------  373.9/377.0 MB 13.1 MB/s eta 0:00:01\n",
      "   --------------------------------------  374.3/377.0 MB 13.1 MB/s eta 0:00:01\n",
      "   --------------------------------------  375.0/377.0 MB 13.4 MB/s eta 0:00:01\n",
      "   --------------------------------------  375.7/377.0 MB 15.6 MB/s eta 0:00:01\n",
      "   --------------------------------------  376.4/377.0 MB 14.9 MB/s eta 0:00:01\n",
      "   --------------------------------------  377.0/377.0 MB 14.2 MB/s eta 0:00:01\n",
      "   --------------------------------------  377.0/377.0 MB 14.2 MB/s eta 0:00:01\n",
      "   --------------------------------------  377.0/377.0 MB 14.2 MB/s eta 0:00:01\n",
      "   --------------------------------------  377.0/377.0 MB 14.2 MB/s eta 0:00:01\n",
      "   --------------------------------------  377.0/377.0 MB 14.2 MB/s eta 0:00:01\n",
      "   --------------------------------------  377.0/377.0 MB 14.2 MB/s eta 0:00:01\n",
      "   --------------------------------------  377.0/377.0 MB 14.2 MB/s eta 0:00:01\n",
      "   --------------------------------------  377.0/377.0 MB 14.2 MB/s eta 0:00:01\n",
      "   --------------------------------------  377.0/377.0 MB 14.2 MB/s eta 0:00:01\n",
      "   --------------------------------------  377.0/377.0 MB 14.2 MB/s eta 0:00:01\n",
      "   --------------------------------------  377.0/377.0 MB 14.2 MB/s eta 0:00:01\n",
      "   --------------------------------------  377.0/377.0 MB 14.2 MB/s eta 0:00:01\n",
      "   --------------------------------------  377.0/377.0 MB 14.2 MB/s eta 0:00:01\n",
      "   --------------------------------------  377.0/377.0 MB 14.2 MB/s eta 0:00:01\n",
      "   --------------------------------------  377.0/377.0 MB 14.2 MB/s eta 0:00:01\n",
      "   --------------------------------------  377.0/377.0 MB 14.2 MB/s eta 0:00:01\n",
      "   --------------------------------------  377.0/377.0 MB 14.2 MB/s eta 0:00:01\n",
      "   ---------------------------------------- 377.0/377.0 MB 7.0 MB/s eta 0:00:00\n",
      "Downloading absl_py-2.1.0-py3-none-any.whl (133 kB)\n",
      "   ---------------------------------------- 0.0/133.7 kB ? eta -:--:--\n",
      "   ---------------------------------------- 133.7/133.7 kB ? eta 0:00:00\n",
      "Downloading astunparse-1.6.3-py2.py3-none-any.whl (12 kB)\n",
      "Downloading flatbuffers-24.3.25-py2.py3-none-any.whl (26 kB)\n",
      "Downloading gast-0.5.4-py3-none-any.whl (19 kB)\n",
      "Downloading google_pasta-0.2.0-py3-none-any.whl (57 kB)\n",
      "   ---------------------------------------- 0.0/57.5 kB ? eta -:--:--\n",
      "   ---------------------------------------- 57.5/57.5 kB 3.0 MB/s eta 0:00:00\n",
      "Downloading grpcio-1.64.1-cp311-cp311-win_amd64.whl (4.1 MB)\n",
      "   ---------------------------------------- 0.0/4.1 MB ? eta -:--:--\n",
      "   ------ --------------------------------- 0.6/4.1 MB 19.5 MB/s eta 0:00:01\n",
      "   ------------ --------------------------- 1.3/4.1 MB 15.8 MB/s eta 0:00:01\n",
      "   ------------------ --------------------- 1.9/4.1 MB 15.0 MB/s eta 0:00:01\n",
      "   ----------------------- ---------------- 2.4/4.1 MB 14.1 MB/s eta 0:00:01\n",
      "   ----------------------------- ---------- 3.0/4.1 MB 14.6 MB/s eta 0:00:01\n",
      "   ------------------------------------ --- 3.7/4.1 MB 13.9 MB/s eta 0:00:01\n",
      "   ---------------------------------------- 4.1/4.1 MB 13.0 MB/s eta 0:00:00\n",
      "Downloading h5py-3.11.0-cp311-cp311-win_amd64.whl (3.0 MB)\n",
      "   ---------------------------------------- 0.0/3.0 MB ? eta -:--:--\n",
      "   ---------- ----------------------------- 0.7/3.0 MB 15.7 MB/s eta 0:00:01\n",
      "   ------------------ --------------------- 1.3/3.0 MB 14.2 MB/s eta 0:00:01\n",
      "   -------------------------- ------------- 2.0/3.0 MB 15.6 MB/s eta 0:00:01\n",
      "   --------------------------------- ------ 2.5/3.0 MB 14.3 MB/s eta 0:00:01\n",
      "   ---------------------------------------- 3.0/3.0 MB 13.6 MB/s eta 0:00:00\n",
      "Downloading keras-3.3.3-py3-none-any.whl (1.1 MB)\n",
      "   ---------------------------------------- 0.0/1.1 MB ? eta -:--:--\n",
      "   -------------------- ------------------- 0.6/1.1 MB 18.5 MB/s eta 0:00:01\n",
      "   ---------------------------------------  1.1/1.1 MB 14.0 MB/s eta 0:00:01\n",
      "   ---------------------------------------- 1.1/1.1 MB 11.7 MB/s eta 0:00:00\n",
      "Downloading libclang-18.1.1-py2.py3-none-win_amd64.whl (26.4 MB)\n",
      "   ---------------------------------------- 0.0/26.4 MB ? eta -:--:--\n",
      "   - -------------------------------------- 0.7/26.4 MB 21.1 MB/s eta 0:00:02\n",
      "   - -------------------------------------- 1.3/26.4 MB 16.4 MB/s eta 0:00:02\n",
      "   -- ------------------------------------- 1.9/26.4 MB 14.9 MB/s eta 0:00:02\n",
      "   --- ------------------------------------ 2.5/26.4 MB 14.5 MB/s eta 0:00:02\n",
      "   ---- ----------------------------------- 3.1/26.4 MB 14.1 MB/s eta 0:00:02\n",
      "   ----- ---------------------------------- 3.7/26.4 MB 14.0 MB/s eta 0:00:02\n",
      "   ------ --------------------------------- 4.3/26.4 MB 13.7 MB/s eta 0:00:02\n",
      "   ------- -------------------------------- 4.9/26.4 MB 13.7 MB/s eta 0:00:02\n",
      "   -------- ------------------------------- 5.4/26.4 MB 13.9 MB/s eta 0:00:02\n",
      "   --------- ------------------------------ 6.2/26.4 MB 13.6 MB/s eta 0:00:02\n",
      "   ---------- ----------------------------- 6.8/26.4 MB 13.5 MB/s eta 0:00:02\n",
      "   ----------- ---------------------------- 7.4/26.4 MB 13.5 MB/s eta 0:00:02\n",
      "   ------------ --------------------------- 8.0/26.4 MB 13.8 MB/s eta 0:00:02\n",
      "   ------------ --------------------------- 8.6/26.4 MB 13.7 MB/s eta 0:00:02\n",
      "   ------------- -------------------------- 9.2/26.4 MB 13.7 MB/s eta 0:00:02\n",
      "   -------------- ------------------------- 9.8/26.4 MB 13.6 MB/s eta 0:00:02\n",
      "   --------------- ------------------------ 10.4/26.4 MB 13.4 MB/s eta 0:00:02\n",
      "   ---------------- ----------------------- 11.0/26.4 MB 13.4 MB/s eta 0:00:02\n",
      "   ----------------- ---------------------- 11.7/26.4 MB 13.4 MB/s eta 0:00:02\n",
      "   ------------------ --------------------- 12.3/26.4 MB 13.4 MB/s eta 0:00:02\n",
      "   ------------------- -------------------- 12.9/26.4 MB 13.4 MB/s eta 0:00:02\n",
      "   -------------------- ------------------- 13.5/26.4 MB 13.4 MB/s eta 0:00:01\n",
      "   -------------------- ------------------- 13.8/26.4 MB 12.8 MB/s eta 0:00:01\n",
      "   ---------------------- ----------------- 14.6/26.4 MB 13.4 MB/s eta 0:00:01\n",
      "   ----------------------- ---------------- 15.3/26.4 MB 13.4 MB/s eta 0:00:01\n",
      "   ------------------------ --------------- 15.9/26.4 MB 13.1 MB/s eta 0:00:01\n",
      "   ------------------------ --------------- 16.4/26.4 MB 13.1 MB/s eta 0:00:01\n",
      "   ------------------------- -------------- 17.2/26.4 MB 13.4 MB/s eta 0:00:01\n",
      "   -------------------------- ------------- 17.7/26.4 MB 13.4 MB/s eta 0:00:01\n",
      "   --------------------------- ------------ 18.3/26.4 MB 13.4 MB/s eta 0:00:01\n",
      "   ---------------------------- ----------- 19.0/26.4 MB 13.4 MB/s eta 0:00:01\n",
      "   ----------------------------- ---------- 19.4/26.4 MB 13.4 MB/s eta 0:00:01\n",
      "   ------------------------------ --------- 20.2/26.4 MB 13.4 MB/s eta 0:00:01\n",
      "   ------------------------------- -------- 20.8/26.4 MB 13.4 MB/s eta 0:00:01\n",
      "   -------------------------------- ------- 21.4/26.4 MB 13.4 MB/s eta 0:00:01\n",
      "   --------------------------------- ------ 21.9/26.4 MB 13.4 MB/s eta 0:00:01\n",
      "   --------------------------------- ------ 22.3/26.4 MB 13.4 MB/s eta 0:00:01\n",
      "   ----------------------------------- ---- 23.1/26.4 MB 13.4 MB/s eta 0:00:01\n",
      "   ------------------------------------ --- 23.9/26.4 MB 13.9 MB/s eta 0:00:01\n",
      "   ------------------------------------- -- 24.5/26.4 MB 13.4 MB/s eta 0:00:01\n",
      "   ------------------------------------- -- 25.1/26.4 MB 13.4 MB/s eta 0:00:01\n",
      "   -------------------------------------- - 25.2/26.4 MB 13.1 MB/s eta 0:00:01\n",
      "   ---------------------------------------  26.3/26.4 MB 13.4 MB/s eta 0:00:01\n",
      "   ---------------------------------------  26.4/26.4 MB 13.4 MB/s eta 0:00:01\n",
      "   ---------------------------------------- 26.4/26.4 MB 12.1 MB/s eta 0:00:00\n",
      "Downloading ml_dtypes-0.3.2-cp311-cp311-win_amd64.whl (127 kB)\n",
      "   ---------------------------------------- 0.0/127.7 kB ? eta -:--:--\n",
      "   ---------------------------------------- 127.7/127.7 kB ? eta 0:00:00\n",
      "Downloading opt_einsum-3.3.0-py3-none-any.whl (65 kB)\n",
      "   ---------------------------------------- 0.0/65.5 kB ? eta -:--:--\n",
      "   ---------------------------------------- 65.5/65.5 kB ? eta 0:00:00\n",
      "Downloading protobuf-4.25.3-cp310-abi3-win_amd64.whl (413 kB)\n",
      "   ---------------------------------------- 0.0/413.4 kB ? eta -:--:--\n",
      "   --------------------------------------- 413.4/413.4 kB 12.6 MB/s eta 0:00:00\n",
      "Downloading tensorboard-2.16.2-py3-none-any.whl (5.5 MB)\n",
      "   ---------------------------------------- 0.0/5.5 MB ? eta -:--:--\n",
      "   ----- ---------------------------------- 0.7/5.5 MB 15.5 MB/s eta 0:00:01\n",
      "   --------- ------------------------------ 1.3/5.5 MB 13.9 MB/s eta 0:00:01\n",
      "   -------------- ------------------------- 2.0/5.5 MB 13.8 MB/s eta 0:00:01\n",
      "   ------------------ --------------------- 2.6/5.5 MB 13.6 MB/s eta 0:00:01\n",
      "   ----------------------- ---------------- 3.2/5.5 MB 13.5 MB/s eta 0:00:01\n",
      "   --------------------------- ------------ 3.8/5.5 MB 13.5 MB/s eta 0:00:01\n",
      "   -------------------------------- ------- 4.4/5.5 MB 13.4 MB/s eta 0:00:01\n",
      "   ------------------------------------ --- 5.1/5.5 MB 13.5 MB/s eta 0:00:01\n",
      "   ---------------------------------------- 5.5/5.5 MB 13.0 MB/s eta 0:00:00\n",
      "Downloading tensorflow_io_gcs_filesystem-0.31.0-cp311-cp311-win_amd64.whl (1.5 MB)\n",
      "   ---------------------------------------- 0.0/1.5 MB ? eta -:--:--\n",
      "   --------------------- ------------------ 0.8/1.5 MB 17.1 MB/s eta 0:00:01\n",
      "   ------------------------------------- -- 1.4/1.5 MB 14.8 MB/s eta 0:00:01\n",
      "   ---------------------------------------- 1.5/1.5 MB 13.5 MB/s eta 0:00:00\n",
      "Downloading termcolor-2.4.0-py3-none-any.whl (7.7 kB)\n",
      "Downloading tensorboard_data_server-0.7.2-py3-none-any.whl (2.4 kB)\n",
      "Downloading namex-0.0.8-py3-none-any.whl (5.8 kB)\n",
      "Downloading optree-0.11.0-cp311-cp311-win_amd64.whl (245 kB)\n",
      "   ---------------------------------------- 0.0/245.0 kB ? eta -:--:--\n",
      "   --------------------------------------- 245.0/245.0 kB 14.7 MB/s eta 0:00:00\n",
      "Downloading rich-13.7.1-py3-none-any.whl (240 kB)\n",
      "   ---------------------------------------- 0.0/240.7 kB ? eta -:--:--\n",
      "   --------------------------------------- 240.7/240.7 kB 15.4 MB/s eta 0:00:00\n",
      "Installing collected packages: namex, libclang, flatbuffers, termcolor, tensorflow-io-gcs-filesystem, tensorboard-data-server, protobuf, optree, opt-einsum, ml-dtypes, h5py, grpcio, google-pasta, gast, astunparse, absl-py, tensorboard, rich, keras, tensorflow-intel, tensorflow\n",
      "  Attempting uninstall: h5py\n",
      "    Found existing installation: h5py 3.9.0\n",
      "    Uninstalling h5py-3.9.0:\n",
      "      Successfully uninstalled h5py-3.9.0\n",
      "Successfully installed absl-py-2.1.0 astunparse-1.6.3 flatbuffers-24.3.25 gast-0.5.4 google-pasta-0.2.0 grpcio-1.64.1 h5py-3.11.0 keras-3.3.3 libclang-18.1.1 ml-dtypes-0.3.2 namex-0.0.8 opt-einsum-3.3.0 optree-0.11.0 protobuf-4.25.3 rich-13.7.1 tensorboard-2.16.2 tensorboard-data-server-0.7.2 tensorflow-2.16.1 tensorflow-intel-2.16.1 tensorflow-io-gcs-filesystem-0.31.0 termcolor-2.4.0\n"
     ]
    }
   ],
   "source": [
    "!pip install tensorflow"
   ]
  },
  {
   "cell_type": "markdown",
   "id": "b17c88bd-c1f6-4682-af36-c131fa4ba93b",
   "metadata": {},
   "source": [
    "## Keras\n",
    "\n",
    "***Keras*** is a deep learning API for Python and is one of the most powerful and easy to use library which runs on top of popular libraries like TensorFlow and Theano for creating deep learning models. It was originally created and developed by Google AI Developer/Researcher, Francois Chollet to facilitate his own research and experiement. He committed and released the first version of Keras to his GitHub on March 2015.\n",
    "\n",
    "Originally, Keras' default backend was Theano. At the same time, Google had released TensorFlow. Given the synergies, Keras started supporting TensorFlow as a backend, and slowly TensorFlow became the most popular backend, resulting in TensorFlow being the default backend starting from the release of Keras v1.1.0."
   ]
  },
  {
   "cell_type": "markdown",
   "id": "9534f8d3-8715-443d-b444-86f0374496dd",
   "metadata": {},
   "source": [
    "<img src=\"../Python Labs/JAP13_NNs3.jpg\"/>"
   ]
  },
  {
   "cell_type": "markdown",
   "id": "8272757b-7c44-414b-ad07-c8afba9c8e02",
   "metadata": {},
   "source": [
    "##### Deep Learning Software and Harware Stack\n",
    "The core data structures of Keras are layers and models. The simplest type of model is the Sequential model, which is a linear stack of layers. For more complex architectures, we should use the Keras functional API, which allows to build arbitrary graphs of layers.\n",
    "\n",
    "Keras is ideal for prototyping simple concepts and comes with a large community support. It is the default backend now shipped with tensorflow. Refer here for Keras API."
   ]
  },
  {
   "cell_type": "markdown",
   "id": "220c1f98-f34a-460d-beef-8fc9ca9eb067",
   "metadata": {},
   "source": [
    "## TensorBoard\n",
    "\n",
    "TensorBoard is a browser-based visualization tool that let you monitor models during training and gives access to the following features\n",
    "\n",
    "* Visually monitoring metrics during training\n",
    "* Visualizing your model architecture\n",
    "* Visualizing histograms of activations and gradients"
   ]
  },
  {
   "cell_type": "code",
   "execution_count": 5,
   "id": "c2c5fa70-2e30-4945-b491-9fb29a570dd8",
   "metadata": {},
   "outputs": [],
   "source": [
    "# Create directory\n",
    "# $ mkdir my_log_dir\n",
    "\n",
    "# To access http://localhost:6006\n",
    "# $tensorboard --logdir=mlogs"
   ]
  },
  {
   "cell_type": "code",
   "execution_count": 6,
   "id": "42d33014-2406-4173-8c10-65cf99d7b59a",
   "metadata": {},
   "outputs": [
    {
     "name": "stdout",
     "output_type": "stream",
     "text": [
      "The tensorboard extension is already loaded. To reload it, use:\n",
      "  %reload_ext tensorboard\n"
     ]
    }
   ],
   "source": [
    "# Load the TensorBoard notebook extension\n",
    "%load_ext tensorboard"
   ]
  },
  {
   "cell_type": "markdown",
   "id": "94b29e79-7f4e-4f26-b840-b555bb0474c6",
   "metadata": {},
   "source": [
    "Data with single time-step cannot be considered sequence data in a real sense. Densely connected neural networks have been proven to perform better with single time-step data. Real sequence data consists of multiple time-steps, such as stock prices of past $n$ days, a sentence containing multiple words, and so on.\n",
    " \n",
    "In many-to-one sequence problems, each input sample has more than one timestep, however the output consists of a single element. Similar to the above examples, each timestep in the input can have one or more features."
   ]
  },
  {
   "cell_type": "markdown",
   "id": "35429471-4e14-4261-9dcc-b3f7274fe612",
   "metadata": {},
   "source": [
    "###### Imports & Settings\n"
   ]
  },
  {
   "cell_type": "code",
   "execution_count": 8,
   "id": "ee3f5d74-8167-4ae1-b03f-a5358ed3055f",
   "metadata": {},
   "outputs": [
    {
     "name": "stdout",
     "output_type": "stream",
     "text": [
      " TensorFlow version is 2.16.1 \n",
      " Keras version is 3.3.3\n"
     ]
    }
   ],
   "source": [
    "# import tensorflow and keras\n",
    "import tensorflow \n",
    "from tensorflow import keras\n",
    "\n",
    "# check the tensorflow and keras version\n",
    "print(f\" TensorFlow version is {tensorflow.__version__} \\n Keras version is {tensorflow.keras.__version__}\")"
   ]
  },
  {
   "cell_type": "code",
   "execution_count": 9,
   "id": "bf8c6576-ca30-4602-a7b3-5a24d37d3f28",
   "metadata": {},
   "outputs": [],
   "source": [
    "import logging\n",
    "logging.getLogger('tensorflow').setLevel(logging.CRITICAL)"
   ]
  },
  {
   "cell_type": "code",
   "execution_count": 10,
   "id": "97a2064f-34ca-4afc-8c43-aee976179578",
   "metadata": {},
   "outputs": [],
   "source": [
    "\"\"\"\n",
    "Created on Wed May 30, 2024 \n",
    "@author: Kannan Singaravelu\n",
    "\"\"\"\n",
    "# supress warnings\n",
    "import warnings\n",
    "warnings.filterwarnings(\"ignore\")\n",
    "\n",
    "# base libraries\n",
    "import os\n",
    "import random\n",
    "import numpy as np\n",
    "import pandas as pd\n",
    "import datetime\n",
    "from pathlib import Path\n",
    "\n",
    "# scikit-learn modules\n",
    "from sklearn.preprocessing import MinMaxScaler\n",
    "from sklearn.model_selection import train_test_split\n",
    "from sklearn.metrics import mean_squared_error, r2_score\n",
    "\n",
    "# tensorflow modules\n",
    "from tensorflow.keras.models import Sequential\n",
    "from tensorflow.keras.layers import Dense, Dropout, Flatten, LSTM\n",
    "\n",
    "from tensorflow.keras.layers import Input\n",
    "from tensorflow.keras.models import Model\n",
    "from tensorflow.keras.utils import plot_model\n",
    "from tensorflow.keras.optimizers import Adam, RMSprop \n",
    "from tensorflow.keras.preprocessing.sequence import TimeseriesGenerator \n",
    "from tensorflow.keras.callbacks import EarlyStopping, ModelCheckpoint, TensorBoard\n",
    "\n",
    "# plotting & outputs\n",
    "import matplotlib.pyplot as plt\n",
    "plt.style.use('seaborn-v0_8')\n",
    "\n",
    "from pprint import pprint"
   ]
  },
  {
   "cell_type": "code",
   "execution_count": 11,
   "id": "39ef5769-14d0-4f10-b04e-b9b95ef70e52",
   "metadata": {},
   "outputs": [],
   "source": [
    "def set_seeds(seed=2022): \n",
    "    random.seed(seed)\n",
    "    np.random.seed(seed)\n",
    "    tensorflow.random.set_seed(seed)"
   ]
  },
  {
   "cell_type": "markdown",
   "id": "3ba7216e-7219-485f-af51-2f2d9960f377",
   "metadata": {},
   "source": [
    "## Example : Many-to-One Single Feature\n",
    "\n",
    "Let's prepare a sample dataset of 20 samples with 3 timesteps where each timestep will consist of a single feature. The output of each sample will be the sum of these 3 inputs. For example, if our sample consists of a sequence 1,2,3, the output would be sum of these inputs, 1+2+3 = 6."
   ]
  },
  {
   "cell_type": "code",
   "execution_count": 12,
   "id": "556f490f-5df7-4f5e-a35a-aa0260ffae61",
   "metadata": {},
   "outputs": [],
   "source": [
    "# create sample dataset\n",
    "X = np.array([i+1 for i in range(60)])"
   ]
  },
  {
   "cell_type": "code",
   "execution_count": 13,
   "id": "5c62c0ff-984f-4613-a660-0e6b1170ebf1",
   "metadata": {},
   "outputs": [],
   "source": [
    "# reshape into 3D\n",
    "X = np.array(X).reshape(20,3,1)"
   ]
  },
  {
   "cell_type": "code",
   "execution_count": 14,
   "id": "d6e843b7-224e-4777-81ed-70566526a36e",
   "metadata": {},
   "outputs": [
    {
     "name": "stdout",
     "output_type": "stream",
     "text": [
      "X: [[[ 1]\n",
      "  [ 2]\n",
      "  [ 3]]\n",
      "\n",
      " [[ 4]\n",
      "  [ 5]\n",
      "  [ 6]]\n",
      "\n",
      " [[ 7]\n",
      "  [ 8]\n",
      "  [ 9]]\n",
      "\n",
      " [[10]\n",
      "  [11]\n",
      "  [12]]\n",
      "\n",
      " [[13]\n",
      "  [14]\n",
      "  [15]]\n",
      "\n",
      " [[16]\n",
      "  [17]\n",
      "  [18]]\n",
      "\n",
      " [[19]\n",
      "  [20]\n",
      "  [21]]\n",
      "\n",
      " [[22]\n",
      "  [23]\n",
      "  [24]]\n",
      "\n",
      " [[25]\n",
      "  [26]\n",
      "  [27]]\n",
      "\n",
      " [[28]\n",
      "  [29]\n",
      "  [30]]\n",
      "\n",
      " [[31]\n",
      "  [32]\n",
      "  [33]]\n",
      "\n",
      " [[34]\n",
      "  [35]\n",
      "  [36]]\n",
      "\n",
      " [[37]\n",
      "  [38]\n",
      "  [39]]\n",
      "\n",
      " [[40]\n",
      "  [41]\n",
      "  [42]]\n",
      "\n",
      " [[43]\n",
      "  [44]\n",
      "  [45]]\n",
      "\n",
      " [[46]\n",
      "  [47]\n",
      "  [48]]\n",
      "\n",
      " [[49]\n",
      "  [50]\n",
      "  [51]]\n",
      "\n",
      " [[52]\n",
      "  [53]\n",
      "  [54]]\n",
      "\n",
      " [[55]\n",
      "  [56]\n",
      "  [57]]\n",
      "\n",
      " [[58]\n",
      "  [59]\n",
      "  [60]]]\n"
     ]
    }
   ],
   "source": [
    "print(f'X: {X}')"
   ]
  },
  {
   "cell_type": "markdown",
   "id": "b2d1a6c7-977e-4d9a-b346-b2313c3dcd8c",
   "metadata": {},
   "source": [
    "Next, we'll create output y, which is the sum of the values in the timesteps\n"
   ]
  },
  {
   "cell_type": "code",
   "execution_count": 15,
   "id": "7415ec1e-3bf9-457a-9985-3caaa7d8cb18",
   "metadata": {},
   "outputs": [
    {
     "name": "stdout",
     "output_type": "stream",
     "text": [
      "y: [  6  15  24  33  42  51  60  69  78  87  96 105 114 123 132 141 150 159\n",
      " 168 177]\n"
     ]
    }
   ],
   "source": [
    "# y is the sum of the values in the timesteps\n",
    "y = []\n",
    "for each in X:\n",
    "    y.append(each.sum())\n",
    "    \n",
    "# convert to array\n",
    "y = np.array(y)\n",
    "\n",
    "# check the output\n",
    "print(f'y: {y}')"
   ]
  },
  {
   "cell_type": "code",
   "execution_count": 16,
   "id": "bb23b2db-3b10-461e-a521-ae4badcee1d2",
   "metadata": {},
   "outputs": [
    {
     "data": {
      "text/plain": [
       "(20,)"
      ]
     },
     "execution_count": 16,
     "metadata": {},
     "output_type": "execute_result"
    }
   ],
   "source": [
    "# check the shape\n",
    "y.shape"
   ]
  },
  {
   "cell_type": "code",
   "execution_count": 17,
   "id": "18ba5819-7097-4978-a6eb-2fd0722a7b39",
   "metadata": {},
   "outputs": [
    {
     "data": {
      "text/html": [
       "<pre style=\"white-space:pre;overflow-x:auto;line-height:normal;font-family:Menlo,'DejaVu Sans Mono',consolas,'Courier New',monospace\"><span style=\"font-weight: bold\">Model: \"sequential\"</span>\n",
       "</pre>\n"
      ],
      "text/plain": [
       "\u001b[1mModel: \"sequential\"\u001b[0m\n"
      ]
     },
     "metadata": {},
     "output_type": "display_data"
    },
    {
     "data": {
      "text/html": [
       "<pre style=\"white-space:pre;overflow-x:auto;line-height:normal;font-family:Menlo,'DejaVu Sans Mono',consolas,'Courier New',monospace\">┏━━━━━━━━━━━━━━━━━━━━━━━━━━━━━━━━━━━━━━┳━━━━━━━━━━━━━━━━━━━━━━━━━━━━━┳━━━━━━━━━━━━━━━━━┓\n",
       "┃<span style=\"font-weight: bold\"> Layer (type)                         </span>┃<span style=\"font-weight: bold\"> Output Shape                </span>┃<span style=\"font-weight: bold\">         Param # </span>┃\n",
       "┡━━━━━━━━━━━━━━━━━━━━━━━━━━━━━━━━━━━━━━╇━━━━━━━━━━━━━━━━━━━━━━━━━━━━━╇━━━━━━━━━━━━━━━━━┩\n",
       "│ lstm (<span style=\"color: #0087ff; text-decoration-color: #0087ff\">LSTM</span>)                          │ (<span style=\"color: #00d7ff; text-decoration-color: #00d7ff\">None</span>, <span style=\"color: #00af00; text-decoration-color: #00af00\">50</span>)                  │          <span style=\"color: #00af00; text-decoration-color: #00af00\">10,400</span> │\n",
       "├──────────────────────────────────────┼─────────────────────────────┼─────────────────┤\n",
       "│ dense (<span style=\"color: #0087ff; text-decoration-color: #0087ff\">Dense</span>)                        │ (<span style=\"color: #00d7ff; text-decoration-color: #00d7ff\">None</span>, <span style=\"color: #00af00; text-decoration-color: #00af00\">1</span>)                   │              <span style=\"color: #00af00; text-decoration-color: #00af00\">51</span> │\n",
       "└──────────────────────────────────────┴─────────────────────────────┴─────────────────┘\n",
       "</pre>\n"
      ],
      "text/plain": [
       "┏━━━━━━━━━━━━━━━━━━━━━━━━━━━━━━━━━━━━━━┳━━━━━━━━━━━━━━━━━━━━━━━━━━━━━┳━━━━━━━━━━━━━━━━━┓\n",
       "┃\u001b[1m \u001b[0m\u001b[1mLayer (type)                        \u001b[0m\u001b[1m \u001b[0m┃\u001b[1m \u001b[0m\u001b[1mOutput Shape               \u001b[0m\u001b[1m \u001b[0m┃\u001b[1m \u001b[0m\u001b[1m        Param #\u001b[0m\u001b[1m \u001b[0m┃\n",
       "┡━━━━━━━━━━━━━━━━━━━━━━━━━━━━━━━━━━━━━━╇━━━━━━━━━━━━━━━━━━━━━━━━━━━━━╇━━━━━━━━━━━━━━━━━┩\n",
       "│ lstm (\u001b[38;5;33mLSTM\u001b[0m)                          │ (\u001b[38;5;45mNone\u001b[0m, \u001b[38;5;34m50\u001b[0m)                  │          \u001b[38;5;34m10,400\u001b[0m │\n",
       "├──────────────────────────────────────┼─────────────────────────────┼─────────────────┤\n",
       "│ dense (\u001b[38;5;33mDense\u001b[0m)                        │ (\u001b[38;5;45mNone\u001b[0m, \u001b[38;5;34m1\u001b[0m)                   │              \u001b[38;5;34m51\u001b[0m │\n",
       "└──────────────────────────────────────┴─────────────────────────────┴─────────────────┘\n"
      ]
     },
     "metadata": {},
     "output_type": "display_data"
    },
    {
     "data": {
      "text/html": [
       "<pre style=\"white-space:pre;overflow-x:auto;line-height:normal;font-family:Menlo,'DejaVu Sans Mono',consolas,'Courier New',monospace\"><span style=\"font-weight: bold\"> Total params: </span><span style=\"color: #00af00; text-decoration-color: #00af00\">10,451</span> (40.82 KB)\n",
       "</pre>\n"
      ],
      "text/plain": [
       "\u001b[1m Total params: \u001b[0m\u001b[38;5;34m10,451\u001b[0m (40.82 KB)\n"
      ]
     },
     "metadata": {},
     "output_type": "display_data"
    },
    {
     "data": {
      "text/html": [
       "<pre style=\"white-space:pre;overflow-x:auto;line-height:normal;font-family:Menlo,'DejaVu Sans Mono',consolas,'Courier New',monospace\"><span style=\"font-weight: bold\"> Trainable params: </span><span style=\"color: #00af00; text-decoration-color: #00af00\">10,451</span> (40.82 KB)\n",
       "</pre>\n"
      ],
      "text/plain": [
       "\u001b[1m Trainable params: \u001b[0m\u001b[38;5;34m10,451\u001b[0m (40.82 KB)\n"
      ]
     },
     "metadata": {},
     "output_type": "display_data"
    },
    {
     "data": {
      "text/html": [
       "<pre style=\"white-space:pre;overflow-x:auto;line-height:normal;font-family:Menlo,'DejaVu Sans Mono',consolas,'Courier New',monospace\"><span style=\"font-weight: bold\"> Non-trainable params: </span><span style=\"color: #00af00; text-decoration-color: #00af00\">0</span> (0.00 B)\n",
       "</pre>\n"
      ],
      "text/plain": [
       "\u001b[1m Non-trainable params: \u001b[0m\u001b[38;5;34m0\u001b[0m (0.00 B)\n"
      ]
     },
     "metadata": {},
     "output_type": "display_data"
    },
    {
     "name": "stdout",
     "output_type": "stream",
     "text": [
      "None\n"
     ]
    }
   ],
   "source": [
    "# compile model five\n",
    "nn = Sequential()\n",
    "nn.add(LSTM(50, activation='relu', input_shape=(3, 1)))\n",
    "nn.add(Dense(1))\n",
    "nn.compile(optimizer='adam', loss='mse')\n",
    "print(nn.summary())"
   ]
  },
  {
   "cell_type": "code",
   "execution_count": 18,
   "id": "c3d349ad-f79d-444a-877a-16361f3bbd85",
   "metadata": {},
   "outputs": [
    {
     "data": {
      "text/plain": [
       "<keras.src.callbacks.history.History at 0x186d3d57f10>"
      ]
     },
     "execution_count": 18,
     "metadata": {},
     "output_type": "execute_result"
    }
   ],
   "source": [
    "# fit model\n",
    "nn.fit(X, y, batch_size=64, epochs=1000, validation_split=0.2, verbose=0)"
   ]
  },
  {
   "cell_type": "code",
   "execution_count": 19,
   "id": "4036598f-31ec-48c9-9892-24582b1f6b91",
   "metadata": {},
   "outputs": [
    {
     "name": "stdout",
     "output_type": "stream",
     "text": [
      "[[215.61952]]\n"
     ]
    }
   ],
   "source": [
    "# predict the outcome\n",
    "test_input = np.array([70,71,72])\n",
    "test_input = test_input.reshape((1, 3, 1))\n",
    "test_output = nn.predict(test_input, verbose=0)\n",
    "print(test_output)"
   ]
  },
  {
   "cell_type": "markdown",
   "id": "087146b0-849d-40a5-84e8-02a25bb68768",
   "metadata": {},
   "source": [
    "## Applying Neural Networks to Financial Time Series\n",
    "\n",
    "Given that we have some understanding of the above deep sequence modeling, let us now apply neural networks to financial timeseries which is a many-to-one sequence problem.\n",
    "\n",
    "We will retrive the 20 years of SPY price data that we stored earlier for this exercise. We then apply LSTM network given the nature of financial time series with a lookback (window size) of 60 days."
   ]
  },
  {
   "cell_type": "markdown",
   "id": "7eb0413c-00e8-4870-a36d-5775d7352e53",
   "metadata": {},
   "source": [
    "### Path to store results\n"
   ]
  },
  {
   "cell_type": "code",
   "execution_count": 22,
   "id": "9c8c9cb2-2a10-48f8-b74b-1e2d3577af26",
   "metadata": {},
   "outputs": [],
   "source": [
    "results_path = Path('results', 'lstm_time_series')\n",
    "if not results_path.exists():\n",
    "    results_path.mkdir(parents=True)"
   ]
  },
  {
   "cell_type": "markdown",
   "id": "306c4d09-4d2e-4cb1-b499-4e906df6b492",
   "metadata": {},
   "source": [
    "### Retrieve data"
   ]
  },
  {
   "cell_type": "code",
   "execution_count": 26,
   "id": "41c9036c-94fb-456d-8dce-e60418503fe9",
   "metadata": {},
   "outputs": [],
   "source": [
    "# Get the dataset from https://github.com/kannansingaravelu/datasets/blob/main/spy.csv\n",
    "# Read data from the locally stored file\n",
    "data = pd.read_csv('JAP13_NNs_TensorFlow&Keras_spy.csv', index_col=0, parse_dates=True)[['Adj Close']]['2000':'2019']"
   ]
  },
  {
   "cell_type": "code",
   "execution_count": 27,
   "id": "2c58f012-0ae7-448e-b88a-56f9697a234b",
   "metadata": {},
   "outputs": [
    {
     "data": {
      "text/plain": [
       "(5031, 1)"
      ]
     },
     "execution_count": 27,
     "metadata": {},
     "output_type": "execute_result"
    }
   ],
   "source": [
    "# Check the shape - has to be 2D\n",
    "data.shape"
   ]
  },
  {
   "cell_type": "code",
   "execution_count": 28,
   "id": "35ae5495-37fb-4fcf-93b9-d778741087bc",
   "metadata": {},
   "outputs": [
    {
     "data": {
      "text/plain": [
       "Adj Close    0\n",
       "dtype: int64"
      ]
     },
     "execution_count": 28,
     "metadata": {},
     "output_type": "execute_result"
    }
   ],
   "source": [
    "# Check for missing values\n",
    "data.isna().sum()"
   ]
  },
  {
   "cell_type": "markdown",
   "id": "f0647bef-e19d-4df0-a53b-6969d140fe0b",
   "metadata": {},
   "source": [
    "### Visualization\n"
   ]
  },
  {
   "cell_type": "code",
   "execution_count": 29,
   "id": "123bcfd0-381b-4914-a6bf-9a52eda85846",
   "metadata": {},
   "outputs": [
    {
     "data": {
      "image/png": "[encoded data removed]",
      "text/plain": [
       "<Figure size 1400x600 with 1 Axes>"
      ]
     },
     "metadata": {},
     "output_type": "display_data"
    }
   ],
   "source": [
    "# Visualization \n",
    "plt.figure(figsize=(14,6))\n",
    "plt.title('SPY Price')\n",
    "plt.plot(data);"
   ]
  },
  {
   "cell_type": "markdown",
   "id": "2cca211c-f7a0-41ba-a5e1-ac4d18472620",
   "metadata": {},
   "source": [
    "### Train - Test - Split"
   ]
  },
  {
   "cell_type": "code",
   "execution_count": 30,
   "id": "a3a1fb32-b35f-4e18-a9c4-7173d2b73d29",
   "metadata": {},
   "outputs": [
    {
     "name": "stdout",
     "output_type": "stream",
     "text": [
      "Train and Test Size 4024, 1007\n"
     ]
    }
   ],
   "source": [
    "# Splitting the datasets into training and testing data.\n",
    "train_data, test_data = train_test_split(data, train_size=0.8, test_size=0.2, shuffle=False)\n",
    "\n",
    "# Output the train and test data size\n",
    "print(f\"Train and Test Size {len(train_data)}, {len(test_data)}\")"
   ]
  },
  {
   "cell_type": "markdown",
   "id": "44c0e6d8-f695-4215-8188-1e602943230a",
   "metadata": {},
   "source": [
    "### Preprocessing\n"
   ]
  },
  {
   "cell_type": "code",
   "execution_count": 31,
   "id": "ba94877d-7184-4d3d-abdb-367ad3d2a38c",
   "metadata": {},
   "outputs": [],
   "source": [
    "# Scale the features MinMax for training and test datasets\n",
    "scaler = MinMaxScaler()\n",
    "scaled_train_data = scaler.fit_transform(train_data)\n",
    "scaled_test_data = scaler.transform(test_data)"
   ]
  },
  {
   "cell_type": "markdown",
   "id": "251b0232-260f-45e2-9310-e761e996b2e1",
   "metadata": {},
   "source": [
    "#### Generate sequences\n",
    "\n",
    "We'll create a function to generate sequence in the format required for deep sequence modeling."
   ]
  },
  {
   "cell_type": "code",
   "execution_count": 32,
   "id": "78def9f6-0821-46dd-83a4-40425959a62d",
   "metadata": {},
   "outputs": [],
   "source": [
    "# sequence length\n",
    "lookback = 60"
   ]
  },
  {
   "cell_type": "code",
   "execution_count": 33,
   "id": "f2a7c842-1d80-4789-977d-f2f2c9a5f85b",
   "metadata": {},
   "outputs": [],
   "source": [
    "def generate_sequence(data, sequence_length=lookback):\n",
    "    \n",
    "    # create X & y data array\n",
    "    X = []\n",
    "    y = []\n",
    "\n",
    "    for i in range(sequence_length, len(data)):\n",
    "        X.append(data[i - sequence_length:i, 0])\n",
    "        y.append(data[i, 0])\n",
    "    \n",
    "    # Converting x_train and y_train to Numpy arrays\n",
    "    return np.array(X), np.array(y)"
   ]
  },
  {
   "cell_type": "code",
   "execution_count": 34,
   "id": "5c71da13-7dba-4fca-89b3-a497c8ef1465",
   "metadata": {},
   "outputs": [
    {
     "name": "stdout",
     "output_type": "stream",
     "text": [
      "X_train: (3964, 60), y_train (3964,)\n"
     ]
    }
   ],
   "source": [
    "X_train, y_train = generate_sequence(data=scaled_train_data, sequence_length=lookback)\n",
    "print(f'X_train: {X_train.shape}, y_train {y_train.shape}')"
   ]
  },
  {
   "cell_type": "code",
   "execution_count": 35,
   "id": "e59ae8b3-e9c5-47a7-a379-565e4c7cbdcc",
   "metadata": {},
   "outputs": [
    {
     "name": "stdout",
     "output_type": "stream",
     "text": [
      "X_test: (947, 60), y_test (947,)\n"
     ]
    }
   ],
   "source": [
    "X_test, y_test = generate_sequence(data=scaled_test_data, sequence_length=lookback)\n",
    "print(f'X_test: {X_test.shape}, y_test {y_test.shape}')"
   ]
  },
  {
   "cell_type": "markdown",
   "id": "2fdc4cff-f4e3-47da-8068-618cbcb2f0f1",
   "metadata": {},
   "source": [
    "#### Reshape"
   ]
  },
  {
   "cell_type": "markdown",
   "id": "c1a94ed6-97c7-4523-a39e-0e340fbecddd",
   "metadata": {},
   "source": [
    "We need to reshape the data as LSTM network consume input in a 3-dimensional array in the form of n_samples x timesteps x n_features."
   ]
  },
  {
   "cell_type": "code",
   "execution_count": 36,
   "id": "16aa1c54-e539-4148-b35f-9558be641d35",
   "metadata": {},
   "outputs": [
    {
     "name": "stdout",
     "output_type": "stream",
     "text": [
      "X_train Shape: (3964, 60, 1), y_train (3964, 1)\n"
     ]
    }
   ],
   "source": [
    "# reshaping array\n",
    "X_train = np.reshape(X_train, (X_train.shape[0], X_train.shape[1], 1))\n",
    "y_train = y_train[:, np.newaxis] \n",
    "\n",
    "# check the array size\n",
    "print(f'X_train Shape: {X_train.shape}, y_train {y_train.shape}')"
   ]
  },
  {
   "cell_type": "code",
   "execution_count": 37,
   "id": "cf800225-75b1-4148-a937-9ee214e41029",
   "metadata": {},
   "outputs": [
    {
     "name": "stdout",
     "output_type": "stream",
     "text": [
      "X_test Shape: (947, 60, 1), y_test (947, 1)\n"
     ]
    }
   ],
   "source": [
    "# reshaping array\n",
    "X_test = np.reshape(X_test, (X_test.shape[0], X_test.shape[1], 1))\n",
    "y_test = y_test[:, np.newaxis] \n",
    "\n",
    "# check the array size\n",
    "print(f'X_test Shape: {X_test.shape}, y_test {y_test.shape}')"
   ]
  },
  {
   "cell_type": "markdown",
   "id": "751f2d3b-c12c-4798-b9a4-92e5fff5bd84",
   "metadata": {},
   "source": [
    "### Building a LSTM Model\n",
    "\n",
    "First, we define the LSTM Recurrent Neural Network by initializing the Sequential Model. We'll add more LSTM layers and adjust the Dropout in order to improve the accuracy of our model. Finally, a Dense layer is used as output layer.\n",
    "\n",
    "Next, we compile and train the model defined above. Iteratively, we can increase or decrease the epochs and batch size to get more accuracy."
   ]
  },
  {
   "cell_type": "code",
   "execution_count": 38,
   "id": "e1857f03-faa8-461c-8379-0250d150e174",
   "metadata": {},
   "outputs": [],
   "source": [
    "# Create a model\n",
    "def create_model(hu=256, lookback=60):\n",
    "\n",
    "    tensorflow.keras.backend.clear_session()   \n",
    "    \n",
    "    # using functional api\n",
    "    inputs = Input(shape=(lookback, 1))\n",
    "    lstm = LSTM(units=hu, activation = 'relu', return_sequences=False, name='LSTM')(inputs)\n",
    "    output = Dense(units=1, name='Output')(lstm)\n",
    "    model = Model(inputs=inputs, outputs=output)\n",
    "\n",
    "    # specify optimizer separately (preferred method))\n",
    "    # opt = RMSprop(learning_rate=0.001, rho=0.9, epsilon=1e-08)\n",
    "    # adam optimizer seems to perform better for a single lstm\n",
    "    opt = Adam(learning_rate=0.001, epsilon=1e-08)      \n",
    "    \n",
    "    # model compilation\n",
    "    model.compile(optimizer=opt, loss='mse', metrics=['mae'])\n",
    "    \n",
    "    return model"
   ]
  },
  {
   "cell_type": "code",
   "execution_count": 39,
   "id": "2174a058-bc55-4027-9408-067ae773e469",
   "metadata": {},
   "outputs": [],
   "source": [
    "# lstm network\n",
    "model = create_model(hu=10, lookback=lookback)"
   ]
  },
  {
   "cell_type": "code",
   "execution_count": 40,
   "id": "4ffe193f-26ac-4351-aeb6-5c8b03aa17fc",
   "metadata": {},
   "outputs": [
    {
     "data": {
      "text/html": [
       "<pre style=\"white-space:pre;overflow-x:auto;line-height:normal;font-family:Menlo,'DejaVu Sans Mono',consolas,'Courier New',monospace\"><span style=\"font-weight: bold\">Model: \"functional_1\"</span>\n",
       "</pre>\n"
      ],
      "text/plain": [
       "\u001b[1mModel: \"functional_1\"\u001b[0m\n"
      ]
     },
     "metadata": {},
     "output_type": "display_data"
    },
    {
     "data": {
      "text/html": [
       "<pre style=\"white-space:pre;overflow-x:auto;line-height:normal;font-family:Menlo,'DejaVu Sans Mono',consolas,'Courier New',monospace\">┏━━━━━━━━━━━━━━━━━━━━━━━━━━━━━━━━━━━━━━┳━━━━━━━━━━━━━━━━━━━━━━━━━━━━━┳━━━━━━━━━━━━━━━━━┓\n",
       "┃<span style=\"font-weight: bold\"> Layer (type)                         </span>┃<span style=\"font-weight: bold\"> Output Shape                </span>┃<span style=\"font-weight: bold\">         Param # </span>┃\n",
       "┡━━━━━━━━━━━━━━━━━━━━━━━━━━━━━━━━━━━━━━╇━━━━━━━━━━━━━━━━━━━━━━━━━━━━━╇━━━━━━━━━━━━━━━━━┩\n",
       "│ input_layer (<span style=\"color: #0087ff; text-decoration-color: #0087ff\">InputLayer</span>)             │ (<span style=\"color: #00d7ff; text-decoration-color: #00d7ff\">None</span>, <span style=\"color: #00af00; text-decoration-color: #00af00\">60</span>, <span style=\"color: #00af00; text-decoration-color: #00af00\">1</span>)               │               <span style=\"color: #00af00; text-decoration-color: #00af00\">0</span> │\n",
       "├──────────────────────────────────────┼─────────────────────────────┼─────────────────┤\n",
       "│ LSTM (<span style=\"color: #0087ff; text-decoration-color: #0087ff\">LSTM</span>)                          │ (<span style=\"color: #00d7ff; text-decoration-color: #00d7ff\">None</span>, <span style=\"color: #00af00; text-decoration-color: #00af00\">10</span>)                  │             <span style=\"color: #00af00; text-decoration-color: #00af00\">480</span> │\n",
       "├──────────────────────────────────────┼─────────────────────────────┼─────────────────┤\n",
       "│ Output (<span style=\"color: #0087ff; text-decoration-color: #0087ff\">Dense</span>)                       │ (<span style=\"color: #00d7ff; text-decoration-color: #00d7ff\">None</span>, <span style=\"color: #00af00; text-decoration-color: #00af00\">1</span>)                   │              <span style=\"color: #00af00; text-decoration-color: #00af00\">11</span> │\n",
       "└──────────────────────────────────────┴─────────────────────────────┴─────────────────┘\n",
       "</pre>\n"
      ],
      "text/plain": [
       "┏━━━━━━━━━━━━━━━━━━━━━━━━━━━━━━━━━━━━━━┳━━━━━━━━━━━━━━━━━━━━━━━━━━━━━┳━━━━━━━━━━━━━━━━━┓\n",
       "┃\u001b[1m \u001b[0m\u001b[1mLayer (type)                        \u001b[0m\u001b[1m \u001b[0m┃\u001b[1m \u001b[0m\u001b[1mOutput Shape               \u001b[0m\u001b[1m \u001b[0m┃\u001b[1m \u001b[0m\u001b[1m        Param #\u001b[0m\u001b[1m \u001b[0m┃\n",
       "┡━━━━━━━━━━━━━━━━━━━━━━━━━━━━━━━━━━━━━━╇━━━━━━━━━━━━━━━━━━━━━━━━━━━━━╇━━━━━━━━━━━━━━━━━┩\n",
       "│ input_layer (\u001b[38;5;33mInputLayer\u001b[0m)             │ (\u001b[38;5;45mNone\u001b[0m, \u001b[38;5;34m60\u001b[0m, \u001b[38;5;34m1\u001b[0m)               │               \u001b[38;5;34m0\u001b[0m │\n",
       "├──────────────────────────────────────┼─────────────────────────────┼─────────────────┤\n",
       "│ LSTM (\u001b[38;5;33mLSTM\u001b[0m)                          │ (\u001b[38;5;45mNone\u001b[0m, \u001b[38;5;34m10\u001b[0m)                  │             \u001b[38;5;34m480\u001b[0m │\n",
       "├──────────────────────────────────────┼─────────────────────────────┼─────────────────┤\n",
       "│ Output (\u001b[38;5;33mDense\u001b[0m)                       │ (\u001b[38;5;45mNone\u001b[0m, \u001b[38;5;34m1\u001b[0m)                   │              \u001b[38;5;34m11\u001b[0m │\n",
       "└──────────────────────────────────────┴─────────────────────────────┴─────────────────┘\n"
      ]
     },
     "metadata": {},
     "output_type": "display_data"
    },
    {
     "data": {
      "text/html": [
       "<pre style=\"white-space:pre;overflow-x:auto;line-height:normal;font-family:Menlo,'DejaVu Sans Mono',consolas,'Courier New',monospace\"><span style=\"font-weight: bold\"> Total params: </span><span style=\"color: #00af00; text-decoration-color: #00af00\">491</span> (1.92 KB)\n",
       "</pre>\n"
      ],
      "text/plain": [
       "\u001b[1m Total params: \u001b[0m\u001b[38;5;34m491\u001b[0m (1.92 KB)\n"
      ]
     },
     "metadata": {},
     "output_type": "display_data"
    },
    {
     "data": {
      "text/html": [
       "<pre style=\"white-space:pre;overflow-x:auto;line-height:normal;font-family:Menlo,'DejaVu Sans Mono',consolas,'Courier New',monospace\"><span style=\"font-weight: bold\"> Trainable params: </span><span style=\"color: #00af00; text-decoration-color: #00af00\">491</span> (1.92 KB)\n",
       "</pre>\n"
      ],
      "text/plain": [
       "\u001b[1m Trainable params: \u001b[0m\u001b[38;5;34m491\u001b[0m (1.92 KB)\n"
      ]
     },
     "metadata": {},
     "output_type": "display_data"
    },
    {
     "data": {
      "text/html": [
       "<pre style=\"white-space:pre;overflow-x:auto;line-height:normal;font-family:Menlo,'DejaVu Sans Mono',consolas,'Courier New',monospace\"><span style=\"font-weight: bold\"> Non-trainable params: </span><span style=\"color: #00af00; text-decoration-color: #00af00\">0</span> (0.00 B)\n",
       "</pre>\n"
      ],
      "text/plain": [
       "\u001b[1m Non-trainable params: \u001b[0m\u001b[38;5;34m0\u001b[0m (0.00 B)\n"
      ]
     },
     "metadata": {},
     "output_type": "display_data"
    }
   ],
   "source": [
    "# summary\n",
    "model.summary()"
   ]
  },
  {
   "cell_type": "code",
   "execution_count": 52,
   "id": "282b2144-44b2-4a4e-9264-a5d5584ed8f9",
   "metadata": {},
   "outputs": [],
   "source": [
    "# !pip install pydot"
   ]
  },
  {
   "cell_type": "code",
   "execution_count": 53,
   "id": "68fc2c65-088f-4db3-a4b4-2b00b8d967a2",
   "metadata": {},
   "outputs": [
    {
     "name": "stdout",
     "output_type": "stream",
     "text": [
      "You must install pydot (`pip install pydot`) for `plot_model` to work.\n"
     ]
    }
   ],
   "source": [
    "plot_model(model, to_file='./images/model.png', show_shapes=True, show_layer_names=True)"
   ]
  },
  {
   "cell_type": "markdown",
   "id": "1c968886-47ce-4237-a91e-317cc5289702",
   "metadata": {},
   "source": [
    "###### Train the model\n"
   ]
  },
  {
   "cell_type": "code",
   "execution_count": 47,
   "id": "a5b5ddbe-6041-4e9d-9199-bf4d110f5de2",
   "metadata": {},
   "outputs": [],
   "source": [
    "# Specify callback functions\n",
    "model_path = (results_path / 'model.keras').as_posix()\n",
    "logdir = os.path.join(\"logs\", datetime.datetime.now().strftime(\"%Y%m%d-%H%M%S\"))\n",
    "\n",
    "my_callbacks = [\n",
    "    EarlyStopping(patience=10, monitor='loss', mode='min', verbose=1, restore_best_weights=True),\n",
    "    ModelCheckpoint(filepath=model_path, verbose=1, monitor='loss', save_best_only=True),\n",
    "    TensorBoard(log_dir=logdir, histogram_freq=1)\n",
    "]"
   ]
  },
  {
   "cell_type": "code",
   "execution_count": 48,
   "id": "aabb707e-cd44-4424-8ced-5d6de585df31",
   "metadata": {},
   "outputs": [
    {
     "name": "stdout",
     "output_type": "stream",
     "text": [
      "Epoch 1/500\n",
      "\u001b[1m60/62\u001b[0m \u001b[32m━━━━━━━━━━━━━━━━━━━\u001b[0m\u001b[37m━\u001b[0m \u001b[1m0s\u001b[0m 12ms/step - loss: 0.0633 - mae: 0.2201\n",
      "Epoch 1: loss improved from inf to 0.04682, saving model to results/lstm_time_series/model.keras\n",
      "\u001b[1m62/62\u001b[0m \u001b[32m━━━━━━━━━━━━━━━━━━━━\u001b[0m\u001b[37m\u001b[0m \u001b[1m2s\u001b[0m 14ms/step - loss: 0.0625 - mae: 0.2189\n",
      "Epoch 2/500\n",
      "\u001b[1m59/62\u001b[0m \u001b[32m━━━━━━━━━━━━━━━━━━━\u001b[0m\u001b[37m━\u001b[0m \u001b[1m0s\u001b[0m 12ms/step - loss: 0.0044 - mae: 0.0538\n",
      "Epoch 2: loss improved from 0.04682 to 0.00513, saving model to results/lstm_time_series/model.keras\n",
      "\u001b[1m62/62\u001b[0m \u001b[32m━━━━━━━━━━━━━━━━━━━━\u001b[0m\u001b[37m\u001b[0m \u001b[1m1s\u001b[0m 13ms/step - loss: 0.0044 - mae: 0.0539\n",
      "Epoch 3/500\n",
      "\u001b[1m58/62\u001b[0m \u001b[32m━━━━━━━━━━━━━━━━━━\u001b[0m\u001b[37m━━\u001b[0m \u001b[1m0s\u001b[0m 13ms/step - loss: 0.0044 - mae: 0.0557\n",
      "Epoch 3: loss did not improve from 0.00513\n",
      "\u001b[1m62/62\u001b[0m \u001b[32m━━━━━━━━━━━━━━━━━━━━\u001b[0m\u001b[37m\u001b[0m \u001b[1m1s\u001b[0m 13ms/step - loss: 0.0046 - mae: 0.0568\n",
      "Epoch 4/500\n",
      "\u001b[1m59/62\u001b[0m \u001b[32m━━━━━━━━━━━━━━━━━━━\u001b[0m\u001b[37m━\u001b[0m \u001b[1m0s\u001b[0m 12ms/step - loss: 0.0028 - mae: 0.0452\n",
      "Epoch 4: loss improved from 0.00513 to 0.00225, saving model to results/lstm_time_series/model.keras\n",
      "\u001b[1m62/62\u001b[0m \u001b[32m━━━━━━━━━━━━━━━━━━━━\u001b[0m\u001b[37m\u001b[0m \u001b[1m1s\u001b[0m 13ms/step - loss: 0.0028 - mae: 0.0447\n",
      "Epoch 5/500\n",
      "\u001b[1m58/62\u001b[0m \u001b[32m━━━━━━━━━━━━━━━━━━\u001b[0m\u001b[37m━━\u001b[0m \u001b[1m0s\u001b[0m 14ms/step - loss: 8.1530e-04 - mae: 0.0236\n",
      "Epoch 5: loss improved from 0.00225 to 0.00149, saving model to results/lstm_time_series/model.keras\n",
      "\u001b[1m62/62\u001b[0m \u001b[32m━━━━━━━━━━━━━━━━━━━━\u001b[0m\u001b[37m\u001b[0m \u001b[1m1s\u001b[0m 14ms/step - loss: 8.7016e-04 - mae: 0.0243\n",
      "Epoch 6/500\n",
      "\u001b[1m57/62\u001b[0m \u001b[32m━━━━━━━━━━━━━━━━━━\u001b[0m\u001b[37m━━\u001b[0m \u001b[1m0s\u001b[0m 12ms/step - loss: 0.0015 - mae: 0.0338\n",
      "Epoch 6: loss improved from 0.00149 to 0.00107, saving model to results/lstm_time_series/model.keras\n",
      "\u001b[1m62/62\u001b[0m \u001b[32m━━━━━━━━━━━━━━━━━━━━\u001b[0m\u001b[37m\u001b[0m \u001b[1m1s\u001b[0m 13ms/step - loss: 0.0015 - mae: 0.0329\n",
      "Epoch 7/500\n",
      "\u001b[1m60/62\u001b[0m \u001b[32m━━━━━━━━━━━━━━━━━━━\u001b[0m\u001b[37m━\u001b[0m \u001b[1m0s\u001b[0m 12ms/step - loss: 3.9065e-04 - mae: 0.0157\n",
      "Epoch 7: loss improved from 0.00107 to 0.00074, saving model to results/lstm_time_series/model.keras\n",
      "\u001b[1m62/62\u001b[0m \u001b[32m━━━━━━━━━━━━━━━━━━━━\u001b[0m\u001b[37m\u001b[0m \u001b[1m1s\u001b[0m 13ms/step - loss: 4.0697e-04 - mae: 0.0160\n",
      "Epoch 8/500\n",
      "\u001b[1m61/62\u001b[0m \u001b[32m━━━━━━━━━━━━━━━━━━━\u001b[0m\u001b[37m━\u001b[0m \u001b[1m0s\u001b[0m 12ms/step - loss: 6.0613e-04 - mae: 0.0207\n",
      "Epoch 8: loss improved from 0.00074 to 0.00052, saving model to results/lstm_time_series/model.keras\n",
      "\u001b[1m62/62\u001b[0m \u001b[32m━━━━━━━━━━━━━━━━━━━━\u001b[0m\u001b[37m\u001b[0m \u001b[1m1s\u001b[0m 13ms/step - loss: 6.0328e-04 - mae: 0.0206\n",
      "Epoch 9/500\n",
      "\u001b[1m61/62\u001b[0m \u001b[32m━━━━━━━━━━━━━━━━━━━\u001b[0m\u001b[37m━\u001b[0m \u001b[1m0s\u001b[0m 13ms/step - loss: 2.6343e-04 - mae: 0.0126\n",
      "Epoch 9: loss improved from 0.00052 to 0.00049, saving model to results/lstm_time_series/model.keras\n",
      "\u001b[1m62/62\u001b[0m \u001b[32m━━━━━━━━━━━━━━━━━━━━\u001b[0m\u001b[37m\u001b[0m \u001b[1m1s\u001b[0m 14ms/step - loss: 2.7075e-04 - mae: 0.0128\n",
      "Epoch 10/500\n",
      "\u001b[1m62/62\u001b[0m \u001b[32m━━━━━━━━━━━━━━━━━━━━\u001b[0m\u001b[37m\u001b[0m \u001b[1m0s\u001b[0m 12ms/step - loss: 3.4837e-04 - mae: 0.0149\n",
      "Epoch 10: loss improved from 0.00049 to 0.00037, saving model to results/lstm_time_series/model.keras\n",
      "\u001b[1m62/62\u001b[0m \u001b[32m━━━━━━━━━━━━━━━━━━━━\u001b[0m\u001b[37m\u001b[0m \u001b[1m1s\u001b[0m 13ms/step - loss: 3.4864e-04 - mae: 0.0149\n",
      "Epoch 11/500\n",
      "\u001b[1m62/62\u001b[0m \u001b[32m━━━━━━━━━━━━━━━━━━━━\u001b[0m\u001b[37m\u001b[0m \u001b[1m0s\u001b[0m 12ms/step - loss: 2.2230e-04 - mae: 0.0114\n",
      "Epoch 11: loss did not improve from 0.00037\n",
      "\u001b[1m62/62\u001b[0m \u001b[32m━━━━━━━━━━━━━━━━━━━━\u001b[0m\u001b[37m\u001b[0m \u001b[1m1s\u001b[0m 13ms/step - loss: 2.2512e-04 - mae: 0.0115\n",
      "Epoch 12/500\n",
      "\u001b[1m60/62\u001b[0m \u001b[32m━━━━━━━━━━━━━━━━━━━\u001b[0m\u001b[37m━\u001b[0m \u001b[1m0s\u001b[0m 12ms/step - loss: 2.8279e-04 - mae: 0.0132\n",
      "Epoch 12: loss improved from 0.00037 to 0.00032, saving model to results/lstm_time_series/model.keras\n",
      "\u001b[1m62/62\u001b[0m \u001b[32m━━━━━━━━━━━━━━━━━━━━\u001b[0m\u001b[37m\u001b[0m \u001b[1m1s\u001b[0m 14ms/step - loss: 2.8461e-04 - mae: 0.0132\n",
      "Epoch 13/500\n",
      "\u001b[1m62/62\u001b[0m \u001b[32m━━━━━━━━━━━━━━━━━━━━\u001b[0m\u001b[37m\u001b[0m \u001b[1m0s\u001b[0m 12ms/step - loss: 2.1400e-04 - mae: 0.0113\n",
      "Epoch 13: loss did not improve from 0.00032\n",
      "\u001b[1m62/62\u001b[0m \u001b[32m━━━━━━━━━━━━━━━━━━━━\u001b[0m\u001b[37m\u001b[0m \u001b[1m1s\u001b[0m 13ms/step - loss: 2.1623e-04 - mae: 0.0113\n",
      "Epoch 14/500\n",
      "\u001b[1m62/62\u001b[0m \u001b[32m━━━━━━━━━━━━━━━━━━━━\u001b[0m\u001b[37m\u001b[0m \u001b[1m0s\u001b[0m 13ms/step - loss: 2.6901e-04 - mae: 0.0128\n",
      "Epoch 14: loss improved from 0.00032 to 0.00031, saving model to results/lstm_time_series/model.keras\n",
      "\u001b[1m62/62\u001b[0m \u001b[32m━━━━━━━━━━━━━━━━━━━━\u001b[0m\u001b[37m\u001b[0m \u001b[1m1s\u001b[0m 14ms/step - loss: 2.6963e-04 - mae: 0.0128\n",
      "Epoch 15/500\n",
      "\u001b[1m62/62\u001b[0m \u001b[32m━━━━━━━━━━━━━━━━━━━━\u001b[0m\u001b[37m\u001b[0m \u001b[1m0s\u001b[0m 13ms/step - loss: 2.2021e-04 - mae: 0.0115\n",
      "Epoch 15: loss did not improve from 0.00031\n",
      "\u001b[1m62/62\u001b[0m \u001b[32m━━━━━━━━━━━━━━━━━━━━\u001b[0m\u001b[37m\u001b[0m \u001b[1m1s\u001b[0m 13ms/step - loss: 2.2196e-04 - mae: 0.0115\n",
      "Epoch 16/500\n",
      "\u001b[1m60/62\u001b[0m \u001b[32m━━━━━━━━━━━━━━━━━━━\u001b[0m\u001b[37m━\u001b[0m \u001b[1m0s\u001b[0m 11ms/step - loss: 2.6613e-04 - mae: 0.0128\n",
      "Epoch 16: loss improved from 0.00031 to 0.00030, saving model to results/lstm_time_series/model.keras\n",
      "\u001b[1m62/62\u001b[0m \u001b[32m━━━━━━━━━━━━━━━━━━━━\u001b[0m\u001b[37m\u001b[0m \u001b[1m1s\u001b[0m 12ms/step - loss: 2.6762e-04 - mae: 0.0128\n",
      "Epoch 17/500\n",
      "\u001b[1m61/62\u001b[0m \u001b[32m━━━━━━━━━━━━━━━━━━━\u001b[0m\u001b[37m━\u001b[0m \u001b[1m0s\u001b[0m 12ms/step - loss: 2.2881e-04 - mae: 0.0117\n",
      "Epoch 17: loss did not improve from 0.00030\n",
      "\u001b[1m62/62\u001b[0m \u001b[32m━━━━━━━━━━━━━━━━━━━━\u001b[0m\u001b[37m\u001b[0m \u001b[1m1s\u001b[0m 13ms/step - loss: 2.3149e-04 - mae: 0.0118\n",
      "Epoch 18/500\n",
      "\u001b[1m60/62\u001b[0m \u001b[32m━━━━━━━━━━━━━━━━━━━\u001b[0m\u001b[37m━\u001b[0m \u001b[1m0s\u001b[0m 12ms/step - loss: 2.6585e-04 - mae: 0.0128\n",
      "Epoch 18: loss improved from 0.00030 to 0.00029, saving model to results/lstm_time_series/model.keras\n",
      "\u001b[1m62/62\u001b[0m \u001b[32m━━━━━━━━━━━━━━━━━━━━\u001b[0m\u001b[37m\u001b[0m \u001b[1m1s\u001b[0m 13ms/step - loss: 2.6702e-04 - mae: 0.0128\n",
      "Epoch 19/500\n",
      "\u001b[1m59/62\u001b[0m \u001b[32m━━━━━━━━━━━━━━━━━━━\u001b[0m\u001b[37m━\u001b[0m \u001b[1m0s\u001b[0m 13ms/step - loss: 2.3406e-04 - mae: 0.0119\n",
      "Epoch 19: loss did not improve from 0.00029\n",
      "\u001b[1m62/62\u001b[0m \u001b[32m━━━━━━━━━━━━━━━━━━━━\u001b[0m\u001b[37m\u001b[0m \u001b[1m1s\u001b[0m 14ms/step - loss: 2.3759e-04 - mae: 0.0120\n",
      "Epoch 20/500\n",
      "\u001b[1m60/62\u001b[0m \u001b[32m━━━━━━━━━━━━━━━━━━━\u001b[0m\u001b[37m━\u001b[0m \u001b[1m0s\u001b[0m 11ms/step - loss: 2.6490e-04 - mae: 0.0128\n",
      "Epoch 20: loss improved from 0.00029 to 0.00029, saving model to results/lstm_time_series/model.keras\n",
      "\u001b[1m62/62\u001b[0m \u001b[32m━━━━━━━━━━━━━━━━━━━━\u001b[0m\u001b[37m\u001b[0m \u001b[1m1s\u001b[0m 12ms/step - loss: 2.6592e-04 - mae: 0.0128\n",
      "Epoch 21/500\n",
      "\u001b[1m62/62\u001b[0m \u001b[32m━━━━━━━━━━━━━━━━━━━━\u001b[0m\u001b[37m\u001b[0m \u001b[1m0s\u001b[0m 12ms/step - loss: 2.4178e-04 - mae: 0.0121\n",
      "Epoch 21: loss improved from 0.00029 to 0.00028, saving model to results/lstm_time_series/model.keras\n",
      "\u001b[1m62/62\u001b[0m \u001b[32m━━━━━━━━━━━━━━━━━━━━\u001b[0m\u001b[37m\u001b[0m \u001b[1m1s\u001b[0m 13ms/step - loss: 2.4241e-04 - mae: 0.0121\n",
      "Epoch 22/500\n",
      "\u001b[1m62/62\u001b[0m \u001b[32m━━━━━━━━━━━━━━━━━━━━\u001b[0m\u001b[37m\u001b[0m \u001b[1m0s\u001b[0m 13ms/step - loss: 2.5364e-04 - mae: 0.0124\n",
      "Epoch 22: loss improved from 0.00028 to 0.00028, saving model to results/lstm_time_series/model.keras\n",
      "\u001b[1m62/62\u001b[0m \u001b[32m━━━━━━━━━━━━━━━━━━━━\u001b[0m\u001b[37m\u001b[0m \u001b[1m1s\u001b[0m 13ms/step - loss: 2.5400e-04 - mae: 0.0124\n",
      "Epoch 23/500\n",
      "\u001b[1m62/62\u001b[0m \u001b[32m━━━━━━━━━━━━━━━━━━━━\u001b[0m\u001b[37m\u001b[0m \u001b[1m0s\u001b[0m 12ms/step - loss: 2.4131e-04 - mae: 0.0121\n",
      "Epoch 23: loss improved from 0.00028 to 0.00027, saving model to results/lstm_time_series/model.keras\n",
      "\u001b[1m62/62\u001b[0m \u001b[32m━━━━━━━━━━━━━━━━━━━━\u001b[0m\u001b[37m\u001b[0m \u001b[1m1s\u001b[0m 13ms/step - loss: 2.4175e-04 - mae: 0.0121\n",
      "Epoch 24/500\n",
      "\u001b[1m61/62\u001b[0m \u001b[32m━━━━━━━━━━━━━━━━━━━\u001b[0m\u001b[37m━\u001b[0m \u001b[1m0s\u001b[0m 13ms/step - loss: 2.4338e-04 - mae: 0.0121\n",
      "Epoch 24: loss improved from 0.00027 to 0.00026, saving model to results/lstm_time_series/model.keras\n",
      "\u001b[1m62/62\u001b[0m \u001b[32m━━━━━━━━━━━━━━━━━━━━\u001b[0m\u001b[37m\u001b[0m \u001b[1m1s\u001b[0m 14ms/step - loss: 2.4406e-04 - mae: 0.0122\n",
      "Epoch 25/500\n",
      "\u001b[1m61/62\u001b[0m \u001b[32m━━━━━━━━━━━━━━━━━━━\u001b[0m\u001b[37m━\u001b[0m \u001b[1m0s\u001b[0m 13ms/step - loss: 2.4306e-04 - mae: 0.0121\n",
      "Epoch 25: loss improved from 0.00026 to 0.00026, saving model to results/lstm_time_series/model.keras\n",
      "\u001b[1m62/62\u001b[0m \u001b[32m━━━━━━━━━━━━━━━━━━━━\u001b[0m\u001b[37m\u001b[0m \u001b[1m1s\u001b[0m 14ms/step - loss: 2.4365e-04 - mae: 0.0121\n",
      "Epoch 26/500\n",
      "\u001b[1m61/62\u001b[0m \u001b[32m━━━━━━━━━━━━━━━━━━━\u001b[0m\u001b[37m━\u001b[0m \u001b[1m0s\u001b[0m 12ms/step - loss: 2.4445e-04 - mae: 0.0122\n",
      "Epoch 26: loss improved from 0.00026 to 0.00026, saving model to results/lstm_time_series/model.keras\n",
      "\u001b[1m62/62\u001b[0m \u001b[32m━━━━━━━━━━━━━━━━━━━━\u001b[0m\u001b[37m\u001b[0m \u001b[1m1s\u001b[0m 13ms/step - loss: 2.4490e-04 - mae: 0.0122\n",
      "Epoch 27/500\n"
     ]
    },
    {
     "name": "stdout",
     "output_type": "stream",
     "text": [
      "\u001b[1m60/62\u001b[0m \u001b[32m━━━━━━━━━━━━━━━━━━━\u001b[0m\u001b[37m━\u001b[0m \u001b[1m0s\u001b[0m 12ms/step - loss: 2.4508e-04 - mae: 0.0122\n",
      "Epoch 27: loss improved from 0.00026 to 0.00026, saving model to results/lstm_time_series/model.keras\n",
      "\u001b[1m62/62\u001b[0m \u001b[32m━━━━━━━━━━━━━━━━━━━━\u001b[0m\u001b[37m\u001b[0m \u001b[1m1s\u001b[0m 13ms/step - loss: 2.4557e-04 - mae: 0.0122\n",
      "Epoch 28/500\n",
      "\u001b[1m60/62\u001b[0m \u001b[32m━━━━━━━━━━━━━━━━━━━\u001b[0m\u001b[37m━\u001b[0m \u001b[1m0s\u001b[0m 11ms/step - loss: 2.4584e-04 - mae: 0.0122\n",
      "Epoch 28: loss improved from 0.00026 to 0.00025, saving model to results/lstm_time_series/model.keras\n",
      "\u001b[1m62/62\u001b[0m \u001b[32m━━━━━━━━━━━━━━━━━━━━\u001b[0m\u001b[37m\u001b[0m \u001b[1m1s\u001b[0m 12ms/step - loss: 2.4619e-04 - mae: 0.0122\n",
      "Epoch 29/500\n",
      "\u001b[1m62/62\u001b[0m \u001b[32m━━━━━━━━━━━━━━━━━━━━\u001b[0m\u001b[37m\u001b[0m \u001b[1m0s\u001b[0m 15ms/step - loss: 2.4699e-04 - mae: 0.0122\n",
      "Epoch 29: loss improved from 0.00025 to 0.00025, saving model to results/lstm_time_series/model.keras\n",
      "\u001b[1m62/62\u001b[0m \u001b[32m━━━━━━━━━━━━━━━━━━━━\u001b[0m\u001b[37m\u001b[0m \u001b[1m1s\u001b[0m 15ms/step - loss: 2.4708e-04 - mae: 0.0122\n",
      "Epoch 30/500\n",
      "\u001b[1m61/62\u001b[0m \u001b[32m━━━━━━━━━━━━━━━━━━━\u001b[0m\u001b[37m━\u001b[0m \u001b[1m0s\u001b[0m 11ms/step - loss: 2.4834e-04 - mae: 0.0123\n",
      "Epoch 30: loss improved from 0.00025 to 0.00025, saving model to results/lstm_time_series/model.keras\n",
      "\u001b[1m62/62\u001b[0m \u001b[32m━━━━━━━━━━━━━━━━━━━━\u001b[0m\u001b[37m\u001b[0m \u001b[1m1s\u001b[0m 12ms/step - loss: 2.4843e-04 - mae: 0.0123\n",
      "Epoch 31/500\n",
      "\u001b[1m58/62\u001b[0m \u001b[32m━━━━━━━━━━━━━━━━━━\u001b[0m\u001b[37m━━\u001b[0m \u001b[1m0s\u001b[0m 13ms/step - loss: 2.5093e-04 - mae: 0.0124\n",
      "Epoch 31: loss improved from 0.00025 to 0.00025, saving model to results/lstm_time_series/model.keras\n",
      "\u001b[1m62/62\u001b[0m \u001b[32m━━━━━━━━━━━━━━━━━━━━\u001b[0m\u001b[37m\u001b[0m \u001b[1m1s\u001b[0m 14ms/step - loss: 2.5048e-04 - mae: 0.0123\n",
      "Epoch 32/500\n",
      "\u001b[1m58/62\u001b[0m \u001b[32m━━━━━━━━━━━━━━━━━━\u001b[0m\u001b[37m━━\u001b[0m \u001b[1m0s\u001b[0m 12ms/step - loss: 2.5385e-04 - mae: 0.0124\n",
      "Epoch 32: loss improved from 0.00025 to 0.00025, saving model to results/lstm_time_series/model.keras\n",
      "\u001b[1m62/62\u001b[0m \u001b[32m━━━━━━━━━━━━━━━━━━━━\u001b[0m\u001b[37m\u001b[0m \u001b[1m1s\u001b[0m 12ms/step - loss: 2.5316e-04 - mae: 0.0124\n",
      "Epoch 33/500\n",
      "\u001b[1m61/62\u001b[0m \u001b[32m━━━━━━━━━━━━━━━━━━━\u001b[0m\u001b[37m━\u001b[0m \u001b[1m0s\u001b[0m 14ms/step - loss: 2.5648e-04 - mae: 0.0125\n",
      "Epoch 33: loss did not improve from 0.00025\n",
      "\u001b[1m62/62\u001b[0m \u001b[32m━━━━━━━━━━━━━━━━━━━━\u001b[0m\u001b[37m\u001b[0m \u001b[1m1s\u001b[0m 15ms/step - loss: 2.5629e-04 - mae: 0.0125\n",
      "Epoch 34/500\n",
      "\u001b[1m61/62\u001b[0m \u001b[32m━━━━━━━━━━━━━━━━━━━\u001b[0m\u001b[37m━\u001b[0m \u001b[1m0s\u001b[0m 14ms/step - loss: 2.5998e-04 - mae: 0.0126\n",
      "Epoch 34: loss did not improve from 0.00025\n",
      "\u001b[1m62/62\u001b[0m \u001b[32m━━━━━━━━━━━━━━━━━━━━\u001b[0m\u001b[37m\u001b[0m \u001b[1m1s\u001b[0m 15ms/step - loss: 2.5969e-04 - mae: 0.0126\n",
      "Epoch 35/500\n",
      "\u001b[1m61/62\u001b[0m \u001b[32m━━━━━━━━━━━━━━━━━━━\u001b[0m\u001b[37m━\u001b[0m \u001b[1m0s\u001b[0m 11ms/step - loss: 2.6366e-04 - mae: 0.0127\n",
      "Epoch 35: loss did not improve from 0.00025\n",
      "\u001b[1m62/62\u001b[0m \u001b[32m━━━━━━━━━━━━━━━━━━━━\u001b[0m\u001b[37m\u001b[0m \u001b[1m1s\u001b[0m 12ms/step - loss: 2.6327e-04 - mae: 0.0127\n",
      "Epoch 36/500\n",
      "\u001b[1m58/62\u001b[0m \u001b[32m━━━━━━━━━━━━━━━━━━\u001b[0m\u001b[37m━━\u001b[0m \u001b[1m0s\u001b[0m 12ms/step - loss: 2.6878e-04 - mae: 0.0129\n",
      "Epoch 36: loss did not improve from 0.00025\n",
      "\u001b[1m62/62\u001b[0m \u001b[32m━━━━━━━━━━━━━━━━━━━━\u001b[0m\u001b[37m\u001b[0m \u001b[1m1s\u001b[0m 12ms/step - loss: 2.6707e-04 - mae: 0.0128\n",
      "Epoch 37/500\n",
      "\u001b[1m58/62\u001b[0m \u001b[32m━━━━━━━━━━━━━━━━━━\u001b[0m\u001b[37m━━\u001b[0m \u001b[1m0s\u001b[0m 13ms/step - loss: 2.7202e-04 - mae: 0.0129\n",
      "Epoch 37: loss did not improve from 0.00025\n",
      "\u001b[1m62/62\u001b[0m \u001b[32m━━━━━━━━━━━━━━━━━━━━\u001b[0m\u001b[37m\u001b[0m \u001b[1m1s\u001b[0m 13ms/step - loss: 2.7008e-04 - mae: 0.0129\n",
      "Epoch 38/500\n",
      "\u001b[1m61/62\u001b[0m \u001b[32m━━━━━━━━━━━━━━━━━━━\u001b[0m\u001b[37m━\u001b[0m \u001b[1m0s\u001b[0m 12ms/step - loss: 2.7322e-04 - mae: 0.0130\n",
      "Epoch 38: loss did not improve from 0.00025\n",
      "\u001b[1m62/62\u001b[0m \u001b[32m━━━━━━━━━━━━━━━━━━━━\u001b[0m\u001b[37m\u001b[0m \u001b[1m1s\u001b[0m 12ms/step - loss: 2.7255e-04 - mae: 0.0130\n",
      "Epoch 39/500\n",
      "\u001b[1m60/62\u001b[0m \u001b[32m━━━━━━━━━━━━━━━━━━━\u001b[0m\u001b[37m━\u001b[0m \u001b[1m0s\u001b[0m 12ms/step - loss: 2.7464e-04 - mae: 0.0130\n",
      "Epoch 39: loss did not improve from 0.00025\n",
      "\u001b[1m62/62\u001b[0m \u001b[32m━━━━━━━━━━━━━━━━━━━━\u001b[0m\u001b[37m\u001b[0m \u001b[1m1s\u001b[0m 13ms/step - loss: 2.7351e-04 - mae: 0.0130\n",
      "Epoch 40/500\n",
      "\u001b[1m58/62\u001b[0m \u001b[32m━━━━━━━━━━━━━━━━━━\u001b[0m\u001b[37m━━\u001b[0m \u001b[1m0s\u001b[0m 11ms/step - loss: 2.7592e-04 - mae: 0.0131\n",
      "Epoch 40: loss improved from 0.00025 to 0.00025, saving model to results/lstm_time_series/model.keras\n",
      "\u001b[1m62/62\u001b[0m \u001b[32m━━━━━━━━━━━━━━━━━━━━\u001b[0m\u001b[37m\u001b[0m \u001b[1m1s\u001b[0m 12ms/step - loss: 2.7356e-04 - mae: 0.0130\n",
      "Epoch 41/500\n",
      "\u001b[1m61/62\u001b[0m \u001b[32m━━━━━━━━━━━━━━━━━━━\u001b[0m\u001b[37m━\u001b[0m \u001b[1m0s\u001b[0m 12ms/step - loss: 2.7478e-04 - mae: 0.0130\n",
      "Epoch 41: loss improved from 0.00025 to 0.00025, saving model to results/lstm_time_series/model.keras\n",
      "\u001b[1m62/62\u001b[0m \u001b[32m━━━━━━━━━━━━━━━━━━━━\u001b[0m\u001b[37m\u001b[0m \u001b[1m1s\u001b[0m 13ms/step - loss: 2.7397e-04 - mae: 0.0130\n",
      "Epoch 42/500\n",
      "\u001b[1m61/62\u001b[0m \u001b[32m━━━━━━━━━━━━━━━━━━━\u001b[0m\u001b[37m━\u001b[0m \u001b[1m0s\u001b[0m 16ms/step - loss: 2.7368e-04 - mae: 0.0130\n",
      "Epoch 42: loss improved from 0.00025 to 0.00025, saving model to results/lstm_time_series/model.keras\n",
      "\u001b[1m62/62\u001b[0m \u001b[32m━━━━━━━━━━━━━━━━━━━━\u001b[0m\u001b[37m\u001b[0m \u001b[1m1s\u001b[0m 17ms/step - loss: 2.7286e-04 - mae: 0.0130\n",
      "Epoch 43/500\n",
      "\u001b[1m58/62\u001b[0m \u001b[32m━━━━━━━━━━━━━━━━━━\u001b[0m\u001b[37m━━\u001b[0m \u001b[1m0s\u001b[0m 14ms/step - loss: 2.7315e-04 - mae: 0.0130\n",
      "Epoch 43: loss improved from 0.00025 to 0.00025, saving model to results/lstm_time_series/model.keras\n",
      "\u001b[1m62/62\u001b[0m \u001b[32m━━━━━━━━━━━━━━━━━━━━\u001b[0m\u001b[37m\u001b[0m \u001b[1m1s\u001b[0m 15ms/step - loss: 2.7069e-04 - mae: 0.0129\n",
      "Epoch 44/500\n",
      "\u001b[1m58/62\u001b[0m \u001b[32m━━━━━━━━━━━━━━━━━━\u001b[0m\u001b[37m━━\u001b[0m \u001b[1m0s\u001b[0m 14ms/step - loss: 2.7112e-04 - mae: 0.0129\n",
      "Epoch 44: loss improved from 0.00025 to 0.00024, saving model to results/lstm_time_series/model.keras\n",
      "\u001b[1m62/62\u001b[0m \u001b[32m━━━━━━━━━━━━━━━━━━━━\u001b[0m\u001b[37m\u001b[0m \u001b[1m1s\u001b[0m 14ms/step - loss: 2.6870e-04 - mae: 0.0129\n",
      "Epoch 45/500\n",
      "\u001b[1m60/62\u001b[0m \u001b[32m━━━━━━━━━━━━━━━━━━━\u001b[0m\u001b[37m━\u001b[0m \u001b[1m0s\u001b[0m 13ms/step - loss: 2.6977e-04 - mae: 0.0129\n",
      "Epoch 45: loss improved from 0.00024 to 0.00024, saving model to results/lstm_time_series/model.keras\n",
      "\u001b[1m62/62\u001b[0m \u001b[32m━━━━━━━━━━━━━━━━━━━━\u001b[0m\u001b[37m\u001b[0m \u001b[1m1s\u001b[0m 14ms/step - loss: 2.6850e-04 - mae: 0.0129\n",
      "Epoch 46/500\n",
      "\u001b[1m62/62\u001b[0m \u001b[32m━━━━━━━━━━━━━━━━━━━━\u001b[0m\u001b[37m\u001b[0m \u001b[1m0s\u001b[0m 13ms/step - loss: 2.7107e-04 - mae: 0.0129\n",
      "Epoch 46: loss did not improve from 0.00024\n",
      "\u001b[1m62/62\u001b[0m \u001b[32m━━━━━━━━━━━━━━━━━━━━\u001b[0m\u001b[37m\u001b[0m \u001b[1m1s\u001b[0m 14ms/step - loss: 2.7064e-04 - mae: 0.0129\n",
      "Epoch 47/500\n",
      "\u001b[1m62/62\u001b[0m \u001b[32m━━━━━━━━━━━━━━━━━━━━\u001b[0m\u001b[37m\u001b[0m \u001b[1m0s\u001b[0m 12ms/step - loss: 2.7559e-04 - mae: 0.0131\n",
      "Epoch 47: loss did not improve from 0.00024\n",
      "\u001b[1m62/62\u001b[0m \u001b[32m━━━━━━━━━━━━━━━━━━━━\u001b[0m\u001b[37m\u001b[0m \u001b[1m1s\u001b[0m 13ms/step - loss: 2.7513e-04 - mae: 0.0130\n",
      "Epoch 48/500\n",
      "\u001b[1m62/62\u001b[0m \u001b[32m━━━━━━━━━━━━━━━━━━━━\u001b[0m\u001b[37m\u001b[0m \u001b[1m0s\u001b[0m 13ms/step - loss: 2.8256e-04 - mae: 0.0132\n",
      "Epoch 48: loss did not improve from 0.00024\n",
      "\u001b[1m62/62\u001b[0m \u001b[32m━━━━━━━━━━━━━━━━━━━━\u001b[0m\u001b[37m\u001b[0m \u001b[1m1s\u001b[0m 14ms/step - loss: 2.8204e-04 - mae: 0.0132\n",
      "Epoch 49/500\n",
      "\u001b[1m62/62\u001b[0m \u001b[32m━━━━━━━━━━━━━━━━━━━━\u001b[0m\u001b[37m\u001b[0m \u001b[1m0s\u001b[0m 13ms/step - loss: 2.9154e-04 - mae: 0.0135\n",
      "Epoch 49: loss did not improve from 0.00024\n",
      "\u001b[1m62/62\u001b[0m \u001b[32m━━━━━━━━━━━━━━━━━━━━\u001b[0m\u001b[37m\u001b[0m \u001b[1m1s\u001b[0m 14ms/step - loss: 2.9095e-04 - mae: 0.0135\n",
      "Epoch 50/500\n",
      "\u001b[1m62/62\u001b[0m \u001b[32m━━━━━━━━━━━━━━━━━━━━\u001b[0m\u001b[37m\u001b[0m \u001b[1m0s\u001b[0m 13ms/step - loss: 3.0430e-04 - mae: 0.0138\n",
      "Epoch 50: loss did not improve from 0.00024\n",
      "\u001b[1m62/62\u001b[0m \u001b[32m━━━━━━━━━━━━━━━━━━━━\u001b[0m\u001b[37m\u001b[0m \u001b[1m1s\u001b[0m 13ms/step - loss: 3.0363e-04 - mae: 0.0138\n",
      "Epoch 51/500\n",
      "\u001b[1m59/62\u001b[0m \u001b[32m━━━━━━━━━━━━━━━━━━━\u001b[0m\u001b[37m━\u001b[0m \u001b[1m0s\u001b[0m 13ms/step - loss: 3.2485e-04 - mae: 0.0143\n",
      "Epoch 51: loss did not improve from 0.00024\n",
      "\u001b[1m62/62\u001b[0m \u001b[32m━━━━━━━━━━━━━━━━━━━━\u001b[0m\u001b[37m\u001b[0m \u001b[1m1s\u001b[0m 14ms/step - loss: 3.2134e-04 - mae: 0.0142\n",
      "Epoch 52/500\n",
      "\u001b[1m61/62\u001b[0m \u001b[32m━━━━━━━━━━━━━━━━━━━\u001b[0m\u001b[37m━\u001b[0m \u001b[1m0s\u001b[0m 14ms/step - loss: 3.4663e-04 - mae: 0.0149\n",
      "Epoch 52: loss did not improve from 0.00024\n",
      "\u001b[1m62/62\u001b[0m \u001b[32m━━━━━━━━━━━━━━━━━━━━\u001b[0m\u001b[37m\u001b[0m \u001b[1m1s\u001b[0m 15ms/step - loss: 3.4483e-04 - mae: 0.0148\n",
      "Epoch 53/500\n",
      "\u001b[1m62/62\u001b[0m \u001b[32m━━━━━━━━━━━━━━━━━━━━\u001b[0m\u001b[37m\u001b[0m \u001b[1m0s\u001b[0m 13ms/step - loss: 3.8708e-04 - mae: 0.0158\n",
      "Epoch 53: loss did not improve from 0.00024\n",
      "\u001b[1m62/62\u001b[0m \u001b[32m━━━━━━━━━━━━━━━━━━━━\u001b[0m\u001b[37m\u001b[0m \u001b[1m1s\u001b[0m 13ms/step - loss: 3.8612e-04 - mae: 0.0158\n",
      "Epoch 54/500\n",
      "\u001b[1m61/62\u001b[0m \u001b[32m━━━━━━━━━━━━━━━━━━━\u001b[0m\u001b[37m━\u001b[0m \u001b[1m0s\u001b[0m 12ms/step - loss: 4.6691e-04 - mae: 0.0175\n",
      "Epoch 54: loss did not improve from 0.00024\n",
      "\u001b[1m62/62\u001b[0m \u001b[32m━━━━━━━━━━━━━━━━━━━━\u001b[0m\u001b[37m\u001b[0m \u001b[1m1s\u001b[0m 13ms/step - loss: 4.6512e-04 - mae: 0.0175\n"
     ]
    },
    {
     "name": "stdout",
     "output_type": "stream",
     "text": [
      "Epoch 55/500\n",
      "\u001b[1m57/62\u001b[0m \u001b[32m━━━━━━━━━━━━━━━━━━\u001b[0m\u001b[37m━━\u001b[0m \u001b[1m0s\u001b[0m 12ms/step - loss: 6.0190e-04 - mae: 0.0201\n",
      "Epoch 55: loss did not improve from 0.00024\n",
      "\u001b[1m62/62\u001b[0m \u001b[32m━━━━━━━━━━━━━━━━━━━━\u001b[0m\u001b[37m\u001b[0m \u001b[1m1s\u001b[0m 12ms/step - loss: 5.9649e-04 - mae: 0.0200\n",
      "Epoch 55: early stopping\n",
      "Restoring model weights from the end of the best epoch: 45.\n"
     ]
    }
   ],
   "source": [
    "# Model fitting\n",
    "history = model.fit(X_train, \n",
    "                    y_train, \n",
    "                    batch_size=64, \n",
    "                    epochs=500, \n",
    "                    verbose=1,\n",
    "                    callbacks=my_callbacks, \n",
    "                    shuffle=False)"
   ]
  },
  {
   "cell_type": "code",
   "execution_count": 49,
   "id": "babaaaf4-26c3-4636-8c44-43db50f81d63",
   "metadata": {},
   "outputs": [
    {
     "data": {
      "image/png": "[encoded data removed]",
      "text/plain": [
       "<Figure size 800x550 with 1 Axes>"
      ]
     },
     "metadata": {},
     "output_type": "display_data"
    }
   ],
   "source": [
    "# Plot training loss\n",
    "plt.plot(history.history['loss'])\n",
    "plt.title('Training Loss')\n",
    "plt.xlabel('Epoch')\n",
    "plt.ylabel('Loss');"
   ]
  },
  {
   "cell_type": "markdown",
   "id": "231ebd96-2903-43c8-a846-93c40e50d320",
   "metadata": {},
   "source": [
    "#### Evaluate model performance\n"
   ]
  },
  {
   "cell_type": "code",
   "execution_count": 54,
   "id": "bef64d84-7246-4d18-bbe6-a84ed221aa8a",
   "metadata": {},
   "outputs": [],
   "source": [
    "# %tensorboard --logdir logs"
   ]
  },
  {
   "cell_type": "code",
   "execution_count": 55,
   "id": "0b84292a-7464-4504-8a0c-69739aef2dd5",
   "metadata": {},
   "outputs": [],
   "source": [
    "# Create a basic model instance\n",
    "basemodel = create_model()"
   ]
  },
  {
   "cell_type": "code",
   "execution_count": 56,
   "id": "017786eb-2920-463c-9b0d-cdf7b61039e3",
   "metadata": {},
   "outputs": [
    {
     "name": "stdout",
     "output_type": "stream",
     "text": [
      "Untrained model, loss:  1.41\n"
     ]
    }
   ],
   "source": [
    "# Evaluate the model\n",
    "loss, acc = np.sqrt(basemodel.evaluate(X_test, y_test, verbose=0))\n",
    "print(\"Untrained model, loss: {:5.2f}\".format(loss))"
   ]
  },
  {
   "cell_type": "markdown",
   "id": "787d9f96",
   "metadata": {},
   "source": [
    "Then load the weights from the checkpoint and re-evaluate:"
   ]
  },
  {
   "cell_type": "code",
   "execution_count": 57,
   "id": "1e60f5e9-7933-4a39-aab2-e3ba1bebf011",
   "metadata": {},
   "outputs": [
    {
     "data": {
      "text/html": [
       "<pre style=\"white-space:pre;overflow-x:auto;line-height:normal;font-family:Menlo,'DejaVu Sans Mono',consolas,'Courier New',monospace\"><span style=\"font-weight: bold\">Model: \"functional_1\"</span>\n",
       "</pre>\n"
      ],
      "text/plain": [
       "\u001b[1mModel: \"functional_1\"\u001b[0m\n"
      ]
     },
     "metadata": {},
     "output_type": "display_data"
    },
    {
     "data": {
      "text/html": [
       "<pre style=\"white-space:pre;overflow-x:auto;line-height:normal;font-family:Menlo,'DejaVu Sans Mono',consolas,'Courier New',monospace\">┏━━━━━━━━━━━━━━━━━━━━━━━━━━━━━━━━━━━━━━┳━━━━━━━━━━━━━━━━━━━━━━━━━━━━━┳━━━━━━━━━━━━━━━━━┓\n",
       "┃<span style=\"font-weight: bold\"> Layer (type)                         </span>┃<span style=\"font-weight: bold\"> Output Shape                </span>┃<span style=\"font-weight: bold\">         Param # </span>┃\n",
       "┡━━━━━━━━━━━━━━━━━━━━━━━━━━━━━━━━━━━━━━╇━━━━━━━━━━━━━━━━━━━━━━━━━━━━━╇━━━━━━━━━━━━━━━━━┩\n",
       "│ input_layer (<span style=\"color: #0087ff; text-decoration-color: #0087ff\">InputLayer</span>)             │ (<span style=\"color: #00d7ff; text-decoration-color: #00d7ff\">None</span>, <span style=\"color: #00af00; text-decoration-color: #00af00\">60</span>, <span style=\"color: #00af00; text-decoration-color: #00af00\">1</span>)               │               <span style=\"color: #00af00; text-decoration-color: #00af00\">0</span> │\n",
       "├──────────────────────────────────────┼─────────────────────────────┼─────────────────┤\n",
       "│ LSTM (<span style=\"color: #0087ff; text-decoration-color: #0087ff\">LSTM</span>)                          │ (<span style=\"color: #00d7ff; text-decoration-color: #00d7ff\">None</span>, <span style=\"color: #00af00; text-decoration-color: #00af00\">10</span>)                  │             <span style=\"color: #00af00; text-decoration-color: #00af00\">480</span> │\n",
       "├──────────────────────────────────────┼─────────────────────────────┼─────────────────┤\n",
       "│ Output (<span style=\"color: #0087ff; text-decoration-color: #0087ff\">Dense</span>)                       │ (<span style=\"color: #00d7ff; text-decoration-color: #00d7ff\">None</span>, <span style=\"color: #00af00; text-decoration-color: #00af00\">1</span>)                   │              <span style=\"color: #00af00; text-decoration-color: #00af00\">11</span> │\n",
       "└──────────────────────────────────────┴─────────────────────────────┴─────────────────┘\n",
       "</pre>\n"
      ],
      "text/plain": [
       "┏━━━━━━━━━━━━━━━━━━━━━━━━━━━━━━━━━━━━━━┳━━━━━━━━━━━━━━━━━━━━━━━━━━━━━┳━━━━━━━━━━━━━━━━━┓\n",
       "┃\u001b[1m \u001b[0m\u001b[1mLayer (type)                        \u001b[0m\u001b[1m \u001b[0m┃\u001b[1m \u001b[0m\u001b[1mOutput Shape               \u001b[0m\u001b[1m \u001b[0m┃\u001b[1m \u001b[0m\u001b[1m        Param #\u001b[0m\u001b[1m \u001b[0m┃\n",
       "┡━━━━━━━━━━━━━━━━━━━━━━━━━━━━━━━━━━━━━━╇━━━━━━━━━━━━━━━━━━━━━━━━━━━━━╇━━━━━━━━━━━━━━━━━┩\n",
       "│ input_layer (\u001b[38;5;33mInputLayer\u001b[0m)             │ (\u001b[38;5;45mNone\u001b[0m, \u001b[38;5;34m60\u001b[0m, \u001b[38;5;34m1\u001b[0m)               │               \u001b[38;5;34m0\u001b[0m │\n",
       "├──────────────────────────────────────┼─────────────────────────────┼─────────────────┤\n",
       "│ LSTM (\u001b[38;5;33mLSTM\u001b[0m)                          │ (\u001b[38;5;45mNone\u001b[0m, \u001b[38;5;34m10\u001b[0m)                  │             \u001b[38;5;34m480\u001b[0m │\n",
       "├──────────────────────────────────────┼─────────────────────────────┼─────────────────┤\n",
       "│ Output (\u001b[38;5;33mDense\u001b[0m)                       │ (\u001b[38;5;45mNone\u001b[0m, \u001b[38;5;34m1\u001b[0m)                   │              \u001b[38;5;34m11\u001b[0m │\n",
       "└──────────────────────────────────────┴─────────────────────────────┴─────────────────┘\n"
      ]
     },
     "metadata": {},
     "output_type": "display_data"
    },
    {
     "data": {
      "text/html": [
       "<pre style=\"white-space:pre;overflow-x:auto;line-height:normal;font-family:Menlo,'DejaVu Sans Mono',consolas,'Courier New',monospace\"><span style=\"font-weight: bold\"> Total params: </span><span style=\"color: #00af00; text-decoration-color: #00af00\">1,475</span> (5.77 KB)\n",
       "</pre>\n"
      ],
      "text/plain": [
       "\u001b[1m Total params: \u001b[0m\u001b[38;5;34m1,475\u001b[0m (5.77 KB)\n"
      ]
     },
     "metadata": {},
     "output_type": "display_data"
    },
    {
     "data": {
      "text/html": [
       "<pre style=\"white-space:pre;overflow-x:auto;line-height:normal;font-family:Menlo,'DejaVu Sans Mono',consolas,'Courier New',monospace\"><span style=\"font-weight: bold\"> Trainable params: </span><span style=\"color: #00af00; text-decoration-color: #00af00\">491</span> (1.92 KB)\n",
       "</pre>\n"
      ],
      "text/plain": [
       "\u001b[1m Trainable params: \u001b[0m\u001b[38;5;34m491\u001b[0m (1.92 KB)\n"
      ]
     },
     "metadata": {},
     "output_type": "display_data"
    },
    {
     "data": {
      "text/html": [
       "<pre style=\"white-space:pre;overflow-x:auto;line-height:normal;font-family:Menlo,'DejaVu Sans Mono',consolas,'Courier New',monospace\"><span style=\"font-weight: bold\"> Non-trainable params: </span><span style=\"color: #00af00; text-decoration-color: #00af00\">0</span> (0.00 B)\n",
       "</pre>\n"
      ],
      "text/plain": [
       "\u001b[1m Non-trainable params: \u001b[0m\u001b[38;5;34m0\u001b[0m (0.00 B)\n"
      ]
     },
     "metadata": {},
     "output_type": "display_data"
    },
    {
     "data": {
      "text/html": [
       "<pre style=\"white-space:pre;overflow-x:auto;line-height:normal;font-family:Menlo,'DejaVu Sans Mono',consolas,'Courier New',monospace\"><span style=\"font-weight: bold\"> Optimizer params: </span><span style=\"color: #00af00; text-decoration-color: #00af00\">984</span> (3.85 KB)\n",
       "</pre>\n"
      ],
      "text/plain": [
       "\u001b[1m Optimizer params: \u001b[0m\u001b[38;5;34m984\u001b[0m (3.85 KB)\n"
      ]
     },
     "metadata": {},
     "output_type": "display_data"
    }
   ],
   "source": [
    "# Loads the weights\n",
    "new_model = tensorflow.keras.models.load_model('results/lstm_time_series/model.keras')\n",
    "\n",
    "# Show the model architecture\n",
    "new_model.summary()"
   ]
  },
  {
   "cell_type": "code",
   "execution_count": 58,
   "id": "6db8fd4f-6cc7-491f-a643-7207af611046",
   "metadata": {},
   "outputs": [
    {
     "name": "stdout",
     "output_type": "stream",
     "text": [
      "Restored model, loss:  0.06\n"
     ]
    }
   ],
   "source": [
    "# Re-evaluate the model\n",
    "loss, acc = np.sqrt(new_model.evaluate(X_test, y_test, verbose=0))\n",
    "print(\"Restored model, loss: {:5.2f}\".format(loss))"
   ]
  },
  {
   "cell_type": "code",
   "execution_count": 59,
   "id": "7e3f733c-9c01-41ed-a024-0ebf26b8aba6",
   "metadata": {},
   "outputs": [
    {
     "name": "stdout",
     "output_type": "stream",
     "text": [
      "Train RMSE: 0.4468 | Test RMSE: 1.4117\n"
     ]
    }
   ],
   "source": [
    "# calculate rmse of loss function of base model\n",
    "train_rmse_scaled = np.sqrt(basemodel.evaluate(X_train, y_train, verbose=0))\n",
    "test_rmse_scaled = np.sqrt(basemodel.evaluate(X_test, y_test, verbose=0))\n",
    "print(f'Train RMSE: {train_rmse_scaled[0]:.4f} | Test RMSE: {test_rmse_scaled[0]:.4f}')"
   ]
  },
  {
   "cell_type": "code",
   "execution_count": 60,
   "id": "567c0c7c-3a03-4347-aefe-770b92ab060f",
   "metadata": {},
   "outputs": [
    {
     "name": "stdout",
     "output_type": "stream",
     "text": [
      "Train RMSE: 0.0208 | Test RMSE: 0.0573\n"
     ]
    }
   ],
   "source": [
    "# calculate rmse of loss function of best model\n",
    "train_rmse_scaled = np.sqrt(new_model.evaluate(X_train, y_train, verbose=0))\n",
    "test_rmse_scaled = np.sqrt(new_model.evaluate(X_test, y_test, verbose=0))\n",
    "print(f'Train RMSE: {train_rmse_scaled[0]:.4f} | Test RMSE: {test_rmse_scaled[0]:.4f}')"
   ]
  },
  {
   "cell_type": "markdown",
   "id": "542f0806-0523-426c-bdaf-f9b6343a3520",
   "metadata": {},
   "source": [
    "##### Prediction\n"
   ]
  },
  {
   "cell_type": "code",
   "execution_count": 61,
   "id": "70f2062c-8a9b-477b-a0b0-87d20de45c32",
   "metadata": {},
   "outputs": [
    {
     "name": "stdout",
     "output_type": "stream",
     "text": [
      "\u001b[1m30/30\u001b[0m \u001b[32m━━━━━━━━━━━━━━━━━━━━\u001b[0m\u001b[37m\u001b[0m \u001b[1m0s\u001b[0m 11ms/step\n"
     ]
    }
   ],
   "source": [
    "# predictions\n",
    "y_pred = new_model.predict(X_test)"
   ]
  },
  {
   "cell_type": "code",
   "execution_count": 62,
   "id": "4c92619e-94fe-44e4-a582-9bcc351d37e2",
   "metadata": {},
   "outputs": [
    {
     "data": {
      "text/html": [
       "<div>\n",
       "<style scoped>\n",
       "    .dataframe tbody tr th:only-of-type {\n",
       "        vertical-align: middle;\n",
       "    }\n",
       "\n",
       "    .dataframe tbody tr th {\n",
       "        vertical-align: top;\n",
       "    }\n",
       "\n",
       "    .dataframe thead th {\n",
       "        text-align: right;\n",
       "    }\n",
       "</style>\n",
       "<table border=\"1\" class=\"dataframe\">\n",
       "  <thead>\n",
       "    <tr style=\"text-align: right;\">\n",
       "      <th></th>\n",
       "      <th>actual</th>\n",
       "      <th>prediction</th>\n",
       "      <th>spread</th>\n",
       "    </tr>\n",
       "    <tr>\n",
       "      <th>Date</th>\n",
       "      <th></th>\n",
       "      <th></th>\n",
       "      <th></th>\n",
       "    </tr>\n",
       "  </thead>\n",
       "  <tbody>\n",
       "    <tr>\n",
       "      <th>2016-03-30</th>\n",
       "      <td>190.409622</td>\n",
       "      <td>190.161392</td>\n",
       "      <td>-0.248230</td>\n",
       "    </tr>\n",
       "    <tr>\n",
       "      <th>2016-03-31</th>\n",
       "      <td>189.947510</td>\n",
       "      <td>190.593399</td>\n",
       "      <td>0.645889</td>\n",
       "    </tr>\n",
       "    <tr>\n",
       "      <th>2016-04-01</th>\n",
       "      <td>191.241440</td>\n",
       "      <td>190.854630</td>\n",
       "      <td>-0.386810</td>\n",
       "    </tr>\n",
       "    <tr>\n",
       "      <th>2016-04-04</th>\n",
       "      <td>190.622208</td>\n",
       "      <td>191.307632</td>\n",
       "      <td>0.685425</td>\n",
       "    </tr>\n",
       "    <tr>\n",
       "      <th>2016-04-05</th>\n",
       "      <td>188.718277</td>\n",
       "      <td>191.560165</td>\n",
       "      <td>2.841888</td>\n",
       "    </tr>\n",
       "    <tr>\n",
       "      <th>...</th>\n",
       "      <td>...</td>\n",
       "      <td>...</td>\n",
       "      <td>...</td>\n",
       "    </tr>\n",
       "    <tr>\n",
       "      <th>2019-12-24</th>\n",
       "      <td>319.352142</td>\n",
       "      <td>328.391663</td>\n",
       "      <td>9.039520</td>\n",
       "    </tr>\n",
       "    <tr>\n",
       "      <th>2019-12-26</th>\n",
       "      <td>321.052124</td>\n",
       "      <td>329.611328</td>\n",
       "      <td>8.559204</td>\n",
       "    </tr>\n",
       "    <tr>\n",
       "      <th>2019-12-27</th>\n",
       "      <td>320.972565</td>\n",
       "      <td>331.108521</td>\n",
       "      <td>10.135956</td>\n",
       "    </tr>\n",
       "    <tr>\n",
       "      <th>2019-12-30</th>\n",
       "      <td>319.202972</td>\n",
       "      <td>332.410522</td>\n",
       "      <td>13.207550</td>\n",
       "    </tr>\n",
       "    <tr>\n",
       "      <th>2019-12-31</th>\n",
       "      <td>319.978424</td>\n",
       "      <td>333.021729</td>\n",
       "      <td>13.043304</td>\n",
       "    </tr>\n",
       "  </tbody>\n",
       "</table>\n",
       "<p>947 rows × 3 columns</p>\n",
       "</div>"
      ],
      "text/plain": [
       "                actual  prediction     spread\n",
       "Date                                         \n",
       "2016-03-30  190.409622  190.161392  -0.248230\n",
       "2016-03-31  189.947510  190.593399   0.645889\n",
       "2016-04-01  191.241440  190.854630  -0.386810\n",
       "2016-04-04  190.622208  191.307632   0.685425\n",
       "2016-04-05  188.718277  191.560165   2.841888\n",
       "...                ...         ...        ...\n",
       "2019-12-24  319.352142  328.391663   9.039520\n",
       "2019-12-26  321.052124  329.611328   8.559204\n",
       "2019-12-27  320.972565  331.108521  10.135956\n",
       "2019-12-30  319.202972  332.410522  13.207550\n",
       "2019-12-31  319.978424  333.021729  13.043304\n",
       "\n",
       "[947 rows x 3 columns]"
      ]
     },
     "execution_count": 62,
     "metadata": {},
     "output_type": "execute_result"
    }
   ],
   "source": [
    "df = pd.DataFrame({\n",
    "    'actual': scaler.inverse_transform(y_test).flatten(),\n",
    "    'prediction': scaler.inverse_transform(y_pred).flatten()}, \n",
    "    index = test_data[lookback:].index)\n",
    "\n",
    "df['spread'] = df['prediction'] - df['actual']\n",
    "df"
   ]
  },
  {
   "cell_type": "code",
   "execution_count": 63,
   "id": "36e02e5c-d96e-4f0c-b649-2460a181c5a1",
   "metadata": {},
   "outputs": [
    {
     "name": "stdout",
     "output_type": "stream",
     "text": [
      "R-square: 0.9452\n"
     ]
    }
   ],
   "source": [
    "print(f'R-square: {r2_score(df.actual, df.prediction):0.4}')"
   ]
  },
  {
   "cell_type": "markdown",
   "id": "a6a91db9-112a-41a1-ac12-e9d1058c8e5a",
   "metadata": {},
   "source": [
    "##### Plot results\n"
   ]
  },
  {
   "cell_type": "code",
   "execution_count": 64,
   "id": "b6d0dd54-7d07-46d5-860c-30a37cef8794",
   "metadata": {},
   "outputs": [
    {
     "data": {
      "image/png": "[encoded data removed]",
      "text/plain": [
       "<Figure size 2000x600 with 2 Axes>"
      ]
     },
     "metadata": {},
     "output_type": "display_data"
    }
   ],
   "source": [
    "fig, ax = plt.subplots(nrows=1, ncols=2, figsize=(20,6))\n",
    "\n",
    "ax[0].plot(df.actual, color='red', label='actual')\n",
    "ax[0].plot(df.prediction, color='blue', label='prediction')\n",
    "ax[1].hist(df.spread, bins=50, density=True, label='spread')\n",
    "\n",
    "ax[0].legend()\n",
    "ax[1].legend()\n",
    "\n",
    "plt.suptitle('SPY LSTM Prediction');"
   ]
  },
  {
   "cell_type": "markdown",
   "id": "bf3b2bda-82f0-4bef-92eb-341ff045a4d4",
   "metadata": {},
   "source": [
    "##  References"
   ]
  },
  {
   "cell_type": "markdown",
   "id": "db07540b-7af4-46dd-a5fd-7f684b2da306",
   "metadata": {},
   "source": [
    "[1] Andrej Karpathy (2015), The Unreasonable Effectiveness of Recurrent Neural Networks\n",
    "\n",
    "[2] Kannan Singaravelu (2022), Introduction to Deep Learning & Neural Networks, Lecture Slide #84\n",
    "\n",
    "[3] [Keras API](https://keras.io/)\n",
    "\n",
    "[4] [TensorFlow API](https://www.tensorflow.org/)\n",
    "\n",
    "[5] [Scikit-Learn Preprocessing](https://scikit-learn.org/stable/modules/generated/sklearn.preprocessing.MinMaxScaler.html)\n",
    "\n",
    "[6] Francois Chollet (2019), Deep Learning with Python\n",
    "\n",
    "[7] Stefan Jansen (2020), Machine Learning for Algorithmic Trading\n",
    "\n",
    "[8] Yves Hilpisch (2020), Artificial Intelligence in Finance"
   ]
  }
 ],
 "metadata": {
  "kernelspec": {
   "display_name": "Python 3 (ipykernel)",
   "language": "python",
   "name": "python3"
  },
  "language_info": {
   "codemirror_mode": {
    "name": "ipython",
    "version": 3
   },
   "file_extension": ".py",
   "mimetype": "text/x-python",
   "name": "python",
   "nbconvert_exporter": "python",
   "pygments_lexer": "ipython3",
   "version": "3.11.5"
  }
 },
 "nbformat": 4,
 "nbformat_minor": 5
}
