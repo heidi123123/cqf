{
 "cells": [
  {
   "cell_type": "markdown",
   "id": "b0c28415-8ac3-4b9d-a4cf-3f2945471d3f",
   "metadata": {},
   "source": [
    "<div style=\"font-family: Arial; text-align: center;\">\n",
    "\n",
    "## Extreme Gradient Boosting\n",
    "#### Kannan Singaravelu, CQF"
   ]
  },
  {
   "cell_type": "markdown",
   "id": "2333e8d4-3860-47a4-8550-b4227868e72d",
   "metadata": {},
   "source": [
    "## 1 Tree Based Models"
   ]
  },
  {
   "cell_type": "markdown",
   "id": "cfc1c90e-45f3-445b-a93f-83976478e784",
   "metadata": {},
   "source": [
    "Tree based models such as decision trees are a class of machine learning models that are used\n",
    "for both classification and regression. The model is essentially a series of binary questions, where\n",
    "the trained models resemble a tree, with branches and nodes that contains all the combination of\n",
    "responses. Tree based models are explicability models and are easy to understand and explain."
   ]
  },
  {
   "cell_type": "markdown",
   "id": "1678b8b0-0b03-4a03-97ce-777d61d7f5bf",
   "metadata": {},
   "source": [
    "## 2 Ensemble models"
   ]
  },
  {
   "cell_type": "markdown",
   "id": "8cf18b12-4bca-4ecc-b90b-a6639ed8732b",
   "metadata": {},
   "source": [
    "Ensemble models are machine learning models that use more than one predictor to arrive at a\n",
    "prediction. A group of predictors form an ensemble. In general, ensemble models perform better\n",
    "than using a single predictor (model) with improved efficiency and accuracy"
   ]
  },
  {
   "cell_type": "markdown",
   "id": "b95a64de-d296-413e-bcf0-bb3386beff3b",
   "metadata": {},
   "source": [
    "Ensemble learning can be classified as\n",
    "* Bagging ensemble learning also referred as parallel ensemble\n",
    "* Boosting ensemble learning also referred as sequential ensemble"
   ]
  },
  {
   "cell_type": "markdown",
   "id": "eaca0cde-0ea2-44ff-9d0c-c4f134a20079",
   "metadata": {},
   "source": [
    "### 2.1 Bagging"
   ]
  },
  {
   "cell_type": "markdown",
   "id": "cacbba49-bc92-4b20-a259-6a500f65050d",
   "metadata": {},
   "source": [
    "A tree based model that aggregates the predictions of multiple trees is a Random Forest model. For\n",
    "it to be effective, the model needs a diverse collection of trees. Random Forest uses bootstrapping\n",
    "and aggregate results to perform operation and is also referred to a***s bagging ensemble mod***el."
   ]
  },
  {
   "cell_type": "markdown",
   "id": "e92afbb6-745e-4509-bc90-53f1144c485d",
   "metadata": {},
   "source": [
    "### 2.2 Boosting"
   ]
  },
  {
   "cell_type": "markdown",
   "id": "0269bbc2-d629-4b6a-85b1-ac1fb4cb000a",
   "metadata": {},
   "source": [
    "Boosting is a process that uses a set of Machine Learning algorithms to combine weak learner to\n",
    "form strong learners in order to increase the accuracy of the model. The basic principle behind the\n",
    "working of boosting algorithms is to generate multiple weak learners and combine their predictions\n",
    "to form one strong rule."
   ]
  },
  {
   "cell_type": "markdown",
   "id": "c865f6e8-d4a6-45bf-b8f3-85f8d188bac8",
   "metadata": {},
   "source": [
    "***Step 1***: The base algorithm reads the data and assigns equal weight to each sample observation"
   ]
  },
  {
   "cell_type": "markdown",
   "id": "8218ba13-364e-49ce-b8a3-d351f93cb053",
   "metadata": {},
   "source": [
    "***Step 2***: False predictions are assigned to the next base learner with a higher weightage on these\n",
    "incorrect predictions (increase the weightage on the misclassified samples)"
   ]
  },
  {
   "cell_type": "markdown",
   "id": "aa2f65e6-0825-4203-9dbe-c7df540c9eaf",
   "metadata": {},
   "source": [
    "***Step 3***: Repeat step2 until the algo can correctly classify the output"
   ]
  },
  {
   "cell_type": "markdown",
   "id": "84141793-661a-4b66-b200-6a5a47f6b210",
   "metadata": {},
   "source": [
    "<center><img src=\"JAP11_Gradient_Boosting_for_Price_Prediction.png\"/></center>"
   ]
  },
  {
   "cell_type": "markdown",
   "id": "7d0455ac-f66e-4baa-a4bd-13d10dffe811",
   "metadata": {},
   "source": [
    "## 3 Gradient Boosting"
   ]
  },
  {
   "cell_type": "markdown",
   "id": "1aa74643-7e5c-45bd-aec1-150cc9558bfb",
   "metadata": {},
   "source": [
    "Gradient boosting trees are another ensemble model where tree models are arranged in a sequence.\n",
    "The model is built sequentially as each additional tree aims to correct the previously built model’s\n",
    "predictions. A model with M trees is equal to"
   ]
  },
  {
   "cell_type": "markdown",
   "id": "1ba1d0ae-b2c0-4e32-9078-5572e6d39de8",
   "metadata": {},
   "source": [
    "$$\n",
    "f_M(x_j) = \\sum_{m=1}^M \\gamma_m h_m(x_j),\n",
    "$$\n"
   ]
  },
  {
   "cell_type": "markdown",
   "id": "a5be66f2-96e5-477d-aa1b-30898f1c8640",
   "metadata": {},
   "source": [
    "where hm is a ***weak learner*** decision tree."
   ]
  },
  {
   "cell_type": "markdown",
   "id": "b56c7fc6-b116-4b5b-98fa-f784655b5578",
   "metadata": {},
   "source": [
    "***Additive Training*** : It is quite difficult to learn all the trees at once and we use an additive\n",
    "strategy which is fixing what it learned till last time step (tree) and add one new tree at a time.\n",
    "Then, we can write the prediction at step t as ˜ yi\n",
    "(t). Then, we have"
   ]
  },
  {
   "cell_type": "markdown",
   "id": "e78192ef-ac91-4059-9ecd-76f41678c937",
   "metadata": {},
   "source": [
    "f_0(x_j) = h_0(x_j)\n",
    "\n",
    "f_1(x_j) = f_0(x_j) + γ_1 h_1(x_j)\n",
    "\n",
    "f_2(x_j) = f_1(x_j) + γ_2 h_2(x_j)\n",
    "\n",
    "...\n",
    "\n",
    "f_M(x_j) = f_{M-1}(x_j) + γ_M h_M(x_j)\n"
   ]
  },
  {
   "cell_type": "markdown",
   "id": "0faf686b-399d-4e60-9408-d74e99b829aa",
   "metadata": {},
   "source": [
    "where m is the number of trees, f is a function in the functional space F."
   ]
  },
  {
   "cell_type": "markdown",
   "id": "a7d29df9-4ed8-48b2-98a2-78931fc22412",
   "metadata": {},
   "source": [
    "In random forest, diversification is achieved through many trees that will possibly improve the\n",
    "overall quality of the model. Gradient boosing algorithm combine multiple weak learners to form a\n",
    "strong learner."
   ]
  },
  {
   "cell_type": "markdown",
   "id": "6fafecb9-f974-42ad-9d51-6e461161a60b",
   "metadata": {},
   "source": [
    "The model is usually initialized with h0 being equal to the mean of the training labels for regression\n",
    "or the majority class for classification. γm is a factor that scales the contribution of a tree to the\n",
    "overall model. The model is then trained iteratively for hm by selecting γm that minimizes the loss\n",
    "function L(y, fm). This is repeated until the model includes all M trees."
   ]
  },
  {
   "cell_type": "markdown",
   "id": "726fba68-e8a5-40fa-b7b9-6ebe4473731f",
   "metadata": {},
   "source": [
    "The two most popular gradiant boosting algorithms are\n",
    "\n",
    "* Adaboost: Improves the learning process by focusing on the instances that yield the largest\n",
    "errors.\n",
    "\n",
    "* XGBboost: Flexible algorithm in which each new tree is only focused on the minimization of\n",
    "the training sample loss."
   ]
  },
  {
   "cell_type": "markdown",
   "id": "f5f9e2c6-cddb-4305-93db-a74e15f8266f",
   "metadata": {},
   "source": [
    "## 4 XGBoost"
   ]
  },
  {
   "cell_type": "markdown",
   "id": "d4059cae-d1ca-4c9e-ae39-08f07439fb6b",
   "metadata": {},
   "source": [
    "Tree boosting is highly effective and widely used machine learning method. XGBoost stands for\n",
    "“Extreme Gradient Boosting”, where the term “Gradient Boosting” originates from the paper Greedy\n",
    "Function Approximation: A Gradient Boosting Machine, by Friedman."
   ]
  },
  {
   "cell_type": "markdown",
   "id": "fb55ccee-e06d-440c-826d-ec0c234e0769",
   "metadata": {},
   "source": [
    "XGBoost, which is used widely by data scientists to achieve state-of-the-art results on many machine\n",
    "learning challenges. XGBoost initially started as a research project by Tianqi Chen as part of the\n",
    "Distributed (Deep) Machine Learning Community (DMLC) group. Initially, it began as a terminal\n",
    "application which could be configured using a libsvm configuration file."
   ]
  },
  {
   "cell_type": "markdown",
   "id": "fdfb3533-0f6c-43d9-8fce-7e29dd204b20",
   "metadata": {},
   "source": [
    "XGBoost was designed to be used with large, complicated datasets and is one of the most popular\n",
    "machine learning algorithm to deal with structured data. It is an advance version of gradient\n",
    "boosting method that is designed to focus on computational speed and model efficiency. XGBoost\n",
    "is preferred over other tree based model as it supports"
   ]
  },
  {
   "cell_type": "markdown",
   "id": "949e6972-3fb1-4081-ac54-40a0628db85b",
   "metadata": {},
   "source": [
    "* Parallelization\n",
    "* Distributed computing methods\n",
    "* Out-of-core computing\n",
    "* Cache optimization"
   ]
  },
  {
   "cell_type": "markdown",
   "id": "58577cc0-248d-4690-a024-9a13f2bd7511",
   "metadata": {},
   "source": [
    "The algorithm is highly customizable and accurate in its predictions as it seeks to minimise the\n",
    "objective function"
   ]
  },
  {
   "cell_type": "markdown",
   "id": "082048ce-657c-45c4-b3f1-7ce8d67a5edb",
   "metadata": {},
   "source": [
    "$$\n",
    "\\text{Obj}^{(t)} = \\underbrace{\\sum_{i=1}^n l(y_i, \\tilde{y}_i^{(t)})}_{\\text{training loss}} + \\underbrace{\\sum_{i=1}^t \\Omega(f_i)}_{\\text{regularisation term}}\n",
    "$$\n",
    "\n",
    "$$\n",
    "\\text{Obj}^{(t)} = \\sum_{i=1}^n l(y_i, \\tilde{y}_i^{(t-1)}) + f_t(x_i) + \\sum_{i=1}^t \\Omega(f_)\n",
    "$$\n"
   ]
  },
  {
   "cell_type": "markdown",
   "id": "f45db5b9-1881-431d-8157-58912670cc48",
   "metadata": {},
   "source": [
    "The first term (over all instances) measures the distance between the true label and the output from\n",
    "the model while the second term (over all trees) penalises models that are too complex. Optimising\n",
    "loss tend to create more complex models while optimizing regularisation tends to generalise simplier\n",
    "models."
   ]
  },
  {
   "cell_type": "markdown",
   "id": "3e5c415d-c09f-44ef-b119-cd4e497f1ea6",
   "metadata": {},
   "source": [
    "In XGBoost, we define the complexity as"
   ]
  },
  {
   "cell_type": "markdown",
   "id": "00b62cb9-dee6-4b72-b06c-6c5d68c9598f",
   "metadata": {},
   "source": [
    "$$\n",
    "\\Omega(f) = \\gamma T + \\frac{1}{2} \\lambda w_j^2\n",
    "$$"
   ]
  },
  {
   "cell_type": "markdown",
   "id": "41eb70b0-3f6e-4233-a6d6-2b165c81a969",
   "metadata": {},
   "source": [
    "where,\n",
    "* T is the number of terminal nodes, or leaves in a tree\n",
    "* γ and λ are regularisation terms which is a user definable penalty for pruning > gamma:\n",
    "minimum loss reduction required to make a further partition on a leaf node of the tree. Large\n",
    "gamma will lead to more conservative algorithm. > lambda: L2 regularization term on weights.\n",
    "Increasing this value will make model more conservative. Normalised to number of training\n",
    "examples.\n",
    "* wj\n",
    "2 is the score of each leaf"
   ]
  },
  {
   "cell_type": "markdown",
   "id": "64124625-676f-4239-b0fb-afee5f29ed16",
   "metadata": {},
   "source": [
    "While metrics for regression is straight forward, it can be complex for classification (logistic loss)\n",
    "where we use Taylor expansion of the loss function up to the second order. After removing all the\n",
    "constants, the specific objective (function) at step t becomes"
   ]
  },
  {
   "cell_type": "markdown",
   "id": "2a2ebed0-b752-4669-893f-436ea88c5484",
   "metadata": {},
   "source": [
    "$$\n",
    "\\sum_{i=1}^n \\left[ g_i f_t(x_i) + \\frac{1}{2} h_{i,t} f_t^2(x_i) \\right] + \\Omega(f_t)\n",
    "$$\n"
   ]
  },
  {
   "cell_type": "markdown",
   "id": "f99d3d7f-02cc-46e8-8020-5bdeb68d4986",
   "metadata": {},
   "source": [
    "where the gi and hi are defined as"
   ]
  },
  {
   "cell_type": "markdown",
   "id": "cdd76de0-5c5b-43c0-ba5a-042bf5e2d62a",
   "metadata": {},
   "source": [
    "$$\n",
    "g_i = \\frac{\\partial}{\\partial y_i} l(y_i, \\tilde{y}_i^{(t-1)}) \\quad \\text{and} \\quad h_i = \\frac{\\partial^2}{\\partial y_i^2} l(y_i, \\tilde{y}_i^{(t-1)})\n",
    "$$\n"
   ]
  },
  {
   "cell_type": "markdown",
   "id": "faf5597e-10d2-4322-8fb4-ab0b09b48a75",
   "metadata": {},
   "source": [
    "Refer [here](https://xgboost.readthedocs.io/en/latest/tutorials/model.html) for further details."
   ]
  },
  {
   "cell_type": "markdown",
   "id": "ba200bf9-f54f-4e32-8590-039634731822",
   "metadata": {},
   "source": [
    "Manipulating the above formulation for classification, the leaf output is given as"
   ]
  },
  {
   "cell_type": "markdown",
   "id": "71fe6e7f-6a9c-416b-af03-059d342ef6dd",
   "metadata": {},
   "source": [
    "$$\n",
    "\\frac{\\sum R_i}{\\sum (P_i \\cdot (1 - P_i)) + \\lambda}\n",
    "$$\n"
   ]
  },
  {
   "cell_type": "markdown",
   "id": "64614bc9-db8c-4168-a918-b22512cd62c6",
   "metadata": {},
   "source": [
    "where, R is the residual; Pi is the previous probability; λ is the regularization parameter."
   ]
  },
  {
   "cell_type": "markdown",
   "id": "8473edf9-ac66-4fdf-bff2-dbcef06040bf",
   "metadata": {},
   "source": [
    "## 5 Implementation"
   ]
  },
  {
   "cell_type": "markdown",
   "id": "4b6a2412-cc3a-4147-bc29-e2c7f531d1f9",
   "metadata": {},
   "source": [
    "We will use XGBClassifier from XGBoost library to predict future prices of the security by creating\n",
    "a custom list of features from the raw price series."
   ]
  },
  {
   "cell_type": "markdown",
   "id": "5f86e5e4-ad53-42c4-906c-36b9ce609148",
   "metadata": {},
   "source": [
    "***Import Libraries***"
   ]
  },
  {
   "cell_type": "code",
   "execution_count": 2,
   "id": "20bde78c-675d-4dcc-8957-b858cf3e154d",
   "metadata": {},
   "outputs": [],
   "source": [
    "# Ignore warnings\n",
    "import warnings\n",
    "warnings.filterwarnings('ignore')\n",
    "warnings.simplefilter(action='ignore', category=FutureWarning)\n",
    "\n",
    "# Data manipulation\n",
    "import pandas as pd\n",
    "import numpy as np\n",
    "\n",
    "# Plotting\n",
    "import matplotlib.pyplot as plt\n",
    "import seaborn as sns\n",
    "# plt.rcParams['figure.figsize'] = (20,10)\n",
    "# plt.style.use('fivethirtyeight')\n",
    "\n",
    "#Preprocessing\n",
    "from sklearn.preprocessing import MinMaxScaler\n",
    "from sklearn.pipeline import Pipeline\n",
    "from sklearn.model_selection import (\n",
    "train_test_split,\n",
    "RandomizedSearchCV,\n",
    "TimeSeriesSplit,\n",
    "cross_val_score\n",
    ")\n",
    "\n",
    "# Classifier\n",
    "from xgboost import XGBClassifier, plot_importance, to_graphviz\n",
    "\n",
    "# metrics\n",
    "from sklearn.metrics import (precision_recall_curve,\n",
    "roc_curve,\n",
    "RocCurveDisplay,\n",
    "ConfusionMatrixDisplay\n",
    ")\n",
    "\n",
    "from sklearn.metrics import (accuracy_score,\n",
    "f1_score,\n",
    "recall_score,\n",
    "precision_score,\n",
    "roc_auc_score,\n",
    "auc\n",
    ")\n",
    "\n",
    "\n",
    "from sklearn.metrics import (classification_report,\n",
    "confusion_matrix\n",
    ")"
   ]
  },
  {
   "cell_type": "markdown",
   "id": "1a65a1d4-360b-4e46-bf27-73132fd6fd6f",
   "metadata": {},
   "source": [
    "### 5.1 Retrieve Data"
   ]
  },
  {
   "cell_type": "markdown",
   "id": "9571d19b-73c1-4d54-b5f2-61bbb9cedca6",
   "metadata": {},
   "source": [
    "We will retrieve the adjusted closed price of SPY from locally stored data."
   ]
  },
  {
   "cell_type": "code",
   "execution_count": 3,
   "id": "0c90cc89-a33a-44e8-8472-12e732f6fc4b",
   "metadata": {},
   "outputs": [
    {
     "data": {
      "text/html": [
       "<div>\n",
       "<style scoped>\n",
       "    .dataframe tbody tr th:only-of-type {\n",
       "        vertical-align: middle;\n",
       "    }\n",
       "\n",
       "    .dataframe tbody tr th {\n",
       "        vertical-align: top;\n",
       "    }\n",
       "\n",
       "    .dataframe thead th {\n",
       "        text-align: right;\n",
       "    }\n",
       "</style>\n",
       "<table border=\"1\" class=\"dataframe\">\n",
       "  <thead>\n",
       "    <tr style=\"text-align: right;\">\n",
       "      <th></th>\n",
       "      <th>Adj Close</th>\n",
       "      <th>Returns</th>\n",
       "      <th>Ret_1M</th>\n",
       "    </tr>\n",
       "    <tr>\n",
       "      <th>Date</th>\n",
       "      <th></th>\n",
       "      <th></th>\n",
       "      <th></th>\n",
       "    </tr>\n",
       "  </thead>\n",
       "  <tbody>\n",
       "    <tr>\n",
       "      <th>1999-12-31</th>\n",
       "      <td>100.376900</td>\n",
       "      <td>NaN</td>\n",
       "      <td>NaN</td>\n",
       "    </tr>\n",
       "    <tr>\n",
       "      <th>2000-01-03</th>\n",
       "      <td>99.394493</td>\n",
       "      <td>-0.009835</td>\n",
       "      <td>NaN</td>\n",
       "    </tr>\n",
       "    <tr>\n",
       "      <th>2000-01-04</th>\n",
       "      <td>95.507530</td>\n",
       "      <td>-0.039892</td>\n",
       "      <td>NaN</td>\n",
       "    </tr>\n",
       "    <tr>\n",
       "      <th>2000-01-05</th>\n",
       "      <td>95.678391</td>\n",
       "      <td>0.001787</td>\n",
       "      <td>NaN</td>\n",
       "    </tr>\n",
       "    <tr>\n",
       "      <th>2000-01-06</th>\n",
       "      <td>94.140717</td>\n",
       "      <td>-0.016202</td>\n",
       "      <td>NaN</td>\n",
       "    </tr>\n",
       "  </tbody>\n",
       "</table>\n",
       "</div>"
      ],
      "text/plain": [
       "             Adj Close   Returns  Ret_1M\n",
       "Date                                    \n",
       "1999-12-31  100.376900       NaN     NaN\n",
       "2000-01-03   99.394493 -0.009835     NaN\n",
       "2000-01-04   95.507530 -0.039892     NaN\n",
       "2000-01-05   95.678391  0.001787     NaN\n",
       "2000-01-06   94.140717 -0.016202     NaN"
      ]
     },
     "execution_count": 3,
     "metadata": {},
     "output_type": "execute_result"
    }
   ],
   "source": [
    "# Load file\n",
    "# file_path = '/Users/roshan/Library/CloudStorage/GoogleDrive-<email>/My Drive/2023/cqf/data/spy.csv'\n",
    "df = pd.read_csv('https://raw.githubusercontent.com/kannansingaravelu/datasets/main/spy.csv', index_col=0, parse_dates=True)[['Adj Close']]\n",
    "# Calculate returns\n",
    "df['Returns'] = np.log(df).diff()\n",
    "df['Ret_1M'] = df['Returns'].rolling(20).sum()\n",
    "# Output first five values\n",
    "df.head()"
   ]
  },
  {
   "cell_type": "markdown",
   "id": "bf5c0e3b-b5bc-4fe0-adf1-b801d7e93499",
   "metadata": {},
   "source": [
    "### 5.2 EDA of Original dataset"
   ]
  },
  {
   "cell_type": "code",
   "execution_count": 4,
   "id": "f2b8965b-dbdf-4686-ba18-8bea7c06c205",
   "metadata": {},
   "outputs": [
    {
     "data": {
      "text/html": [
       "<div>\n",
       "<style scoped>\n",
       "    .dataframe tbody tr th:only-of-type {\n",
       "        vertical-align: middle;\n",
       "    }\n",
       "\n",
       "    .dataframe tbody tr th {\n",
       "        vertical-align: top;\n",
       "    }\n",
       "\n",
       "    .dataframe thead th {\n",
       "        text-align: right;\n",
       "    }\n",
       "</style>\n",
       "<table border=\"1\" class=\"dataframe\">\n",
       "  <thead>\n",
       "    <tr style=\"text-align: right;\">\n",
       "      <th></th>\n",
       "      <th>Adj Close</th>\n",
       "      <th>Returns</th>\n",
       "      <th>Ret_1M</th>\n",
       "    </tr>\n",
       "  </thead>\n",
       "  <tbody>\n",
       "    <tr>\n",
       "      <th>count</th>\n",
       "      <td>5114.000000</td>\n",
       "      <td>5113.000000</td>\n",
       "      <td>5094.000000</td>\n",
       "    </tr>\n",
       "    <tr>\n",
       "      <th>mean</th>\n",
       "      <td>136.333938</td>\n",
       "      <td>0.000210</td>\n",
       "      <td>0.004050</td>\n",
       "    </tr>\n",
       "    <tr>\n",
       "      <th>std</th>\n",
       "      <td>67.923663</td>\n",
       "      <td>0.012557</td>\n",
       "      <td>0.048516</td>\n",
       "    </tr>\n",
       "    <tr>\n",
       "      <th>min</th>\n",
       "      <td>54.184429</td>\n",
       "      <td>-0.115887</td>\n",
       "      <td>-0.370872</td>\n",
       "    </tr>\n",
       "    <tr>\n",
       "      <th>25%</th>\n",
       "      <td>87.412493</td>\n",
       "      <td>-0.004649</td>\n",
       "      <td>-0.016835</td>\n",
       "    </tr>\n",
       "    <tr>\n",
       "      <th>50%</th>\n",
       "      <td>106.488850</td>\n",
       "      <td>0.000642</td>\n",
       "      <td>0.011823</td>\n",
       "    </tr>\n",
       "    <tr>\n",
       "      <th>75%</th>\n",
       "      <td>182.951584</td>\n",
       "      <td>0.005801</td>\n",
       "      <td>0.031307</td>\n",
       "    </tr>\n",
       "    <tr>\n",
       "      <th>max</th>\n",
       "      <td>336.362091</td>\n",
       "      <td>0.135577</td>\n",
       "      <td>0.212052</td>\n",
       "    </tr>\n",
       "  </tbody>\n",
       "</table>\n",
       "</div>"
      ],
      "text/plain": [
       "         Adj Close      Returns       Ret_1M\n",
       "count  5114.000000  5113.000000  5094.000000\n",
       "mean    136.333938     0.000210     0.004050\n",
       "std      67.923663     0.012557     0.048516\n",
       "min      54.184429    -0.115887    -0.370872\n",
       "25%      87.412493    -0.004649    -0.016835\n",
       "50%     106.488850     0.000642     0.011823\n",
       "75%     182.951584     0.005801     0.031307\n",
       "max     336.362091     0.135577     0.212052"
      ]
     },
     "execution_count": 4,
     "metadata": {},
     "output_type": "execute_result"
    }
   ],
   "source": [
    "# Descriptive statistics\n",
    "df.describe()"
   ]
  },
  {
   "cell_type": "markdown",
   "id": "6751b0ca-4a35-49f7-bddb-caf7e460a4f7",
   "metadata": {},
   "source": [
    "### 5.3 Cleaning & Imputation"
   ]
  },
  {
   "cell_type": "markdown",
   "id": "96c6ee74-b574-48da-8f8e-52b98e0bdc54",
   "metadata": {},
   "source": [
    "Data is already cleaned. However, NaN values from derived features should be treated."
   ]
  },
  {
   "cell_type": "code",
   "execution_count": 5,
   "id": "8e5d8f05-29b9-4903-a6ff-20ae6db4d522",
   "metadata": {},
   "outputs": [
    {
     "data": {
      "text/plain": [
       "Adj Close     0\n",
       "Returns       1\n",
       "Ret_1M       20\n",
       "dtype: int64"
      ]
     },
     "execution_count": 5,
     "metadata": {},
     "output_type": "execute_result"
    }
   ],
   "source": [
    "# Check for missing values\n",
    "df.isnull().sum()"
   ]
  },
  {
   "cell_type": "markdown",
   "id": "89e7a10a-ef16-4d52-8e5e-1a5fba2887ca",
   "metadata": {},
   "source": [
    "### 5.4 Feature Specification"
   ]
  },
  {
   "cell_type": "markdown",
   "id": "8f0c0a62-9185-448b-bbf9-36eadb4b2e5f",
   "metadata": {},
   "source": [
    "Features or Predictors are also known as an independent variable which are used to determine the\n",
    "value of the target variable. We will use raw price to derive list of custom features."
   ]
  },
  {
   "cell_type": "code",
   "execution_count": 6,
   "id": "2c401084-7c4b-421f-a8c2-b4b404aa727d",
   "metadata": {},
   "outputs": [],
   "source": [
    "# Create features (predictors) list\n",
    "features_list = []\n",
    "for r in range(10, 65, 5):\n",
    "    df['Ret_'+str(r)] = df.Returns.rolling(r).sum()\n",
    "    df['Std_'+str(r)] = df.Returns.rolling(r).std()\n",
    "    features_list.append('Ret_'+str(r))\n",
    "    features_list.append('Std_'+str(r))\n",
    "# Drop NaN values\n",
    "df.dropna(inplace=True)"
   ]
  },
  {
   "cell_type": "markdown",
   "id": "fc64646d-d625-42e3-a6c1-22d144b5e38d",
   "metadata": {},
   "source": [
    "### 5.5 Target or Label Definition"
   ]
  },
  {
   "cell_type": "markdown",
   "id": "2071a7e7-078b-4bd4-8a3f-23f8f62a0e1a",
   "metadata": {},
   "source": [
    "Label or the target variable is also known as the dependent variable. Here, the target variable is\n",
    "whether SPY price will close up or down on the next trading day. If the tomorrow’s closing price is\n",
    "greater than today’s closing price, then we will buy the SPY, else we will sell SPY."
   ]
  },
  {
   "cell_type": "markdown",
   "id": "5c2b8d22-6622-42b3-bc4a-6fe9ba0bcae8",
   "metadata": {},
   "source": [
    "We assign a value of +1 for the buy signal and 0 otherwise to target variable. The target can be\n",
    "described as :"
   ]
  },
  {
   "cell_type": "markdown",
   "id": "04989eb4-dcce-4b79-b5f6-76ae37c4a22b",
   "metadata": {},
   "source": [
    "$$\n",
    "y_t = \\begin{cases} \n",
    "1, & \\text{if } p_{t+1} > 0.995 \\times p_t \\\\\n",
    "0, & \\text{otherwise}\n",
    "\\end{cases}\n",
    "$$\n"
   ]
  },
  {
   "cell_type": "markdown",
   "id": "e5134309-3606-4c3f-8489-225ab5dcaa6a",
   "metadata": {},
   "source": [
    "whre, pt is the current closing price of SPY and pt+1 is the 1-day forward closing price of SPY."
   ]
  },
  {
   "cell_type": "code",
   "execution_count": 7,
   "id": "ab0a8c69-be79-458d-add3-b976d4569f33",
   "metadata": {},
   "outputs": [
    {
     "data": {
      "text/html": [
       "<div>\n",
       "<style scoped>\n",
       "    .dataframe tbody tr th:only-of-type {\n",
       "        vertical-align: middle;\n",
       "    }\n",
       "\n",
       "    .dataframe tbody tr th {\n",
       "        vertical-align: top;\n",
       "    }\n",
       "\n",
       "    .dataframe thead th {\n",
       "        text-align: right;\n",
       "    }\n",
       "</style>\n",
       "<table border=\"1\" class=\"dataframe\">\n",
       "  <thead>\n",
       "    <tr style=\"text-align: right;\">\n",
       "      <th></th>\n",
       "      <th>Adj Close</th>\n",
       "      <th>Returns</th>\n",
       "      <th>Ret_1M</th>\n",
       "      <th>Ret_10</th>\n",
       "      <th>Std_10</th>\n",
       "      <th>Ret_15</th>\n",
       "      <th>Std_15</th>\n",
       "      <th>Ret_20</th>\n",
       "      <th>Std_20</th>\n",
       "      <th>Ret_25</th>\n",
       "      <th>...</th>\n",
       "      <th>Std_40</th>\n",
       "      <th>Ret_45</th>\n",
       "      <th>Std_45</th>\n",
       "      <th>Ret_50</th>\n",
       "      <th>Std_50</th>\n",
       "      <th>Ret_55</th>\n",
       "      <th>Std_55</th>\n",
       "      <th>Ret_60</th>\n",
       "      <th>Std_60</th>\n",
       "      <th>Target</th>\n",
       "    </tr>\n",
       "    <tr>\n",
       "      <th>Date</th>\n",
       "      <th></th>\n",
       "      <th></th>\n",
       "      <th></th>\n",
       "      <th></th>\n",
       "      <th></th>\n",
       "      <th></th>\n",
       "      <th></th>\n",
       "      <th></th>\n",
       "      <th></th>\n",
       "      <th></th>\n",
       "      <th></th>\n",
       "      <th></th>\n",
       "      <th></th>\n",
       "      <th></th>\n",
       "      <th></th>\n",
       "      <th></th>\n",
       "      <th></th>\n",
       "      <th></th>\n",
       "      <th></th>\n",
       "      <th></th>\n",
       "      <th></th>\n",
       "    </tr>\n",
       "  </thead>\n",
       "  <tbody>\n",
       "    <tr>\n",
       "      <th>2000-03-28</th>\n",
       "      <td>103.501099</td>\n",
       "      <td>-0.005776</td>\n",
       "      <td>0.097063</td>\n",
       "      <td>0.102992</td>\n",
       "      <td>0.016808</td>\n",
       "      <td>0.099909</td>\n",
       "      <td>0.017161</td>\n",
       "      <td>0.097063</td>\n",
       "      <td>0.016531</td>\n",
       "      <td>0.115189</td>\n",
       "      <td>...</td>\n",
       "      <td>0.015079</td>\n",
       "      <td>0.076137</td>\n",
       "      <td>0.015692</td>\n",
       "      <td>0.030012</td>\n",
       "      <td>0.015742</td>\n",
       "      <td>0.038339</td>\n",
       "      <td>0.015368</td>\n",
       "      <td>0.030650</td>\n",
       "      <td>0.017420</td>\n",
       "      <td>1</td>\n",
       "    </tr>\n",
       "    <tr>\n",
       "      <th>2000-03-29</th>\n",
       "      <td>103.608170</td>\n",
       "      <td>0.001034</td>\n",
       "      <td>0.090847</td>\n",
       "      <td>0.080964</td>\n",
       "      <td>0.016388</td>\n",
       "      <td>0.102198</td>\n",
       "      <td>0.017096</td>\n",
       "      <td>0.090847</td>\n",
       "      <td>0.016542</td>\n",
       "      <td>0.104483</td>\n",
       "      <td>...</td>\n",
       "      <td>0.015027</td>\n",
       "      <td>0.065879</td>\n",
       "      <td>0.015623</td>\n",
       "      <td>0.038945</td>\n",
       "      <td>0.015694</td>\n",
       "      <td>0.035949</td>\n",
       "      <td>0.015363</td>\n",
       "      <td>0.041519</td>\n",
       "      <td>0.017367</td>\n",
       "      <td>0</td>\n",
       "    </tr>\n",
       "    <tr>\n",
       "      <th>2000-03-30</th>\n",
       "      <td>101.873848</td>\n",
       "      <td>-0.016881</td>\n",
       "      <td>0.073289</td>\n",
       "      <td>0.018427</td>\n",
       "      <td>0.011734</td>\n",
       "      <td>0.056512</td>\n",
       "      <td>0.016967</td>\n",
       "      <td>0.073289</td>\n",
       "      <td>0.017210</td>\n",
       "      <td>0.107945</td>\n",
       "      <td>...</td>\n",
       "      <td>0.015315</td>\n",
       "      <td>0.056956</td>\n",
       "      <td>0.015801</td>\n",
       "      <td>0.013952</td>\n",
       "      <td>0.015853</td>\n",
       "      <td>0.031106</td>\n",
       "      <td>0.015451</td>\n",
       "      <td>0.064530</td>\n",
       "      <td>0.016697</td>\n",
       "      <td>1</td>\n",
       "    </tr>\n",
       "    <tr>\n",
       "      <th>2000-03-31</th>\n",
       "      <td>103.030037</td>\n",
       "      <td>0.011285</td>\n",
       "      <td>0.066024</td>\n",
       "      <td>0.023125</td>\n",
       "      <td>0.012035</td>\n",
       "      <td>0.073135</td>\n",
       "      <td>0.016873</td>\n",
       "      <td>0.066024</td>\n",
       "      <td>0.016954</td>\n",
       "      <td>0.122857</td>\n",
       "      <td>...</td>\n",
       "      <td>0.015243</td>\n",
       "      <td>0.072244</td>\n",
       "      <td>0.015850</td>\n",
       "      <td>0.040662</td>\n",
       "      <td>0.015763</td>\n",
       "      <td>0.052389</td>\n",
       "      <td>0.015448</td>\n",
       "      <td>0.074028</td>\n",
       "      <td>0.016749</td>\n",
       "      <td>1</td>\n",
       "    </tr>\n",
       "    <tr>\n",
       "      <th>2000-04-03</th>\n",
       "      <td>103.629585</td>\n",
       "      <td>0.005802</td>\n",
       "      <td>0.081618</td>\n",
       "      <td>0.034044</td>\n",
       "      <td>0.011779</td>\n",
       "      <td>0.089925</td>\n",
       "      <td>0.016292</td>\n",
       "      <td>0.081618</td>\n",
       "      <td>0.016677</td>\n",
       "      <td>0.107899</td>\n",
       "      <td>...</td>\n",
       "      <td>0.015233</td>\n",
       "      <td>0.109737</td>\n",
       "      <td>0.015023</td>\n",
       "      <td>0.048626</td>\n",
       "      <td>0.015772</td>\n",
       "      <td>0.044739</td>\n",
       "      <td>0.015368</td>\n",
       "      <td>0.096032</td>\n",
       "      <td>0.016601</td>\n",
       "      <td>0</td>\n",
       "    </tr>\n",
       "    <tr>\n",
       "      <th>...</th>\n",
       "      <td>...</td>\n",
       "      <td>...</td>\n",
       "      <td>...</td>\n",
       "      <td>...</td>\n",
       "      <td>...</td>\n",
       "      <td>...</td>\n",
       "      <td>...</td>\n",
       "      <td>...</td>\n",
       "      <td>...</td>\n",
       "      <td>...</td>\n",
       "      <td>...</td>\n",
       "      <td>...</td>\n",
       "      <td>...</td>\n",
       "      <td>...</td>\n",
       "      <td>...</td>\n",
       "      <td>...</td>\n",
       "      <td>...</td>\n",
       "      <td>...</td>\n",
       "      <td>...</td>\n",
       "      <td>...</td>\n",
       "      <td>...</td>\n",
       "    </tr>\n",
       "    <tr>\n",
       "      <th>2020-04-23</th>\n",
       "      <td>279.079987</td>\n",
       "      <td>-0.000072</td>\n",
       "      <td>0.122961</td>\n",
       "      <td>0.018261</td>\n",
       "      <td>0.021258</td>\n",
       "      <td>0.125557</td>\n",
       "      <td>0.025494</td>\n",
       "      <td>0.122961</td>\n",
       "      <td>0.029821</td>\n",
       "      <td>0.156723</td>\n",
       "      <td>...</td>\n",
       "      <td>0.046138</td>\n",
       "      <td>-0.186690</td>\n",
       "      <td>0.043884</td>\n",
       "      <td>-0.177545</td>\n",
       "      <td>0.041639</td>\n",
       "      <td>-0.158879</td>\n",
       "      <td>0.039758</td>\n",
       "      <td>-0.152262</td>\n",
       "      <td>0.038192</td>\n",
       "      <td>1</td>\n",
       "    </tr>\n",
       "    <tr>\n",
       "      <th>2020-04-24</th>\n",
       "      <td>282.970001</td>\n",
       "      <td>0.013842</td>\n",
       "      <td>0.080054</td>\n",
       "      <td>0.017001</td>\n",
       "      <td>0.021175</td>\n",
       "      <td>0.116587</td>\n",
       "      <td>0.025235</td>\n",
       "      <td>0.080054</td>\n",
       "      <td>0.027437</td>\n",
       "      <td>0.168442</td>\n",
       "      <td>...</td>\n",
       "      <td>0.045663</td>\n",
       "      <td>-0.168731</td>\n",
       "      <td>0.043966</td>\n",
       "      <td>-0.170125</td>\n",
       "      <td>0.041688</td>\n",
       "      <td>-0.156518</td>\n",
       "      <td>0.039775</td>\n",
       "      <td>-0.137593</td>\n",
       "      <td>0.038250</td>\n",
       "      <td>1</td>\n",
       "    </tr>\n",
       "    <tr>\n",
       "      <th>2020-04-27</th>\n",
       "      <td>287.049988</td>\n",
       "      <td>0.014315</td>\n",
       "      <td>0.124608</td>\n",
       "      <td>0.040488</td>\n",
       "      <td>0.021137</td>\n",
       "      <td>0.145462</td>\n",
       "      <td>0.024500</td>\n",
       "      <td>0.124608</td>\n",
       "      <td>0.026296</td>\n",
       "      <td>0.226808</td>\n",
       "      <td>...</td>\n",
       "      <td>0.045725</td>\n",
       "      <td>-0.144063</td>\n",
       "      <td>0.044036</td>\n",
       "      <td>-0.154741</td>\n",
       "      <td>0.041763</td>\n",
       "      <td>-0.145562</td>\n",
       "      <td>0.039834</td>\n",
       "      <td>-0.126518</td>\n",
       "      <td>0.038304</td>\n",
       "      <td>1</td>\n",
       "    </tr>\n",
       "    <tr>\n",
       "      <th>2020-04-28</th>\n",
       "      <td>285.730011</td>\n",
       "      <td>-0.004609</td>\n",
       "      <td>0.088040</td>\n",
       "      <td>0.006813</td>\n",
       "      <td>0.019312</td>\n",
       "      <td>0.075846</td>\n",
       "      <td>0.019321</td>\n",
       "      <td>0.088040</td>\n",
       "      <td>0.025677</td>\n",
       "      <td>0.248100</td>\n",
       "      <td>...</td>\n",
       "      <td>0.045192</td>\n",
       "      <td>-0.114945</td>\n",
       "      <td>0.043790</td>\n",
       "      <td>-0.160951</td>\n",
       "      <td>0.041758</td>\n",
       "      <td>-0.144827</td>\n",
       "      <td>0.039833</td>\n",
       "      <td>-0.112802</td>\n",
       "      <td>0.038247</td>\n",
       "      <td>1</td>\n",
       "    </tr>\n",
       "    <tr>\n",
       "      <th>2020-04-29</th>\n",
       "      <td>293.209991</td>\n",
       "      <td>0.025842</td>\n",
       "      <td>0.128899</td>\n",
       "      <td>0.054132</td>\n",
       "      <td>0.019076</td>\n",
       "      <td>0.100669</td>\n",
       "      <td>0.020001</td>\n",
       "      <td>0.128899</td>\n",
       "      <td>0.025676</td>\n",
       "      <td>0.187211</td>\n",
       "      <td>...</td>\n",
       "      <td>0.045177</td>\n",
       "      <td>-0.058332</td>\n",
       "      <td>0.043775</td>\n",
       "      <td>-0.132529</td>\n",
       "      <td>0.041959</td>\n",
       "      <td>-0.126423</td>\n",
       "      <td>0.039996</td>\n",
       "      <td>-0.094362</td>\n",
       "      <td>0.038396</td>\n",
       "      <td>0</td>\n",
       "    </tr>\n",
       "  </tbody>\n",
       "</table>\n",
       "<p>5054 rows × 26 columns</p>\n",
       "</div>"
      ],
      "text/plain": [
       "             Adj Close   Returns    Ret_1M    Ret_10    Std_10    Ret_15  \\\n",
       "Date                                                                       \n",
       "2000-03-28  103.501099 -0.005776  0.097063  0.102992  0.016808  0.099909   \n",
       "2000-03-29  103.608170  0.001034  0.090847  0.080964  0.016388  0.102198   \n",
       "2000-03-30  101.873848 -0.016881  0.073289  0.018427  0.011734  0.056512   \n",
       "2000-03-31  103.030037  0.011285  0.066024  0.023125  0.012035  0.073135   \n",
       "2000-04-03  103.629585  0.005802  0.081618  0.034044  0.011779  0.089925   \n",
       "...                ...       ...       ...       ...       ...       ...   \n",
       "2020-04-23  279.079987 -0.000072  0.122961  0.018261  0.021258  0.125557   \n",
       "2020-04-24  282.970001  0.013842  0.080054  0.017001  0.021175  0.116587   \n",
       "2020-04-27  287.049988  0.014315  0.124608  0.040488  0.021137  0.145462   \n",
       "2020-04-28  285.730011 -0.004609  0.088040  0.006813  0.019312  0.075846   \n",
       "2020-04-29  293.209991  0.025842  0.128899  0.054132  0.019076  0.100669   \n",
       "\n",
       "              Std_15    Ret_20    Std_20    Ret_25  ...    Std_40    Ret_45  \\\n",
       "Date                                                ...                       \n",
       "2000-03-28  0.017161  0.097063  0.016531  0.115189  ...  0.015079  0.076137   \n",
       "2000-03-29  0.017096  0.090847  0.016542  0.104483  ...  0.015027  0.065879   \n",
       "2000-03-30  0.016967  0.073289  0.017210  0.107945  ...  0.015315  0.056956   \n",
       "2000-03-31  0.016873  0.066024  0.016954  0.122857  ...  0.015243  0.072244   \n",
       "2000-04-03  0.016292  0.081618  0.016677  0.107899  ...  0.015233  0.109737   \n",
       "...              ...       ...       ...       ...  ...       ...       ...   \n",
       "2020-04-23  0.025494  0.122961  0.029821  0.156723  ...  0.046138 -0.186690   \n",
       "2020-04-24  0.025235  0.080054  0.027437  0.168442  ...  0.045663 -0.168731   \n",
       "2020-04-27  0.024500  0.124608  0.026296  0.226808  ...  0.045725 -0.144063   \n",
       "2020-04-28  0.019321  0.088040  0.025677  0.248100  ...  0.045192 -0.114945   \n",
       "2020-04-29  0.020001  0.128899  0.025676  0.187211  ...  0.045177 -0.058332   \n",
       "\n",
       "              Std_45    Ret_50    Std_50    Ret_55    Std_55    Ret_60  \\\n",
       "Date                                                                     \n",
       "2000-03-28  0.015692  0.030012  0.015742  0.038339  0.015368  0.030650   \n",
       "2000-03-29  0.015623  0.038945  0.015694  0.035949  0.015363  0.041519   \n",
       "2000-03-30  0.015801  0.013952  0.015853  0.031106  0.015451  0.064530   \n",
       "2000-03-31  0.015850  0.040662  0.015763  0.052389  0.015448  0.074028   \n",
       "2000-04-03  0.015023  0.048626  0.015772  0.044739  0.015368  0.096032   \n",
       "...              ...       ...       ...       ...       ...       ...   \n",
       "2020-04-23  0.043884 -0.177545  0.041639 -0.158879  0.039758 -0.152262   \n",
       "2020-04-24  0.043966 -0.170125  0.041688 -0.156518  0.039775 -0.137593   \n",
       "2020-04-27  0.044036 -0.154741  0.041763 -0.145562  0.039834 -0.126518   \n",
       "2020-04-28  0.043790 -0.160951  0.041758 -0.144827  0.039833 -0.112802   \n",
       "2020-04-29  0.043775 -0.132529  0.041959 -0.126423  0.039996 -0.094362   \n",
       "\n",
       "              Std_60  Target  \n",
       "Date                          \n",
       "2000-03-28  0.017420       1  \n",
       "2000-03-29  0.017367       0  \n",
       "2000-03-30  0.016697       1  \n",
       "2000-03-31  0.016749       1  \n",
       "2000-04-03  0.016601       0  \n",
       "...              ...     ...  \n",
       "2020-04-23  0.038192       1  \n",
       "2020-04-24  0.038250       1  \n",
       "2020-04-27  0.038304       1  \n",
       "2020-04-28  0.038247       1  \n",
       "2020-04-29  0.038396       0  \n",
       "\n",
       "[5054 rows x 26 columns]"
      ]
     },
     "execution_count": 7,
     "metadata": {},
     "output_type": "execute_result"
    }
   ],
   "source": [
    "# Define Target\n",
    "df['Target'] = np.where(df['Adj Close'].shift(-1)>0.995 * df['Adj Close'],1,0)\n",
    "# df = df[:-1]\n",
    "# Check output\n",
    "df"
   ]
  },
  {
   "cell_type": "code",
   "execution_count": 8,
   "id": "e9e9cab1-0206-42c6-b318-ae60da24954b",
   "metadata": {},
   "outputs": [
    {
     "data": {
      "text/plain": [
       "array([[ 0.10299217,  0.01680829,  0.09990879, ...,  0.01536765,\n",
       "         0.03065013,  0.01742033],\n",
       "       [ 0.08096385,  0.01638798,  0.10219782, ...,  0.01536317,\n",
       "         0.04151947,  0.01736735],\n",
       "       [ 0.01842677,  0.01173377,  0.05651238, ...,  0.01545088,\n",
       "         0.06453017,  0.01669711],\n",
       "       ...,\n",
       "       [ 0.04048814,  0.02113725,  0.14546178, ...,  0.03983401,\n",
       "        -0.12651806,  0.03830417],\n",
       "       [ 0.00681279,  0.01931243,  0.07584602, ...,  0.03983321,\n",
       "        -0.11280233,  0.03824664],\n",
       "       [ 0.05413158,  0.01907551,  0.10066876, ...,  0.03999635,\n",
       "        -0.09436169,  0.03839629]])"
      ]
     },
     "execution_count": 8,
     "metadata": {},
     "output_type": "execute_result"
    }
   ],
   "source": [
    "# Convert to NumPy\n",
    "X = df.drop(['Adj Close', 'Returns', 'Ret_1M', 'Target'],axis=1)\n",
    "X.values"
   ]
  },
  {
   "cell_type": "code",
   "execution_count": 9,
   "id": "e4c42daa-75e5-4a28-bbd3-e82cb397a8e8",
   "metadata": {},
   "outputs": [
    {
     "data": {
      "text/plain": [
       "Date\n",
       "2000-03-28    1\n",
       "2000-03-29    0\n",
       "2000-03-30    1\n",
       "2000-03-31    1\n",
       "2000-04-03    0\n",
       "             ..\n",
       "2020-04-23    1\n",
       "2020-04-24    1\n",
       "2020-04-27    1\n",
       "2020-04-28    1\n",
       "2020-04-29    0\n",
       "Name: Target, Length: 5054, dtype: int32"
      ]
     },
     "execution_count": 9,
     "metadata": {},
     "output_type": "execute_result"
    }
   ],
   "source": [
    "# Define label or target\n",
    "y = df['Target']\n",
    "y"
   ]
  },
  {
   "cell_type": "markdown",
   "id": "7c21e91a-b51d-46fd-9c6d-6ac0c38acc98",
   "metadata": {},
   "source": [
    "***Split Data***"
   ]
  },
  {
   "cell_type": "code",
   "execution_count": 10,
   "id": "b697fa2a-1290-4c41-99a6-22b1f85015fa",
   "metadata": {},
   "outputs": [
    {
     "name": "stdout",
     "output_type": "stream",
     "text": [
      "Train and Test Size 4043, 1011\n"
     ]
    }
   ],
   "source": [
    "# Splitting the datasets into training and testing data.\n",
    "X_train, X_test, y_train, y_test = train_test_split(X, y, test_size=0.2,random_state=42, shuffle=False)\n",
    "\n",
    "# Output the train and test data size\n",
    "print(f\"Train and Test Size {len(X_train)}, {len(X_test)}\")"
   ]
  },
  {
   "cell_type": "markdown",
   "id": "8d64c2aa-d796-438b-a5a5-810fae06522a",
   "metadata": {},
   "source": [
    "## 6 Base Model"
   ]
  },
  {
   "cell_type": "markdown",
   "id": "64c89567-4708-4a60-aec5-dbe0a8b91d05",
   "metadata": {},
   "source": [
    "We will now create and train the XGBoost (Regessor). All the feature and label should have a\n",
    "similar scale and the scaling can be accomplished by using the StandardScaler transformer."
   ]
  },
  {
   "cell_type": "markdown",
   "id": "63fcd81e-f105-4536-a891-dbe14f5f432b",
   "metadata": {},
   "source": [
    "### 6.1 Fit Model"
   ]
  },
  {
   "cell_type": "code",
   "execution_count": 11,
   "id": "e7e14259-b1a6-4ffa-8acc-702031a54c9a",
   "metadata": {},
   "outputs": [
    {
     "data": {
      "text/html": [
       "<style>#sk-container-id-1 {color: black;}#sk-container-id-1 pre{padding: 0;}#sk-container-id-1 div.sk-toggleable {background-color: white;}#sk-container-id-1 label.sk-toggleable__label {cursor: pointer;display: block;width: 100%;margin-bottom: 0;padding: 0.3em;box-sizing: border-box;text-align: center;}#sk-container-id-1 label.sk-toggleable__label-arrow:before {content: \"▸\";float: left;margin-right: 0.25em;color: #696969;}#sk-container-id-1 label.sk-toggleable__label-arrow:hover:before {color: black;}#sk-container-id-1 div.sk-estimator:hover label.sk-toggleable__label-arrow:before {color: black;}#sk-container-id-1 div.sk-toggleable__content {max-height: 0;max-width: 0;overflow: hidden;text-align: left;background-color: #f0f8ff;}#sk-container-id-1 div.sk-toggleable__content pre {margin: 0.2em;color: black;border-radius: 0.25em;background-color: #f0f8ff;}#sk-container-id-1 input.sk-toggleable__control:checked~div.sk-toggleable__content {max-height: 200px;max-width: 100%;overflow: auto;}#sk-container-id-1 input.sk-toggleable__control:checked~label.sk-toggleable__label-arrow:before {content: \"▾\";}#sk-container-id-1 div.sk-estimator input.sk-toggleable__control:checked~label.sk-toggleable__label {background-color: #d4ebff;}#sk-container-id-1 div.sk-label input.sk-toggleable__control:checked~label.sk-toggleable__label {background-color: #d4ebff;}#sk-container-id-1 input.sk-hidden--visually {border: 0;clip: rect(1px 1px 1px 1px);clip: rect(1px, 1px, 1px, 1px);height: 1px;margin: -1px;overflow: hidden;padding: 0;position: absolute;width: 1px;}#sk-container-id-1 div.sk-estimator {font-family: monospace;background-color: #f0f8ff;border: 1px dotted black;border-radius: 0.25em;box-sizing: border-box;margin-bottom: 0.5em;}#sk-container-id-1 div.sk-estimator:hover {background-color: #d4ebff;}#sk-container-id-1 div.sk-parallel-item::after {content: \"\";width: 100%;border-bottom: 1px solid gray;flex-grow: 1;}#sk-container-id-1 div.sk-label:hover label.sk-toggleable__label {background-color: #d4ebff;}#sk-container-id-1 div.sk-serial::before {content: \"\";position: absolute;border-left: 1px solid gray;box-sizing: border-box;top: 0;bottom: 0;left: 50%;z-index: 0;}#sk-container-id-1 div.sk-serial {display: flex;flex-direction: column;align-items: center;background-color: white;padding-right: 0.2em;padding-left: 0.2em;position: relative;}#sk-container-id-1 div.sk-item {position: relative;z-index: 1;}#sk-container-id-1 div.sk-parallel {display: flex;align-items: stretch;justify-content: center;background-color: white;position: relative;}#sk-container-id-1 div.sk-item::before, #sk-container-id-1 div.sk-parallel-item::before {content: \"\";position: absolute;border-left: 1px solid gray;box-sizing: border-box;top: 0;bottom: 0;left: 50%;z-index: -1;}#sk-container-id-1 div.sk-parallel-item {display: flex;flex-direction: column;z-index: 1;position: relative;background-color: white;}#sk-container-id-1 div.sk-parallel-item:first-child::after {align-self: flex-end;width: 50%;}#sk-container-id-1 div.sk-parallel-item:last-child::after {align-self: flex-start;width: 50%;}#sk-container-id-1 div.sk-parallel-item:only-child::after {width: 0;}#sk-container-id-1 div.sk-dashed-wrapped {border: 1px dashed gray;margin: 0 0.4em 0.5em 0.4em;box-sizing: border-box;padding-bottom: 0.4em;background-color: white;}#sk-container-id-1 div.sk-label label {font-family: monospace;font-weight: bold;display: inline-block;line-height: 1.2em;}#sk-container-id-1 div.sk-label-container {text-align: center;}#sk-container-id-1 div.sk-container {/* jupyter's `normalize.less` sets `[hidden] { display: none; }` but bootstrap.min.css set `[hidden] { display: none !important; }` so we also need the `!important` here to be able to override the default hidden behavior on the sphinx rendered scikit-learn.org. See: https://github.com/scikit-learn/scikit-learn/issues/21755 */display: inline-block !important;position: relative;}#sk-container-id-1 div.sk-text-repr-fallback {display: none;}</style><div id=\"sk-container-id-1\" class=\"sk-top-container\"><div class=\"sk-text-repr-fallback\"><pre>XGBClassifier(base_score=None, booster=None, callbacks=None,\n",
       "              colsample_bylevel=None, colsample_bynode=None,\n",
       "              colsample_bytree=None, device=None, early_stopping_rounds=None,\n",
       "              enable_categorical=False, eval_metric=None, feature_types=None,\n",
       "              gamma=None, grow_policy=None, importance_type=None,\n",
       "              interaction_constraints=None, learning_rate=None, max_bin=None,\n",
       "              max_cat_threshold=None, max_cat_to_onehot=None,\n",
       "              max_delta_step=None, max_depth=None, max_leaves=None,\n",
       "              min_child_weight=None, missing=nan, monotone_constraints=None,\n",
       "              multi_strategy=None, n_estimators=None, n_jobs=None,\n",
       "              num_parallel_tree=None, random_state=42, ...)</pre><b>In a Jupyter environment, please rerun this cell to show the HTML representation or trust the notebook. <br />On GitHub, the HTML representation is unable to render, please try loading this page with nbviewer.org.</b></div><div class=\"sk-container\" hidden><div class=\"sk-item\"><div class=\"sk-estimator sk-toggleable\"><input class=\"sk-toggleable__control sk-hidden--visually\" id=\"sk-estimator-id-1\" type=\"checkbox\" checked><label for=\"sk-estimator-id-1\" class=\"sk-toggleable__label sk-toggleable__label-arrow\">XGBClassifier</label><div class=\"sk-toggleable__content\"><pre>XGBClassifier(base_score=None, booster=None, callbacks=None,\n",
       "              colsample_bylevel=None, colsample_bynode=None,\n",
       "              colsample_bytree=None, device=None, early_stopping_rounds=None,\n",
       "              enable_categorical=False, eval_metric=None, feature_types=None,\n",
       "              gamma=None, grow_policy=None, importance_type=None,\n",
       "              interaction_constraints=None, learning_rate=None, max_bin=None,\n",
       "              max_cat_threshold=None, max_cat_to_onehot=None,\n",
       "              max_delta_step=None, max_depth=None, max_leaves=None,\n",
       "              min_child_weight=None, missing=nan, monotone_constraints=None,\n",
       "              multi_strategy=None, n_estimators=None, n_jobs=None,\n",
       "              num_parallel_tree=None, random_state=42, ...)</pre></div></div></div></div></div>"
      ],
      "text/plain": [
       "XGBClassifier(base_score=None, booster=None, callbacks=None,\n",
       "              colsample_bylevel=None, colsample_bynode=None,\n",
       "              colsample_bytree=None, device=None, early_stopping_rounds=None,\n",
       "              enable_categorical=False, eval_metric=None, feature_types=None,\n",
       "              gamma=None, grow_policy=None, importance_type=None,\n",
       "              interaction_constraints=None, learning_rate=None, max_bin=None,\n",
       "              max_cat_threshold=None, max_cat_to_onehot=None,\n",
       "              max_delta_step=None, max_depth=None, max_leaves=None,\n",
       "              min_child_weight=None, missing=nan, monotone_constraints=None,\n",
       "              multi_strategy=None, n_estimators=None, n_jobs=None,\n",
       "              num_parallel_tree=None, random_state=42, ...)"
      ]
     },
     "execution_count": 11,
     "metadata": {},
     "output_type": "execute_result"
    }
   ],
   "source": [
    "# Scale and fit the classifier model\n",
    "model = XGBClassifier(verbosity = 0, silent=True, random_state=42)\n",
    "model.fit(X_train, y_train)"
   ]
  },
  {
   "cell_type": "markdown",
   "id": "25fa2461-b1ab-4e3a-bf8f-9c7b3c5a82d8",
   "metadata": {},
   "source": [
    "### 6.2 Predict Model"
   ]
  },
  {
   "cell_type": "code",
   "execution_count": 12,
   "id": "b1369d34-46ae-47e7-b787-9e8081acd3a3",
   "metadata": {},
   "outputs": [],
   "source": [
    "# Predicting the test dataset\n",
    "y_pred = model.predict(X_test)\n",
    "\n",
    "# Predict Probabilities\n",
    "y_proba = model.predict_proba(X_test)"
   ]
  },
  {
   "cell_type": "code",
   "execution_count": 13,
   "id": "8fce49f5-1f58-4390-ae8e-36e824bd217c",
   "metadata": {},
   "outputs": [
    {
     "name": "stdout",
     "output_type": "stream",
     "text": [
      "Train Accuracy: 0.9948, Test Accuracy: 0.7379\n"
     ]
    }
   ],
   "source": [
    "acc_train = accuracy_score(y_train, model.predict(X_train))\n",
    "acc_test = accuracy_score(y_test, y_pred)\n",
    "\n",
    "print(f'Train Accuracy: {acc_train:0.4}, Test Accuracy: {acc_test:0.4}')"
   ]
  },
  {
   "cell_type": "code",
   "execution_count": 14,
   "id": "6bb87742-b978-4747-aca2-213925467758",
   "metadata": {},
   "outputs": [
    {
     "data": {
      "image/png": "[encoded data removed]",
      "text/plain": [
       "<Figure size 640x480 with 2 Axes>"
      ]
     },
     "metadata": {},
     "output_type": "display_data"
    }
   ],
   "source": [
    "# Display confussion matrix\n",
    "disp = ConfusionMatrixDisplay.from_estimator(\n",
    "    model,\n",
    "    X_test,\n",
    "    y_test,\n",
    "    display_labels=model.classes_,\n",
    "    cmap=plt.cm.Blues\n",
    "    )\n",
    "disp.ax_.set_title('Confusion matrix')\n",
    "plt.show()"
   ]
  },
  {
   "cell_type": "code",
   "execution_count": 15,
   "id": "65ab0ea8-4032-4e6c-82fb-52d9967edf63",
   "metadata": {},
   "outputs": [
    {
     "name": "stdout",
     "output_type": "stream",
     "text": [
      "              precision    recall  f1-score   support\n",
      "\n",
      "           0       0.16      0.13      0.14       169\n",
      "           1       0.83      0.86      0.85       842\n",
      "\n",
      "    accuracy                           0.74      1011\n",
      "   macro avg       0.49      0.50      0.49      1011\n",
      "weighted avg       0.72      0.74      0.73      1011\n",
      "\n"
     ]
    }
   ],
   "source": [
    "# Classification Report\n",
    "print(classification_report(y_test, y_pred))"
   ]
  },
  {
   "cell_type": "code",
   "execution_count": 16,
   "id": "43c5f427-9c0a-4f8a-b00e-c33350b79b2f",
   "metadata": {},
   "outputs": [
    {
     "data": {
      "image/png": "[encoded data removed]",
      "text/plain": [
       "<Figure size 640x480 with 1 Axes>"
      ]
     },
     "metadata": {},
     "output_type": "display_data"
    }
   ],
   "source": [
    "# Display ROCCurve\n",
    "disp_roc = RocCurveDisplay.from_estimator(\n",
    "    model,\n",
    "    X_test,\n",
    "    y_test,\n",
    "    name='XGBoost')\n",
    "disp_roc.ax_.set_title('ROC Curve')\n",
    "plt.plot([0,1], [0,1], linestyle='--')\n",
    "plt.show()"
   ]
  },
  {
   "cell_type": "markdown",
   "id": "2bea4512-d0f0-4f40-b807-7bfd0c68e74e",
   "metadata": {},
   "source": [
    "## 7 Hyper-parameter Tuning"
   ]
  },
  {
   "cell_type": "markdown",
   "id": "7554f615-4c67-433a-ba83-91b85e7b16ca",
   "metadata": {},
   "source": [
    "Hyper-parameters are parameters that are not directly learnt within estimators. They are passed\n",
    "as arguments to the constructor of the estimator classes (Classifier in this case). It is possible\n",
    "and recommended to search the hyper-parameter space for the best cross validation score. Any\n",
    "parameter provided when constructing an estimator may be optimized in this manner."
   ]
  },
  {
   "cell_type": "markdown",
   "id": "963a115a-ad54-4741-b44b-ab9f0583a6a6",
   "metadata": {},
   "source": [
    "We will tune the hyperparameters to select the best score by TimeSeriesSplit cross-validation. This\n",
    "is a variation of KFold. In the kth split, it returns first k folds as train set and the (k+1)th fold as\n",
    "test set. Unlike standard cross-validation methods, successive training sets are supersets of those\n",
    "that come before them."
   ]
  },
  {
   "cell_type": "markdown",
   "id": "090be6de-3497-4822-b5e0-8db011a9c735",
   "metadata": {},
   "source": [
    "### 7.1 XGBoost’s hyper-parameter"
   ]
  },
  {
   "cell_type": "markdown",
   "id": "5edb401c-178d-4e7f-bdc4-842364649ffd",
   "metadata": {},
   "source": [
    "XGBoost has plethora of tuning parameters includeing the regulatization parameters and some of\n",
    "the most common hyperparameters are:\n",
    "\n",
    "* learning rate: step size shrinkage used in update to prevents overfitting. Range is [0,1].\n",
    "* max_depth: maximum depth of a tree.\n",
    "* colsample_bytree: percentage of features used per tree. High value can lead to overfitting.\n",
    "* min_child_weight: minimum sum of instance weight needed in a child.\n",
    "* gamma: minimum loss reduction required to make a further partition on a leaf node of the\n",
    "tree. Large gamma will lead to more conservative algorithm.\n",
    "* lambda: L2 regularization term on weights. Increasing this value will make model more\n",
    "conservative. Normalised to number of training examples. [parameter for linear booster].\n",
    "\n",
    "Refer here for complete list of tuning parameters."
   ]
  },
  {
   "cell_type": "markdown",
   "id": "9c01cc1e-77f4-448a-9a16-de8aec22f075",
   "metadata": {},
   "source": [
    "### 7.2 RandomizedSearch"
   ]
  },
  {
   "cell_type": "markdown",
   "id": "7588268d-0e9f-454f-8d43-df8621ca5cc8",
   "metadata": {},
   "source": [
    "The RandomizedSearchCV implements a “fit” and a “score” method and perform randomized search\n",
    "on hyper parameters. The parameters of the estimator used to apply these methods are optimized\n",
    "by cross-validated search over parameter settings. In contrast to GridSearchCV, not all parameter\n",
    "values are tried out, but rather a fixed number of parameter settings is sampled from the specified\n",
    "distributions."
   ]
  },
  {
   "cell_type": "code",
   "execution_count": 17,
   "id": "b3d1bb87-26ae-4b79-8723-cfbcdd121290",
   "metadata": {},
   "outputs": [],
   "source": [
    "# Timeseries CV 3-split\n",
    "# tscv = TimeSeriesSplit(n_splits=4, gap=1) # sklearn 1.0\n",
    "# for train, test in tscv.split(X):\n",
    "# print(train, test)"
   ]
  },
  {
   "cell_type": "code",
   "execution_count": 18,
   "id": "79515dc4-c3c5-416c-b257-e72cdb25a080",
   "metadata": {},
   "outputs": [],
   "source": [
    "# Cross-validation\n",
    "tscv = TimeSeriesSplit(n_splits=5, gap=1)"
   ]
  },
  {
   "cell_type": "code",
   "execution_count": 19,
   "id": "4accbafc-030d-4bfd-b921-69d2e36d14b7",
   "metadata": {},
   "outputs": [
    {
     "data": {
      "text/plain": [
       "{'objective': 'binary:logistic',\n",
       " 'base_score': None,\n",
       " 'booster': None,\n",
       " 'callbacks': None,\n",
       " 'colsample_bylevel': None,\n",
       " 'colsample_bynode': None,\n",
       " 'colsample_bytree': None,\n",
       " 'device': None,\n",
       " 'early_stopping_rounds': None,\n",
       " 'enable_categorical': False,\n",
       " 'eval_metric': None,\n",
       " 'feature_types': None,\n",
       " 'gamma': None,\n",
       " 'grow_policy': None,\n",
       " 'importance_type': None,\n",
       " 'interaction_constraints': None,\n",
       " 'learning_rate': None,\n",
       " 'max_bin': None,\n",
       " 'max_cat_threshold': None,\n",
       " 'max_cat_to_onehot': None,\n",
       " 'max_delta_step': None,\n",
       " 'max_depth': None,\n",
       " 'max_leaves': None,\n",
       " 'min_child_weight': None,\n",
       " 'missing': nan,\n",
       " 'monotone_constraints': None,\n",
       " 'multi_strategy': None,\n",
       " 'n_estimators': None,\n",
       " 'n_jobs': None,\n",
       " 'num_parallel_tree': None,\n",
       " 'random_state': 42,\n",
       " 'reg_alpha': None,\n",
       " 'reg_lambda': None,\n",
       " 'sampling_method': None,\n",
       " 'scale_pos_weight': None,\n",
       " 'subsample': None,\n",
       " 'tree_method': None,\n",
       " 'validate_parameters': None,\n",
       " 'verbosity': 0,\n",
       " 'silent': True}"
      ]
     },
     "execution_count": 19,
     "metadata": {},
     "output_type": "execute_result"
    }
   ],
   "source": [
    "# Get params list\n",
    "model.get_params()"
   ]
  },
  {
   "cell_type": "code",
   "execution_count": 20,
   "id": "1069cc5f-131f-4d98-8737-9357a840f4c5",
   "metadata": {},
   "outputs": [],
   "source": [
    "# Hyper parameter optimization\n",
    "param_grid = {'learning_rate': [0.05, 0.10, 0.15, 0.20, 0.25, 0.30],\n",
    "'max_depth': [3, 4, 5, 6, 8, 10, 12, 15],\n",
    "'min_child_weight': [1, 3, 5, 7],\n",
    "'gamma': [0.0, 0.1, 0.2 , 0.3, 0.4],\n",
    "'colsample_bytree': [0.3, 0.4, 0.5 , 0.7]}"
   ]
  },
  {
   "cell_type": "code",
   "execution_count": null,
   "id": "bf8bc9a8-1b12-4b57-ae03-ab1836ae84ed",
   "metadata": {},
   "outputs": [],
   "source": [
    "# perform random search\n",
    "rs = RandomizedSearchCV(model, param_grid, n_iter=100, scoring='f1', cv=tscv,verbose=0)\n",
    "rs.fit(X_train, y_train, verbose=0)"
   ]
  },
  {
   "cell_type": "code",
   "execution_count": null,
   "id": "a7bb1a26-e97c-4863-aa68-f9f2da462dab",
   "metadata": {},
   "outputs": [],
   "source": [
    "# best parameters\n",
    "rs.best_params_"
   ]
  },
  {
   "cell_type": "code",
   "execution_count": null,
   "id": "66b34583-f674-4964-94d5-b01b93999bdc",
   "metadata": {},
   "outputs": [],
   "source": [
    "# best score\n",
    "rs.best_score_"
   ]
  },
  {
   "cell_type": "markdown",
   "id": "7ae443b8-4495-47ed-9360-38483422acf1",
   "metadata": {},
   "source": [
    "## 8 Tuned Model"
   ]
  },
  {
   "cell_type": "markdown",
   "id": "0d6044d9-3cd9-46ef-b8e0-e8adc60ad902",
   "metadata": {},
   "source": [
    "Let’s now train and predict the model with the best search parameter## Refit Model"
   ]
  },
  {
   "cell_type": "code",
   "execution_count": null,
   "id": "97ebf92c-e475-4944-a608-877481cb652b",
   "metadata": {},
   "outputs": [],
   "source": [
    "# Refit the XGB Classifier with the best params\n",
    "cls = XGBClassifier(**rs.best_params_)\n",
    "\n",
    "cls.fit(X_train, y_train,\n",
    "        eval_set=[(X_train, y_train), (X_test, y_test)],\n",
    "        # eval_metric='logloss',\n",
    "        verbose=True)"
   ]
  },
  {
   "cell_type": "code",
   "execution_count": null,
   "id": "dad77dc0-a52b-4dcd-b938-89729c4cec28",
   "metadata": {},
   "outputs": [],
   "source": [
    "# Return the evaluation results\n",
    "# evals_result = cls.evals_result()\n",
    "# evals_result"
   ]
  },
  {
   "cell_type": "code",
   "execution_count": null,
   "id": "2cfed6f3-7783-449b-ae36-142f4564908c",
   "metadata": {},
   "outputs": [],
   "source": [
    "# Cross validation score\n",
    "score = cross_val_score(cls,X_train,y_train,cv=tscv)\n",
    "print(f'Mean CV Score : {score.mean():0.4}')"
   ]
  },
  {
   "cell_type": "markdown",
   "id": "56760ca4-a6cd-46cb-bbf5-96dbd022cb9e",
   "metadata": {},
   "source": [
    "### 8.1 Feature Importance"
   ]
  },
  {
   "cell_type": "markdown",
   "id": "4297cfef-0f3d-4e3c-918f-f9c538ca4a38",
   "metadata": {},
   "source": [
    "Feature Importance refers to techniques that calculate a score for all the input features for a given\n",
    "model where the scores represent the “importance” of each feature. It is calculated as the decrease\n",
    "in node impurity weighted by the probability of reaching that node. The node probability can be\n",
    "calculated by the number of samples that reach the node, divided by the total number of samples.\n",
    "The higher the value the more important the feature."
   ]
  },
  {
   "cell_type": "code",
   "execution_count": null,
   "id": "4a797333-003d-4825-8832-b19dea262231",
   "metadata": {},
   "outputs": [],
   "source": [
    "# Plot feature importance\n",
    "fig, ax = plt.subplots(figsize=(10,8))\n",
    "feature_imp = pd.DataFrame({'Importance Score': cls.feature_importances_,'Features': X.columns}).sort_values(by='Importance Score', ascending=False)\n",
    "\n",
    "sns.barplot(x=feature_imp['Importance Score'], y=feature_imp['Features'])\n",
    "ax.set_title('Features Importance');"
   ]
  },
  {
   "cell_type": "markdown",
   "id": "79d8704c-4c80-4c26-ba61-7e9ae2b0d3d6",
   "metadata": {},
   "source": [
    "Importance type can be either of the following:\n",
    "* weight: the number of times a feature is used to split the data across all trees.\n",
    "* gain: the average gain across all splits the feature is used in.\n",
    "* cover: the average coverage across all splits the feature is used in.\n",
    "* total_gain: the total gain across all splits the feature is used in.\n",
    "* total_cover: the total coverage across all splits the feature is used in."
   ]
  },
  {
   "cell_type": "markdown",
   "id": "015509f7-e498-4e4e-9cc6-ffee0ce1308c",
   "metadata": {},
   "source": [
    "By default, feature_importances_ rank features based on the average gain across all splits. This\n",
    "can be changed using the plot_importance method."
   ]
  },
  {
   "cell_type": "code",
   "execution_count": null,
   "id": "7f0ccf99-fe33-46e4-bb2f-0f96dc6191be",
   "metadata": {},
   "outputs": [],
   "source": [
    "# The Gain is the most relevant attribute to interpret the relative importance of each feature.\n",
    "plot_importance?"
   ]
  },
  {
   "cell_type": "code",
   "execution_count": null,
   "id": "8732103d-fb69-4315-8051-529680da2715",
   "metadata": {},
   "outputs": [],
   "source": [
    "# feature importance_type = 'gain'\n",
    "plot_importance(cls, importance_type='weight', show_values=False);"
   ]
  },
  {
   "cell_type": "markdown",
   "id": "eb20da7b-cd34-454d-9e41-01302b2137be",
   "metadata": {},
   "source": [
    "### 8.2 Shap Values"
   ]
  },
  {
   "cell_type": "code",
   "execution_count": null,
   "id": "b7519238-3724-44a9-8ae3-da29e01a379c",
   "metadata": {},
   "outputs": [],
   "source": [
    "#!pip install Shap"
   ]
  },
  {
   "cell_type": "markdown",
   "id": "faa93407-98e3-4a08-9bbe-8edd76dfdfbf",
   "metadata": {},
   "source": [
    "SHAP (SHapley Additive exPlanations) is a game theoretic approach to explain the output of any\n",
    "machine learning model. Shapley values are a widely used approach from cooperative game theory\n",
    "that come with desirable properties and is the average marginal contribution of a feature value\n",
    "across all possible coalitions."
   ]
  },
  {
   "cell_type": "code",
   "execution_count": null,
   "id": "3ab44b95-2ae1-4571-90c6-54d7884b7577",
   "metadata": {},
   "outputs": [],
   "source": [
    "import shap\n",
    "explainer = shap.TreeExplainer(cls)\n",
    "shap_values = explainer.shap_values(X_test)"
   ]
  },
  {
   "cell_type": "markdown",
   "id": "720d7e7a-5602-40da-a4ae-30a47ad9c21e",
   "metadata": {},
   "source": [
    "**Visualization of feature importance**"
   ]
  },
  {
   "cell_type": "code",
   "execution_count": null,
   "id": "104a55cd-6aa2-48d1-96fa-ecf4f9fb6a35",
   "metadata": {},
   "outputs": [],
   "source": [
    "# future importance summary\n",
    "shap.summary_plot(shap_values, X_test, plot_type=\"bar\")"
   ]
  },
  {
   "cell_type": "code",
   "execution_count": null,
   "id": "4f182886-2a49-4528-aeaf-13c64b66b58b",
   "metadata": {},
   "outputs": [],
   "source": [
    "# interpretation plot\n",
    "shap.summary_plot(shap_values, X_test)"
   ]
  },
  {
   "cell_type": "markdown",
   "id": "4a83c995-6518-496f-8e92-e2c0c0d41a5a",
   "metadata": {},
   "source": [
    "### 8.3 Plot Tree"
   ]
  },
  {
   "cell_type": "code",
   "execution_count": null,
   "id": "af54a851",
   "metadata": {},
   "outputs": [],
   "source": [
    "#!pip install graphviz"
   ]
  },
  {
   "cell_type": "code",
   "execution_count": null,
   "id": "8b35bb1b-e0af-467d-8b66-b4bdfd50be40",
   "metadata": {},
   "outputs": [],
   "source": [
    "## Tree Visualization\n",
    "# change tree number to see the corresponding plot\n",
    "to_graphviz(cls, num_trees=10, rankdir='UT')"
   ]
  },
  {
   "cell_type": "markdown",
   "id": "4a324dc8-ab1c-4f9b-8501-8be94002cb00",
   "metadata": {},
   "source": [
    "For a classification tree with two classes, the value of the leaf node represent the raw score. It can\n",
    "be converted to a probability score by using the logistic (sigmoid) function."
   ]
  },
  {
   "cell_type": "markdown",
   "id": "a034ac7d-8878-4f51-9e6a-fc9c4f8f03db",
   "metadata": {},
   "source": [
    "### 8.4 Predict Model"
   ]
  },
  {
   "cell_type": "code",
   "execution_count": null,
   "id": "6498e7a7-227d-4c7c-bb8e-bea68b493df9",
   "metadata": {},
   "outputs": [],
   "source": [
    "# Predicting the test dataset\n",
    "y_pred = cls.predict(X_test)\n",
    "\n",
    "# Measure Accuracy\n",
    "acc_train = accuracy_score(y_train, cls.predict(X_train))\n",
    "acc_test = accuracy_score(y_test, y_pred)\n",
    "# Print Accuracy\n",
    "print(f'\\n Training Accuracy \\t: {acc_train :0.4} \\n Test Accuracy \\t\\t:{acc_test :0.4}')"
   ]
  },
  {
   "cell_type": "code",
   "execution_count": null,
   "id": "034422db-0708-48d2-bb9d-c2e9cb596b7d",
   "metadata": {},
   "outputs": [],
   "source": [
    "# Display confussion matrix\n",
    "disp = ConfusionMatrixDisplay.from_estimator(\n",
    "    cls,\n",
    "    X_test,\n",
    "    y_test,\n",
    "    display_labels=model.classes_,\n",
    "    cmap=plt.cm.Blues\n",
    "    )\n",
    "disp.ax_.set_title('Confusion matrix')\n",
    "plt.show()"
   ]
  },
  {
   "cell_type": "code",
   "execution_count": null,
   "id": "545e0c2c-bad0-444f-bcdd-ede59b75ea49",
   "metadata": {},
   "outputs": [],
   "source": [
    "# Classification Report\n",
    "print(classification_report(y_test, y_pred))"
   ]
  },
  {
   "cell_type": "code",
   "execution_count": null,
   "id": "8f6be635-edb6-4849-a4e0-f6f3b3079909",
   "metadata": {},
   "outputs": [],
   "source": [
    "# Display ROCCurve\n",
    "disp_roc = RocCurveDisplay.from_estimator(\n",
    "cls,\n",
    "X_test,\n",
    "y_test,\n",
    "name='Tuned XGBoost')\n",
    "disp_roc.ax_.set_title('ROC Curve')\n",
    "plt.plot([0,1], [0,1], linestyle='--')\n",
    "plt.show()"
   ]
  },
  {
   "cell_type": "markdown",
   "id": "13b63027-9da6-4a67-a3a8-2f39a367a559",
   "metadata": {},
   "source": [
    "## 9 References"
   ]
  },
  {
   "cell_type": "markdown",
   "id": "6521e4ff-9ee1-44f3-a76e-7e5f0895fb9c",
   "metadata": {},
   "source": [
    "* [Cross_validation](https://scikit-learn.org/stable/modules/cross_validation.html)\n",
    "* [TimeSeriesSplit](https://scikit-learn.org/stable/modules/generated/sklearn.model_selection.TimeSeriesSplit.html)\n",
    "* [RandomizedSearchCV](https://scikit-learn.org/stable/modules/generated/sklearn.model_selection.RandomizedSearchCV.html)\n",
    "* [Hyperparameters Tuning](https://scikit-learn.org/stable/modules/grid_search.html#grid-search)\n",
    "* [Metrics & Scoring](https://scikit-learn.org/stable/modules/model_evaluation.html#scoring-parameter)\n",
    "* [Introduction to Boosted Trees](https://xgboost.readthedocs.io/en/latest/tutorials/model.html)\n",
    "* [XGBoost documentation](https://xgboost.readthedocs.io/en/latest/index.html)\n",
    "* [XGBoost (clone) documentation](https://xgboost-clone.readthedocs.io/en/latest/python/python_intro.html)"
   ]
  },
  {
   "cell_type": "markdown",
   "id": "0f345825-9f24-47ed-93e0-8f22105041cf",
   "metadata": {},
   "source": [
    "Python Labs by [Kannan Singaravelu.](https://www.linkedin.com/in/kannansi/)"
   ]
  },
  {
   "attachments": {
    "b6b2a043-6715-47ad-a2d4-8187b7c9763e.png": {
     "image/png": "[encoded data removed]"
    }
   },
   "cell_type": "markdown",
   "id": "56ce5094-f4cf-400f-bcbd-508ec1865269",
   "metadata": {},
   "source": [
    "![image.png](attachment:b6b2a043-6715-47ad-a2d4-8187b7c9763e.png)"
   ]
  },
  {
   "cell_type": "code",
   "execution_count": null,
   "id": "36ba88b1",
   "metadata": {},
   "outputs": [],
   "source": []
  }
 ],
 "metadata": {
  "kernelspec": {
   "display_name": "Python 3 (ipykernel)",
   "language": "python",
   "name": "python3"
  },
  "language_info": {
   "codemirror_mode": {
    "name": "ipython",
    "version": 3
   },
   "file_extension": ".py",
   "mimetype": "text/x-python",
   "name": "python",
   "nbconvert_exporter": "python",
   "pygments_lexer": "ipython3",
   "version": "3.11.5"
  }
 },
 "nbformat": 4,
 "nbformat_minor": 5
}
