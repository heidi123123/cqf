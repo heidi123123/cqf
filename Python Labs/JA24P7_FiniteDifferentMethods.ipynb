{
 "cells": [
  {
   "cell_type": "markdown",
   "id": "e67769d1",
   "metadata": {},
   "source": [
    "# Finite Difference Methods"
   ]
  },
  {
   "cell_type": "markdown",
   "id": "fa53ef78",
   "metadata": {},
   "source": [
    "## 1 Finite Difference Methods\n",
    "Finite Difference Methods (FDM) are one of the popular numerical methods used in computational finance. FDM are discretizations used for solving differential equations by approximating them with difference equations. It is one of the simplest and the oldest methods to solve differential equations. These techniques were applied to numerical applications as early as 1950s.\n",
    "\n",
    "FDM are similar in approach to the (binomial) tress. However, instead of discretising asset prices and the passage of time in a tree structure, it discretises in a **grid** - with time and price steps - by calculating the value at every possible grid points.\n",
    "\n",
    "**Explicit, Implicit and Crank-Nicolson** are the three popular approaches of FDM. The explicit methods are simple to implement, but it does not always converge and largely depends on the size of the time and asset step. **Explicit methods are unstable when compared to other two methods. Finite Difference approach is peferred for low dimensional problem, usually upto 4 dimensions**.\n",
    "\n",
    "## 2 Differentiation Using The Grid\n",
    "The Binomial method contains the diffusion - the volatility - in the tree structure whereas in FDM, the '**tree**' is fixed and we change the parameters to reflect the changing diffusion. We will now define the grid by specifying the time step $\\delta t$ and asset step $\\delta s$ and discretise $S$ and $t$ as\n",
    "\n",
    "$$S = i \\delta s$$\n",
    "\n",
    ", and time to maturity as (P.S. time is backward from the maturity to the beginning)\n",
    "\n",
    "$$t= T -k \\delta t$$\n",
    "\n",
    "where $0\\leq i \\leq I$, and $0\\leq k \\leq K$\n",
    "\n",
    "Here $i$ and $k$ are respective steps in the grid and we can write the value of the option at each grid points as (time is always on the superscript)\n",
    "\n",
    "$$V_i^k = (i\\delta s, T - k\\delta t)$$\n",
    "\n",
    "## 3 Approximating Greeks\n",
    "The greeks terms, the Black–Scholes equation can be written as,\n",
    "\n",
    "$$\\Theta + \\frac{1}{2}\\sigma^2 S^2 \\Gamma  + rS\\Delta - r V = 0$$\n",
    "\n",
    "Assume that we know the option value at each grid points, we can extract the derivatives of the option using Taylor series expansion.\n",
    "\n",
    "### Approximating $\\Theta$\n",
    "\n",
    "We know that the first derivative of option as,\n",
    "\n",
    "by T.S.E.,\n",
    "\n",
    "$$V(S,t+h) = V(S,t) + h\\frac{\\partial V}{\\partial t} + \\frac{1}{2!}h^2 \\frac{\\partial^2 V}{\\partial t^2} + ...$$\n",
    "\n",
    "$$V(S,t+h) - V(S,t) = h\\frac{\\partial V}{\\partial t} + O(h^2)$$\n",
    "\n",
    "$$\\frac{\\partial V}{\\partial t} = \\frac{V(S,t+h) - V(S,t)}{h} + O(h)$$\n",
    "\n",
    "$$ \\frac{\\partial V}{\\partial t} = \\lim_{h\\to 0}  \\frac{V(S, t+h) - V(S,t)}{h} $$\n",
    "\n",
    "We can then approximate the time derivative from the grid using,\n",
    "\n",
    "$$ \\frac{\\partial V}{\\partial t} (S,t) \\approx \\frac{ V_i^k - V_i^{k+1} }{\\delta t} $$\n",
    "\n",
    "### Approximating $\\Delta$\n",
    "\n",
    "We know that the central difference has much lower error when compared to forward and backward differences. Accordingly, we can approximate the first derivative of option with respect to the underlying as,\n",
    "\n",
    "Here, we expand T.D.E. in three and more terms to approximate, because that would reduce the power of error terms.\n",
    "\n",
    "$$V(S+\\delta s,t) = V(S,t) + (\\delta s)\\frac{\\partial V}{\\partial S} + \\frac{1}{2!}(\\delta s)^2 \\frac{\\partial^2 V}{\\partial S^2} + \\frac{1}{3!}(\\delta s)^3 \\frac{\\partial^3 V}{\\partial S^3}...$$\n",
    "\n",
    ", and\n",
    "\n",
    "$$V(S-\\delta s,t) = V(S,t) - (\\delta s)\\frac{\\partial V}{\\partial S} + \\frac{1}{2!}(\\delta s)^2 \\frac{\\partial^2 V}{\\partial S^2} - \\frac{1}{3!}(\\delta s)^3 \\frac{\\partial^3 V}{\\partial S^3}...$$\n",
    "\n",
    ", and make a difference,\n",
    "\n",
    "$$V(S+\\delta s,t) - V(S-\\delta s,t) = 2(\\delta s)\\frac{\\partial V}{\\partial S} + O((\\delta s)^3)$$\n",
    "\n",
    "$$\\frac{V(S+\\delta s,t) - V(S-\\delta s,t)}{2(\\delta s)} = \\frac{\\partial V}{\\partial S} + O((\\delta s)^2)$$\n",
    "\n",
    ", through this way that expanding in three and more terms and make a difference, we can get the error $O((\\delta s)^2)$. If not make a difference, to get $\\frac{V(S+\\delta s,t) - V(S,t)}{\\delta s} = \\frac{\\partial V}{\\partial S} + O(\\delta s)$, then there would be an error $ O(is)$.\n",
    "\n",
    "$$ \\frac{\\partial V}{\\partial S} (S,t) \\approx \\frac{ V_{i+1}^k - V_{i-1}^{k} }{2\\delta s} $$\n",
    "\n",
    "### Approximating $\\Gamma$\n",
    "\n",
    "The gamma of the option is the second derivative of option with respective to the underlying and approximating it we have,\n",
    "\n",
    "$$ \\frac{\\partial^2 V}{\\partial S^2} (S,t) \\approx \\frac{ V_{i+1}^k + V_{i-1}^{k} - 2V_{i}^{k} }{\\delta s^2} $$"
   ]
  },
  {
   "cell_type": "code",
   "execution_count": 1,
   "id": "dffd2497",
   "metadata": {},
   "outputs": [
    {
     "data": {
      "text/html": [
       "        <script type=\"text/javascript\">\n",
       "        window.PlotlyConfig = {MathJaxConfig: 'local'};\n",
       "        if (window.MathJax && window.MathJax.Hub && window.MathJax.Hub.Config) {window.MathJax.Hub.Config({SVG: {font: \"STIX-Web\"}});}\n",
       "        if (typeof require !== 'undefined') {\n",
       "        require.undef(\"plotly\");\n",
       "        requirejs.config({\n",
       "            paths: {\n",
       "                'plotly': ['https://cdn.plot.ly/plotly-2.12.1.min']\n",
       "            }\n",
       "        });\n",
       "        require(['plotly'], function(Plotly) {\n",
       "            window._Plotly = Plotly;\n",
       "        });\n",
       "        }\n",
       "        </script>\n",
       "        "
      ]
     },
     "metadata": {},
     "output_type": "display_data"
    },
    {
     "data": {
      "text/html": [
       "        <script type=\"text/javascript\">\n",
       "        window.PlotlyConfig = {MathJaxConfig: 'local'};\n",
       "        if (window.MathJax && window.MathJax.Hub && window.MathJax.Hub.Config) {window.MathJax.Hub.Config({SVG: {font: \"STIX-Web\"}});}\n",
       "        if (typeof require !== 'undefined') {\n",
       "        require.undef(\"plotly\");\n",
       "        requirejs.config({\n",
       "            paths: {\n",
       "                'plotly': ['https://cdn.plot.ly/plotly-2.12.1.min']\n",
       "            }\n",
       "        });\n",
       "        require(['plotly'], function(Plotly) {\n",
       "            window._Plotly = Plotly;\n",
       "        });\n",
       "        }\n",
       "        </script>\n",
       "        "
      ]
     },
     "metadata": {},
     "output_type": "display_data"
    }
   ],
   "source": [
    "# Ignore warnings\n",
    "import warnings\n",
    "warnings.filterwarnings('ignore')\n",
    "import pandas as pd\n",
    "import numpy as np\n",
    "import cufflinks as cf\n",
    "cf.set_config_file(offline=True, dimensions=((1000,600)))\n",
    "# Set max row and columns to 300 and 100\n",
    "pd.set_option('display.max_rows', 300)\n",
    "pd.set_option('display.max_columns', 100)"
   ]
  },
  {
   "attachments": {
    "image.png": {
     "image/png": "[encoded data removed]"
    }
   },
   "cell_type": "markdown",
   "id": "7d3740ae",
   "metadata": {},
   "source": [
    "**Example**\n",
    "\n",
    "Suppose that we know the value of the option on the below grid points, we can then easily evaluate the greeks as follows\n",
    "\n",
    "![image.png](attachment:image.png)\n",
    "\n",
    "From the grid, we can estimate the\n",
    "\n",
    "$$\\Theta = \\frac{12-13}{0.1} = -10$$\n",
    "\n",
    "$$\\Delta = \\frac{15-10}{2 \\times 2} = 1.25$$\n",
    "\n",
    "$$\\Gamma = \\frac{15 - 2\\times 12 + 10}{2\\times 2} = 0.25$$\n",
    "\n",
    "Black Scholes Equation is a relationship between the option value and greeks. If we know the option value at the expiration, we can step back to get the values prior to it such that $V_k^i = V_{k-1}^i - \\Theta \\times dt$. This approach is called Explicit Finite Difference Method because the relationship between the option values at time step $k$ is a simple function of the option values at time step $k-1$.\n",
    "\n"
   ]
  },
  {
   "cell_type": "markdown",
   "id": "56107d6c",
   "metadata": {},
   "source": [
    "## 4 Option Pricing Techniques\n",
    "As with other option pricing techniques Explicit Finite Difference methods are used to price options using what is essentially a three step process.\n",
    "\n",
    "- Step 1: Generate the grid by specifying grid points.\n",
    "- Step 2: Specify the final or initial conditions.\n",
    "- Step 3: Use boundary conditions to calculate option values and step back down the grid to fill it.\n",
    "\n",
    "**European Option**\n",
    "\n",
    "To price an option, we generate a finite grid of a specified asset and time steps for a given maturity. Next, we specify the initial and boundary conditions to calculate payoff when S and T equals zero. We then step back to fill the grid with newer values derived from the earlier values.\n",
    "\n",
    "**Specify Parameters**,   $V_i^k$\n",
    "\n",
    "For the stability condition,\n",
    "\n",
    "$$\\delta t < \\frac{1}{\\sigma^2 N^2}$$"
   ]
  },
  {
   "cell_type": "code",
   "execution_count": 2,
   "id": "e7f23706",
   "metadata": {},
   "outputs": [],
   "source": [
    "# Specify the parameters for FDM \n",
    "T    = 1                              # time to maturity in years\n",
    "E    = 100                            # strike price\n",
    "r    = .05                            # riskfree rate\n",
    "vol  = .20                            # volatility\n",
    "Flag = 1                              # Flag = 1 for call, -1 for puts\n",
    "EType = 100                           # EType = 1 for american, 0 for european\n",
    "NAS  = 20                             # number of asset steps                      'i'\n",
    "\n",
    "ds   = 2* E / NAS                     # asset step size\n",
    "dt   = (0.9/vol**2/NAS**2)            # time step size, for stability    Stability Condition derived from Fourier\n",
    "\n",
    "NTS  = int(T / dt) + 1                # number of time steps                       'k'\n",
    "dt   = T / NTS                        # time step size [Expiration as int # of time steps away]"
   ]
  },
  {
   "cell_type": "markdown",
   "id": "beb8db26",
   "metadata": {},
   "source": [
    "## 4.1 Generate Grid\n",
    "Build the grid with the above input parameters"
   ]
  },
  {
   "cell_type": "code",
   "execution_count": 3,
   "id": "85357a12",
   "metadata": {
    "scrolled": true
   },
   "outputs": [
    {
     "name": "stdout",
     "output_type": "stream",
     "text": [
      "[  0.  10.  20.  30.  40.  50.  60.  70.  80.  90. 100. 110. 120. 130.\n",
      " 140. 150. 160. 170. 180. 190. 200.]\n",
      "--------------------------------------------------\n",
      "[0.    0.056 0.111 0.167 0.222 0.278 0.333 0.389 0.444 0.5   0.556 0.611\n",
      " 0.667 0.722 0.778 0.833 0.889 0.944 1.   ]\n"
     ]
    }
   ],
   "source": [
    "# Create asset steps i*ds\n",
    "s = np.arange(0, (NAS+1)*ds,ds)\n",
    "print(s)\n",
    "\n",
    "print('-'*50)\n",
    "# Create time steps k*dt\n",
    "t = T-np.arange(NTS*dt,-dt,-dt)\n",
    "print(np.around(t, 3))"
   ]
  },
  {
   "cell_type": "code",
   "execution_count": 4,
   "id": "2e20ba9c",
   "metadata": {},
   "outputs": [
    {
     "data": {
      "text/plain": [
       "((21,), (19,))"
      ]
     },
     "execution_count": 4,
     "metadata": {},
     "output_type": "execute_result"
    }
   ],
   "source": [
    "# Verify the steps size\n",
    "s.shape, t.shape"
   ]
  },
  {
   "cell_type": "code",
   "execution_count": 5,
   "id": "5979a204",
   "metadata": {
    "scrolled": true
   },
   "outputs": [
    {
     "data": {
      "text/html": [
       "<div>\n",
       "<style scoped>\n",
       "    .dataframe tbody tr th:only-of-type {\n",
       "        vertical-align: middle;\n",
       "    }\n",
       "\n",
       "    .dataframe tbody tr th {\n",
       "        vertical-align: top;\n",
       "    }\n",
       "\n",
       "    .dataframe thead th {\n",
       "        text-align: right;\n",
       "    }\n",
       "</style>\n",
       "<table border=\"1\" class=\"dataframe\">\n",
       "  <thead>\n",
       "    <tr style=\"text-align: right;\">\n",
       "      <th></th>\n",
       "      <th>0.000</th>\n",
       "      <th>0.056</th>\n",
       "      <th>0.111</th>\n",
       "      <th>0.167</th>\n",
       "      <th>0.222</th>\n",
       "      <th>0.278</th>\n",
       "      <th>0.333</th>\n",
       "      <th>0.389</th>\n",
       "      <th>0.444</th>\n",
       "      <th>0.500</th>\n",
       "      <th>0.556</th>\n",
       "      <th>0.611</th>\n",
       "      <th>0.667</th>\n",
       "      <th>0.722</th>\n",
       "      <th>0.778</th>\n",
       "      <th>0.833</th>\n",
       "      <th>0.889</th>\n",
       "      <th>0.944</th>\n",
       "      <th>1.000</th>\n",
       "    </tr>\n",
       "  </thead>\n",
       "  <tbody>\n",
       "    <tr>\n",
       "      <th>0.0</th>\n",
       "      <td>0.0</td>\n",
       "      <td>0.0</td>\n",
       "      <td>0.0</td>\n",
       "      <td>0.0</td>\n",
       "      <td>0.0</td>\n",
       "      <td>0.0</td>\n",
       "      <td>0.0</td>\n",
       "      <td>0.0</td>\n",
       "      <td>0.0</td>\n",
       "      <td>0.0</td>\n",
       "      <td>0.0</td>\n",
       "      <td>0.0</td>\n",
       "      <td>0.0</td>\n",
       "      <td>0.0</td>\n",
       "      <td>0.0</td>\n",
       "      <td>0.0</td>\n",
       "      <td>0.0</td>\n",
       "      <td>0.0</td>\n",
       "      <td>0.0</td>\n",
       "    </tr>\n",
       "    <tr>\n",
       "      <th>10.0</th>\n",
       "      <td>0.0</td>\n",
       "      <td>0.0</td>\n",
       "      <td>0.0</td>\n",
       "      <td>0.0</td>\n",
       "      <td>0.0</td>\n",
       "      <td>0.0</td>\n",
       "      <td>0.0</td>\n",
       "      <td>0.0</td>\n",
       "      <td>0.0</td>\n",
       "      <td>0.0</td>\n",
       "      <td>0.0</td>\n",
       "      <td>0.0</td>\n",
       "      <td>0.0</td>\n",
       "      <td>0.0</td>\n",
       "      <td>0.0</td>\n",
       "      <td>0.0</td>\n",
       "      <td>0.0</td>\n",
       "      <td>0.0</td>\n",
       "      <td>0.0</td>\n",
       "    </tr>\n",
       "    <tr>\n",
       "      <th>20.0</th>\n",
       "      <td>0.0</td>\n",
       "      <td>0.0</td>\n",
       "      <td>0.0</td>\n",
       "      <td>0.0</td>\n",
       "      <td>0.0</td>\n",
       "      <td>0.0</td>\n",
       "      <td>0.0</td>\n",
       "      <td>0.0</td>\n",
       "      <td>0.0</td>\n",
       "      <td>0.0</td>\n",
       "      <td>0.0</td>\n",
       "      <td>0.0</td>\n",
       "      <td>0.0</td>\n",
       "      <td>0.0</td>\n",
       "      <td>0.0</td>\n",
       "      <td>0.0</td>\n",
       "      <td>0.0</td>\n",
       "      <td>0.0</td>\n",
       "      <td>0.0</td>\n",
       "    </tr>\n",
       "    <tr>\n",
       "      <th>30.0</th>\n",
       "      <td>0.0</td>\n",
       "      <td>0.0</td>\n",
       "      <td>0.0</td>\n",
       "      <td>0.0</td>\n",
       "      <td>0.0</td>\n",
       "      <td>0.0</td>\n",
       "      <td>0.0</td>\n",
       "      <td>0.0</td>\n",
       "      <td>0.0</td>\n",
       "      <td>0.0</td>\n",
       "      <td>0.0</td>\n",
       "      <td>0.0</td>\n",
       "      <td>0.0</td>\n",
       "      <td>0.0</td>\n",
       "      <td>0.0</td>\n",
       "      <td>0.0</td>\n",
       "      <td>0.0</td>\n",
       "      <td>0.0</td>\n",
       "      <td>0.0</td>\n",
       "    </tr>\n",
       "    <tr>\n",
       "      <th>40.0</th>\n",
       "      <td>0.0</td>\n",
       "      <td>0.0</td>\n",
       "      <td>0.0</td>\n",
       "      <td>0.0</td>\n",
       "      <td>0.0</td>\n",
       "      <td>0.0</td>\n",
       "      <td>0.0</td>\n",
       "      <td>0.0</td>\n",
       "      <td>0.0</td>\n",
       "      <td>0.0</td>\n",
       "      <td>0.0</td>\n",
       "      <td>0.0</td>\n",
       "      <td>0.0</td>\n",
       "      <td>0.0</td>\n",
       "      <td>0.0</td>\n",
       "      <td>0.0</td>\n",
       "      <td>0.0</td>\n",
       "      <td>0.0</td>\n",
       "      <td>0.0</td>\n",
       "    </tr>\n",
       "    <tr>\n",
       "      <th>50.0</th>\n",
       "      <td>0.0</td>\n",
       "      <td>0.0</td>\n",
       "      <td>0.0</td>\n",
       "      <td>0.0</td>\n",
       "      <td>0.0</td>\n",
       "      <td>0.0</td>\n",
       "      <td>0.0</td>\n",
       "      <td>0.0</td>\n",
       "      <td>0.0</td>\n",
       "      <td>0.0</td>\n",
       "      <td>0.0</td>\n",
       "      <td>0.0</td>\n",
       "      <td>0.0</td>\n",
       "      <td>0.0</td>\n",
       "      <td>0.0</td>\n",
       "      <td>0.0</td>\n",
       "      <td>0.0</td>\n",
       "      <td>0.0</td>\n",
       "      <td>0.0</td>\n",
       "    </tr>\n",
       "    <tr>\n",
       "      <th>60.0</th>\n",
       "      <td>0.0</td>\n",
       "      <td>0.0</td>\n",
       "      <td>0.0</td>\n",
       "      <td>0.0</td>\n",
       "      <td>0.0</td>\n",
       "      <td>0.0</td>\n",
       "      <td>0.0</td>\n",
       "      <td>0.0</td>\n",
       "      <td>0.0</td>\n",
       "      <td>0.0</td>\n",
       "      <td>0.0</td>\n",
       "      <td>0.0</td>\n",
       "      <td>0.0</td>\n",
       "      <td>0.0</td>\n",
       "      <td>0.0</td>\n",
       "      <td>0.0</td>\n",
       "      <td>0.0</td>\n",
       "      <td>0.0</td>\n",
       "      <td>0.0</td>\n",
       "    </tr>\n",
       "    <tr>\n",
       "      <th>70.0</th>\n",
       "      <td>0.0</td>\n",
       "      <td>0.0</td>\n",
       "      <td>0.0</td>\n",
       "      <td>0.0</td>\n",
       "      <td>0.0</td>\n",
       "      <td>0.0</td>\n",
       "      <td>0.0</td>\n",
       "      <td>0.0</td>\n",
       "      <td>0.0</td>\n",
       "      <td>0.0</td>\n",
       "      <td>0.0</td>\n",
       "      <td>0.0</td>\n",
       "      <td>0.0</td>\n",
       "      <td>0.0</td>\n",
       "      <td>0.0</td>\n",
       "      <td>0.0</td>\n",
       "      <td>0.0</td>\n",
       "      <td>0.0</td>\n",
       "      <td>0.0</td>\n",
       "    </tr>\n",
       "    <tr>\n",
       "      <th>80.0</th>\n",
       "      <td>0.0</td>\n",
       "      <td>0.0</td>\n",
       "      <td>0.0</td>\n",
       "      <td>0.0</td>\n",
       "      <td>0.0</td>\n",
       "      <td>0.0</td>\n",
       "      <td>0.0</td>\n",
       "      <td>0.0</td>\n",
       "      <td>0.0</td>\n",
       "      <td>0.0</td>\n",
       "      <td>0.0</td>\n",
       "      <td>0.0</td>\n",
       "      <td>0.0</td>\n",
       "      <td>0.0</td>\n",
       "      <td>0.0</td>\n",
       "      <td>0.0</td>\n",
       "      <td>0.0</td>\n",
       "      <td>0.0</td>\n",
       "      <td>0.0</td>\n",
       "    </tr>\n",
       "    <tr>\n",
       "      <th>90.0</th>\n",
       "      <td>0.0</td>\n",
       "      <td>0.0</td>\n",
       "      <td>0.0</td>\n",
       "      <td>0.0</td>\n",
       "      <td>0.0</td>\n",
       "      <td>0.0</td>\n",
       "      <td>0.0</td>\n",
       "      <td>0.0</td>\n",
       "      <td>0.0</td>\n",
       "      <td>0.0</td>\n",
       "      <td>0.0</td>\n",
       "      <td>0.0</td>\n",
       "      <td>0.0</td>\n",
       "      <td>0.0</td>\n",
       "      <td>0.0</td>\n",
       "      <td>0.0</td>\n",
       "      <td>0.0</td>\n",
       "      <td>0.0</td>\n",
       "      <td>0.0</td>\n",
       "    </tr>\n",
       "    <tr>\n",
       "      <th>100.0</th>\n",
       "      <td>0.0</td>\n",
       "      <td>0.0</td>\n",
       "      <td>0.0</td>\n",
       "      <td>0.0</td>\n",
       "      <td>0.0</td>\n",
       "      <td>0.0</td>\n",
       "      <td>0.0</td>\n",
       "      <td>0.0</td>\n",
       "      <td>0.0</td>\n",
       "      <td>0.0</td>\n",
       "      <td>0.0</td>\n",
       "      <td>0.0</td>\n",
       "      <td>0.0</td>\n",
       "      <td>0.0</td>\n",
       "      <td>0.0</td>\n",
       "      <td>0.0</td>\n",
       "      <td>0.0</td>\n",
       "      <td>0.0</td>\n",
       "      <td>0.0</td>\n",
       "    </tr>\n",
       "    <tr>\n",
       "      <th>110.0</th>\n",
       "      <td>0.0</td>\n",
       "      <td>0.0</td>\n",
       "      <td>0.0</td>\n",
       "      <td>0.0</td>\n",
       "      <td>0.0</td>\n",
       "      <td>0.0</td>\n",
       "      <td>0.0</td>\n",
       "      <td>0.0</td>\n",
       "      <td>0.0</td>\n",
       "      <td>0.0</td>\n",
       "      <td>0.0</td>\n",
       "      <td>0.0</td>\n",
       "      <td>0.0</td>\n",
       "      <td>0.0</td>\n",
       "      <td>0.0</td>\n",
       "      <td>0.0</td>\n",
       "      <td>0.0</td>\n",
       "      <td>0.0</td>\n",
       "      <td>0.0</td>\n",
       "    </tr>\n",
       "    <tr>\n",
       "      <th>120.0</th>\n",
       "      <td>0.0</td>\n",
       "      <td>0.0</td>\n",
       "      <td>0.0</td>\n",
       "      <td>0.0</td>\n",
       "      <td>0.0</td>\n",
       "      <td>0.0</td>\n",
       "      <td>0.0</td>\n",
       "      <td>0.0</td>\n",
       "      <td>0.0</td>\n",
       "      <td>0.0</td>\n",
       "      <td>0.0</td>\n",
       "      <td>0.0</td>\n",
       "      <td>0.0</td>\n",
       "      <td>0.0</td>\n",
       "      <td>0.0</td>\n",
       "      <td>0.0</td>\n",
       "      <td>0.0</td>\n",
       "      <td>0.0</td>\n",
       "      <td>0.0</td>\n",
       "    </tr>\n",
       "    <tr>\n",
       "      <th>130.0</th>\n",
       "      <td>0.0</td>\n",
       "      <td>0.0</td>\n",
       "      <td>0.0</td>\n",
       "      <td>0.0</td>\n",
       "      <td>0.0</td>\n",
       "      <td>0.0</td>\n",
       "      <td>0.0</td>\n",
       "      <td>0.0</td>\n",
       "      <td>0.0</td>\n",
       "      <td>0.0</td>\n",
       "      <td>0.0</td>\n",
       "      <td>0.0</td>\n",
       "      <td>0.0</td>\n",
       "      <td>0.0</td>\n",
       "      <td>0.0</td>\n",
       "      <td>0.0</td>\n",
       "      <td>0.0</td>\n",
       "      <td>0.0</td>\n",
       "      <td>0.0</td>\n",
       "    </tr>\n",
       "    <tr>\n",
       "      <th>140.0</th>\n",
       "      <td>0.0</td>\n",
       "      <td>0.0</td>\n",
       "      <td>0.0</td>\n",
       "      <td>0.0</td>\n",
       "      <td>0.0</td>\n",
       "      <td>0.0</td>\n",
       "      <td>0.0</td>\n",
       "      <td>0.0</td>\n",
       "      <td>0.0</td>\n",
       "      <td>0.0</td>\n",
       "      <td>0.0</td>\n",
       "      <td>0.0</td>\n",
       "      <td>0.0</td>\n",
       "      <td>0.0</td>\n",
       "      <td>0.0</td>\n",
       "      <td>0.0</td>\n",
       "      <td>0.0</td>\n",
       "      <td>0.0</td>\n",
       "      <td>0.0</td>\n",
       "    </tr>\n",
       "    <tr>\n",
       "      <th>150.0</th>\n",
       "      <td>0.0</td>\n",
       "      <td>0.0</td>\n",
       "      <td>0.0</td>\n",
       "      <td>0.0</td>\n",
       "      <td>0.0</td>\n",
       "      <td>0.0</td>\n",
       "      <td>0.0</td>\n",
       "      <td>0.0</td>\n",
       "      <td>0.0</td>\n",
       "      <td>0.0</td>\n",
       "      <td>0.0</td>\n",
       "      <td>0.0</td>\n",
       "      <td>0.0</td>\n",
       "      <td>0.0</td>\n",
       "      <td>0.0</td>\n",
       "      <td>0.0</td>\n",
       "      <td>0.0</td>\n",
       "      <td>0.0</td>\n",
       "      <td>0.0</td>\n",
       "    </tr>\n",
       "    <tr>\n",
       "      <th>160.0</th>\n",
       "      <td>0.0</td>\n",
       "      <td>0.0</td>\n",
       "      <td>0.0</td>\n",
       "      <td>0.0</td>\n",
       "      <td>0.0</td>\n",
       "      <td>0.0</td>\n",
       "      <td>0.0</td>\n",
       "      <td>0.0</td>\n",
       "      <td>0.0</td>\n",
       "      <td>0.0</td>\n",
       "      <td>0.0</td>\n",
       "      <td>0.0</td>\n",
       "      <td>0.0</td>\n",
       "      <td>0.0</td>\n",
       "      <td>0.0</td>\n",
       "      <td>0.0</td>\n",
       "      <td>0.0</td>\n",
       "      <td>0.0</td>\n",
       "      <td>0.0</td>\n",
       "    </tr>\n",
       "    <tr>\n",
       "      <th>170.0</th>\n",
       "      <td>0.0</td>\n",
       "      <td>0.0</td>\n",
       "      <td>0.0</td>\n",
       "      <td>0.0</td>\n",
       "      <td>0.0</td>\n",
       "      <td>0.0</td>\n",
       "      <td>0.0</td>\n",
       "      <td>0.0</td>\n",
       "      <td>0.0</td>\n",
       "      <td>0.0</td>\n",
       "      <td>0.0</td>\n",
       "      <td>0.0</td>\n",
       "      <td>0.0</td>\n",
       "      <td>0.0</td>\n",
       "      <td>0.0</td>\n",
       "      <td>0.0</td>\n",
       "      <td>0.0</td>\n",
       "      <td>0.0</td>\n",
       "      <td>0.0</td>\n",
       "    </tr>\n",
       "    <tr>\n",
       "      <th>180.0</th>\n",
       "      <td>0.0</td>\n",
       "      <td>0.0</td>\n",
       "      <td>0.0</td>\n",
       "      <td>0.0</td>\n",
       "      <td>0.0</td>\n",
       "      <td>0.0</td>\n",
       "      <td>0.0</td>\n",
       "      <td>0.0</td>\n",
       "      <td>0.0</td>\n",
       "      <td>0.0</td>\n",
       "      <td>0.0</td>\n",
       "      <td>0.0</td>\n",
       "      <td>0.0</td>\n",
       "      <td>0.0</td>\n",
       "      <td>0.0</td>\n",
       "      <td>0.0</td>\n",
       "      <td>0.0</td>\n",
       "      <td>0.0</td>\n",
       "      <td>0.0</td>\n",
       "    </tr>\n",
       "    <tr>\n",
       "      <th>190.0</th>\n",
       "      <td>0.0</td>\n",
       "      <td>0.0</td>\n",
       "      <td>0.0</td>\n",
       "      <td>0.0</td>\n",
       "      <td>0.0</td>\n",
       "      <td>0.0</td>\n",
       "      <td>0.0</td>\n",
       "      <td>0.0</td>\n",
       "      <td>0.0</td>\n",
       "      <td>0.0</td>\n",
       "      <td>0.0</td>\n",
       "      <td>0.0</td>\n",
       "      <td>0.0</td>\n",
       "      <td>0.0</td>\n",
       "      <td>0.0</td>\n",
       "      <td>0.0</td>\n",
       "      <td>0.0</td>\n",
       "      <td>0.0</td>\n",
       "      <td>0.0</td>\n",
       "    </tr>\n",
       "    <tr>\n",
       "      <th>200.0</th>\n",
       "      <td>0.0</td>\n",
       "      <td>0.0</td>\n",
       "      <td>0.0</td>\n",
       "      <td>0.0</td>\n",
       "      <td>0.0</td>\n",
       "      <td>0.0</td>\n",
       "      <td>0.0</td>\n",
       "      <td>0.0</td>\n",
       "      <td>0.0</td>\n",
       "      <td>0.0</td>\n",
       "      <td>0.0</td>\n",
       "      <td>0.0</td>\n",
       "      <td>0.0</td>\n",
       "      <td>0.0</td>\n",
       "      <td>0.0</td>\n",
       "      <td>0.0</td>\n",
       "      <td>0.0</td>\n",
       "      <td>0.0</td>\n",
       "      <td>0.0</td>\n",
       "    </tr>\n",
       "  </tbody>\n",
       "</table>\n",
       "</div>"
      ],
      "text/plain": [
       "       0.000  0.056  0.111  0.167  0.222  0.278  0.333  0.389  0.444  0.500  \\\n",
       "0.0      0.0    0.0    0.0    0.0    0.0    0.0    0.0    0.0    0.0    0.0   \n",
       "10.0     0.0    0.0    0.0    0.0    0.0    0.0    0.0    0.0    0.0    0.0   \n",
       "20.0     0.0    0.0    0.0    0.0    0.0    0.0    0.0    0.0    0.0    0.0   \n",
       "30.0     0.0    0.0    0.0    0.0    0.0    0.0    0.0    0.0    0.0    0.0   \n",
       "40.0     0.0    0.0    0.0    0.0    0.0    0.0    0.0    0.0    0.0    0.0   \n",
       "50.0     0.0    0.0    0.0    0.0    0.0    0.0    0.0    0.0    0.0    0.0   \n",
       "60.0     0.0    0.0    0.0    0.0    0.0    0.0    0.0    0.0    0.0    0.0   \n",
       "70.0     0.0    0.0    0.0    0.0    0.0    0.0    0.0    0.0    0.0    0.0   \n",
       "80.0     0.0    0.0    0.0    0.0    0.0    0.0    0.0    0.0    0.0    0.0   \n",
       "90.0     0.0    0.0    0.0    0.0    0.0    0.0    0.0    0.0    0.0    0.0   \n",
       "100.0    0.0    0.0    0.0    0.0    0.0    0.0    0.0    0.0    0.0    0.0   \n",
       "110.0    0.0    0.0    0.0    0.0    0.0    0.0    0.0    0.0    0.0    0.0   \n",
       "120.0    0.0    0.0    0.0    0.0    0.0    0.0    0.0    0.0    0.0    0.0   \n",
       "130.0    0.0    0.0    0.0    0.0    0.0    0.0    0.0    0.0    0.0    0.0   \n",
       "140.0    0.0    0.0    0.0    0.0    0.0    0.0    0.0    0.0    0.0    0.0   \n",
       "150.0    0.0    0.0    0.0    0.0    0.0    0.0    0.0    0.0    0.0    0.0   \n",
       "160.0    0.0    0.0    0.0    0.0    0.0    0.0    0.0    0.0    0.0    0.0   \n",
       "170.0    0.0    0.0    0.0    0.0    0.0    0.0    0.0    0.0    0.0    0.0   \n",
       "180.0    0.0    0.0    0.0    0.0    0.0    0.0    0.0    0.0    0.0    0.0   \n",
       "190.0    0.0    0.0    0.0    0.0    0.0    0.0    0.0    0.0    0.0    0.0   \n",
       "200.0    0.0    0.0    0.0    0.0    0.0    0.0    0.0    0.0    0.0    0.0   \n",
       "\n",
       "       0.556  0.611  0.667  0.722  0.778  0.833  0.889  0.944  1.000  \n",
       "0.0      0.0    0.0    0.0    0.0    0.0    0.0    0.0    0.0    0.0  \n",
       "10.0     0.0    0.0    0.0    0.0    0.0    0.0    0.0    0.0    0.0  \n",
       "20.0     0.0    0.0    0.0    0.0    0.0    0.0    0.0    0.0    0.0  \n",
       "30.0     0.0    0.0    0.0    0.0    0.0    0.0    0.0    0.0    0.0  \n",
       "40.0     0.0    0.0    0.0    0.0    0.0    0.0    0.0    0.0    0.0  \n",
       "50.0     0.0    0.0    0.0    0.0    0.0    0.0    0.0    0.0    0.0  \n",
       "60.0     0.0    0.0    0.0    0.0    0.0    0.0    0.0    0.0    0.0  \n",
       "70.0     0.0    0.0    0.0    0.0    0.0    0.0    0.0    0.0    0.0  \n",
       "80.0     0.0    0.0    0.0    0.0    0.0    0.0    0.0    0.0    0.0  \n",
       "90.0     0.0    0.0    0.0    0.0    0.0    0.0    0.0    0.0    0.0  \n",
       "100.0    0.0    0.0    0.0    0.0    0.0    0.0    0.0    0.0    0.0  \n",
       "110.0    0.0    0.0    0.0    0.0    0.0    0.0    0.0    0.0    0.0  \n",
       "120.0    0.0    0.0    0.0    0.0    0.0    0.0    0.0    0.0    0.0  \n",
       "130.0    0.0    0.0    0.0    0.0    0.0    0.0    0.0    0.0    0.0  \n",
       "140.0    0.0    0.0    0.0    0.0    0.0    0.0    0.0    0.0    0.0  \n",
       "150.0    0.0    0.0    0.0    0.0    0.0    0.0    0.0    0.0    0.0  \n",
       "160.0    0.0    0.0    0.0    0.0    0.0    0.0    0.0    0.0    0.0  \n",
       "170.0    0.0    0.0    0.0    0.0    0.0    0.0    0.0    0.0    0.0  \n",
       "180.0    0.0    0.0    0.0    0.0    0.0    0.0    0.0    0.0    0.0  \n",
       "190.0    0.0    0.0    0.0    0.0    0.0    0.0    0.0    0.0    0.0  \n",
       "200.0    0.0    0.0    0.0    0.0    0.0    0.0    0.0    0.0    0.0  "
      ]
     },
     "execution_count": 5,
     "metadata": {},
     "output_type": "execute_result"
    }
   ],
   "source": [
    "# Initialize the grid with zeros\n",
    "grid = np.zeros((len(s),len(t)))\n",
    "\n",
    "# Subsume the grid points into a dataframe\n",
    "# with asset price as index and time steps as columns\n",
    "grid = pd.DataFrame(grid, index=s, columns=np.around(t,3))\n",
    "grid"
   ]
  },
  {
   "cell_type": "markdown",
   "id": "faa9c3ba",
   "metadata": {},
   "source": [
    "## 4.2 Specify payoff at expiration\n",
    "Specify final condition and payoffs\n",
    "\n",
    "$$V_i^0 = max(i\\delta s - E , 0)$$"
   ]
  },
  {
   "cell_type": "code",
   "execution_count": 6,
   "id": "8df840fe",
   "metadata": {
    "scrolled": true
   },
   "outputs": [
    {
     "data": {
      "text/html": [
       "<div>\n",
       "<style scoped>\n",
       "    .dataframe tbody tr th:only-of-type {\n",
       "        vertical-align: middle;\n",
       "    }\n",
       "\n",
       "    .dataframe tbody tr th {\n",
       "        vertical-align: top;\n",
       "    }\n",
       "\n",
       "    .dataframe thead th {\n",
       "        text-align: right;\n",
       "    }\n",
       "</style>\n",
       "<table border=\"1\" class=\"dataframe\">\n",
       "  <thead>\n",
       "    <tr style=\"text-align: right;\">\n",
       "      <th></th>\n",
       "      <th>0.000</th>\n",
       "      <th>0.056</th>\n",
       "      <th>0.111</th>\n",
       "      <th>0.167</th>\n",
       "      <th>0.222</th>\n",
       "      <th>0.278</th>\n",
       "      <th>0.333</th>\n",
       "      <th>0.389</th>\n",
       "      <th>0.444</th>\n",
       "      <th>0.500</th>\n",
       "      <th>0.556</th>\n",
       "      <th>0.611</th>\n",
       "      <th>0.667</th>\n",
       "      <th>0.722</th>\n",
       "      <th>0.778</th>\n",
       "      <th>0.833</th>\n",
       "      <th>0.889</th>\n",
       "      <th>0.944</th>\n",
       "      <th>1.000</th>\n",
       "    </tr>\n",
       "  </thead>\n",
       "  <tbody>\n",
       "    <tr>\n",
       "      <th>0.0</th>\n",
       "      <td>0.0</td>\n",
       "      <td>0.0</td>\n",
       "      <td>0.0</td>\n",
       "      <td>0.0</td>\n",
       "      <td>0.0</td>\n",
       "      <td>0.0</td>\n",
       "      <td>0.0</td>\n",
       "      <td>0.0</td>\n",
       "      <td>0.0</td>\n",
       "      <td>0.0</td>\n",
       "      <td>0.0</td>\n",
       "      <td>0.0</td>\n",
       "      <td>0.0</td>\n",
       "      <td>0.0</td>\n",
       "      <td>0.0</td>\n",
       "      <td>0.0</td>\n",
       "      <td>0.0</td>\n",
       "      <td>0.0</td>\n",
       "      <td>0.0</td>\n",
       "    </tr>\n",
       "    <tr>\n",
       "      <th>10.0</th>\n",
       "      <td>0.0</td>\n",
       "      <td>0.0</td>\n",
       "      <td>0.0</td>\n",
       "      <td>0.0</td>\n",
       "      <td>0.0</td>\n",
       "      <td>0.0</td>\n",
       "      <td>0.0</td>\n",
       "      <td>0.0</td>\n",
       "      <td>0.0</td>\n",
       "      <td>0.0</td>\n",
       "      <td>0.0</td>\n",
       "      <td>0.0</td>\n",
       "      <td>0.0</td>\n",
       "      <td>0.0</td>\n",
       "      <td>0.0</td>\n",
       "      <td>0.0</td>\n",
       "      <td>0.0</td>\n",
       "      <td>0.0</td>\n",
       "      <td>0.0</td>\n",
       "    </tr>\n",
       "    <tr>\n",
       "      <th>20.0</th>\n",
       "      <td>0.0</td>\n",
       "      <td>0.0</td>\n",
       "      <td>0.0</td>\n",
       "      <td>0.0</td>\n",
       "      <td>0.0</td>\n",
       "      <td>0.0</td>\n",
       "      <td>0.0</td>\n",
       "      <td>0.0</td>\n",
       "      <td>0.0</td>\n",
       "      <td>0.0</td>\n",
       "      <td>0.0</td>\n",
       "      <td>0.0</td>\n",
       "      <td>0.0</td>\n",
       "      <td>0.0</td>\n",
       "      <td>0.0</td>\n",
       "      <td>0.0</td>\n",
       "      <td>0.0</td>\n",
       "      <td>0.0</td>\n",
       "      <td>0.0</td>\n",
       "    </tr>\n",
       "    <tr>\n",
       "      <th>30.0</th>\n",
       "      <td>0.0</td>\n",
       "      <td>0.0</td>\n",
       "      <td>0.0</td>\n",
       "      <td>0.0</td>\n",
       "      <td>0.0</td>\n",
       "      <td>0.0</td>\n",
       "      <td>0.0</td>\n",
       "      <td>0.0</td>\n",
       "      <td>0.0</td>\n",
       "      <td>0.0</td>\n",
       "      <td>0.0</td>\n",
       "      <td>0.0</td>\n",
       "      <td>0.0</td>\n",
       "      <td>0.0</td>\n",
       "      <td>0.0</td>\n",
       "      <td>0.0</td>\n",
       "      <td>0.0</td>\n",
       "      <td>0.0</td>\n",
       "      <td>0.0</td>\n",
       "    </tr>\n",
       "    <tr>\n",
       "      <th>40.0</th>\n",
       "      <td>0.0</td>\n",
       "      <td>0.0</td>\n",
       "      <td>0.0</td>\n",
       "      <td>0.0</td>\n",
       "      <td>0.0</td>\n",
       "      <td>0.0</td>\n",
       "      <td>0.0</td>\n",
       "      <td>0.0</td>\n",
       "      <td>0.0</td>\n",
       "      <td>0.0</td>\n",
       "      <td>0.0</td>\n",
       "      <td>0.0</td>\n",
       "      <td>0.0</td>\n",
       "      <td>0.0</td>\n",
       "      <td>0.0</td>\n",
       "      <td>0.0</td>\n",
       "      <td>0.0</td>\n",
       "      <td>0.0</td>\n",
       "      <td>0.0</td>\n",
       "    </tr>\n",
       "    <tr>\n",
       "      <th>50.0</th>\n",
       "      <td>0.0</td>\n",
       "      <td>0.0</td>\n",
       "      <td>0.0</td>\n",
       "      <td>0.0</td>\n",
       "      <td>0.0</td>\n",
       "      <td>0.0</td>\n",
       "      <td>0.0</td>\n",
       "      <td>0.0</td>\n",
       "      <td>0.0</td>\n",
       "      <td>0.0</td>\n",
       "      <td>0.0</td>\n",
       "      <td>0.0</td>\n",
       "      <td>0.0</td>\n",
       "      <td>0.0</td>\n",
       "      <td>0.0</td>\n",
       "      <td>0.0</td>\n",
       "      <td>0.0</td>\n",
       "      <td>0.0</td>\n",
       "      <td>0.0</td>\n",
       "    </tr>\n",
       "    <tr>\n",
       "      <th>60.0</th>\n",
       "      <td>0.0</td>\n",
       "      <td>0.0</td>\n",
       "      <td>0.0</td>\n",
       "      <td>0.0</td>\n",
       "      <td>0.0</td>\n",
       "      <td>0.0</td>\n",
       "      <td>0.0</td>\n",
       "      <td>0.0</td>\n",
       "      <td>0.0</td>\n",
       "      <td>0.0</td>\n",
       "      <td>0.0</td>\n",
       "      <td>0.0</td>\n",
       "      <td>0.0</td>\n",
       "      <td>0.0</td>\n",
       "      <td>0.0</td>\n",
       "      <td>0.0</td>\n",
       "      <td>0.0</td>\n",
       "      <td>0.0</td>\n",
       "      <td>0.0</td>\n",
       "    </tr>\n",
       "    <tr>\n",
       "      <th>70.0</th>\n",
       "      <td>0.0</td>\n",
       "      <td>0.0</td>\n",
       "      <td>0.0</td>\n",
       "      <td>0.0</td>\n",
       "      <td>0.0</td>\n",
       "      <td>0.0</td>\n",
       "      <td>0.0</td>\n",
       "      <td>0.0</td>\n",
       "      <td>0.0</td>\n",
       "      <td>0.0</td>\n",
       "      <td>0.0</td>\n",
       "      <td>0.0</td>\n",
       "      <td>0.0</td>\n",
       "      <td>0.0</td>\n",
       "      <td>0.0</td>\n",
       "      <td>0.0</td>\n",
       "      <td>0.0</td>\n",
       "      <td>0.0</td>\n",
       "      <td>0.0</td>\n",
       "    </tr>\n",
       "    <tr>\n",
       "      <th>80.0</th>\n",
       "      <td>0.0</td>\n",
       "      <td>0.0</td>\n",
       "      <td>0.0</td>\n",
       "      <td>0.0</td>\n",
       "      <td>0.0</td>\n",
       "      <td>0.0</td>\n",
       "      <td>0.0</td>\n",
       "      <td>0.0</td>\n",
       "      <td>0.0</td>\n",
       "      <td>0.0</td>\n",
       "      <td>0.0</td>\n",
       "      <td>0.0</td>\n",
       "      <td>0.0</td>\n",
       "      <td>0.0</td>\n",
       "      <td>0.0</td>\n",
       "      <td>0.0</td>\n",
       "      <td>0.0</td>\n",
       "      <td>0.0</td>\n",
       "      <td>0.0</td>\n",
       "    </tr>\n",
       "    <tr>\n",
       "      <th>90.0</th>\n",
       "      <td>0.0</td>\n",
       "      <td>0.0</td>\n",
       "      <td>0.0</td>\n",
       "      <td>0.0</td>\n",
       "      <td>0.0</td>\n",
       "      <td>0.0</td>\n",
       "      <td>0.0</td>\n",
       "      <td>0.0</td>\n",
       "      <td>0.0</td>\n",
       "      <td>0.0</td>\n",
       "      <td>0.0</td>\n",
       "      <td>0.0</td>\n",
       "      <td>0.0</td>\n",
       "      <td>0.0</td>\n",
       "      <td>0.0</td>\n",
       "      <td>0.0</td>\n",
       "      <td>0.0</td>\n",
       "      <td>0.0</td>\n",
       "      <td>0.0</td>\n",
       "    </tr>\n",
       "    <tr>\n",
       "      <th>100.0</th>\n",
       "      <td>0.0</td>\n",
       "      <td>0.0</td>\n",
       "      <td>0.0</td>\n",
       "      <td>0.0</td>\n",
       "      <td>0.0</td>\n",
       "      <td>0.0</td>\n",
       "      <td>0.0</td>\n",
       "      <td>0.0</td>\n",
       "      <td>0.0</td>\n",
       "      <td>0.0</td>\n",
       "      <td>0.0</td>\n",
       "      <td>0.0</td>\n",
       "      <td>0.0</td>\n",
       "      <td>0.0</td>\n",
       "      <td>0.0</td>\n",
       "      <td>0.0</td>\n",
       "      <td>0.0</td>\n",
       "      <td>0.0</td>\n",
       "      <td>0.0</td>\n",
       "    </tr>\n",
       "    <tr>\n",
       "      <th>110.0</th>\n",
       "      <td>10.0</td>\n",
       "      <td>0.0</td>\n",
       "      <td>0.0</td>\n",
       "      <td>0.0</td>\n",
       "      <td>0.0</td>\n",
       "      <td>0.0</td>\n",
       "      <td>0.0</td>\n",
       "      <td>0.0</td>\n",
       "      <td>0.0</td>\n",
       "      <td>0.0</td>\n",
       "      <td>0.0</td>\n",
       "      <td>0.0</td>\n",
       "      <td>0.0</td>\n",
       "      <td>0.0</td>\n",
       "      <td>0.0</td>\n",
       "      <td>0.0</td>\n",
       "      <td>0.0</td>\n",
       "      <td>0.0</td>\n",
       "      <td>0.0</td>\n",
       "    </tr>\n",
       "    <tr>\n",
       "      <th>120.0</th>\n",
       "      <td>20.0</td>\n",
       "      <td>0.0</td>\n",
       "      <td>0.0</td>\n",
       "      <td>0.0</td>\n",
       "      <td>0.0</td>\n",
       "      <td>0.0</td>\n",
       "      <td>0.0</td>\n",
       "      <td>0.0</td>\n",
       "      <td>0.0</td>\n",
       "      <td>0.0</td>\n",
       "      <td>0.0</td>\n",
       "      <td>0.0</td>\n",
       "      <td>0.0</td>\n",
       "      <td>0.0</td>\n",
       "      <td>0.0</td>\n",
       "      <td>0.0</td>\n",
       "      <td>0.0</td>\n",
       "      <td>0.0</td>\n",
       "      <td>0.0</td>\n",
       "    </tr>\n",
       "    <tr>\n",
       "      <th>130.0</th>\n",
       "      <td>30.0</td>\n",
       "      <td>0.0</td>\n",
       "      <td>0.0</td>\n",
       "      <td>0.0</td>\n",
       "      <td>0.0</td>\n",
       "      <td>0.0</td>\n",
       "      <td>0.0</td>\n",
       "      <td>0.0</td>\n",
       "      <td>0.0</td>\n",
       "      <td>0.0</td>\n",
       "      <td>0.0</td>\n",
       "      <td>0.0</td>\n",
       "      <td>0.0</td>\n",
       "      <td>0.0</td>\n",
       "      <td>0.0</td>\n",
       "      <td>0.0</td>\n",
       "      <td>0.0</td>\n",
       "      <td>0.0</td>\n",
       "      <td>0.0</td>\n",
       "    </tr>\n",
       "    <tr>\n",
       "      <th>140.0</th>\n",
       "      <td>40.0</td>\n",
       "      <td>0.0</td>\n",
       "      <td>0.0</td>\n",
       "      <td>0.0</td>\n",
       "      <td>0.0</td>\n",
       "      <td>0.0</td>\n",
       "      <td>0.0</td>\n",
       "      <td>0.0</td>\n",
       "      <td>0.0</td>\n",
       "      <td>0.0</td>\n",
       "      <td>0.0</td>\n",
       "      <td>0.0</td>\n",
       "      <td>0.0</td>\n",
       "      <td>0.0</td>\n",
       "      <td>0.0</td>\n",
       "      <td>0.0</td>\n",
       "      <td>0.0</td>\n",
       "      <td>0.0</td>\n",
       "      <td>0.0</td>\n",
       "    </tr>\n",
       "    <tr>\n",
       "      <th>150.0</th>\n",
       "      <td>50.0</td>\n",
       "      <td>0.0</td>\n",
       "      <td>0.0</td>\n",
       "      <td>0.0</td>\n",
       "      <td>0.0</td>\n",
       "      <td>0.0</td>\n",
       "      <td>0.0</td>\n",
       "      <td>0.0</td>\n",
       "      <td>0.0</td>\n",
       "      <td>0.0</td>\n",
       "      <td>0.0</td>\n",
       "      <td>0.0</td>\n",
       "      <td>0.0</td>\n",
       "      <td>0.0</td>\n",
       "      <td>0.0</td>\n",
       "      <td>0.0</td>\n",
       "      <td>0.0</td>\n",
       "      <td>0.0</td>\n",
       "      <td>0.0</td>\n",
       "    </tr>\n",
       "    <tr>\n",
       "      <th>160.0</th>\n",
       "      <td>60.0</td>\n",
       "      <td>0.0</td>\n",
       "      <td>0.0</td>\n",
       "      <td>0.0</td>\n",
       "      <td>0.0</td>\n",
       "      <td>0.0</td>\n",
       "      <td>0.0</td>\n",
       "      <td>0.0</td>\n",
       "      <td>0.0</td>\n",
       "      <td>0.0</td>\n",
       "      <td>0.0</td>\n",
       "      <td>0.0</td>\n",
       "      <td>0.0</td>\n",
       "      <td>0.0</td>\n",
       "      <td>0.0</td>\n",
       "      <td>0.0</td>\n",
       "      <td>0.0</td>\n",
       "      <td>0.0</td>\n",
       "      <td>0.0</td>\n",
       "    </tr>\n",
       "    <tr>\n",
       "      <th>170.0</th>\n",
       "      <td>70.0</td>\n",
       "      <td>0.0</td>\n",
       "      <td>0.0</td>\n",
       "      <td>0.0</td>\n",
       "      <td>0.0</td>\n",
       "      <td>0.0</td>\n",
       "      <td>0.0</td>\n",
       "      <td>0.0</td>\n",
       "      <td>0.0</td>\n",
       "      <td>0.0</td>\n",
       "      <td>0.0</td>\n",
       "      <td>0.0</td>\n",
       "      <td>0.0</td>\n",
       "      <td>0.0</td>\n",
       "      <td>0.0</td>\n",
       "      <td>0.0</td>\n",
       "      <td>0.0</td>\n",
       "      <td>0.0</td>\n",
       "      <td>0.0</td>\n",
       "    </tr>\n",
       "    <tr>\n",
       "      <th>180.0</th>\n",
       "      <td>80.0</td>\n",
       "      <td>0.0</td>\n",
       "      <td>0.0</td>\n",
       "      <td>0.0</td>\n",
       "      <td>0.0</td>\n",
       "      <td>0.0</td>\n",
       "      <td>0.0</td>\n",
       "      <td>0.0</td>\n",
       "      <td>0.0</td>\n",
       "      <td>0.0</td>\n",
       "      <td>0.0</td>\n",
       "      <td>0.0</td>\n",
       "      <td>0.0</td>\n",
       "      <td>0.0</td>\n",
       "      <td>0.0</td>\n",
       "      <td>0.0</td>\n",
       "      <td>0.0</td>\n",
       "      <td>0.0</td>\n",
       "      <td>0.0</td>\n",
       "    </tr>\n",
       "    <tr>\n",
       "      <th>190.0</th>\n",
       "      <td>90.0</td>\n",
       "      <td>0.0</td>\n",
       "      <td>0.0</td>\n",
       "      <td>0.0</td>\n",
       "      <td>0.0</td>\n",
       "      <td>0.0</td>\n",
       "      <td>0.0</td>\n",
       "      <td>0.0</td>\n",
       "      <td>0.0</td>\n",
       "      <td>0.0</td>\n",
       "      <td>0.0</td>\n",
       "      <td>0.0</td>\n",
       "      <td>0.0</td>\n",
       "      <td>0.0</td>\n",
       "      <td>0.0</td>\n",
       "      <td>0.0</td>\n",
       "      <td>0.0</td>\n",
       "      <td>0.0</td>\n",
       "      <td>0.0</td>\n",
       "    </tr>\n",
       "    <tr>\n",
       "      <th>200.0</th>\n",
       "      <td>100.0</td>\n",
       "      <td>0.0</td>\n",
       "      <td>0.0</td>\n",
       "      <td>0.0</td>\n",
       "      <td>0.0</td>\n",
       "      <td>0.0</td>\n",
       "      <td>0.0</td>\n",
       "      <td>0.0</td>\n",
       "      <td>0.0</td>\n",
       "      <td>0.0</td>\n",
       "      <td>0.0</td>\n",
       "      <td>0.0</td>\n",
       "      <td>0.0</td>\n",
       "      <td>0.0</td>\n",
       "      <td>0.0</td>\n",
       "      <td>0.0</td>\n",
       "      <td>0.0</td>\n",
       "      <td>0.0</td>\n",
       "      <td>0.0</td>\n",
       "    </tr>\n",
       "  </tbody>\n",
       "</table>\n",
       "</div>"
      ],
      "text/plain": [
       "       0.000  0.056  0.111  0.167  0.222  0.278  0.333  0.389  0.444  0.500  \\\n",
       "0.0      0.0    0.0    0.0    0.0    0.0    0.0    0.0    0.0    0.0    0.0   \n",
       "10.0     0.0    0.0    0.0    0.0    0.0    0.0    0.0    0.0    0.0    0.0   \n",
       "20.0     0.0    0.0    0.0    0.0    0.0    0.0    0.0    0.0    0.0    0.0   \n",
       "30.0     0.0    0.0    0.0    0.0    0.0    0.0    0.0    0.0    0.0    0.0   \n",
       "40.0     0.0    0.0    0.0    0.0    0.0    0.0    0.0    0.0    0.0    0.0   \n",
       "50.0     0.0    0.0    0.0    0.0    0.0    0.0    0.0    0.0    0.0    0.0   \n",
       "60.0     0.0    0.0    0.0    0.0    0.0    0.0    0.0    0.0    0.0    0.0   \n",
       "70.0     0.0    0.0    0.0    0.0    0.0    0.0    0.0    0.0    0.0    0.0   \n",
       "80.0     0.0    0.0    0.0    0.0    0.0    0.0    0.0    0.0    0.0    0.0   \n",
       "90.0     0.0    0.0    0.0    0.0    0.0    0.0    0.0    0.0    0.0    0.0   \n",
       "100.0    0.0    0.0    0.0    0.0    0.0    0.0    0.0    0.0    0.0    0.0   \n",
       "110.0   10.0    0.0    0.0    0.0    0.0    0.0    0.0    0.0    0.0    0.0   \n",
       "120.0   20.0    0.0    0.0    0.0    0.0    0.0    0.0    0.0    0.0    0.0   \n",
       "130.0   30.0    0.0    0.0    0.0    0.0    0.0    0.0    0.0    0.0    0.0   \n",
       "140.0   40.0    0.0    0.0    0.0    0.0    0.0    0.0    0.0    0.0    0.0   \n",
       "150.0   50.0    0.0    0.0    0.0    0.0    0.0    0.0    0.0    0.0    0.0   \n",
       "160.0   60.0    0.0    0.0    0.0    0.0    0.0    0.0    0.0    0.0    0.0   \n",
       "170.0   70.0    0.0    0.0    0.0    0.0    0.0    0.0    0.0    0.0    0.0   \n",
       "180.0   80.0    0.0    0.0    0.0    0.0    0.0    0.0    0.0    0.0    0.0   \n",
       "190.0   90.0    0.0    0.0    0.0    0.0    0.0    0.0    0.0    0.0    0.0   \n",
       "200.0  100.0    0.0    0.0    0.0    0.0    0.0    0.0    0.0    0.0    0.0   \n",
       "\n",
       "       0.556  0.611  0.667  0.722  0.778  0.833  0.889  0.944  1.000  \n",
       "0.0      0.0    0.0    0.0    0.0    0.0    0.0    0.0    0.0    0.0  \n",
       "10.0     0.0    0.0    0.0    0.0    0.0    0.0    0.0    0.0    0.0  \n",
       "20.0     0.0    0.0    0.0    0.0    0.0    0.0    0.0    0.0    0.0  \n",
       "30.0     0.0    0.0    0.0    0.0    0.0    0.0    0.0    0.0    0.0  \n",
       "40.0     0.0    0.0    0.0    0.0    0.0    0.0    0.0    0.0    0.0  \n",
       "50.0     0.0    0.0    0.0    0.0    0.0    0.0    0.0    0.0    0.0  \n",
       "60.0     0.0    0.0    0.0    0.0    0.0    0.0    0.0    0.0    0.0  \n",
       "70.0     0.0    0.0    0.0    0.0    0.0    0.0    0.0    0.0    0.0  \n",
       "80.0     0.0    0.0    0.0    0.0    0.0    0.0    0.0    0.0    0.0  \n",
       "90.0     0.0    0.0    0.0    0.0    0.0    0.0    0.0    0.0    0.0  \n",
       "100.0    0.0    0.0    0.0    0.0    0.0    0.0    0.0    0.0    0.0  \n",
       "110.0    0.0    0.0    0.0    0.0    0.0    0.0    0.0    0.0    0.0  \n",
       "120.0    0.0    0.0    0.0    0.0    0.0    0.0    0.0    0.0    0.0  \n",
       "130.0    0.0    0.0    0.0    0.0    0.0    0.0    0.0    0.0    0.0  \n",
       "140.0    0.0    0.0    0.0    0.0    0.0    0.0    0.0    0.0    0.0  \n",
       "150.0    0.0    0.0    0.0    0.0    0.0    0.0    0.0    0.0    0.0  \n",
       "160.0    0.0    0.0    0.0    0.0    0.0    0.0    0.0    0.0    0.0  \n",
       "170.0    0.0    0.0    0.0    0.0    0.0    0.0    0.0    0.0    0.0  \n",
       "180.0    0.0    0.0    0.0    0.0    0.0    0.0    0.0    0.0    0.0  \n",
       "190.0    0.0    0.0    0.0    0.0    0.0    0.0    0.0    0.0    0.0  \n",
       "200.0    0.0    0.0    0.0    0.0    0.0    0.0    0.0    0.0    0.0  "
      ]
     },
     "execution_count": 6,
     "metadata": {},
     "output_type": "execute_result"
    }
   ],
   "source": [
    "# Set Final or Initial condition at Expiration\n",
    "# for the '0th' column only, let's have a look\n",
    "if Flag == 1:    # for call option\n",
    "    grid.iloc[:,0] = np.maximum(s - E, 0)\n",
    "else:    # for put option\n",
    "    grid.iloc[:,0] = np.maximum(E - s, 0)\n",
    "    \n",
    "# Verify the grid\n",
    "grid"
   ]
  },
  {
   "cell_type": "code",
   "execution_count": 7,
   "id": "d1231755",
   "metadata": {},
   "outputs": [
    {
     "data": {
      "text/plain": [
       "[0.0,\n",
       " 0.0,\n",
       " 0.0,\n",
       " 0.0,\n",
       " 0.0,\n",
       " 0.0,\n",
       " 0.0,\n",
       " 0.0,\n",
       " 0.0,\n",
       " 0.0,\n",
       " 0.0,\n",
       " 10.0,\n",
       " 20.0,\n",
       " 30.0,\n",
       " 40.0,\n",
       " 50.0,\n",
       " 60.0,\n",
       " 70.0,\n",
       " 80.0,\n",
       " 90.0,\n",
       " 100.0]"
      ]
     },
     "execution_count": 7,
     "metadata": {},
     "output_type": "execute_result"
    }
   ],
   "source": [
    "# Store payoff for early exercise\n",
    "p = []\n",
    "for j in np.arange(0, NAS+1):\n",
    "    p.append(grid.iloc[j,0])\n",
    "\n",
    "p"
   ]
  },
  {
   "cell_type": "markdown",
   "id": "9665de58",
   "metadata": {},
   "source": [
    "## 4.3 Fill the Grid\n",
    "Specify boundary condition at $S = 0$\n",
    "\n",
    "$$V_0^k = (1-r\\delta t) V_0^{k-1}$$\n",
    "\n",
    "Specify boundary condition at $S = \\infty$\n",
    "\n",
    "$$V_i^k = 2V_{i-1}^k - V_{i-2}^k$$\n",
    "\n",
    "---\n",
    "We backward induct, \n",
    "\n",
    "$$V_k^i = V_{k-1}^i - \\Theta \\times dt$$\n",
    "\n",
    "$\\Theta$ is getting from the Black-Schole fomula,\n",
    "\n",
    "$$\\Theta + \\frac{1}{2}\\sigma^2 S^2 \\Gamma  + rS\\Delta - r V = 0$$"
   ]
  },
  {
   "cell_type": "code",
   "execution_count": 8,
   "id": "b78811cc",
   "metadata": {
    "scrolled": false
   },
   "outputs": [
    {
     "data": {
      "text/html": [
       "<div>\n",
       "<style scoped>\n",
       "    .dataframe tbody tr th:only-of-type {\n",
       "        vertical-align: middle;\n",
       "    }\n",
       "\n",
       "    .dataframe tbody tr th {\n",
       "        vertical-align: top;\n",
       "    }\n",
       "\n",
       "    .dataframe thead th {\n",
       "        text-align: right;\n",
       "    }\n",
       "</style>\n",
       "<table border=\"1\" class=\"dataframe\">\n",
       "  <thead>\n",
       "    <tr style=\"text-align: right;\">\n",
       "      <th></th>\n",
       "      <th>0.000</th>\n",
       "      <th>0.056</th>\n",
       "      <th>0.111</th>\n",
       "      <th>0.167</th>\n",
       "      <th>0.222</th>\n",
       "      <th>0.278</th>\n",
       "      <th>0.333</th>\n",
       "      <th>0.389</th>\n",
       "      <th>0.444</th>\n",
       "      <th>0.500</th>\n",
       "      <th>0.556</th>\n",
       "      <th>0.611</th>\n",
       "      <th>0.667</th>\n",
       "      <th>0.722</th>\n",
       "      <th>0.778</th>\n",
       "      <th>0.833</th>\n",
       "      <th>0.889</th>\n",
       "      <th>0.944</th>\n",
       "      <th>1.000</th>\n",
       "    </tr>\n",
       "  </thead>\n",
       "  <tbody>\n",
       "    <tr>\n",
       "      <th>0.0</th>\n",
       "      <td>0.0</td>\n",
       "      <td>0.000</td>\n",
       "      <td>0.000</td>\n",
       "      <td>0.000</td>\n",
       "      <td>0.000</td>\n",
       "      <td>0.000</td>\n",
       "      <td>0.000</td>\n",
       "      <td>0.000</td>\n",
       "      <td>0.000</td>\n",
       "      <td>0.000</td>\n",
       "      <td>0.000</td>\n",
       "      <td>0.000</td>\n",
       "      <td>0.000</td>\n",
       "      <td>0.000</td>\n",
       "      <td>0.000</td>\n",
       "      <td>0.000</td>\n",
       "      <td>0.000</td>\n",
       "      <td>0.000</td>\n",
       "      <td>0.000</td>\n",
       "    </tr>\n",
       "    <tr>\n",
       "      <th>10.0</th>\n",
       "      <td>0.0</td>\n",
       "      <td>0.000</td>\n",
       "      <td>0.000</td>\n",
       "      <td>0.000</td>\n",
       "      <td>0.000</td>\n",
       "      <td>0.000</td>\n",
       "      <td>0.000</td>\n",
       "      <td>0.000</td>\n",
       "      <td>0.000</td>\n",
       "      <td>0.000</td>\n",
       "      <td>0.000</td>\n",
       "      <td>0.000</td>\n",
       "      <td>0.000</td>\n",
       "      <td>0.000</td>\n",
       "      <td>0.000</td>\n",
       "      <td>0.000</td>\n",
       "      <td>0.000</td>\n",
       "      <td>0.000</td>\n",
       "      <td>0.000</td>\n",
       "    </tr>\n",
       "    <tr>\n",
       "      <th>20.0</th>\n",
       "      <td>0.0</td>\n",
       "      <td>0.000</td>\n",
       "      <td>0.000</td>\n",
       "      <td>0.000</td>\n",
       "      <td>0.000</td>\n",
       "      <td>0.000</td>\n",
       "      <td>0.000</td>\n",
       "      <td>0.000</td>\n",
       "      <td>0.000</td>\n",
       "      <td>0.000</td>\n",
       "      <td>0.000</td>\n",
       "      <td>0.000</td>\n",
       "      <td>0.000</td>\n",
       "      <td>0.000</td>\n",
       "      <td>0.000</td>\n",
       "      <td>0.000</td>\n",
       "      <td>0.000</td>\n",
       "      <td>0.000</td>\n",
       "      <td>0.000</td>\n",
       "    </tr>\n",
       "    <tr>\n",
       "      <th>30.0</th>\n",
       "      <td>0.0</td>\n",
       "      <td>0.000</td>\n",
       "      <td>0.000</td>\n",
       "      <td>0.000</td>\n",
       "      <td>0.000</td>\n",
       "      <td>0.000</td>\n",
       "      <td>0.000</td>\n",
       "      <td>0.000</td>\n",
       "      <td>0.000</td>\n",
       "      <td>0.000</td>\n",
       "      <td>0.000</td>\n",
       "      <td>0.000</td>\n",
       "      <td>0.000</td>\n",
       "      <td>0.000</td>\n",
       "      <td>0.000</td>\n",
       "      <td>0.000</td>\n",
       "      <td>0.000</td>\n",
       "      <td>0.000</td>\n",
       "      <td>0.000</td>\n",
       "    </tr>\n",
       "    <tr>\n",
       "      <th>40.0</th>\n",
       "      <td>0.0</td>\n",
       "      <td>0.000</td>\n",
       "      <td>0.000</td>\n",
       "      <td>0.000</td>\n",
       "      <td>0.000</td>\n",
       "      <td>0.000</td>\n",
       "      <td>0.000</td>\n",
       "      <td>0.000</td>\n",
       "      <td>0.000</td>\n",
       "      <td>0.000</td>\n",
       "      <td>0.000</td>\n",
       "      <td>0.000</td>\n",
       "      <td>0.000</td>\n",
       "      <td>0.000</td>\n",
       "      <td>0.000</td>\n",
       "      <td>0.000</td>\n",
       "      <td>0.000</td>\n",
       "      <td>0.000</td>\n",
       "      <td>0.000</td>\n",
       "    </tr>\n",
       "    <tr>\n",
       "      <th>50.0</th>\n",
       "      <td>0.0</td>\n",
       "      <td>0.000</td>\n",
       "      <td>0.000</td>\n",
       "      <td>0.000</td>\n",
       "      <td>0.000</td>\n",
       "      <td>0.000</td>\n",
       "      <td>0.000</td>\n",
       "      <td>0.000</td>\n",
       "      <td>0.000</td>\n",
       "      <td>0.000</td>\n",
       "      <td>0.000</td>\n",
       "      <td>0.000</td>\n",
       "      <td>0.001</td>\n",
       "      <td>0.001</td>\n",
       "      <td>0.001</td>\n",
       "      <td>0.002</td>\n",
       "      <td>0.003</td>\n",
       "      <td>0.004</td>\n",
       "      <td>0.006</td>\n",
       "    </tr>\n",
       "    <tr>\n",
       "      <th>60.0</th>\n",
       "      <td>0.0</td>\n",
       "      <td>0.000</td>\n",
       "      <td>0.000</td>\n",
       "      <td>0.000</td>\n",
       "      <td>0.000</td>\n",
       "      <td>0.000</td>\n",
       "      <td>0.000</td>\n",
       "      <td>0.001</td>\n",
       "      <td>0.001</td>\n",
       "      <td>0.003</td>\n",
       "      <td>0.004</td>\n",
       "      <td>0.007</td>\n",
       "      <td>0.011</td>\n",
       "      <td>0.016</td>\n",
       "      <td>0.023</td>\n",
       "      <td>0.031</td>\n",
       "      <td>0.041</td>\n",
       "      <td>0.053</td>\n",
       "      <td>0.066</td>\n",
       "    </tr>\n",
       "    <tr>\n",
       "      <th>70.0</th>\n",
       "      <td>0.0</td>\n",
       "      <td>0.000</td>\n",
       "      <td>0.000</td>\n",
       "      <td>0.000</td>\n",
       "      <td>0.001</td>\n",
       "      <td>0.003</td>\n",
       "      <td>0.008</td>\n",
       "      <td>0.016</td>\n",
       "      <td>0.028</td>\n",
       "      <td>0.045</td>\n",
       "      <td>0.067</td>\n",
       "      <td>0.094</td>\n",
       "      <td>0.126</td>\n",
       "      <td>0.164</td>\n",
       "      <td>0.207</td>\n",
       "      <td>0.255</td>\n",
       "      <td>0.308</td>\n",
       "      <td>0.367</td>\n",
       "      <td>0.430</td>\n",
       "    </tr>\n",
       "    <tr>\n",
       "      <th>80.0</th>\n",
       "      <td>0.0</td>\n",
       "      <td>0.000</td>\n",
       "      <td>0.000</td>\n",
       "      <td>0.011</td>\n",
       "      <td>0.037</td>\n",
       "      <td>0.080</td>\n",
       "      <td>0.141</td>\n",
       "      <td>0.218</td>\n",
       "      <td>0.310</td>\n",
       "      <td>0.416</td>\n",
       "      <td>0.534</td>\n",
       "      <td>0.662</td>\n",
       "      <td>0.799</td>\n",
       "      <td>0.944</td>\n",
       "      <td>1.096</td>\n",
       "      <td>1.253</td>\n",
       "      <td>1.416</td>\n",
       "      <td>1.583</td>\n",
       "      <td>1.754</td>\n",
       "    </tr>\n",
       "    <tr>\n",
       "      <th>90.0</th>\n",
       "      <td>0.0</td>\n",
       "      <td>0.000</td>\n",
       "      <td>0.128</td>\n",
       "      <td>0.336</td>\n",
       "      <td>0.592</td>\n",
       "      <td>0.878</td>\n",
       "      <td>1.182</td>\n",
       "      <td>1.495</td>\n",
       "      <td>1.812</td>\n",
       "      <td>2.131</td>\n",
       "      <td>2.450</td>\n",
       "      <td>2.766</td>\n",
       "      <td>3.080</td>\n",
       "      <td>3.392</td>\n",
       "      <td>3.700</td>\n",
       "      <td>4.004</td>\n",
       "      <td>4.306</td>\n",
       "      <td>4.604</td>\n",
       "      <td>4.899</td>\n",
       "    </tr>\n",
       "    <tr>\n",
       "      <th>100.0</th>\n",
       "      <td>0.0</td>\n",
       "      <td>1.250</td>\n",
       "      <td>2.253</td>\n",
       "      <td>3.093</td>\n",
       "      <td>3.819</td>\n",
       "      <td>4.466</td>\n",
       "      <td>5.054</td>\n",
       "      <td>5.599</td>\n",
       "      <td>6.109</td>\n",
       "      <td>6.593</td>\n",
       "      <td>7.054</td>\n",
       "      <td>7.497</td>\n",
       "      <td>7.925</td>\n",
       "      <td>8.339</td>\n",
       "      <td>8.741</td>\n",
       "      <td>9.133</td>\n",
       "      <td>9.515</td>\n",
       "      <td>9.889</td>\n",
       "      <td>10.255</td>\n",
       "    </tr>\n",
       "    <tr>\n",
       "      <th>110.0</th>\n",
       "      <td>10.0</td>\n",
       "      <td>10.278</td>\n",
       "      <td>10.671</td>\n",
       "      <td>11.118</td>\n",
       "      <td>11.587</td>\n",
       "      <td>12.063</td>\n",
       "      <td>12.535</td>\n",
       "      <td>13.000</td>\n",
       "      <td>13.455</td>\n",
       "      <td>13.901</td>\n",
       "      <td>14.337</td>\n",
       "      <td>14.763</td>\n",
       "      <td>15.180</td>\n",
       "      <td>15.589</td>\n",
       "      <td>15.990</td>\n",
       "      <td>16.383</td>\n",
       "      <td>16.770</td>\n",
       "      <td>17.149</td>\n",
       "      <td>17.523</td>\n",
       "    </tr>\n",
       "    <tr>\n",
       "      <th>120.0</th>\n",
       "      <td>20.0</td>\n",
       "      <td>20.278</td>\n",
       "      <td>20.555</td>\n",
       "      <td>20.848</td>\n",
       "      <td>21.159</td>\n",
       "      <td>21.486</td>\n",
       "      <td>21.826</td>\n",
       "      <td>22.174</td>\n",
       "      <td>22.529</td>\n",
       "      <td>22.887</td>\n",
       "      <td>23.247</td>\n",
       "      <td>23.607</td>\n",
       "      <td>23.967</td>\n",
       "      <td>24.326</td>\n",
       "      <td>24.683</td>\n",
       "      <td>25.038</td>\n",
       "      <td>25.391</td>\n",
       "      <td>25.741</td>\n",
       "      <td>26.089</td>\n",
       "    </tr>\n",
       "    <tr>\n",
       "      <th>130.0</th>\n",
       "      <td>30.0</td>\n",
       "      <td>30.278</td>\n",
       "      <td>30.555</td>\n",
       "      <td>30.831</td>\n",
       "      <td>31.109</td>\n",
       "      <td>31.392</td>\n",
       "      <td>31.680</td>\n",
       "      <td>31.973</td>\n",
       "      <td>32.272</td>\n",
       "      <td>32.575</td>\n",
       "      <td>32.882</td>\n",
       "      <td>33.192</td>\n",
       "      <td>33.504</td>\n",
       "      <td>33.819</td>\n",
       "      <td>34.134</td>\n",
       "      <td>34.451</td>\n",
       "      <td>34.768</td>\n",
       "      <td>35.085</td>\n",
       "      <td>35.402</td>\n",
       "    </tr>\n",
       "    <tr>\n",
       "      <th>140.0</th>\n",
       "      <td>40.0</td>\n",
       "      <td>40.278</td>\n",
       "      <td>40.555</td>\n",
       "      <td>40.831</td>\n",
       "      <td>41.106</td>\n",
       "      <td>41.382</td>\n",
       "      <td>41.658</td>\n",
       "      <td>41.935</td>\n",
       "      <td>42.213</td>\n",
       "      <td>42.494</td>\n",
       "      <td>42.777</td>\n",
       "      <td>43.061</td>\n",
       "      <td>43.348</td>\n",
       "      <td>43.636</td>\n",
       "      <td>43.926</td>\n",
       "      <td>44.217</td>\n",
       "      <td>44.509</td>\n",
       "      <td>44.802</td>\n",
       "      <td>45.095</td>\n",
       "    </tr>\n",
       "  </tbody>\n",
       "</table>\n",
       "</div>"
      ],
      "text/plain": [
       "       0.000   0.056   0.111   0.167   0.222   0.278   0.333   0.389   0.444  \\\n",
       "0.0      0.0   0.000   0.000   0.000   0.000   0.000   0.000   0.000   0.000   \n",
       "10.0     0.0   0.000   0.000   0.000   0.000   0.000   0.000   0.000   0.000   \n",
       "20.0     0.0   0.000   0.000   0.000   0.000   0.000   0.000   0.000   0.000   \n",
       "30.0     0.0   0.000   0.000   0.000   0.000   0.000   0.000   0.000   0.000   \n",
       "40.0     0.0   0.000   0.000   0.000   0.000   0.000   0.000   0.000   0.000   \n",
       "50.0     0.0   0.000   0.000   0.000   0.000   0.000   0.000   0.000   0.000   \n",
       "60.0     0.0   0.000   0.000   0.000   0.000   0.000   0.000   0.001   0.001   \n",
       "70.0     0.0   0.000   0.000   0.000   0.001   0.003   0.008   0.016   0.028   \n",
       "80.0     0.0   0.000   0.000   0.011   0.037   0.080   0.141   0.218   0.310   \n",
       "90.0     0.0   0.000   0.128   0.336   0.592   0.878   1.182   1.495   1.812   \n",
       "100.0    0.0   1.250   2.253   3.093   3.819   4.466   5.054   5.599   6.109   \n",
       "110.0   10.0  10.278  10.671  11.118  11.587  12.063  12.535  13.000  13.455   \n",
       "120.0   20.0  20.278  20.555  20.848  21.159  21.486  21.826  22.174  22.529   \n",
       "130.0   30.0  30.278  30.555  30.831  31.109  31.392  31.680  31.973  32.272   \n",
       "140.0   40.0  40.278  40.555  40.831  41.106  41.382  41.658  41.935  42.213   \n",
       "\n",
       "        0.500   0.556   0.611   0.667   0.722   0.778   0.833   0.889   0.944  \\\n",
       "0.0     0.000   0.000   0.000   0.000   0.000   0.000   0.000   0.000   0.000   \n",
       "10.0    0.000   0.000   0.000   0.000   0.000   0.000   0.000   0.000   0.000   \n",
       "20.0    0.000   0.000   0.000   0.000   0.000   0.000   0.000   0.000   0.000   \n",
       "30.0    0.000   0.000   0.000   0.000   0.000   0.000   0.000   0.000   0.000   \n",
       "40.0    0.000   0.000   0.000   0.000   0.000   0.000   0.000   0.000   0.000   \n",
       "50.0    0.000   0.000   0.000   0.001   0.001   0.001   0.002   0.003   0.004   \n",
       "60.0    0.003   0.004   0.007   0.011   0.016   0.023   0.031   0.041   0.053   \n",
       "70.0    0.045   0.067   0.094   0.126   0.164   0.207   0.255   0.308   0.367   \n",
       "80.0    0.416   0.534   0.662   0.799   0.944   1.096   1.253   1.416   1.583   \n",
       "90.0    2.131   2.450   2.766   3.080   3.392   3.700   4.004   4.306   4.604   \n",
       "100.0   6.593   7.054   7.497   7.925   8.339   8.741   9.133   9.515   9.889   \n",
       "110.0  13.901  14.337  14.763  15.180  15.589  15.990  16.383  16.770  17.149   \n",
       "120.0  22.887  23.247  23.607  23.967  24.326  24.683  25.038  25.391  25.741   \n",
       "130.0  32.575  32.882  33.192  33.504  33.819  34.134  34.451  34.768  35.085   \n",
       "140.0  42.494  42.777  43.061  43.348  43.636  43.926  44.217  44.509  44.802   \n",
       "\n",
       "        1.000  \n",
       "0.0     0.000  \n",
       "10.0    0.000  \n",
       "20.0    0.000  \n",
       "30.0    0.000  \n",
       "40.0    0.000  \n",
       "50.0    0.006  \n",
       "60.0    0.066  \n",
       "70.0    0.430  \n",
       "80.0    1.754  \n",
       "90.0    4.899  \n",
       "100.0  10.255  \n",
       "110.0  17.523  \n",
       "120.0  26.089  \n",
       "130.0  35.402  \n",
       "140.0  45.095  "
      ]
     },
     "execution_count": 8,
     "metadata": {},
     "output_type": "execute_result"
    }
   ],
   "source": [
    "# k is counter\n",
    "for k in range(1, len(t)):\n",
    "    for i in range(1,len(s)-1):\n",
    "        delta = (grid.iloc[i+1,k-1] - grid.iloc[i-1,k-1]) / (2*ds)\n",
    "        gamma = (grid.iloc[i+1,k-1]-2*grid.iloc[i,k-1]+grid.iloc[i-1,k-1]) / (ds**2)\n",
    "        # theta from BS fomula\n",
    "        theta = (-0.5* vol**2 * s[i]**2 * gamma) - (r*s[i]*delta) + (r*grid.iloc[i,k-1])\n",
    "        # backward induction\n",
    "        grid.iloc[i,k] = grid.iloc[i,k-1] - (theta*dt)\n",
    "    \n",
    "    # Set boundary condition at S = 0\n",
    "    grid.iloc[0,k] = grid.iloc[0,k-1] * (1-r*dt) # ds = rsdt + sigma*sdx, s= 0, ds = 0 \n",
    "    \n",
    "    # Set boundary condition at S = infinity  # gamma = 0, so you can linearly extract\n",
    "    grid.iloc[len(s)-1,k] = 2*grid.iloc[len(s)-2,k] - grid.iloc[len(s)-3,k]\n",
    "\n",
    "    if EType == 1:\n",
    "        for i in range(0,len(s)):\n",
    "            grid.iloc[i,k] = maximum(grid.iloc[i,k], p[i])\n",
    "\n",
    "# Round grid values to 2 decimals\n",
    "grid = np.around(grid,3)\n",
    "\n",
    "# Output the option values\n",
    "grid.iloc[0:15,:]"
   ]
  },
  {
   "cell_type": "code",
   "execution_count": 9,
   "id": "f45466e0",
   "metadata": {},
   "outputs": [
    {
     "data": {
      "text/html": [
       "<div>\n",
       "<style scoped>\n",
       "    .dataframe tbody tr th:only-of-type {\n",
       "        vertical-align: middle;\n",
       "    }\n",
       "\n",
       "    .dataframe tbody tr th {\n",
       "        vertical-align: top;\n",
       "    }\n",
       "\n",
       "    .dataframe thead th {\n",
       "        text-align: right;\n",
       "    }\n",
       "</style>\n",
       "<table border=\"1\" class=\"dataframe\">\n",
       "  <thead>\n",
       "    <tr style=\"text-align: right;\">\n",
       "      <th></th>\n",
       "      <th>Stock</th>\n",
       "      <th>Payoff</th>\n",
       "      <th>Option</th>\n",
       "    </tr>\n",
       "  </thead>\n",
       "  <tbody>\n",
       "    <tr>\n",
       "      <th>0.0</th>\n",
       "      <td>0.0</td>\n",
       "      <td>0.0</td>\n",
       "      <td>0.000</td>\n",
       "    </tr>\n",
       "    <tr>\n",
       "      <th>10.0</th>\n",
       "      <td>10.0</td>\n",
       "      <td>0.0</td>\n",
       "      <td>0.000</td>\n",
       "    </tr>\n",
       "    <tr>\n",
       "      <th>20.0</th>\n",
       "      <td>20.0</td>\n",
       "      <td>0.0</td>\n",
       "      <td>0.000</td>\n",
       "    </tr>\n",
       "    <tr>\n",
       "      <th>30.0</th>\n",
       "      <td>30.0</td>\n",
       "      <td>0.0</td>\n",
       "      <td>0.000</td>\n",
       "    </tr>\n",
       "    <tr>\n",
       "      <th>40.0</th>\n",
       "      <td>40.0</td>\n",
       "      <td>0.0</td>\n",
       "      <td>0.000</td>\n",
       "    </tr>\n",
       "    <tr>\n",
       "      <th>50.0</th>\n",
       "      <td>50.0</td>\n",
       "      <td>0.0</td>\n",
       "      <td>0.006</td>\n",
       "    </tr>\n",
       "    <tr>\n",
       "      <th>60.0</th>\n",
       "      <td>60.0</td>\n",
       "      <td>0.0</td>\n",
       "      <td>0.066</td>\n",
       "    </tr>\n",
       "    <tr>\n",
       "      <th>70.0</th>\n",
       "      <td>70.0</td>\n",
       "      <td>0.0</td>\n",
       "      <td>0.430</td>\n",
       "    </tr>\n",
       "    <tr>\n",
       "      <th>80.0</th>\n",
       "      <td>80.0</td>\n",
       "      <td>0.0</td>\n",
       "      <td>1.754</td>\n",
       "    </tr>\n",
       "    <tr>\n",
       "      <th>90.0</th>\n",
       "      <td>90.0</td>\n",
       "      <td>0.0</td>\n",
       "      <td>4.899</td>\n",
       "    </tr>\n",
       "    <tr>\n",
       "      <th>100.0</th>\n",
       "      <td>100.0</td>\n",
       "      <td>0.0</td>\n",
       "      <td>10.255</td>\n",
       "    </tr>\n",
       "    <tr>\n",
       "      <th>110.0</th>\n",
       "      <td>110.0</td>\n",
       "      <td>10.0</td>\n",
       "      <td>17.523</td>\n",
       "    </tr>\n",
       "    <tr>\n",
       "      <th>120.0</th>\n",
       "      <td>120.0</td>\n",
       "      <td>20.0</td>\n",
       "      <td>26.089</td>\n",
       "    </tr>\n",
       "    <tr>\n",
       "      <th>130.0</th>\n",
       "      <td>130.0</td>\n",
       "      <td>30.0</td>\n",
       "      <td>35.402</td>\n",
       "    </tr>\n",
       "    <tr>\n",
       "      <th>140.0</th>\n",
       "      <td>140.0</td>\n",
       "      <td>40.0</td>\n",
       "      <td>45.095</td>\n",
       "    </tr>\n",
       "    <tr>\n",
       "      <th>150.0</th>\n",
       "      <td>150.0</td>\n",
       "      <td>50.0</td>\n",
       "      <td>54.966</td>\n",
       "    </tr>\n",
       "    <tr>\n",
       "      <th>160.0</th>\n",
       "      <td>160.0</td>\n",
       "      <td>60.0</td>\n",
       "      <td>64.914</td>\n",
       "    </tr>\n",
       "    <tr>\n",
       "      <th>170.0</th>\n",
       "      <td>170.0</td>\n",
       "      <td>70.0</td>\n",
       "      <td>74.895</td>\n",
       "    </tr>\n",
       "    <tr>\n",
       "      <th>180.0</th>\n",
       "      <td>180.0</td>\n",
       "      <td>80.0</td>\n",
       "      <td>84.887</td>\n",
       "    </tr>\n",
       "    <tr>\n",
       "      <th>190.0</th>\n",
       "      <td>190.0</td>\n",
       "      <td>90.0</td>\n",
       "      <td>94.883</td>\n",
       "    </tr>\n",
       "    <tr>\n",
       "      <th>200.0</th>\n",
       "      <td>200.0</td>\n",
       "      <td>100.0</td>\n",
       "      <td>104.880</td>\n",
       "    </tr>\n",
       "  </tbody>\n",
       "</table>\n",
       "</div>"
      ],
      "text/plain": [
       "       Stock  Payoff   Option\n",
       "0.0      0.0     0.0    0.000\n",
       "10.0    10.0     0.0    0.000\n",
       "20.0    20.0     0.0    0.000\n",
       "30.0    30.0     0.0    0.000\n",
       "40.0    40.0     0.0    0.000\n",
       "50.0    50.0     0.0    0.006\n",
       "60.0    60.0     0.0    0.066\n",
       "70.0    70.0     0.0    0.430\n",
       "80.0    80.0     0.0    1.754\n",
       "90.0    90.0     0.0    4.899\n",
       "100.0  100.0     0.0   10.255\n",
       "110.0  110.0    10.0   17.523\n",
       "120.0  120.0    20.0   26.089\n",
       "130.0  130.0    30.0   35.402\n",
       "140.0  140.0    40.0   45.095\n",
       "150.0  150.0    50.0   54.966\n",
       "160.0  160.0    60.0   64.914\n",
       "170.0  170.0    70.0   74.895\n",
       "180.0  180.0    80.0   84.887\n",
       "190.0  190.0    90.0   94.883\n",
       "200.0  200.0   100.0  104.880"
      ]
     },
     "execution_count": 9,
     "metadata": {},
     "output_type": "execute_result"
    }
   ],
   "source": [
    "# Print out stock, payoff and option value\n",
    "data = {\n",
    "    \"Stock\": s,\n",
    "    \"Payoff\": p,\n",
    "    \"Option\": grid.iloc[:,-1]\n",
    "}\n",
    "\n",
    "option_value_2D = pd.DataFrame(data)\n",
    "option_value_2D  # print(option_value_2D.to_string(index=False))"
   ]
  },
  {
   "cell_type": "code",
   "execution_count": 10,
   "id": "0aceee42",
   "metadata": {},
   "outputs": [
    {
     "data": {
      "application/vnd.plotly.v1+json": {
       "config": {
        "linkText": "Export to plot.ly",
        "plotlyServerURL": "https://plot.ly",
        "showLink": true
       },
       "data": [
        {
         "line": {
          "color": "rgba(255, 153, 51, 1.0)",
          "dash": "solid",
          "shape": "linear",
          "width": 1.3
         },
         "mode": "lines",
         "name": "Payoff",
         "text": "",
         "type": "scatter",
         "x": [
          0,
          10,
          20,
          30,
          40,
          50,
          60,
          70,
          80,
          90,
          100,
          110,
          120,
          130,
          140,
          150,
          160,
          170,
          180,
          190,
          200
         ],
         "y": [
          0,
          0,
          0,
          0,
          0,
          0,
          0,
          0,
          0,
          0,
          0,
          10,
          20,
          30,
          40,
          50,
          60,
          70,
          80,
          90,
          100
         ]
        },
        {
         "line": {
          "color": "rgba(55, 128, 191, 1.0)",
          "dash": "solid",
          "shape": "linear",
          "width": 1.3
         },
         "mode": "lines",
         "name": "Option",
         "text": "",
         "type": "scatter",
         "x": [
          0,
          10,
          20,
          30,
          40,
          50,
          60,
          70,
          80,
          90,
          100,
          110,
          120,
          130,
          140,
          150,
          160,
          170,
          180,
          190,
          200
         ],
         "y": [
          0,
          0,
          0,
          0,
          0,
          0.006,
          0.066,
          0.43,
          1.754,
          4.899,
          10.255,
          17.523,
          26.089,
          35.402,
          45.095,
          54.966,
          64.914,
          74.895,
          84.887,
          94.883,
          104.88
         ]
        }
       ],
       "layout": {
        "height": 600,
        "legend": {
         "bgcolor": "#F5F6F9",
         "font": {
          "color": "#4D5663"
         }
        },
        "paper_bgcolor": "#F5F6F9",
        "plot_bgcolor": "#F5F6F9",
        "template": {
         "data": {
          "bar": [
           {
            "error_x": {
             "color": "#2a3f5f"
            },
            "error_y": {
             "color": "#2a3f5f"
            },
            "marker": {
             "line": {
              "color": "#E5ECF6",
              "width": 0.5
             },
             "pattern": {
              "fillmode": "overlay",
              "size": 10,
              "solidity": 0.2
             }
            },
            "type": "bar"
           }
          ],
          "barpolar": [
           {
            "marker": {
             "line": {
              "color": "#E5ECF6",
              "width": 0.5
             },
             "pattern": {
              "fillmode": "overlay",
              "size": 10,
              "solidity": 0.2
             }
            },
            "type": "barpolar"
           }
          ],
          "carpet": [
           {
            "aaxis": {
             "endlinecolor": "#2a3f5f",
             "gridcolor": "white",
             "linecolor": "white",
             "minorgridcolor": "white",
             "startlinecolor": "#2a3f5f"
            },
            "baxis": {
             "endlinecolor": "#2a3f5f",
             "gridcolor": "white",
             "linecolor": "white",
             "minorgridcolor": "white",
             "startlinecolor": "#2a3f5f"
            },
            "type": "carpet"
           }
          ],
          "choropleth": [
           {
            "colorbar": {
             "outlinewidth": 0,
             "ticks": ""
            },
            "type": "choropleth"
           }
          ],
          "contour": [
           {
            "colorbar": {
             "outlinewidth": 0,
             "ticks": ""
            },
            "colorscale": [
             [
              0,
              "#0d0887"
             ],
             [
              0.1111111111111111,
              "#46039f"
             ],
             [
              0.2222222222222222,
              "#7201a8"
             ],
             [
              0.3333333333333333,
              "#9c179e"
             ],
             [
              0.4444444444444444,
              "#bd3786"
             ],
             [
              0.5555555555555556,
              "#d8576b"
             ],
             [
              0.6666666666666666,
              "#ed7953"
             ],
             [
              0.7777777777777778,
              "#fb9f3a"
             ],
             [
              0.8888888888888888,
              "#fdca26"
             ],
             [
              1,
              "#f0f921"
             ]
            ],
            "type": "contour"
           }
          ],
          "contourcarpet": [
           {
            "colorbar": {
             "outlinewidth": 0,
             "ticks": ""
            },
            "type": "contourcarpet"
           }
          ],
          "heatmap": [
           {
            "colorbar": {
             "outlinewidth": 0,
             "ticks": ""
            },
            "colorscale": [
             [
              0,
              "#0d0887"
             ],
             [
              0.1111111111111111,
              "#46039f"
             ],
             [
              0.2222222222222222,
              "#7201a8"
             ],
             [
              0.3333333333333333,
              "#9c179e"
             ],
             [
              0.4444444444444444,
              "#bd3786"
             ],
             [
              0.5555555555555556,
              "#d8576b"
             ],
             [
              0.6666666666666666,
              "#ed7953"
             ],
             [
              0.7777777777777778,
              "#fb9f3a"
             ],
             [
              0.8888888888888888,
              "#fdca26"
             ],
             [
              1,
              "#f0f921"
             ]
            ],
            "type": "heatmap"
           }
          ],
          "heatmapgl": [
           {
            "colorbar": {
             "outlinewidth": 0,
             "ticks": ""
            },
            "colorscale": [
             [
              0,
              "#0d0887"
             ],
             [
              0.1111111111111111,
              "#46039f"
             ],
             [
              0.2222222222222222,
              "#7201a8"
             ],
             [
              0.3333333333333333,
              "#9c179e"
             ],
             [
              0.4444444444444444,
              "#bd3786"
             ],
             [
              0.5555555555555556,
              "#d8576b"
             ],
             [
              0.6666666666666666,
              "#ed7953"
             ],
             [
              0.7777777777777778,
              "#fb9f3a"
             ],
             [
              0.8888888888888888,
              "#fdca26"
             ],
             [
              1,
              "#f0f921"
             ]
            ],
            "type": "heatmapgl"
           }
          ],
          "histogram": [
           {
            "marker": {
             "pattern": {
              "fillmode": "overlay",
              "size": 10,
              "solidity": 0.2
             }
            },
            "type": "histogram"
           }
          ],
          "histogram2d": [
           {
            "colorbar": {
             "outlinewidth": 0,
             "ticks": ""
            },
            "colorscale": [
             [
              0,
              "#0d0887"
             ],
             [
              0.1111111111111111,
              "#46039f"
             ],
             [
              0.2222222222222222,
              "#7201a8"
             ],
             [
              0.3333333333333333,
              "#9c179e"
             ],
             [
              0.4444444444444444,
              "#bd3786"
             ],
             [
              0.5555555555555556,
              "#d8576b"
             ],
             [
              0.6666666666666666,
              "#ed7953"
             ],
             [
              0.7777777777777778,
              "#fb9f3a"
             ],
             [
              0.8888888888888888,
              "#fdca26"
             ],
             [
              1,
              "#f0f921"
             ]
            ],
            "type": "histogram2d"
           }
          ],
          "histogram2dcontour": [
           {
            "colorbar": {
             "outlinewidth": 0,
             "ticks": ""
            },
            "colorscale": [
             [
              0,
              "#0d0887"
             ],
             [
              0.1111111111111111,
              "#46039f"
             ],
             [
              0.2222222222222222,
              "#7201a8"
             ],
             [
              0.3333333333333333,
              "#9c179e"
             ],
             [
              0.4444444444444444,
              "#bd3786"
             ],
             [
              0.5555555555555556,
              "#d8576b"
             ],
             [
              0.6666666666666666,
              "#ed7953"
             ],
             [
              0.7777777777777778,
              "#fb9f3a"
             ],
             [
              0.8888888888888888,
              "#fdca26"
             ],
             [
              1,
              "#f0f921"
             ]
            ],
            "type": "histogram2dcontour"
           }
          ],
          "mesh3d": [
           {
            "colorbar": {
             "outlinewidth": 0,
             "ticks": ""
            },
            "type": "mesh3d"
           }
          ],
          "parcoords": [
           {
            "line": {
             "colorbar": {
              "outlinewidth": 0,
              "ticks": ""
             }
            },
            "type": "parcoords"
           }
          ],
          "pie": [
           {
            "automargin": true,
            "type": "pie"
           }
          ],
          "scatter": [
           {
            "fillpattern": {
             "fillmode": "overlay",
             "size": 10,
             "solidity": 0.2
            },
            "type": "scatter"
           }
          ],
          "scatter3d": [
           {
            "line": {
             "colorbar": {
              "outlinewidth": 0,
              "ticks": ""
             }
            },
            "marker": {
             "colorbar": {
              "outlinewidth": 0,
              "ticks": ""
             }
            },
            "type": "scatter3d"
           }
          ],
          "scattercarpet": [
           {
            "marker": {
             "colorbar": {
              "outlinewidth": 0,
              "ticks": ""
             }
            },
            "type": "scattercarpet"
           }
          ],
          "scattergeo": [
           {
            "marker": {
             "colorbar": {
              "outlinewidth": 0,
              "ticks": ""
             }
            },
            "type": "scattergeo"
           }
          ],
          "scattergl": [
           {
            "marker": {
             "colorbar": {
              "outlinewidth": 0,
              "ticks": ""
             }
            },
            "type": "scattergl"
           }
          ],
          "scattermapbox": [
           {
            "marker": {
             "colorbar": {
              "outlinewidth": 0,
              "ticks": ""
             }
            },
            "type": "scattermapbox"
           }
          ],
          "scatterpolar": [
           {
            "marker": {
             "colorbar": {
              "outlinewidth": 0,
              "ticks": ""
             }
            },
            "type": "scatterpolar"
           }
          ],
          "scatterpolargl": [
           {
            "marker": {
             "colorbar": {
              "outlinewidth": 0,
              "ticks": ""
             }
            },
            "type": "scatterpolargl"
           }
          ],
          "scatterternary": [
           {
            "marker": {
             "colorbar": {
              "outlinewidth": 0,
              "ticks": ""
             }
            },
            "type": "scatterternary"
           }
          ],
          "surface": [
           {
            "colorbar": {
             "outlinewidth": 0,
             "ticks": ""
            },
            "colorscale": [
             [
              0,
              "#0d0887"
             ],
             [
              0.1111111111111111,
              "#46039f"
             ],
             [
              0.2222222222222222,
              "#7201a8"
             ],
             [
              0.3333333333333333,
              "#9c179e"
             ],
             [
              0.4444444444444444,
              "#bd3786"
             ],
             [
              0.5555555555555556,
              "#d8576b"
             ],
             [
              0.6666666666666666,
              "#ed7953"
             ],
             [
              0.7777777777777778,
              "#fb9f3a"
             ],
             [
              0.8888888888888888,
              "#fdca26"
             ],
             [
              1,
              "#f0f921"
             ]
            ],
            "type": "surface"
           }
          ],
          "table": [
           {
            "cells": {
             "fill": {
              "color": "#EBF0F8"
             },
             "line": {
              "color": "white"
             }
            },
            "header": {
             "fill": {
              "color": "#C8D4E3"
             },
             "line": {
              "color": "white"
             }
            },
            "type": "table"
           }
          ]
         },
         "layout": {
          "annotationdefaults": {
           "arrowcolor": "#2a3f5f",
           "arrowhead": 0,
           "arrowwidth": 1
          },
          "autotypenumbers": "strict",
          "coloraxis": {
           "colorbar": {
            "outlinewidth": 0,
            "ticks": ""
           }
          },
          "colorscale": {
           "diverging": [
            [
             0,
             "#8e0152"
            ],
            [
             0.1,
             "#c51b7d"
            ],
            [
             0.2,
             "#de77ae"
            ],
            [
             0.3,
             "#f1b6da"
            ],
            [
             0.4,
             "#fde0ef"
            ],
            [
             0.5,
             "#f7f7f7"
            ],
            [
             0.6,
             "#e6f5d0"
            ],
            [
             0.7,
             "#b8e186"
            ],
            [
             0.8,
             "#7fbc41"
            ],
            [
             0.9,
             "#4d9221"
            ],
            [
             1,
             "#276419"
            ]
           ],
           "sequential": [
            [
             0,
             "#0d0887"
            ],
            [
             0.1111111111111111,
             "#46039f"
            ],
            [
             0.2222222222222222,
             "#7201a8"
            ],
            [
             0.3333333333333333,
             "#9c179e"
            ],
            [
             0.4444444444444444,
             "#bd3786"
            ],
            [
             0.5555555555555556,
             "#d8576b"
            ],
            [
             0.6666666666666666,
             "#ed7953"
            ],
            [
             0.7777777777777778,
             "#fb9f3a"
            ],
            [
             0.8888888888888888,
             "#fdca26"
            ],
            [
             1,
             "#f0f921"
            ]
           ],
           "sequentialminus": [
            [
             0,
             "#0d0887"
            ],
            [
             0.1111111111111111,
             "#46039f"
            ],
            [
             0.2222222222222222,
             "#7201a8"
            ],
            [
             0.3333333333333333,
             "#9c179e"
            ],
            [
             0.4444444444444444,
             "#bd3786"
            ],
            [
             0.5555555555555556,
             "#d8576b"
            ],
            [
             0.6666666666666666,
             "#ed7953"
            ],
            [
             0.7777777777777778,
             "#fb9f3a"
            ],
            [
             0.8888888888888888,
             "#fdca26"
            ],
            [
             1,
             "#f0f921"
            ]
           ]
          },
          "colorway": [
           "#636efa",
           "#EF553B",
           "#00cc96",
           "#ab63fa",
           "#FFA15A",
           "#19d3f3",
           "#FF6692",
           "#B6E880",
           "#FF97FF",
           "#FECB52"
          ],
          "font": {
           "color": "#2a3f5f"
          },
          "geo": {
           "bgcolor": "white",
           "lakecolor": "white",
           "landcolor": "#E5ECF6",
           "showlakes": true,
           "showland": true,
           "subunitcolor": "white"
          },
          "hoverlabel": {
           "align": "left"
          },
          "hovermode": "closest",
          "mapbox": {
           "style": "light"
          },
          "paper_bgcolor": "white",
          "plot_bgcolor": "#E5ECF6",
          "polar": {
           "angularaxis": {
            "gridcolor": "white",
            "linecolor": "white",
            "ticks": ""
           },
           "bgcolor": "#E5ECF6",
           "radialaxis": {
            "gridcolor": "white",
            "linecolor": "white",
            "ticks": ""
           }
          },
          "scene": {
           "xaxis": {
            "backgroundcolor": "#E5ECF6",
            "gridcolor": "white",
            "gridwidth": 2,
            "linecolor": "white",
            "showbackground": true,
            "ticks": "",
            "zerolinecolor": "white"
           },
           "yaxis": {
            "backgroundcolor": "#E5ECF6",
            "gridcolor": "white",
            "gridwidth": 2,
            "linecolor": "white",
            "showbackground": true,
            "ticks": "",
            "zerolinecolor": "white"
           },
           "zaxis": {
            "backgroundcolor": "#E5ECF6",
            "gridcolor": "white",
            "gridwidth": 2,
            "linecolor": "white",
            "showbackground": true,
            "ticks": "",
            "zerolinecolor": "white"
           }
          },
          "shapedefaults": {
           "line": {
            "color": "#2a3f5f"
           }
          },
          "ternary": {
           "aaxis": {
            "gridcolor": "white",
            "linecolor": "white",
            "ticks": ""
           },
           "baxis": {
            "gridcolor": "white",
            "linecolor": "white",
            "ticks": ""
           },
           "bgcolor": "#E5ECF6",
           "caxis": {
            "gridcolor": "white",
            "linecolor": "white",
            "ticks": ""
           }
          },
          "title": {
           "x": 0.05
          },
          "xaxis": {
           "automargin": true,
           "gridcolor": "white",
           "linecolor": "white",
           "ticks": "",
           "title": {
            "standoff": 15
           },
           "zerolinecolor": "white",
           "zerolinewidth": 2
          },
          "yaxis": {
           "automargin": true,
           "gridcolor": "white",
           "linecolor": "white",
           "ticks": "",
           "title": {
            "standoff": 15
           },
           "zerolinecolor": "white",
           "zerolinewidth": 2
          }
         }
        },
        "title": {
         "font": {
          "color": "#4D5663"
         },
         "text": "Payoff & Option Value"
        },
        "width": 1000,
        "xaxis": {
         "gridcolor": "#E1E5ED",
         "showgrid": true,
         "tickfont": {
          "color": "#4D5663"
         },
         "title": {
          "font": {
           "color": "#4D5663"
          },
          "text": ""
         },
         "zerolinecolor": "#E1E5ED"
        },
        "yaxis": {
         "gridcolor": "#E1E5ED",
         "showgrid": true,
         "tickfont": {
          "color": "#4D5663"
         },
         "title": {
          "font": {
           "color": "#4D5663"
          },
          "text": ""
         },
         "zerolinecolor": "#E1E5ED"
        }
       }
      },
      "text/html": [
       "<div>                            <div id=\"535d85cd-6cd0-407d-885d-84a51d982777\" class=\"plotly-graph-div\" style=\"height:600px; width:1000px;\"></div>            <script type=\"text/javascript\">                require([\"plotly\"], function(Plotly) {                    window.PLOTLYENV=window.PLOTLYENV || {};\n",
       "                    window.PLOTLYENV.BASE_URL='https://plot.ly';                                    if (document.getElementById(\"535d85cd-6cd0-407d-885d-84a51d982777\")) {                    Plotly.newPlot(                        \"535d85cd-6cd0-407d-885d-84a51d982777\",                        [{\"line\":{\"color\":\"rgba(255, 153, 51, 1.0)\",\"dash\":\"solid\",\"shape\":\"linear\",\"width\":1.3},\"mode\":\"lines\",\"name\":\"Payoff\",\"text\":\"\",\"x\":[0.0,10.0,20.0,30.0,40.0,50.0,60.0,70.0,80.0,90.0,100.0,110.0,120.0,130.0,140.0,150.0,160.0,170.0,180.0,190.0,200.0],\"y\":[0.0,0.0,0.0,0.0,0.0,0.0,0.0,0.0,0.0,0.0,0.0,10.0,20.0,30.0,40.0,50.0,60.0,70.0,80.0,90.0,100.0],\"type\":\"scatter\"},{\"line\":{\"color\":\"rgba(55, 128, 191, 1.0)\",\"dash\":\"solid\",\"shape\":\"linear\",\"width\":1.3},\"mode\":\"lines\",\"name\":\"Option\",\"text\":\"\",\"x\":[0.0,10.0,20.0,30.0,40.0,50.0,60.0,70.0,80.0,90.0,100.0,110.0,120.0,130.0,140.0,150.0,160.0,170.0,180.0,190.0,200.0],\"y\":[0.0,0.0,0.0,0.0,0.0,0.006,0.066,0.43,1.754,4.899,10.255,17.523,26.089,35.402,45.095,54.966,64.914,74.895,84.887,94.883,104.88],\"type\":\"scatter\"}],                        {\"height\":600,\"legend\":{\"bgcolor\":\"#F5F6F9\",\"font\":{\"color\":\"#4D5663\"}},\"paper_bgcolor\":\"#F5F6F9\",\"plot_bgcolor\":\"#F5F6F9\",\"template\":{\"data\":{\"barpolar\":[{\"marker\":{\"line\":{\"color\":\"#E5ECF6\",\"width\":0.5},\"pattern\":{\"fillmode\":\"overlay\",\"size\":10,\"solidity\":0.2}},\"type\":\"barpolar\"}],\"bar\":[{\"error_x\":{\"color\":\"#2a3f5f\"},\"error_y\":{\"color\":\"#2a3f5f\"},\"marker\":{\"line\":{\"color\":\"#E5ECF6\",\"width\":0.5},\"pattern\":{\"fillmode\":\"overlay\",\"size\":10,\"solidity\":0.2}},\"type\":\"bar\"}],\"carpet\":[{\"aaxis\":{\"endlinecolor\":\"#2a3f5f\",\"gridcolor\":\"white\",\"linecolor\":\"white\",\"minorgridcolor\":\"white\",\"startlinecolor\":\"#2a3f5f\"},\"baxis\":{\"endlinecolor\":\"#2a3f5f\",\"gridcolor\":\"white\",\"linecolor\":\"white\",\"minorgridcolor\":\"white\",\"startlinecolor\":\"#2a3f5f\"},\"type\":\"carpet\"}],\"choropleth\":[{\"colorbar\":{\"outlinewidth\":0,\"ticks\":\"\"},\"type\":\"choropleth\"}],\"contourcarpet\":[{\"colorbar\":{\"outlinewidth\":0,\"ticks\":\"\"},\"type\":\"contourcarpet\"}],\"contour\":[{\"colorbar\":{\"outlinewidth\":0,\"ticks\":\"\"},\"colorscale\":[[0.0,\"#0d0887\"],[0.1111111111111111,\"#46039f\"],[0.2222222222222222,\"#7201a8\"],[0.3333333333333333,\"#9c179e\"],[0.4444444444444444,\"#bd3786\"],[0.5555555555555556,\"#d8576b\"],[0.6666666666666666,\"#ed7953\"],[0.7777777777777778,\"#fb9f3a\"],[0.8888888888888888,\"#fdca26\"],[1.0,\"#f0f921\"]],\"type\":\"contour\"}],\"heatmapgl\":[{\"colorbar\":{\"outlinewidth\":0,\"ticks\":\"\"},\"colorscale\":[[0.0,\"#0d0887\"],[0.1111111111111111,\"#46039f\"],[0.2222222222222222,\"#7201a8\"],[0.3333333333333333,\"#9c179e\"],[0.4444444444444444,\"#bd3786\"],[0.5555555555555556,\"#d8576b\"],[0.6666666666666666,\"#ed7953\"],[0.7777777777777778,\"#fb9f3a\"],[0.8888888888888888,\"#fdca26\"],[1.0,\"#f0f921\"]],\"type\":\"heatmapgl\"}],\"heatmap\":[{\"colorbar\":{\"outlinewidth\":0,\"ticks\":\"\"},\"colorscale\":[[0.0,\"#0d0887\"],[0.1111111111111111,\"#46039f\"],[0.2222222222222222,\"#7201a8\"],[0.3333333333333333,\"#9c179e\"],[0.4444444444444444,\"#bd3786\"],[0.5555555555555556,\"#d8576b\"],[0.6666666666666666,\"#ed7953\"],[0.7777777777777778,\"#fb9f3a\"],[0.8888888888888888,\"#fdca26\"],[1.0,\"#f0f921\"]],\"type\":\"heatmap\"}],\"histogram2dcontour\":[{\"colorbar\":{\"outlinewidth\":0,\"ticks\":\"\"},\"colorscale\":[[0.0,\"#0d0887\"],[0.1111111111111111,\"#46039f\"],[0.2222222222222222,\"#7201a8\"],[0.3333333333333333,\"#9c179e\"],[0.4444444444444444,\"#bd3786\"],[0.5555555555555556,\"#d8576b\"],[0.6666666666666666,\"#ed7953\"],[0.7777777777777778,\"#fb9f3a\"],[0.8888888888888888,\"#fdca26\"],[1.0,\"#f0f921\"]],\"type\":\"histogram2dcontour\"}],\"histogram2d\":[{\"colorbar\":{\"outlinewidth\":0,\"ticks\":\"\"},\"colorscale\":[[0.0,\"#0d0887\"],[0.1111111111111111,\"#46039f\"],[0.2222222222222222,\"#7201a8\"],[0.3333333333333333,\"#9c179e\"],[0.4444444444444444,\"#bd3786\"],[0.5555555555555556,\"#d8576b\"],[0.6666666666666666,\"#ed7953\"],[0.7777777777777778,\"#fb9f3a\"],[0.8888888888888888,\"#fdca26\"],[1.0,\"#f0f921\"]],\"type\":\"histogram2d\"}],\"histogram\":[{\"marker\":{\"pattern\":{\"fillmode\":\"overlay\",\"size\":10,\"solidity\":0.2}},\"type\":\"histogram\"}],\"mesh3d\":[{\"colorbar\":{\"outlinewidth\":0,\"ticks\":\"\"},\"type\":\"mesh3d\"}],\"parcoords\":[{\"line\":{\"colorbar\":{\"outlinewidth\":0,\"ticks\":\"\"}},\"type\":\"parcoords\"}],\"pie\":[{\"automargin\":true,\"type\":\"pie\"}],\"scatter3d\":[{\"line\":{\"colorbar\":{\"outlinewidth\":0,\"ticks\":\"\"}},\"marker\":{\"colorbar\":{\"outlinewidth\":0,\"ticks\":\"\"}},\"type\":\"scatter3d\"}],\"scattercarpet\":[{\"marker\":{\"colorbar\":{\"outlinewidth\":0,\"ticks\":\"\"}},\"type\":\"scattercarpet\"}],\"scattergeo\":[{\"marker\":{\"colorbar\":{\"outlinewidth\":0,\"ticks\":\"\"}},\"type\":\"scattergeo\"}],\"scattergl\":[{\"marker\":{\"colorbar\":{\"outlinewidth\":0,\"ticks\":\"\"}},\"type\":\"scattergl\"}],\"scattermapbox\":[{\"marker\":{\"colorbar\":{\"outlinewidth\":0,\"ticks\":\"\"}},\"type\":\"scattermapbox\"}],\"scatterpolargl\":[{\"marker\":{\"colorbar\":{\"outlinewidth\":0,\"ticks\":\"\"}},\"type\":\"scatterpolargl\"}],\"scatterpolar\":[{\"marker\":{\"colorbar\":{\"outlinewidth\":0,\"ticks\":\"\"}},\"type\":\"scatterpolar\"}],\"scatter\":[{\"fillpattern\":{\"fillmode\":\"overlay\",\"size\":10,\"solidity\":0.2},\"type\":\"scatter\"}],\"scatterternary\":[{\"marker\":{\"colorbar\":{\"outlinewidth\":0,\"ticks\":\"\"}},\"type\":\"scatterternary\"}],\"surface\":[{\"colorbar\":{\"outlinewidth\":0,\"ticks\":\"\"},\"colorscale\":[[0.0,\"#0d0887\"],[0.1111111111111111,\"#46039f\"],[0.2222222222222222,\"#7201a8\"],[0.3333333333333333,\"#9c179e\"],[0.4444444444444444,\"#bd3786\"],[0.5555555555555556,\"#d8576b\"],[0.6666666666666666,\"#ed7953\"],[0.7777777777777778,\"#fb9f3a\"],[0.8888888888888888,\"#fdca26\"],[1.0,\"#f0f921\"]],\"type\":\"surface\"}],\"table\":[{\"cells\":{\"fill\":{\"color\":\"#EBF0F8\"},\"line\":{\"color\":\"white\"}},\"header\":{\"fill\":{\"color\":\"#C8D4E3\"},\"line\":{\"color\":\"white\"}},\"type\":\"table\"}]},\"layout\":{\"annotationdefaults\":{\"arrowcolor\":\"#2a3f5f\",\"arrowhead\":0,\"arrowwidth\":1},\"autotypenumbers\":\"strict\",\"coloraxis\":{\"colorbar\":{\"outlinewidth\":0,\"ticks\":\"\"}},\"colorscale\":{\"diverging\":[[0,\"#8e0152\"],[0.1,\"#c51b7d\"],[0.2,\"#de77ae\"],[0.3,\"#f1b6da\"],[0.4,\"#fde0ef\"],[0.5,\"#f7f7f7\"],[0.6,\"#e6f5d0\"],[0.7,\"#b8e186\"],[0.8,\"#7fbc41\"],[0.9,\"#4d9221\"],[1,\"#276419\"]],\"sequential\":[[0.0,\"#0d0887\"],[0.1111111111111111,\"#46039f\"],[0.2222222222222222,\"#7201a8\"],[0.3333333333333333,\"#9c179e\"],[0.4444444444444444,\"#bd3786\"],[0.5555555555555556,\"#d8576b\"],[0.6666666666666666,\"#ed7953\"],[0.7777777777777778,\"#fb9f3a\"],[0.8888888888888888,\"#fdca26\"],[1.0,\"#f0f921\"]],\"sequentialminus\":[[0.0,\"#0d0887\"],[0.1111111111111111,\"#46039f\"],[0.2222222222222222,\"#7201a8\"],[0.3333333333333333,\"#9c179e\"],[0.4444444444444444,\"#bd3786\"],[0.5555555555555556,\"#d8576b\"],[0.6666666666666666,\"#ed7953\"],[0.7777777777777778,\"#fb9f3a\"],[0.8888888888888888,\"#fdca26\"],[1.0,\"#f0f921\"]]},\"colorway\":[\"#636efa\",\"#EF553B\",\"#00cc96\",\"#ab63fa\",\"#FFA15A\",\"#19d3f3\",\"#FF6692\",\"#B6E880\",\"#FF97FF\",\"#FECB52\"],\"font\":{\"color\":\"#2a3f5f\"},\"geo\":{\"bgcolor\":\"white\",\"lakecolor\":\"white\",\"landcolor\":\"#E5ECF6\",\"showlakes\":true,\"showland\":true,\"subunitcolor\":\"white\"},\"hoverlabel\":{\"align\":\"left\"},\"hovermode\":\"closest\",\"mapbox\":{\"style\":\"light\"},\"paper_bgcolor\":\"white\",\"plot_bgcolor\":\"#E5ECF6\",\"polar\":{\"angularaxis\":{\"gridcolor\":\"white\",\"linecolor\":\"white\",\"ticks\":\"\"},\"bgcolor\":\"#E5ECF6\",\"radialaxis\":{\"gridcolor\":\"white\",\"linecolor\":\"white\",\"ticks\":\"\"}},\"scene\":{\"xaxis\":{\"backgroundcolor\":\"#E5ECF6\",\"gridcolor\":\"white\",\"gridwidth\":2,\"linecolor\":\"white\",\"showbackground\":true,\"ticks\":\"\",\"zerolinecolor\":\"white\"},\"yaxis\":{\"backgroundcolor\":\"#E5ECF6\",\"gridcolor\":\"white\",\"gridwidth\":2,\"linecolor\":\"white\",\"showbackground\":true,\"ticks\":\"\",\"zerolinecolor\":\"white\"},\"zaxis\":{\"backgroundcolor\":\"#E5ECF6\",\"gridcolor\":\"white\",\"gridwidth\":2,\"linecolor\":\"white\",\"showbackground\":true,\"ticks\":\"\",\"zerolinecolor\":\"white\"}},\"shapedefaults\":{\"line\":{\"color\":\"#2a3f5f\"}},\"ternary\":{\"aaxis\":{\"gridcolor\":\"white\",\"linecolor\":\"white\",\"ticks\":\"\"},\"baxis\":{\"gridcolor\":\"white\",\"linecolor\":\"white\",\"ticks\":\"\"},\"bgcolor\":\"#E5ECF6\",\"caxis\":{\"gridcolor\":\"white\",\"linecolor\":\"white\",\"ticks\":\"\"}},\"title\":{\"x\":0.05},\"xaxis\":{\"automargin\":true,\"gridcolor\":\"white\",\"linecolor\":\"white\",\"ticks\":\"\",\"title\":{\"standoff\":15},\"zerolinecolor\":\"white\",\"zerolinewidth\":2},\"yaxis\":{\"automargin\":true,\"gridcolor\":\"white\",\"linecolor\":\"white\",\"ticks\":\"\",\"title\":{\"standoff\":15},\"zerolinecolor\":\"white\",\"zerolinewidth\":2}}},\"title\":{\"font\":{\"color\":\"#4D5663\"},\"text\":\"Payoff & Option Value\"},\"width\":1000,\"xaxis\":{\"gridcolor\":\"#E1E5ED\",\"showgrid\":true,\"tickfont\":{\"color\":\"#4D5663\"},\"title\":{\"font\":{\"color\":\"#4D5663\"},\"text\":\"\"},\"zerolinecolor\":\"#E1E5ED\"},\"yaxis\":{\"gridcolor\":\"#E1E5ED\",\"showgrid\":true,\"tickfont\":{\"color\":\"#4D5663\"},\"title\":{\"font\":{\"color\":\"#4D5663\"},\"text\":\"\"},\"zerolinecolor\":\"#E1E5ED\"}},                        {\"showLink\": true, \"linkText\": \"Export to plot.ly\", \"plotlyServerURL\": \"https://plot.ly\", \"responsive\": true}                    ).then(function(){\n",
       "                            \n",
       "var gd = document.getElementById('535d85cd-6cd0-407d-885d-84a51d982777');\n",
       "var x = new MutationObserver(function (mutations, observer) {{\n",
       "        var display = window.getComputedStyle(gd).display;\n",
       "        if (!display || display === 'none') {{\n",
       "            console.log([gd, 'removed!']);\n",
       "            Plotly.purge(gd);\n",
       "            observer.disconnect();\n",
       "        }}\n",
       "}});\n",
       "\n",
       "// Listen for the removal of the full notebook cells\n",
       "var notebookContainer = gd.closest('#notebook-container');\n",
       "if (notebookContainer) {{\n",
       "    x.observe(notebookContainer, {childList: true});\n",
       "}}\n",
       "\n",
       "// Listen for the clearing of the current output cell\n",
       "var outputEl = gd.closest('.output');\n",
       "if (outputEl) {{\n",
       "    x.observe(outputEl, {childList: true});\n",
       "}}\n",
       "\n",
       "                        })                };                });            </script>        </div>"
      ]
     },
     "metadata": {},
     "output_type": "display_data"
    }
   ],
   "source": [
    "# Plot option value and payoff\n",
    "option_value_2D[['Payoff', 'Option']].iplot(title='Payoff & Option Value')"
   ]
  },
  {
   "cell_type": "markdown",
   "id": "179a4d3e",
   "metadata": {},
   "source": [
    "## 5 User Defined Function\n",
    "Let’s subsume above grid calculation into a function for ease of use. All we have to do is to combine\n",
    "the above code blocks into a single function."
   ]
  },
  {
   "cell_type": "code",
   "execution_count": 11,
   "id": "e9497988",
   "metadata": {},
   "outputs": [],
   "source": [
    "def fdm_option(Strike, Volatility, Rate, TTM, NAS, Flag=-1, EType=0):\n",
    "    # NAS is the # of step from the Right-side to our target, the more NAS, the more accurate the FDM result.\n",
    "    \n",
    "    # Specify Flag as 1 for calls and -1 for puts\n",
    "    # Specify EType as 1 for early exercise and 0 for european\n",
    "    \n",
    "    ds = 2*Strike/NAS                   # asset step size\n",
    "    dt = 0.9/Volatility**2/NAS**2       # for stability\n",
    "    \n",
    "    NTS = int(TTM / dt) + 1             # time step size, alternatively use fixed size 10 on stability issue \n",
    "    dt = TTM/NTS                        # time step\n",
    "    \n",
    "    s = np.arange(0,(NAS+1)*ds,ds)\n",
    "    t = TTM-np.arange(NTS*dt,-dt,-dt)\n",
    "    \n",
    "    # Initialize the grid with zeros\n",
    "    grid = np.zeros((len(s),len(t)))\n",
    "    grid = pd.DataFrame(grid, index=s, columns=np.around(t,2))\n",
    "    \n",
    "    # Set boundary condition at Expiration\n",
    "    grid.iloc[:,0] = abs(np.maximum(Flag * (s - Strike), 0))\n",
    "        \n",
    "    for k in range(1, len(t)):\n",
    "        for i in range(1,len(s)-1):\n",
    "            delta = (grid.iloc[i+1,k-1] - grid.iloc[i-1,k-1]) / (2*ds)\n",
    "            gamma = (grid.iloc[i+1,k-1]-2*grid.iloc[i,k-1]+grid.iloc[i-1,k-1]) / (ds**2)\n",
    "            theta = (-0.5* vol**2 * s[i]**2 * gamma) - (r*s[i]*delta) + (r*grid.iloc[i,k-1])\n",
    "\n",
    "            grid.iloc[i,k] = grid.iloc[i,k-1] - dt*theta\n",
    "    \n",
    "        # Set boundary condition at S = 0\n",
    "        grid.iloc[0,k] = grid.iloc[0,k-1] * (1-r*dt)\n",
    "\n",
    "        # Set boundary condition at S = infinity\n",
    "        grid.iloc[len(s)-1,k] = abs(2*(grid.iloc[len(s)-2,k]) - grid.iloc[len(s)-3,k])\n",
    "\n",
    "        # Check for early exercise\n",
    "        if EType==1:\n",
    "            for i in range(0,len(s)):\n",
    "                grid.iloc[i,k] = np.maximum(grid.iloc[i,k], p[i])\n",
    "\n",
    "    # round grid values to 4 decimals\n",
    "    return np.around(grid,2)"
   ]
  },
  {
   "cell_type": "code",
   "execution_count": 12,
   "id": "a9cfa976",
   "metadata": {},
   "outputs": [
    {
     "data": {
      "text/html": [
       "<div>\n",
       "<style scoped>\n",
       "    .dataframe tbody tr th:only-of-type {\n",
       "        vertical-align: middle;\n",
       "    }\n",
       "\n",
       "    .dataframe tbody tr th {\n",
       "        vertical-align: top;\n",
       "    }\n",
       "\n",
       "    .dataframe thead th {\n",
       "        text-align: right;\n",
       "    }\n",
       "</style>\n",
       "<table border=\"1\" class=\"dataframe\">\n",
       "  <thead>\n",
       "    <tr style=\"text-align: right;\">\n",
       "      <th></th>\n",
       "      <th>0.00</th>\n",
       "      <th>0.06</th>\n",
       "      <th>0.11</th>\n",
       "      <th>0.17</th>\n",
       "      <th>0.22</th>\n",
       "      <th>0.28</th>\n",
       "      <th>0.33</th>\n",
       "      <th>0.39</th>\n",
       "      <th>0.44</th>\n",
       "      <th>0.50</th>\n",
       "      <th>0.56</th>\n",
       "      <th>0.61</th>\n",
       "      <th>0.67</th>\n",
       "      <th>0.72</th>\n",
       "      <th>0.78</th>\n",
       "      <th>0.83</th>\n",
       "      <th>0.89</th>\n",
       "      <th>0.94</th>\n",
       "      <th>1.00</th>\n",
       "    </tr>\n",
       "  </thead>\n",
       "  <tbody>\n",
       "    <tr>\n",
       "      <th>0.0</th>\n",
       "      <td>100.0</td>\n",
       "      <td>99.72</td>\n",
       "      <td>99.45</td>\n",
       "      <td>99.17</td>\n",
       "      <td>98.89</td>\n",
       "      <td>98.62</td>\n",
       "      <td>98.34</td>\n",
       "      <td>98.07</td>\n",
       "      <td>97.80</td>\n",
       "      <td>97.53</td>\n",
       "      <td>97.26</td>\n",
       "      <td>96.99</td>\n",
       "      <td>96.72</td>\n",
       "      <td>96.45</td>\n",
       "      <td>96.18</td>\n",
       "      <td>95.91</td>\n",
       "      <td>95.65</td>\n",
       "      <td>95.38</td>\n",
       "      <td>95.12</td>\n",
       "    </tr>\n",
       "    <tr>\n",
       "      <th>10.0</th>\n",
       "      <td>90.0</td>\n",
       "      <td>89.72</td>\n",
       "      <td>89.45</td>\n",
       "      <td>89.17</td>\n",
       "      <td>88.89</td>\n",
       "      <td>88.62</td>\n",
       "      <td>88.34</td>\n",
       "      <td>88.07</td>\n",
       "      <td>87.80</td>\n",
       "      <td>87.53</td>\n",
       "      <td>87.26</td>\n",
       "      <td>86.99</td>\n",
       "      <td>86.72</td>\n",
       "      <td>86.45</td>\n",
       "      <td>86.18</td>\n",
       "      <td>85.91</td>\n",
       "      <td>85.65</td>\n",
       "      <td>85.38</td>\n",
       "      <td>85.12</td>\n",
       "    </tr>\n",
       "    <tr>\n",
       "      <th>20.0</th>\n",
       "      <td>80.0</td>\n",
       "      <td>79.72</td>\n",
       "      <td>79.45</td>\n",
       "      <td>79.17</td>\n",
       "      <td>78.89</td>\n",
       "      <td>78.62</td>\n",
       "      <td>78.34</td>\n",
       "      <td>78.07</td>\n",
       "      <td>77.80</td>\n",
       "      <td>77.53</td>\n",
       "      <td>77.26</td>\n",
       "      <td>76.99</td>\n",
       "      <td>76.72</td>\n",
       "      <td>76.45</td>\n",
       "      <td>76.18</td>\n",
       "      <td>75.91</td>\n",
       "      <td>75.65</td>\n",
       "      <td>75.38</td>\n",
       "      <td>75.12</td>\n",
       "    </tr>\n",
       "    <tr>\n",
       "      <th>30.0</th>\n",
       "      <td>70.0</td>\n",
       "      <td>69.72</td>\n",
       "      <td>69.45</td>\n",
       "      <td>69.17</td>\n",
       "      <td>68.89</td>\n",
       "      <td>68.62</td>\n",
       "      <td>68.34</td>\n",
       "      <td>68.07</td>\n",
       "      <td>67.80</td>\n",
       "      <td>67.53</td>\n",
       "      <td>67.26</td>\n",
       "      <td>66.99</td>\n",
       "      <td>66.72</td>\n",
       "      <td>66.45</td>\n",
       "      <td>66.18</td>\n",
       "      <td>65.91</td>\n",
       "      <td>65.65</td>\n",
       "      <td>65.38</td>\n",
       "      <td>65.12</td>\n",
       "    </tr>\n",
       "    <tr>\n",
       "      <th>40.0</th>\n",
       "      <td>60.0</td>\n",
       "      <td>59.72</td>\n",
       "      <td>59.45</td>\n",
       "      <td>59.17</td>\n",
       "      <td>58.89</td>\n",
       "      <td>58.62</td>\n",
       "      <td>58.34</td>\n",
       "      <td>58.07</td>\n",
       "      <td>57.80</td>\n",
       "      <td>57.53</td>\n",
       "      <td>57.26</td>\n",
       "      <td>56.99</td>\n",
       "      <td>56.72</td>\n",
       "      <td>56.45</td>\n",
       "      <td>56.18</td>\n",
       "      <td>55.91</td>\n",
       "      <td>55.65</td>\n",
       "      <td>55.38</td>\n",
       "      <td>55.12</td>\n",
       "    </tr>\n",
       "    <tr>\n",
       "      <th>50.0</th>\n",
       "      <td>50.0</td>\n",
       "      <td>49.72</td>\n",
       "      <td>49.45</td>\n",
       "      <td>49.17</td>\n",
       "      <td>48.89</td>\n",
       "      <td>48.62</td>\n",
       "      <td>48.34</td>\n",
       "      <td>48.07</td>\n",
       "      <td>47.80</td>\n",
       "      <td>47.53</td>\n",
       "      <td>47.26</td>\n",
       "      <td>46.99</td>\n",
       "      <td>46.72</td>\n",
       "      <td>46.45</td>\n",
       "      <td>46.18</td>\n",
       "      <td>45.92</td>\n",
       "      <td>45.65</td>\n",
       "      <td>45.39</td>\n",
       "      <td>45.13</td>\n",
       "    </tr>\n",
       "    <tr>\n",
       "      <th>60.0</th>\n",
       "      <td>40.0</td>\n",
       "      <td>39.72</td>\n",
       "      <td>39.45</td>\n",
       "      <td>39.17</td>\n",
       "      <td>38.89</td>\n",
       "      <td>38.62</td>\n",
       "      <td>38.35</td>\n",
       "      <td>38.07</td>\n",
       "      <td>37.80</td>\n",
       "      <td>37.53</td>\n",
       "      <td>37.26</td>\n",
       "      <td>37.00</td>\n",
       "      <td>36.74</td>\n",
       "      <td>36.48</td>\n",
       "      <td>36.22</td>\n",
       "      <td>35.97</td>\n",
       "      <td>35.72</td>\n",
       "      <td>35.47</td>\n",
       "      <td>35.24</td>\n",
       "    </tr>\n",
       "    <tr>\n",
       "      <th>70.0</th>\n",
       "      <td>30.0</td>\n",
       "      <td>29.72</td>\n",
       "      <td>29.45</td>\n",
       "      <td>29.17</td>\n",
       "      <td>28.89</td>\n",
       "      <td>28.62</td>\n",
       "      <td>28.36</td>\n",
       "      <td>28.10</td>\n",
       "      <td>27.84</td>\n",
       "      <td>27.60</td>\n",
       "      <td>27.37</td>\n",
       "      <td>27.15</td>\n",
       "      <td>26.94</td>\n",
       "      <td>26.74</td>\n",
       "      <td>26.55</td>\n",
       "      <td>26.38</td>\n",
       "      <td>26.21</td>\n",
       "      <td>26.06</td>\n",
       "      <td>25.91</td>\n",
       "    </tr>\n",
       "    <tr>\n",
       "      <th>80.0</th>\n",
       "      <td>20.0</td>\n",
       "      <td>19.72</td>\n",
       "      <td>19.45</td>\n",
       "      <td>19.18</td>\n",
       "      <td>18.94</td>\n",
       "      <td>18.74</td>\n",
       "      <td>18.57</td>\n",
       "      <td>18.43</td>\n",
       "      <td>18.33</td>\n",
       "      <td>18.25</td>\n",
       "      <td>18.21</td>\n",
       "      <td>18.18</td>\n",
       "      <td>18.18</td>\n",
       "      <td>18.19</td>\n",
       "      <td>18.22</td>\n",
       "      <td>18.26</td>\n",
       "      <td>18.32</td>\n",
       "      <td>18.38</td>\n",
       "      <td>18.45</td>\n",
       "    </tr>\n",
       "    <tr>\n",
       "      <th>90.0</th>\n",
       "      <td>10.0</td>\n",
       "      <td>9.72</td>\n",
       "      <td>9.57</td>\n",
       "      <td>9.63</td>\n",
       "      <td>9.82</td>\n",
       "      <td>10.09</td>\n",
       "      <td>10.40</td>\n",
       "      <td>10.75</td>\n",
       "      <td>11.11</td>\n",
       "      <td>11.47</td>\n",
       "      <td>11.84</td>\n",
       "      <td>12.20</td>\n",
       "      <td>12.56</td>\n",
       "      <td>12.92</td>\n",
       "      <td>13.27</td>\n",
       "      <td>13.62</td>\n",
       "      <td>13.96</td>\n",
       "      <td>14.29</td>\n",
       "      <td>14.62</td>\n",
       "    </tr>\n",
       "    <tr>\n",
       "      <th>100.0</th>\n",
       "      <td>0.0</td>\n",
       "      <td>0.97</td>\n",
       "      <td>2.95</td>\n",
       "      <td>4.52</td>\n",
       "      <td>5.81</td>\n",
       "      <td>6.90</td>\n",
       "      <td>7.87</td>\n",
       "      <td>8.72</td>\n",
       "      <td>9.51</td>\n",
       "      <td>10.23</td>\n",
       "      <td>10.90</td>\n",
       "      <td>11.54</td>\n",
       "      <td>12.14</td>\n",
       "      <td>12.71</td>\n",
       "      <td>13.26</td>\n",
       "      <td>13.79</td>\n",
       "      <td>14.29</td>\n",
       "      <td>14.79</td>\n",
       "      <td>15.26</td>\n",
       "    </tr>\n",
       "    <tr>\n",
       "      <th>110.0</th>\n",
       "      <td>0.0</td>\n",
       "      <td>10.00</td>\n",
       "      <td>10.39</td>\n",
       "      <td>10.96</td>\n",
       "      <td>11.60</td>\n",
       "      <td>12.27</td>\n",
       "      <td>12.94</td>\n",
       "      <td>13.61</td>\n",
       "      <td>14.25</td>\n",
       "      <td>14.88</td>\n",
       "      <td>15.49</td>\n",
       "      <td>16.09</td>\n",
       "      <td>16.66</td>\n",
       "      <td>17.22</td>\n",
       "      <td>17.76</td>\n",
       "      <td>18.29</td>\n",
       "      <td>18.80</td>\n",
       "      <td>19.30</td>\n",
       "      <td>19.79</td>\n",
       "    </tr>\n",
       "    <tr>\n",
       "      <th>120.0</th>\n",
       "      <td>0.0</td>\n",
       "      <td>20.00</td>\n",
       "      <td>20.28</td>\n",
       "      <td>20.57</td>\n",
       "      <td>20.90</td>\n",
       "      <td>21.26</td>\n",
       "      <td>21.66</td>\n",
       "      <td>22.07</td>\n",
       "      <td>22.50</td>\n",
       "      <td>22.94</td>\n",
       "      <td>23.39</td>\n",
       "      <td>23.84</td>\n",
       "      <td>24.29</td>\n",
       "      <td>24.74</td>\n",
       "      <td>25.19</td>\n",
       "      <td>25.64</td>\n",
       "      <td>26.08</td>\n",
       "      <td>26.51</td>\n",
       "      <td>26.95</td>\n",
       "    </tr>\n",
       "    <tr>\n",
       "      <th>130.0</th>\n",
       "      <td>0.0</td>\n",
       "      <td>30.00</td>\n",
       "      <td>30.28</td>\n",
       "      <td>30.55</td>\n",
       "      <td>30.83</td>\n",
       "      <td>31.12</td>\n",
       "      <td>31.42</td>\n",
       "      <td>31.72</td>\n",
       "      <td>32.04</td>\n",
       "      <td>32.37</td>\n",
       "      <td>32.71</td>\n",
       "      <td>33.06</td>\n",
       "      <td>33.41</td>\n",
       "      <td>33.77</td>\n",
       "      <td>34.13</td>\n",
       "      <td>34.50</td>\n",
       "      <td>34.87</td>\n",
       "      <td>35.23</td>\n",
       "      <td>35.60</td>\n",
       "    </tr>\n",
       "    <tr>\n",
       "      <th>140.0</th>\n",
       "      <td>0.0</td>\n",
       "      <td>40.00</td>\n",
       "      <td>40.28</td>\n",
       "      <td>40.55</td>\n",
       "      <td>40.83</td>\n",
       "      <td>41.11</td>\n",
       "      <td>41.38</td>\n",
       "      <td>41.66</td>\n",
       "      <td>41.95</td>\n",
       "      <td>42.23</td>\n",
       "      <td>42.53</td>\n",
       "      <td>42.82</td>\n",
       "      <td>43.13</td>\n",
       "      <td>43.43</td>\n",
       "      <td>43.74</td>\n",
       "      <td>44.06</td>\n",
       "      <td>44.37</td>\n",
       "      <td>44.69</td>\n",
       "      <td>45.01</td>\n",
       "    </tr>\n",
       "    <tr>\n",
       "      <th>150.0</th>\n",
       "      <td>0.0</td>\n",
       "      <td>50.00</td>\n",
       "      <td>50.28</td>\n",
       "      <td>50.55</td>\n",
       "      <td>50.83</td>\n",
       "      <td>51.11</td>\n",
       "      <td>51.38</td>\n",
       "      <td>51.66</td>\n",
       "      <td>51.93</td>\n",
       "      <td>52.21</td>\n",
       "      <td>52.48</td>\n",
       "      <td>52.76</td>\n",
       "      <td>53.04</td>\n",
       "      <td>53.32</td>\n",
       "      <td>53.61</td>\n",
       "      <td>53.90</td>\n",
       "      <td>54.19</td>\n",
       "      <td>54.48</td>\n",
       "      <td>54.77</td>\n",
       "    </tr>\n",
       "    <tr>\n",
       "      <th>160.0</th>\n",
       "      <td>0.0</td>\n",
       "      <td>60.00</td>\n",
       "      <td>60.28</td>\n",
       "      <td>60.55</td>\n",
       "      <td>60.83</td>\n",
       "      <td>61.11</td>\n",
       "      <td>61.38</td>\n",
       "      <td>61.66</td>\n",
       "      <td>61.93</td>\n",
       "      <td>62.20</td>\n",
       "      <td>62.47</td>\n",
       "      <td>62.75</td>\n",
       "      <td>63.02</td>\n",
       "      <td>63.29</td>\n",
       "      <td>63.57</td>\n",
       "      <td>63.84</td>\n",
       "      <td>64.12</td>\n",
       "      <td>64.40</td>\n",
       "      <td>64.67</td>\n",
       "    </tr>\n",
       "    <tr>\n",
       "      <th>170.0</th>\n",
       "      <td>0.0</td>\n",
       "      <td>70.00</td>\n",
       "      <td>70.28</td>\n",
       "      <td>70.55</td>\n",
       "      <td>70.83</td>\n",
       "      <td>71.11</td>\n",
       "      <td>71.38</td>\n",
       "      <td>71.66</td>\n",
       "      <td>71.93</td>\n",
       "      <td>72.20</td>\n",
       "      <td>72.47</td>\n",
       "      <td>72.74</td>\n",
       "      <td>73.01</td>\n",
       "      <td>73.29</td>\n",
       "      <td>73.56</td>\n",
       "      <td>73.83</td>\n",
       "      <td>74.10</td>\n",
       "      <td>74.37</td>\n",
       "      <td>74.64</td>\n",
       "    </tr>\n",
       "    <tr>\n",
       "      <th>180.0</th>\n",
       "      <td>0.0</td>\n",
       "      <td>80.00</td>\n",
       "      <td>80.28</td>\n",
       "      <td>80.55</td>\n",
       "      <td>80.83</td>\n",
       "      <td>81.11</td>\n",
       "      <td>81.38</td>\n",
       "      <td>81.66</td>\n",
       "      <td>81.93</td>\n",
       "      <td>82.20</td>\n",
       "      <td>82.47</td>\n",
       "      <td>82.74</td>\n",
       "      <td>83.01</td>\n",
       "      <td>83.28</td>\n",
       "      <td>83.55</td>\n",
       "      <td>83.82</td>\n",
       "      <td>84.09</td>\n",
       "      <td>84.36</td>\n",
       "      <td>84.62</td>\n",
       "    </tr>\n",
       "    <tr>\n",
       "      <th>190.0</th>\n",
       "      <td>0.0</td>\n",
       "      <td>90.00</td>\n",
       "      <td>90.28</td>\n",
       "      <td>90.55</td>\n",
       "      <td>90.83</td>\n",
       "      <td>91.11</td>\n",
       "      <td>91.38</td>\n",
       "      <td>91.66</td>\n",
       "      <td>91.93</td>\n",
       "      <td>92.20</td>\n",
       "      <td>92.47</td>\n",
       "      <td>92.74</td>\n",
       "      <td>93.01</td>\n",
       "      <td>93.28</td>\n",
       "      <td>93.55</td>\n",
       "      <td>93.82</td>\n",
       "      <td>94.09</td>\n",
       "      <td>94.35</td>\n",
       "      <td>94.62</td>\n",
       "    </tr>\n",
       "    <tr>\n",
       "      <th>200.0</th>\n",
       "      <td>0.0</td>\n",
       "      <td>100.00</td>\n",
       "      <td>100.28</td>\n",
       "      <td>100.55</td>\n",
       "      <td>100.83</td>\n",
       "      <td>101.11</td>\n",
       "      <td>101.38</td>\n",
       "      <td>101.66</td>\n",
       "      <td>101.93</td>\n",
       "      <td>102.20</td>\n",
       "      <td>102.47</td>\n",
       "      <td>102.74</td>\n",
       "      <td>103.01</td>\n",
       "      <td>103.28</td>\n",
       "      <td>103.55</td>\n",
       "      <td>103.82</td>\n",
       "      <td>104.08</td>\n",
       "      <td>104.35</td>\n",
       "      <td>104.61</td>\n",
       "    </tr>\n",
       "  </tbody>\n",
       "</table>\n",
       "</div>"
      ],
      "text/plain": [
       "        0.00    0.06    0.11    0.17    0.22    0.28    0.33    0.39    0.44  \\\n",
       "0.0    100.0   99.72   99.45   99.17   98.89   98.62   98.34   98.07   97.80   \n",
       "10.0    90.0   89.72   89.45   89.17   88.89   88.62   88.34   88.07   87.80   \n",
       "20.0    80.0   79.72   79.45   79.17   78.89   78.62   78.34   78.07   77.80   \n",
       "30.0    70.0   69.72   69.45   69.17   68.89   68.62   68.34   68.07   67.80   \n",
       "40.0    60.0   59.72   59.45   59.17   58.89   58.62   58.34   58.07   57.80   \n",
       "50.0    50.0   49.72   49.45   49.17   48.89   48.62   48.34   48.07   47.80   \n",
       "60.0    40.0   39.72   39.45   39.17   38.89   38.62   38.35   38.07   37.80   \n",
       "70.0    30.0   29.72   29.45   29.17   28.89   28.62   28.36   28.10   27.84   \n",
       "80.0    20.0   19.72   19.45   19.18   18.94   18.74   18.57   18.43   18.33   \n",
       "90.0    10.0    9.72    9.57    9.63    9.82   10.09   10.40   10.75   11.11   \n",
       "100.0    0.0    0.97    2.95    4.52    5.81    6.90    7.87    8.72    9.51   \n",
       "110.0    0.0   10.00   10.39   10.96   11.60   12.27   12.94   13.61   14.25   \n",
       "120.0    0.0   20.00   20.28   20.57   20.90   21.26   21.66   22.07   22.50   \n",
       "130.0    0.0   30.00   30.28   30.55   30.83   31.12   31.42   31.72   32.04   \n",
       "140.0    0.0   40.00   40.28   40.55   40.83   41.11   41.38   41.66   41.95   \n",
       "150.0    0.0   50.00   50.28   50.55   50.83   51.11   51.38   51.66   51.93   \n",
       "160.0    0.0   60.00   60.28   60.55   60.83   61.11   61.38   61.66   61.93   \n",
       "170.0    0.0   70.00   70.28   70.55   70.83   71.11   71.38   71.66   71.93   \n",
       "180.0    0.0   80.00   80.28   80.55   80.83   81.11   81.38   81.66   81.93   \n",
       "190.0    0.0   90.00   90.28   90.55   90.83   91.11   91.38   91.66   91.93   \n",
       "200.0    0.0  100.00  100.28  100.55  100.83  101.11  101.38  101.66  101.93   \n",
       "\n",
       "         0.50    0.56    0.61    0.67    0.72    0.78    0.83    0.89    0.94  \\\n",
       "0.0     97.53   97.26   96.99   96.72   96.45   96.18   95.91   95.65   95.38   \n",
       "10.0    87.53   87.26   86.99   86.72   86.45   86.18   85.91   85.65   85.38   \n",
       "20.0    77.53   77.26   76.99   76.72   76.45   76.18   75.91   75.65   75.38   \n",
       "30.0    67.53   67.26   66.99   66.72   66.45   66.18   65.91   65.65   65.38   \n",
       "40.0    57.53   57.26   56.99   56.72   56.45   56.18   55.91   55.65   55.38   \n",
       "50.0    47.53   47.26   46.99   46.72   46.45   46.18   45.92   45.65   45.39   \n",
       "60.0    37.53   37.26   37.00   36.74   36.48   36.22   35.97   35.72   35.47   \n",
       "70.0    27.60   27.37   27.15   26.94   26.74   26.55   26.38   26.21   26.06   \n",
       "80.0    18.25   18.21   18.18   18.18   18.19   18.22   18.26   18.32   18.38   \n",
       "90.0    11.47   11.84   12.20   12.56   12.92   13.27   13.62   13.96   14.29   \n",
       "100.0   10.23   10.90   11.54   12.14   12.71   13.26   13.79   14.29   14.79   \n",
       "110.0   14.88   15.49   16.09   16.66   17.22   17.76   18.29   18.80   19.30   \n",
       "120.0   22.94   23.39   23.84   24.29   24.74   25.19   25.64   26.08   26.51   \n",
       "130.0   32.37   32.71   33.06   33.41   33.77   34.13   34.50   34.87   35.23   \n",
       "140.0   42.23   42.53   42.82   43.13   43.43   43.74   44.06   44.37   44.69   \n",
       "150.0   52.21   52.48   52.76   53.04   53.32   53.61   53.90   54.19   54.48   \n",
       "160.0   62.20   62.47   62.75   63.02   63.29   63.57   63.84   64.12   64.40   \n",
       "170.0   72.20   72.47   72.74   73.01   73.29   73.56   73.83   74.10   74.37   \n",
       "180.0   82.20   82.47   82.74   83.01   83.28   83.55   83.82   84.09   84.36   \n",
       "190.0   92.20   92.47   92.74   93.01   93.28   93.55   93.82   94.09   94.35   \n",
       "200.0  102.20  102.47  102.74  103.01  103.28  103.55  103.82  104.08  104.35   \n",
       "\n",
       "         1.00  \n",
       "0.0     95.12  \n",
       "10.0    85.12  \n",
       "20.0    75.12  \n",
       "30.0    65.12  \n",
       "40.0    55.12  \n",
       "50.0    45.13  \n",
       "60.0    35.24  \n",
       "70.0    25.91  \n",
       "80.0    18.45  \n",
       "90.0    14.62  \n",
       "100.0   15.26  \n",
       "110.0   19.79  \n",
       "120.0   26.95  \n",
       "130.0   35.60  \n",
       "140.0   45.01  \n",
       "150.0   54.77  \n",
       "160.0   64.67  \n",
       "170.0   74.64  \n",
       "180.0   84.62  \n",
       "190.0   94.62  \n",
       "200.0  104.61  "
      ]
     },
     "execution_count": 12,
     "metadata": {},
     "output_type": "execute_result"
    }
   ],
   "source": [
    "# Call the function to price options\n",
    "fdm_grid = fdm_option(100,0.2,0.05,1,20,Flag=-1, EType=1)\n",
    "fdm_grid"
   ]
  },
  {
   "cell_type": "markdown",
   "id": "aba39e89",
   "metadata": {},
   "source": [
    "## 5.1 Option Values\n",
    "Let's now get the value of European call and put option for K=100, Volatility=20%, Rate=5%, T=1 and NAS=60."
   ]
  },
  {
   "cell_type": "code",
   "execution_count": 13,
   "id": "28f06dd4",
   "metadata": {},
   "outputs": [
    {
     "name": "stdout",
     "output_type": "stream",
     "text": [
      "European Call Option Value is 10.4300\n",
      "European Put Option Value is 5.5500\n"
     ]
    }
   ],
   "source": [
    "# Output the option values\n",
    "Euro_call = fdm_option(100,0.2,0.05,1,60,Flag=1).loc[100,1]\n",
    "Euro_put = fdm_option(100,0.2,0.05,1,60,Flag=-1).loc[100,1]\n",
    "\n",
    "# Print the values\n",
    "print(f\"European Call Option Value is {Euro_call:0.4f}\")\n",
    "print(f\"European Put Option Value is {Euro_put:0.4f}\")"
   ]
  },
  {
   "cell_type": "markdown",
   "id": "52ddb12b",
   "metadata": {},
   "source": [
    "## 5.2 Visualize the payoff"
   ]
  },
  {
   "cell_type": "code",
   "execution_count": 14,
   "id": "daf4fa9e",
   "metadata": {
    "scrolled": true
   },
   "outputs": [
    {
     "data": {
      "application/vnd.plotly.v1+json": {
       "config": {
        "plotlyServerURL": "https://plot.ly"
       },
       "data": [
        {
         "colorscale": [
          [
           0,
           "rgb(255, 153, 51)"
          ],
          [
           0.1111111111111111,
           "rgb(55, 128, 191)"
          ],
          [
           0.2222222222222222,
           "rgb(50, 171, 96)"
          ],
          [
           0.3333333333333333,
           "rgb(128, 0, 128)"
          ],
          [
           0.4444444444444444,
           "rgb(219, 64, 82)"
          ],
          [
           0.5555555555555556,
           "rgb(0, 128, 128)"
          ],
          [
           0.6666666666666666,
           "rgb(255, 255, 51)"
          ],
          [
           0.7777777777777778,
           "rgb(128, 128, 0)"
          ],
          [
           0.8888888888888888,
           "rgb(251, 128, 114)"
          ],
          [
           1,
           "rgb(128, 177, 211)"
          ]
         ],
         "type": "surface",
         "x": [
          0,
          10,
          20,
          30,
          40,
          50,
          60,
          70,
          80,
          90,
          100,
          110,
          120,
          130,
          140,
          150,
          160,
          170,
          180,
          190,
          200
         ],
         "y": [
          0,
          0.06,
          0.11,
          0.17,
          0.22,
          0.28,
          0.33,
          0.39,
          0.44,
          0.5,
          0.56,
          0.61,
          0.67,
          0.72,
          0.78,
          0.83,
          0.89,
          0.94,
          1
         ],
         "z": [
          [
           100,
           90,
           80,
           70,
           60,
           50,
           40,
           30,
           20,
           10,
           0,
           0,
           0,
           0,
           0,
           0,
           0,
           0,
           0,
           0,
           0
          ],
          [
           99.72,
           89.72,
           79.72,
           69.72,
           59.72,
           49.72,
           39.72,
           29.72,
           19.72,
           9.72,
           0.97,
           10,
           20,
           30,
           40,
           50,
           60,
           70,
           80,
           90,
           100
          ],
          [
           99.45,
           89.45,
           79.45,
           69.45,
           59.45,
           49.45,
           39.45,
           29.45,
           19.45,
           9.57,
           2.95,
           10.39,
           20.28,
           30.28,
           40.28,
           50.28,
           60.28,
           70.28,
           80.28,
           90.28,
           100.28
          ],
          [
           99.17,
           89.17,
           79.17,
           69.17,
           59.17,
           49.17,
           39.17,
           29.17,
           19.18,
           9.63,
           4.52,
           10.96,
           20.57,
           30.55,
           40.55,
           50.55,
           60.55,
           70.55,
           80.55,
           90.55,
           100.55
          ],
          [
           98.89,
           88.89,
           78.89,
           68.89,
           58.89,
           48.89,
           38.89,
           28.89,
           18.94,
           9.82,
           5.81,
           11.6,
           20.9,
           30.83,
           40.83,
           50.83,
           60.83,
           70.83,
           80.83,
           90.83,
           100.83
          ],
          [
           98.62,
           88.62,
           78.62,
           68.62,
           58.62,
           48.62,
           38.62,
           28.62,
           18.74,
           10.09,
           6.9,
           12.27,
           21.26,
           31.12,
           41.11,
           51.11,
           61.11,
           71.11,
           81.11,
           91.11,
           101.11
          ],
          [
           98.34,
           88.34,
           78.34,
           68.34,
           58.34,
           48.34,
           38.35,
           28.36,
           18.57,
           10.4,
           7.87,
           12.94,
           21.66,
           31.42,
           41.38,
           51.38,
           61.38,
           71.38,
           81.38,
           91.38,
           101.38
          ],
          [
           98.07,
           88.07,
           78.07,
           68.07,
           58.07,
           48.07,
           38.07,
           28.1,
           18.43,
           10.75,
           8.72,
           13.61,
           22.07,
           31.72,
           41.66,
           51.66,
           61.66,
           71.66,
           81.66,
           91.66,
           101.66
          ],
          [
           97.8,
           87.8,
           77.8,
           67.8,
           57.8,
           47.8,
           37.8,
           27.84,
           18.33,
           11.11,
           9.51,
           14.25,
           22.5,
           32.04,
           41.95,
           51.93,
           61.93,
           71.93,
           81.93,
           91.93,
           101.93
          ],
          [
           97.53,
           87.53,
           77.53,
           67.53,
           57.53,
           47.53,
           37.53,
           27.6,
           18.25,
           11.47,
           10.23,
           14.88,
           22.94,
           32.37,
           42.23,
           52.21,
           62.2,
           72.2,
           82.2,
           92.2,
           102.2
          ],
          [
           97.26,
           87.26,
           77.26,
           67.26,
           57.26,
           47.26,
           37.26,
           27.37,
           18.21,
           11.84,
           10.9,
           15.49,
           23.39,
           32.71,
           42.53,
           52.48,
           62.47,
           72.47,
           82.47,
           92.47,
           102.47
          ],
          [
           96.99,
           86.99,
           76.99,
           66.99,
           56.99,
           46.99,
           37,
           27.15,
           18.18,
           12.2,
           11.54,
           16.09,
           23.84,
           33.06,
           42.82,
           52.76,
           62.75,
           72.74,
           82.74,
           92.74,
           102.74
          ],
          [
           96.72,
           86.72,
           76.72,
           66.72,
           56.72,
           46.72,
           36.74,
           26.94,
           18.18,
           12.56,
           12.14,
           16.66,
           24.29,
           33.41,
           43.13,
           53.04,
           63.02,
           73.01,
           83.01,
           93.01,
           103.01
          ],
          [
           96.45,
           86.45,
           76.45,
           66.45,
           56.45,
           46.45,
           36.48,
           26.74,
           18.19,
           12.92,
           12.71,
           17.22,
           24.74,
           33.77,
           43.43,
           53.32,
           63.29,
           73.29,
           83.28,
           93.28,
           103.28
          ],
          [
           96.18,
           86.18,
           76.18,
           66.18,
           56.18,
           46.18,
           36.22,
           26.55,
           18.22,
           13.27,
           13.26,
           17.76,
           25.19,
           34.13,
           43.74,
           53.61,
           63.57,
           73.56,
           83.55,
           93.55,
           103.55
          ],
          [
           95.91,
           85.91,
           75.91,
           65.91,
           55.91,
           45.92,
           35.97,
           26.38,
           18.26,
           13.62,
           13.79,
           18.29,
           25.64,
           34.5,
           44.06,
           53.9,
           63.84,
           73.83,
           83.82,
           93.82,
           103.82
          ],
          [
           95.65,
           85.65,
           75.65,
           65.65,
           55.65,
           45.65,
           35.72,
           26.21,
           18.32,
           13.96,
           14.29,
           18.8,
           26.08,
           34.87,
           44.37,
           54.19,
           64.12,
           74.1,
           84.09,
           94.09,
           104.08
          ],
          [
           95.38,
           85.38,
           75.38,
           65.38,
           55.38,
           45.39,
           35.47,
           26.06,
           18.38,
           14.29,
           14.79,
           19.3,
           26.51,
           35.23,
           44.69,
           54.48,
           64.4,
           74.37,
           84.36,
           94.35,
           104.35
          ],
          [
           95.12,
           85.12,
           75.12,
           65.12,
           55.12,
           45.13,
           35.24,
           25.91,
           18.45,
           14.62,
           15.26,
           19.79,
           26.95,
           35.6,
           45.01,
           54.77,
           64.67,
           74.64,
           84.62,
           94.62,
           104.61
          ]
         ]
        }
       ],
       "layout": {
        "height": 600,
        "legend": {
         "bgcolor": "#F5F6F9",
         "font": {
          "color": "#4D5663"
         }
        },
        "paper_bgcolor": "#F5F6F9",
        "plot_bgcolor": "#F5F6F9",
        "template": {
         "data": {
          "bar": [
           {
            "error_x": {
             "color": "#2a3f5f"
            },
            "error_y": {
             "color": "#2a3f5f"
            },
            "marker": {
             "line": {
              "color": "#E5ECF6",
              "width": 0.5
             },
             "pattern": {
              "fillmode": "overlay",
              "size": 10,
              "solidity": 0.2
             }
            },
            "type": "bar"
           }
          ],
          "barpolar": [
           {
            "marker": {
             "line": {
              "color": "#E5ECF6",
              "width": 0.5
             },
             "pattern": {
              "fillmode": "overlay",
              "size": 10,
              "solidity": 0.2
             }
            },
            "type": "barpolar"
           }
          ],
          "carpet": [
           {
            "aaxis": {
             "endlinecolor": "#2a3f5f",
             "gridcolor": "white",
             "linecolor": "white",
             "minorgridcolor": "white",
             "startlinecolor": "#2a3f5f"
            },
            "baxis": {
             "endlinecolor": "#2a3f5f",
             "gridcolor": "white",
             "linecolor": "white",
             "minorgridcolor": "white",
             "startlinecolor": "#2a3f5f"
            },
            "type": "carpet"
           }
          ],
          "choropleth": [
           {
            "colorbar": {
             "outlinewidth": 0,
             "ticks": ""
            },
            "type": "choropleth"
           }
          ],
          "contour": [
           {
            "colorbar": {
             "outlinewidth": 0,
             "ticks": ""
            },
            "colorscale": [
             [
              0,
              "#0d0887"
             ],
             [
              0.1111111111111111,
              "#46039f"
             ],
             [
              0.2222222222222222,
              "#7201a8"
             ],
             [
              0.3333333333333333,
              "#9c179e"
             ],
             [
              0.4444444444444444,
              "#bd3786"
             ],
             [
              0.5555555555555556,
              "#d8576b"
             ],
             [
              0.6666666666666666,
              "#ed7953"
             ],
             [
              0.7777777777777778,
              "#fb9f3a"
             ],
             [
              0.8888888888888888,
              "#fdca26"
             ],
             [
              1,
              "#f0f921"
             ]
            ],
            "type": "contour"
           }
          ],
          "contourcarpet": [
           {
            "colorbar": {
             "outlinewidth": 0,
             "ticks": ""
            },
            "type": "contourcarpet"
           }
          ],
          "heatmap": [
           {
            "colorbar": {
             "outlinewidth": 0,
             "ticks": ""
            },
            "colorscale": [
             [
              0,
              "#0d0887"
             ],
             [
              0.1111111111111111,
              "#46039f"
             ],
             [
              0.2222222222222222,
              "#7201a8"
             ],
             [
              0.3333333333333333,
              "#9c179e"
             ],
             [
              0.4444444444444444,
              "#bd3786"
             ],
             [
              0.5555555555555556,
              "#d8576b"
             ],
             [
              0.6666666666666666,
              "#ed7953"
             ],
             [
              0.7777777777777778,
              "#fb9f3a"
             ],
             [
              0.8888888888888888,
              "#fdca26"
             ],
             [
              1,
              "#f0f921"
             ]
            ],
            "type": "heatmap"
           }
          ],
          "heatmapgl": [
           {
            "colorbar": {
             "outlinewidth": 0,
             "ticks": ""
            },
            "colorscale": [
             [
              0,
              "#0d0887"
             ],
             [
              0.1111111111111111,
              "#46039f"
             ],
             [
              0.2222222222222222,
              "#7201a8"
             ],
             [
              0.3333333333333333,
              "#9c179e"
             ],
             [
              0.4444444444444444,
              "#bd3786"
             ],
             [
              0.5555555555555556,
              "#d8576b"
             ],
             [
              0.6666666666666666,
              "#ed7953"
             ],
             [
              0.7777777777777778,
              "#fb9f3a"
             ],
             [
              0.8888888888888888,
              "#fdca26"
             ],
             [
              1,
              "#f0f921"
             ]
            ],
            "type": "heatmapgl"
           }
          ],
          "histogram": [
           {
            "marker": {
             "pattern": {
              "fillmode": "overlay",
              "size": 10,
              "solidity": 0.2
             }
            },
            "type": "histogram"
           }
          ],
          "histogram2d": [
           {
            "colorbar": {
             "outlinewidth": 0,
             "ticks": ""
            },
            "colorscale": [
             [
              0,
              "#0d0887"
             ],
             [
              0.1111111111111111,
              "#46039f"
             ],
             [
              0.2222222222222222,
              "#7201a8"
             ],
             [
              0.3333333333333333,
              "#9c179e"
             ],
             [
              0.4444444444444444,
              "#bd3786"
             ],
             [
              0.5555555555555556,
              "#d8576b"
             ],
             [
              0.6666666666666666,
              "#ed7953"
             ],
             [
              0.7777777777777778,
              "#fb9f3a"
             ],
             [
              0.8888888888888888,
              "#fdca26"
             ],
             [
              1,
              "#f0f921"
             ]
            ],
            "type": "histogram2d"
           }
          ],
          "histogram2dcontour": [
           {
            "colorbar": {
             "outlinewidth": 0,
             "ticks": ""
            },
            "colorscale": [
             [
              0,
              "#0d0887"
             ],
             [
              0.1111111111111111,
              "#46039f"
             ],
             [
              0.2222222222222222,
              "#7201a8"
             ],
             [
              0.3333333333333333,
              "#9c179e"
             ],
             [
              0.4444444444444444,
              "#bd3786"
             ],
             [
              0.5555555555555556,
              "#d8576b"
             ],
             [
              0.6666666666666666,
              "#ed7953"
             ],
             [
              0.7777777777777778,
              "#fb9f3a"
             ],
             [
              0.8888888888888888,
              "#fdca26"
             ],
             [
              1,
              "#f0f921"
             ]
            ],
            "type": "histogram2dcontour"
           }
          ],
          "mesh3d": [
           {
            "colorbar": {
             "outlinewidth": 0,
             "ticks": ""
            },
            "type": "mesh3d"
           }
          ],
          "parcoords": [
           {
            "line": {
             "colorbar": {
              "outlinewidth": 0,
              "ticks": ""
             }
            },
            "type": "parcoords"
           }
          ],
          "pie": [
           {
            "automargin": true,
            "type": "pie"
           }
          ],
          "scatter": [
           {
            "fillpattern": {
             "fillmode": "overlay",
             "size": 10,
             "solidity": 0.2
            },
            "type": "scatter"
           }
          ],
          "scatter3d": [
           {
            "line": {
             "colorbar": {
              "outlinewidth": 0,
              "ticks": ""
             }
            },
            "marker": {
             "colorbar": {
              "outlinewidth": 0,
              "ticks": ""
             }
            },
            "type": "scatter3d"
           }
          ],
          "scattercarpet": [
           {
            "marker": {
             "colorbar": {
              "outlinewidth": 0,
              "ticks": ""
             }
            },
            "type": "scattercarpet"
           }
          ],
          "scattergeo": [
           {
            "marker": {
             "colorbar": {
              "outlinewidth": 0,
              "ticks": ""
             }
            },
            "type": "scattergeo"
           }
          ],
          "scattergl": [
           {
            "marker": {
             "colorbar": {
              "outlinewidth": 0,
              "ticks": ""
             }
            },
            "type": "scattergl"
           }
          ],
          "scattermapbox": [
           {
            "marker": {
             "colorbar": {
              "outlinewidth": 0,
              "ticks": ""
             }
            },
            "type": "scattermapbox"
           }
          ],
          "scatterpolar": [
           {
            "marker": {
             "colorbar": {
              "outlinewidth": 0,
              "ticks": ""
             }
            },
            "type": "scatterpolar"
           }
          ],
          "scatterpolargl": [
           {
            "marker": {
             "colorbar": {
              "outlinewidth": 0,
              "ticks": ""
             }
            },
            "type": "scatterpolargl"
           }
          ],
          "scatterternary": [
           {
            "marker": {
             "colorbar": {
              "outlinewidth": 0,
              "ticks": ""
             }
            },
            "type": "scatterternary"
           }
          ],
          "surface": [
           {
            "colorbar": {
             "outlinewidth": 0,
             "ticks": ""
            },
            "colorscale": [
             [
              0,
              "#0d0887"
             ],
             [
              0.1111111111111111,
              "#46039f"
             ],
             [
              0.2222222222222222,
              "#7201a8"
             ],
             [
              0.3333333333333333,
              "#9c179e"
             ],
             [
              0.4444444444444444,
              "#bd3786"
             ],
             [
              0.5555555555555556,
              "#d8576b"
             ],
             [
              0.6666666666666666,
              "#ed7953"
             ],
             [
              0.7777777777777778,
              "#fb9f3a"
             ],
             [
              0.8888888888888888,
              "#fdca26"
             ],
             [
              1,
              "#f0f921"
             ]
            ],
            "type": "surface"
           }
          ],
          "table": [
           {
            "cells": {
             "fill": {
              "color": "#EBF0F8"
             },
             "line": {
              "color": "white"
             }
            },
            "header": {
             "fill": {
              "color": "#C8D4E3"
             },
             "line": {
              "color": "white"
             }
            },
            "type": "table"
           }
          ]
         },
         "layout": {
          "annotationdefaults": {
           "arrowcolor": "#2a3f5f",
           "arrowhead": 0,
           "arrowwidth": 1
          },
          "autotypenumbers": "strict",
          "coloraxis": {
           "colorbar": {
            "outlinewidth": 0,
            "ticks": ""
           }
          },
          "colorscale": {
           "diverging": [
            [
             0,
             "#8e0152"
            ],
            [
             0.1,
             "#c51b7d"
            ],
            [
             0.2,
             "#de77ae"
            ],
            [
             0.3,
             "#f1b6da"
            ],
            [
             0.4,
             "#fde0ef"
            ],
            [
             0.5,
             "#f7f7f7"
            ],
            [
             0.6,
             "#e6f5d0"
            ],
            [
             0.7,
             "#b8e186"
            ],
            [
             0.8,
             "#7fbc41"
            ],
            [
             0.9,
             "#4d9221"
            ],
            [
             1,
             "#276419"
            ]
           ],
           "sequential": [
            [
             0,
             "#0d0887"
            ],
            [
             0.1111111111111111,
             "#46039f"
            ],
            [
             0.2222222222222222,
             "#7201a8"
            ],
            [
             0.3333333333333333,
             "#9c179e"
            ],
            [
             0.4444444444444444,
             "#bd3786"
            ],
            [
             0.5555555555555556,
             "#d8576b"
            ],
            [
             0.6666666666666666,
             "#ed7953"
            ],
            [
             0.7777777777777778,
             "#fb9f3a"
            ],
            [
             0.8888888888888888,
             "#fdca26"
            ],
            [
             1,
             "#f0f921"
            ]
           ],
           "sequentialminus": [
            [
             0,
             "#0d0887"
            ],
            [
             0.1111111111111111,
             "#46039f"
            ],
            [
             0.2222222222222222,
             "#7201a8"
            ],
            [
             0.3333333333333333,
             "#9c179e"
            ],
            [
             0.4444444444444444,
             "#bd3786"
            ],
            [
             0.5555555555555556,
             "#d8576b"
            ],
            [
             0.6666666666666666,
             "#ed7953"
            ],
            [
             0.7777777777777778,
             "#fb9f3a"
            ],
            [
             0.8888888888888888,
             "#fdca26"
            ],
            [
             1,
             "#f0f921"
            ]
           ]
          },
          "colorway": [
           "#636efa",
           "#EF553B",
           "#00cc96",
           "#ab63fa",
           "#FFA15A",
           "#19d3f3",
           "#FF6692",
           "#B6E880",
           "#FF97FF",
           "#FECB52"
          ],
          "font": {
           "color": "#2a3f5f"
          },
          "geo": {
           "bgcolor": "white",
           "lakecolor": "white",
           "landcolor": "#E5ECF6",
           "showlakes": true,
           "showland": true,
           "subunitcolor": "white"
          },
          "hoverlabel": {
           "align": "left"
          },
          "hovermode": "closest",
          "mapbox": {
           "style": "light"
          },
          "paper_bgcolor": "white",
          "plot_bgcolor": "#E5ECF6",
          "polar": {
           "angularaxis": {
            "gridcolor": "white",
            "linecolor": "white",
            "ticks": ""
           },
           "bgcolor": "#E5ECF6",
           "radialaxis": {
            "gridcolor": "white",
            "linecolor": "white",
            "ticks": ""
           }
          },
          "scene": {
           "xaxis": {
            "backgroundcolor": "#E5ECF6",
            "gridcolor": "white",
            "gridwidth": 2,
            "linecolor": "white",
            "showbackground": true,
            "ticks": "",
            "zerolinecolor": "white"
           },
           "yaxis": {
            "backgroundcolor": "#E5ECF6",
            "gridcolor": "white",
            "gridwidth": 2,
            "linecolor": "white",
            "showbackground": true,
            "ticks": "",
            "zerolinecolor": "white"
           },
           "zaxis": {
            "backgroundcolor": "#E5ECF6",
            "gridcolor": "white",
            "gridwidth": 2,
            "linecolor": "white",
            "showbackground": true,
            "ticks": "",
            "zerolinecolor": "white"
           }
          },
          "shapedefaults": {
           "line": {
            "color": "#2a3f5f"
           }
          },
          "ternary": {
           "aaxis": {
            "gridcolor": "white",
            "linecolor": "white",
            "ticks": ""
           },
           "baxis": {
            "gridcolor": "white",
            "linecolor": "white",
            "ticks": ""
           },
           "bgcolor": "#E5ECF6",
           "caxis": {
            "gridcolor": "white",
            "linecolor": "white",
            "ticks": ""
           }
          },
          "title": {
           "x": 0.05
          },
          "xaxis": {
           "automargin": true,
           "gridcolor": "white",
           "linecolor": "white",
           "ticks": "",
           "title": {
            "standoff": 15
           },
           "zerolinecolor": "white",
           "zerolinewidth": 2
          },
          "yaxis": {
           "automargin": true,
           "gridcolor": "white",
           "linecolor": "white",
           "ticks": "",
           "title": {
            "standoff": 15
           },
           "zerolinecolor": "white",
           "zerolinewidth": 2
          }
         }
        },
        "title": {
         "font": {
          "color": "#4D5663"
         },
         "text": "Option values by Explicit FDM"
        },
        "width": 1000,
        "xaxis": {
         "gridcolor": "#E1E5ED",
         "showgrid": true,
         "tickfont": {
          "color": "#4D5663"
         },
         "title": {
          "font": {
           "color": "#4D5663"
          },
          "text": "Spot"
         },
         "zerolinecolor": "#E1E5ED"
        },
        "yaxis": {
         "gridcolor": "#E1E5ED",
         "showgrid": true,
         "tickfont": {
          "color": "#4D5663"
         },
         "title": {
          "font": {
           "color": "#4D5663"
          },
          "text": "Maturiy"
         },
         "zerolinecolor": "#E1E5ED"
        }
       }
      },
      "text/html": [
       "<div>                            <div id=\"81955754-f2d8-4aba-a300-81ef7dd81f2e\" class=\"plotly-graph-div\" style=\"height:600px; width:1000px;\"></div>            <script type=\"text/javascript\">                require([\"plotly\"], function(Plotly) {                    window.PLOTLYENV=window.PLOTLYENV || {};                                    if (document.getElementById(\"81955754-f2d8-4aba-a300-81ef7dd81f2e\")) {                    Plotly.newPlot(                        \"81955754-f2d8-4aba-a300-81ef7dd81f2e\",                        [{\"colorscale\":[[0.0,\"rgb(255, 153, 51)\"],[0.1111111111111111,\"rgb(55, 128, 191)\"],[0.2222222222222222,\"rgb(50, 171, 96)\"],[0.3333333333333333,\"rgb(128, 0, 128)\"],[0.4444444444444444,\"rgb(219, 64, 82)\"],[0.5555555555555556,\"rgb(0, 128, 128)\"],[0.6666666666666666,\"rgb(255, 255, 51)\"],[0.7777777777777778,\"rgb(128, 128, 0)\"],[0.8888888888888888,\"rgb(251, 128, 114)\"],[1.0,\"rgb(128, 177, 211)\"]],\"x\":[0.0,10.0,20.0,30.0,40.0,50.0,60.0,70.0,80.0,90.0,100.0,110.0,120.0,130.0,140.0,150.0,160.0,170.0,180.0,190.0,200.0],\"y\":[0.0,0.06,0.11,0.17,0.22,0.28,0.33,0.39,0.44,0.5,0.56,0.61,0.67,0.72,0.78,0.83,0.89,0.94,1.0],\"z\":[[100.0,90.0,80.0,70.0,60.0,50.0,40.0,30.0,20.0,10.0,0.0,0.0,0.0,0.0,0.0,0.0,0.0,0.0,0.0,0.0,0.0],[99.72,89.72,79.72,69.72,59.72,49.72,39.72,29.72,19.72,9.72,0.97,10.0,20.0,30.0,40.0,50.0,60.0,70.0,80.0,90.0,100.0],[99.45,89.45,79.45,69.45,59.45,49.45,39.45,29.45,19.45,9.57,2.95,10.39,20.28,30.28,40.28,50.28,60.28,70.28,80.28,90.28,100.28],[99.17,89.17,79.17,69.17,59.17,49.17,39.17,29.17,19.18,9.63,4.52,10.96,20.57,30.55,40.55,50.55,60.55,70.55,80.55,90.55,100.55],[98.89,88.89,78.89,68.89,58.89,48.89,38.89,28.89,18.94,9.82,5.81,11.6,20.9,30.83,40.83,50.83,60.83,70.83,80.83,90.83,100.83],[98.62,88.62,78.62,68.62,58.62,48.62,38.62,28.62,18.74,10.09,6.9,12.27,21.26,31.12,41.11,51.11,61.11,71.11,81.11,91.11,101.11],[98.34,88.34,78.34,68.34,58.34,48.34,38.35,28.36,18.57,10.4,7.87,12.94,21.66,31.42,41.38,51.38,61.38,71.38,81.38,91.38,101.38],[98.07,88.07,78.07,68.07,58.07,48.07,38.07,28.1,18.43,10.75,8.72,13.61,22.07,31.72,41.66,51.66,61.66,71.66,81.66,91.66,101.66],[97.8,87.8,77.8,67.8,57.8,47.8,37.8,27.84,18.33,11.11,9.51,14.25,22.5,32.04,41.95,51.93,61.93,71.93,81.93,91.93,101.93],[97.53,87.53,77.53,67.53,57.53,47.53,37.53,27.6,18.25,11.47,10.23,14.88,22.94,32.37,42.23,52.21,62.2,72.2,82.2,92.2,102.2],[97.26,87.26,77.26,67.26,57.26,47.26,37.26,27.37,18.21,11.84,10.9,15.49,23.39,32.71,42.53,52.48,62.47,72.47,82.47,92.47,102.47],[96.99,86.99,76.99,66.99,56.99,46.99,37.0,27.15,18.18,12.2,11.54,16.09,23.84,33.06,42.82,52.76,62.75,72.74,82.74,92.74,102.74],[96.72,86.72,76.72,66.72,56.72,46.72,36.74,26.94,18.18,12.56,12.14,16.66,24.29,33.41,43.13,53.04,63.02,73.01,83.01,93.01,103.01],[96.45,86.45,76.45,66.45,56.45,46.45,36.48,26.74,18.19,12.92,12.71,17.22,24.74,33.77,43.43,53.32,63.29,73.29,83.28,93.28,103.28],[96.18,86.18,76.18,66.18,56.18,46.18,36.22,26.55,18.22,13.27,13.26,17.76,25.19,34.13,43.74,53.61,63.57,73.56,83.55,93.55,103.55],[95.91,85.91,75.91,65.91,55.91,45.92,35.97,26.38,18.26,13.62,13.79,18.29,25.64,34.5,44.06,53.9,63.84,73.83,83.82,93.82,103.82],[95.65,85.65,75.65,65.65,55.65,45.65,35.72,26.21,18.32,13.96,14.29,18.8,26.08,34.87,44.37,54.19,64.12,74.1,84.09,94.09,104.08],[95.38,85.38,75.38,65.38,55.38,45.39,35.47,26.06,18.38,14.29,14.79,19.3,26.51,35.23,44.69,54.48,64.4,74.37,84.36,94.35,104.35],[95.12,85.12,75.12,65.12,55.12,45.13,35.24,25.91,18.45,14.62,15.26,19.79,26.95,35.6,45.01,54.77,64.67,74.64,84.62,94.62,104.61]],\"type\":\"surface\"}],                        {\"height\":600,\"legend\":{\"bgcolor\":\"#F5F6F9\",\"font\":{\"color\":\"#4D5663\"}},\"paper_bgcolor\":\"#F5F6F9\",\"plot_bgcolor\":\"#F5F6F9\",\"title\":{\"text\":\"Option values by Explicit FDM\",\"font\":{\"color\":\"#4D5663\"}},\"width\":1000,\"xaxis\":{\"gridcolor\":\"#E1E5ED\",\"showgrid\":true,\"tickfont\":{\"color\":\"#4D5663\"},\"title\":{\"text\":\"Spot\",\"font\":{\"color\":\"#4D5663\"}},\"zerolinecolor\":\"#E1E5ED\"},\"yaxis\":{\"gridcolor\":\"#E1E5ED\",\"showgrid\":true,\"tickfont\":{\"color\":\"#4D5663\"},\"title\":{\"text\":\"Maturiy\",\"font\":{\"color\":\"#4D5663\"}},\"zerolinecolor\":\"#E1E5ED\"},\"template\":{\"data\":{\"histogram2dcontour\":[{\"type\":\"histogram2dcontour\",\"colorbar\":{\"outlinewidth\":0,\"ticks\":\"\"},\"colorscale\":[[0.0,\"#0d0887\"],[0.1111111111111111,\"#46039f\"],[0.2222222222222222,\"#7201a8\"],[0.3333333333333333,\"#9c179e\"],[0.4444444444444444,\"#bd3786\"],[0.5555555555555556,\"#d8576b\"],[0.6666666666666666,\"#ed7953\"],[0.7777777777777778,\"#fb9f3a\"],[0.8888888888888888,\"#fdca26\"],[1.0,\"#f0f921\"]]}],\"choropleth\":[{\"type\":\"choropleth\",\"colorbar\":{\"outlinewidth\":0,\"ticks\":\"\"}}],\"histogram2d\":[{\"type\":\"histogram2d\",\"colorbar\":{\"outlinewidth\":0,\"ticks\":\"\"},\"colorscale\":[[0.0,\"#0d0887\"],[0.1111111111111111,\"#46039f\"],[0.2222222222222222,\"#7201a8\"],[0.3333333333333333,\"#9c179e\"],[0.4444444444444444,\"#bd3786\"],[0.5555555555555556,\"#d8576b\"],[0.6666666666666666,\"#ed7953\"],[0.7777777777777778,\"#fb9f3a\"],[0.8888888888888888,\"#fdca26\"],[1.0,\"#f0f921\"]]}],\"heatmap\":[{\"type\":\"heatmap\",\"colorbar\":{\"outlinewidth\":0,\"ticks\":\"\"},\"colorscale\":[[0.0,\"#0d0887\"],[0.1111111111111111,\"#46039f\"],[0.2222222222222222,\"#7201a8\"],[0.3333333333333333,\"#9c179e\"],[0.4444444444444444,\"#bd3786\"],[0.5555555555555556,\"#d8576b\"],[0.6666666666666666,\"#ed7953\"],[0.7777777777777778,\"#fb9f3a\"],[0.8888888888888888,\"#fdca26\"],[1.0,\"#f0f921\"]]}],\"heatmapgl\":[{\"type\":\"heatmapgl\",\"colorbar\":{\"outlinewidth\":0,\"ticks\":\"\"},\"colorscale\":[[0.0,\"#0d0887\"],[0.1111111111111111,\"#46039f\"],[0.2222222222222222,\"#7201a8\"],[0.3333333333333333,\"#9c179e\"],[0.4444444444444444,\"#bd3786\"],[0.5555555555555556,\"#d8576b\"],[0.6666666666666666,\"#ed7953\"],[0.7777777777777778,\"#fb9f3a\"],[0.8888888888888888,\"#fdca26\"],[1.0,\"#f0f921\"]]}],\"contourcarpet\":[{\"type\":\"contourcarpet\",\"colorbar\":{\"outlinewidth\":0,\"ticks\":\"\"}}],\"contour\":[{\"type\":\"contour\",\"colorbar\":{\"outlinewidth\":0,\"ticks\":\"\"},\"colorscale\":[[0.0,\"#0d0887\"],[0.1111111111111111,\"#46039f\"],[0.2222222222222222,\"#7201a8\"],[0.3333333333333333,\"#9c179e\"],[0.4444444444444444,\"#bd3786\"],[0.5555555555555556,\"#d8576b\"],[0.6666666666666666,\"#ed7953\"],[0.7777777777777778,\"#fb9f3a\"],[0.8888888888888888,\"#fdca26\"],[1.0,\"#f0f921\"]]}],\"surface\":[{\"type\":\"surface\",\"colorbar\":{\"outlinewidth\":0,\"ticks\":\"\"},\"colorscale\":[[0.0,\"#0d0887\"],[0.1111111111111111,\"#46039f\"],[0.2222222222222222,\"#7201a8\"],[0.3333333333333333,\"#9c179e\"],[0.4444444444444444,\"#bd3786\"],[0.5555555555555556,\"#d8576b\"],[0.6666666666666666,\"#ed7953\"],[0.7777777777777778,\"#fb9f3a\"],[0.8888888888888888,\"#fdca26\"],[1.0,\"#f0f921\"]]}],\"mesh3d\":[{\"type\":\"mesh3d\",\"colorbar\":{\"outlinewidth\":0,\"ticks\":\"\"}}],\"scatter\":[{\"fillpattern\":{\"fillmode\":\"overlay\",\"size\":10,\"solidity\":0.2},\"type\":\"scatter\"}],\"parcoords\":[{\"type\":\"parcoords\",\"line\":{\"colorbar\":{\"outlinewidth\":0,\"ticks\":\"\"}}}],\"scatterpolargl\":[{\"type\":\"scatterpolargl\",\"marker\":{\"colorbar\":{\"outlinewidth\":0,\"ticks\":\"\"}}}],\"bar\":[{\"error_x\":{\"color\":\"#2a3f5f\"},\"error_y\":{\"color\":\"#2a3f5f\"},\"marker\":{\"line\":{\"color\":\"#E5ECF6\",\"width\":0.5},\"pattern\":{\"fillmode\":\"overlay\",\"size\":10,\"solidity\":0.2}},\"type\":\"bar\"}],\"scattergeo\":[{\"type\":\"scattergeo\",\"marker\":{\"colorbar\":{\"outlinewidth\":0,\"ticks\":\"\"}}}],\"scatterpolar\":[{\"type\":\"scatterpolar\",\"marker\":{\"colorbar\":{\"outlinewidth\":0,\"ticks\":\"\"}}}],\"histogram\":[{\"marker\":{\"pattern\":{\"fillmode\":\"overlay\",\"size\":10,\"solidity\":0.2}},\"type\":\"histogram\"}],\"scattergl\":[{\"type\":\"scattergl\",\"marker\":{\"colorbar\":{\"outlinewidth\":0,\"ticks\":\"\"}}}],\"scatter3d\":[{\"type\":\"scatter3d\",\"line\":{\"colorbar\":{\"outlinewidth\":0,\"ticks\":\"\"}},\"marker\":{\"colorbar\":{\"outlinewidth\":0,\"ticks\":\"\"}}}],\"scattermapbox\":[{\"type\":\"scattermapbox\",\"marker\":{\"colorbar\":{\"outlinewidth\":0,\"ticks\":\"\"}}}],\"scatterternary\":[{\"type\":\"scatterternary\",\"marker\":{\"colorbar\":{\"outlinewidth\":0,\"ticks\":\"\"}}}],\"scattercarpet\":[{\"type\":\"scattercarpet\",\"marker\":{\"colorbar\":{\"outlinewidth\":0,\"ticks\":\"\"}}}],\"carpet\":[{\"aaxis\":{\"endlinecolor\":\"#2a3f5f\",\"gridcolor\":\"white\",\"linecolor\":\"white\",\"minorgridcolor\":\"white\",\"startlinecolor\":\"#2a3f5f\"},\"baxis\":{\"endlinecolor\":\"#2a3f5f\",\"gridcolor\":\"white\",\"linecolor\":\"white\",\"minorgridcolor\":\"white\",\"startlinecolor\":\"#2a3f5f\"},\"type\":\"carpet\"}],\"table\":[{\"cells\":{\"fill\":{\"color\":\"#EBF0F8\"},\"line\":{\"color\":\"white\"}},\"header\":{\"fill\":{\"color\":\"#C8D4E3\"},\"line\":{\"color\":\"white\"}},\"type\":\"table\"}],\"barpolar\":[{\"marker\":{\"line\":{\"color\":\"#E5ECF6\",\"width\":0.5},\"pattern\":{\"fillmode\":\"overlay\",\"size\":10,\"solidity\":0.2}},\"type\":\"barpolar\"}],\"pie\":[{\"automargin\":true,\"type\":\"pie\"}]},\"layout\":{\"autotypenumbers\":\"strict\",\"colorway\":[\"#636efa\",\"#EF553B\",\"#00cc96\",\"#ab63fa\",\"#FFA15A\",\"#19d3f3\",\"#FF6692\",\"#B6E880\",\"#FF97FF\",\"#FECB52\"],\"font\":{\"color\":\"#2a3f5f\"},\"hovermode\":\"closest\",\"hoverlabel\":{\"align\":\"left\"},\"paper_bgcolor\":\"white\",\"plot_bgcolor\":\"#E5ECF6\",\"polar\":{\"bgcolor\":\"#E5ECF6\",\"angularaxis\":{\"gridcolor\":\"white\",\"linecolor\":\"white\",\"ticks\":\"\"},\"radialaxis\":{\"gridcolor\":\"white\",\"linecolor\":\"white\",\"ticks\":\"\"}},\"ternary\":{\"bgcolor\":\"#E5ECF6\",\"aaxis\":{\"gridcolor\":\"white\",\"linecolor\":\"white\",\"ticks\":\"\"},\"baxis\":{\"gridcolor\":\"white\",\"linecolor\":\"white\",\"ticks\":\"\"},\"caxis\":{\"gridcolor\":\"white\",\"linecolor\":\"white\",\"ticks\":\"\"}},\"coloraxis\":{\"colorbar\":{\"outlinewidth\":0,\"ticks\":\"\"}},\"colorscale\":{\"sequential\":[[0.0,\"#0d0887\"],[0.1111111111111111,\"#46039f\"],[0.2222222222222222,\"#7201a8\"],[0.3333333333333333,\"#9c179e\"],[0.4444444444444444,\"#bd3786\"],[0.5555555555555556,\"#d8576b\"],[0.6666666666666666,\"#ed7953\"],[0.7777777777777778,\"#fb9f3a\"],[0.8888888888888888,\"#fdca26\"],[1.0,\"#f0f921\"]],\"sequentialminus\":[[0.0,\"#0d0887\"],[0.1111111111111111,\"#46039f\"],[0.2222222222222222,\"#7201a8\"],[0.3333333333333333,\"#9c179e\"],[0.4444444444444444,\"#bd3786\"],[0.5555555555555556,\"#d8576b\"],[0.6666666666666666,\"#ed7953\"],[0.7777777777777778,\"#fb9f3a\"],[0.8888888888888888,\"#fdca26\"],[1.0,\"#f0f921\"]],\"diverging\":[[0,\"#8e0152\"],[0.1,\"#c51b7d\"],[0.2,\"#de77ae\"],[0.3,\"#f1b6da\"],[0.4,\"#fde0ef\"],[0.5,\"#f7f7f7\"],[0.6,\"#e6f5d0\"],[0.7,\"#b8e186\"],[0.8,\"#7fbc41\"],[0.9,\"#4d9221\"],[1,\"#276419\"]]},\"xaxis\":{\"gridcolor\":\"white\",\"linecolor\":\"white\",\"ticks\":\"\",\"title\":{\"standoff\":15},\"zerolinecolor\":\"white\",\"automargin\":true,\"zerolinewidth\":2},\"yaxis\":{\"gridcolor\":\"white\",\"linecolor\":\"white\",\"ticks\":\"\",\"title\":{\"standoff\":15},\"zerolinecolor\":\"white\",\"automargin\":true,\"zerolinewidth\":2},\"scene\":{\"xaxis\":{\"backgroundcolor\":\"#E5ECF6\",\"gridcolor\":\"white\",\"linecolor\":\"white\",\"showbackground\":true,\"ticks\":\"\",\"zerolinecolor\":\"white\",\"gridwidth\":2},\"yaxis\":{\"backgroundcolor\":\"#E5ECF6\",\"gridcolor\":\"white\",\"linecolor\":\"white\",\"showbackground\":true,\"ticks\":\"\",\"zerolinecolor\":\"white\",\"gridwidth\":2},\"zaxis\":{\"backgroundcolor\":\"#E5ECF6\",\"gridcolor\":\"white\",\"linecolor\":\"white\",\"showbackground\":true,\"ticks\":\"\",\"zerolinecolor\":\"white\",\"gridwidth\":2}},\"shapedefaults\":{\"line\":{\"color\":\"#2a3f5f\"}},\"annotationdefaults\":{\"arrowcolor\":\"#2a3f5f\",\"arrowhead\":0,\"arrowwidth\":1},\"geo\":{\"bgcolor\":\"white\",\"landcolor\":\"#E5ECF6\",\"subunitcolor\":\"white\",\"showland\":true,\"showlakes\":true,\"lakecolor\":\"white\"},\"title\":{\"x\":0.05},\"mapbox\":{\"style\":\"light\"}}}},                        {\"responsive\": true}                    ).then(function(){\n",
       "                            \n",
       "var gd = document.getElementById('81955754-f2d8-4aba-a300-81ef7dd81f2e');\n",
       "var x = new MutationObserver(function (mutations, observer) {{\n",
       "        var display = window.getComputedStyle(gd).display;\n",
       "        if (!display || display === 'none') {{\n",
       "            console.log([gd, 'removed!']);\n",
       "            Plotly.purge(gd);\n",
       "            observer.disconnect();\n",
       "        }}\n",
       "}});\n",
       "\n",
       "// Listen for the removal of the full notebook cells\n",
       "var notebookContainer = gd.closest('#notebook-container');\n",
       "if (notebookContainer) {{\n",
       "    x.observe(notebookContainer, {childList: true});\n",
       "}}\n",
       "\n",
       "// Listen for the clearing of the current output cell\n",
       "var outputEl = gd.closest('.output');\n",
       "if (outputEl) {{\n",
       "    x.observe(outputEl, {childList: true});\n",
       "}}\n",
       "\n",
       "                        })                };                });            </script>        </div>"
      ]
     },
     "metadata": {},
     "output_type": "display_data"
    }
   ],
   "source": [
    "# Plot Option Payoff\n",
    "# Axis titles are not rendered correctly on the graph. This is a bug in cufflinks\n",
    "fig = fdm_grid.iplot(kind = 'surface', title='Option values by Explicit FDM', xTitle='Spot', yTitle='Maturiy', zTitle='Option Value', asFigure=True)\n",
    "fig.show()"
   ]
  },
  {
   "cell_type": "code",
   "execution_count": null,
   "id": "ab0ceb5f",
   "metadata": {},
   "outputs": [],
   "source": [
    "# Save the figure - you might have to install kaleido for earlier version of plotly\n",
    "# !pip install -U kaleido\n",
    "\n",
    "# Save as portable network graphics\n",
    "fig.write_image(\"images/fdm_option.png\")"
   ]
  },
  {
   "attachments": {
    "image.png": {
     "image/png": "[encoded data removed]"
    }
   },
   "cell_type": "markdown",
   "id": "5b4cc1b1",
   "metadata": {},
   "source": [
    "## 6 Bilinear Interpolation\n",
    "\n",
    "As the grid is not continuous, Bilinear Interpolation is a method to calculate the value of option that is not straightly on the point of the grid. \n",
    "\n",
    "We have generated the grid and filled it with the possible option values. However, if we have to estimate option value or its derivatives on the mesh points, how can we estimate the value at points in between? The simplest way is to do a two-dimensional interpolation method called Bilinear Interpolation.\n",
    "\n",
    "![image.png](attachment:image.png)\n",
    "\n",
    "The option value can be estimated using the values from the nearest neighbouring values. Assume $V_1, V_2, V_3, V_4$\n",
    " are the option values from the nearest neighbour and $A_1, A_2, A_3, A_4$ are the areas of the rectanges made by the four corners and the interior points, we can approximate the option value at the interior points as,\n",
    " \n",
    " $$\\frac{\\sum_1^4 A_i V_i}{\\sum_1^4 A_i}$$"
   ]
  },
  {
   "cell_type": "code",
   "execution_count": null,
   "id": "67f886a7",
   "metadata": {},
   "outputs": [],
   "source": [
    "def bilinear_interpolation(asset_price, ttm, df):\n",
    "\n",
    "    # Find relevant rows and columns\n",
    "    # asset_price, and ttm are the location, or (x-axis, y-axis). \n",
    "    # We aim the find four V_i^k that are most close to that loc\n",
    "    col1 = df.columns[df.columns < ttm][-1] # find the time location that is most left close to the 'ttm'\n",
    "    col2 = df.columns[df.columns >= ttm][0] # most right close to the 'ttm'\n",
    "    row1 = df.index[df.index < asset_price,][-1]\n",
    "    row2 = df.index[df.index >= asset_price,][0]\n",
    "   \n",
    "    # Define points and areas\n",
    "    # option values from the nearest neighbour \n",
    "    V = [df.loc[row1, col1], df.loc[row1, col2],\n",
    "           df.loc[row2, col2], df.loc[row2, col1]]\n",
    "    # areas of the rectanges made by the four corners and the interior points,      \n",
    "    A = [(row2 - asset_price) * (col2 - ttm),\n",
    "           (row2 - asset_price) * (ttm - col1),\n",
    "           (asset_price - row1) * (ttm - col1),\n",
    "           (asset_price - row1) * (col2 - ttm)]\n",
    "   \n",
    "    # Interpolate values\n",
    "    return sum(np.array(V)*np.array(A))/sum(np.array(A))"
   ]
  },
  {
   "cell_type": "code",
   "execution_count": null,
   "id": "1f474930",
   "metadata": {
    "scrolled": true
   },
   "outputs": [],
   "source": [
    "# Option value, approximated\n",
    "print(bilinear_interpolation(105, 0.3, grid))"
   ]
  },
  {
   "cell_type": "code",
   "execution_count": null,
   "id": "cf856cbf",
   "metadata": {},
   "outputs": [],
   "source": [
    "# Verify rows and columns\n",
    "# col1 = grid.columns[grid.columns < 0.3][-1]\n",
    "# col2 = grid.columns[grid.columns >= 0.3][0]\n",
    "# row1 = grid.index[grid.index < 110][-1]\n",
    "# row2 = grid.index[grid.index >= 110][0]\n",
    "\n",
    "# Nearest neighbours grid points\n",
    "# [row1,col1], [row1, col2], [row2, col2], [row2, col1]\n",
    "\n",
    "# Get option values\n",
    "# V = [grid.loc[row1,col1], grid.loc[row1,col2], grid.loc[row2, col2], grid.loc[row2, col1]]\n",
    "\n",
    "# Areas of the rectangle made by four corners and interior points\n",
    "# A = [(row2-105) * (col2-0.3),\n",
    "#      (row2-105) * (0.3-col1),\n",
    "#      (105-row1) * (0.3-col1),\n",
    "#      (105-row1) * (col2-0.3)]\n",
    "\n",
    "# Option value in mesh points, approximated\n",
    "# sum(array(V)*array(A))/sum(array(A))"
   ]
  },
  {
   "cell_type": "markdown",
   "id": "decf46ce",
   "metadata": {},
   "source": [
    "## 7 Convergence Analysis\n",
    "Let's now Compare option pricing for various asset steps (NAS) with black scholes price."
   ]
  },
  {
   "cell_type": "code",
   "execution_count": null,
   "id": "1027d2dc",
   "metadata": {
    "scrolled": true
   },
   "outputs": [],
   "source": [
    "# Iterate over asset steps (NAS)\n",
    "nas_list = [10,20,30,40,50,60]\n",
    "fdmoption = []\n",
    "for i in nas_list:\n",
    "    fdmoption.append(fdm_grid(100,0.2,0.05,1,i).loc[100,1]) \n",
    "    # .loc[100,1] specify that Spot price =100, date to expire = 1\n",
    "fdmoption"
   ]
  },
  {
   "cell_type": "code",
   "execution_count": null,
   "id": "c6fd7549",
   "metadata": {},
   "outputs": [],
   "source": [
    "from src.blackscholes import BS\n",
    "\n",
    "# Instantiate black scholes object\n",
    "option = BS(100,100,0.05,1,0.20)\n",
    "bsoption = round(option.callPrice,2)\n",
    "bsoption = bsoption.repeat(len(nas_list))\n",
    "\n",
    "# Range of option price\n",
    "bsoption"
   ]
  },
  {
   "cell_type": "code",
   "execution_count": null,
   "id": "ebfe4c02",
   "metadata": {
    "scrolled": false
   },
   "outputs": [],
   "source": [
    "# Subsume into dataframe\n",
    "df = pd.DataFrame(list(zip(bsoption,fdmoption)), columns=['BS', 'FDM'], index=nas_list)\n",
    "df['dev'] = df['FDM'] - df['BS']\n",
    "\n",
    "# Output\n",
    "print(\"BS - FDM Convergence over NAS\")\n",
    "print('We can find from the Table, the value of option goes close to the B-S value as NAS increasing')\n",
    "df"
   ]
  }
 ],
 "metadata": {
  "kernelspec": {
   "display_name": "Python 3 (ipykernel)",
   "language": "python",
   "name": "python3"
  },
  "language_info": {
   "codemirror_mode": {
    "name": "ipython",
    "version": 3
   },
   "file_extension": ".py",
   "mimetype": "text/x-python",
   "name": "python",
   "nbconvert_exporter": "python",
   "pygments_lexer": "ipython3",
   "version": "3.11.5"
  },
  "toc": {
   "base_numbering": 1,
   "nav_menu": {},
   "number_sections": true,
   "sideBar": true,
   "skip_h1_title": false,
   "title_cell": "Table of Contents",
   "title_sidebar": "Contents",
   "toc_cell": false,
   "toc_position": {},
   "toc_section_display": true,
   "toc_window_display": false
  }
 },
 "nbformat": 4,
 "nbformat_minor": 5
}
