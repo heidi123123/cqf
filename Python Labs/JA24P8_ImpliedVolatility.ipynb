{
 "cells": [
  {
   "cell_type": "markdown",
   "id": "ee018604",
   "metadata": {},
   "source": [
    "<div style=\"font-family: Arial; text-align: center;\">\n",
    "\n",
    "# Implied Volatility\n",
    "#### Kannan Singaravelu, CQF"
   ]
  },
  {
   "cell_type": "markdown",
   "id": "052849cf",
   "metadata": {},
   "source": [
    "## 1 Implied Volatility\n",
    "Implied volatility (IV) is one of the most important parameter in options pricing. IV is determined by the current market price of option contracts on a particular underlying asset. IV is commonly represented as a percentage that indicates the annualized expected one standard deviation range for the underlying asset implied from the option prices.\n",
    "\n",
    "IV $\\sigma_{imp}$ is the volatility value $\\sigma$ that makes the Black Scholes value of the option equal to the traded price of the option. In the Black-Scholes model, volatility is the only parameter that can't be directly observed. All other parameters can be determined through market data and this parameter is determined by a numerical optimization technique given the Black-Scholes model."
   ]
  },
  {
   "cell_type": "code",
   "execution_count": 4,
   "id": "cd2fdfc4",
   "metadata": {},
   "outputs": [],
   "source": [
    "# Data Manipulation\n",
    "import numpy as np\n",
    "from datetime import datetime\n",
    "\n",
    "# Import blackscholes object\n",
    "import sys\n",
    "\n",
    "from blackscholes import BS\n",
    "\n",
    "from tabulate import tabulate"
   ]
  },
  {
   "cell_type": "markdown",
   "id": "0f343cff",
   "metadata": {},
   "source": [
    "## 2 Implied Volatility Formulation\n",
    "\n",
    "The Black–Scholes equation describes the price of the option over time as,\n",
    "\n",
    "$$  \\frac{\\partial V}{\\partial t} +\\frac{1}{2}\\sigma^2 S^2  \\frac{\\partial^2 V}{\\partial S^2} + r S \\frac{\\partial V}{\\partial S} - rV=0$$\n",
    "\n",
    "Solving the above equation, we know that the value of a call option for a non-dividend paying stock is:\n",
    "\n",
    "$$ C = S\\ N(d_1) + K\\ e^{-rt}N(d_2) $$\n",
    "\n",
    ", and the corresponding put option price is:\n",
    "\n",
    "$$ P = K\\ e^{-rt}\\ N(d_2) + S\\ N(d_1) $$\n",
    "\n",
    ", where\n",
    "\n",
    "$$d_1 = \\frac{1}{\\sigma \\sqrt{t}}\\bigg[ ln\\big(\\frac{S}{K}\\big) + \\big(r+\\frac{\\sigma^2}{2}\\big)t \\bigg]$$\n",
    "\n",
    "$$d_2 = d_1 - \\sigma \\sqrt{t}$$\n",
    "\n",
    "$$N(x) = \\frac{1}{\\sqrt{2\\pi}} \\int_{-\\infty}^x e^{-\\frac{1}{2} x^2 } dx$$\n",
    "\n",
    "- $S$ is the spot price of the underlying asset,\n",
    "- $K$ is the strike price,\n",
    "- $r$ is the annualized continuous compounded risk free rate,\n",
    "- $\\sigma$ is the volatility of returns of the underlying asset,\n",
    "- $t$ is time to maturity (expressed in years),\n",
    "- $N(x)$ is the standard normal cumulative distribution.\n",
    "\n",
    "We can look at the call and put equation as a function of the volatility parameter $\\sigma$. Finding implied volatility thus requires solving the nonlinear problem $f(x)=0$ where $x=\\sigma$ given a starting estimate.\n",
    "\n",
    "For call options we have,\n",
    "\n",
    "$$ f(x) = S\\ N(d_1) + K\\ e^{-rt}N(d_2) -C  $$\n",
    "\n",
    ", and the corresponding put option price is:\n",
    "\n",
    "$$ f(x) = K\\ e^{-rt}\\ N(d_2) + S\\ N(d_1) -P$$\n",
    "\n",
    "To solve the function when $f(x)=0$, numerical precedures like Bisection or Newton's method are employed.\n",
    "\n",
    "\n",
    "### 2.1 Newton Method\n",
    "\n",
    "The Newton-Raphson method uses an iterative procedure to solve for a root using informaiton about the derivative of a function. The first-order derivation $f'$ of the function $f$ represents the tangent line and the approximation to the next value of $x$ is given as ,\n",
    "\n",
    "$$x_1 = x- \\frac{f(x)}{f'(x)}$$\n",
    "\n",
    "The tangent line intersects the $x$ axis and $x_1$ that produces $y=0$. The iterative process is repeated until a maximum iterations are reached or the difference between $x_1$ and $x$ are within acceptable values.\n",
    "\n",
    "![image.png](attachment:image.png)\n",
    "\n",
    "This method requires to specify initial guess and expect the function to be differentiable. Newton approaches are extremely fast as the rate of convergence is quadractic. The downside to this approach is that it does not guarantee convergence if there are more than one root or when it reaches a local extremum."
   ]
  },
  {
   "cell_type": "code",
   "execution_count": 5,
   "id": "4bfd4b72",
   "metadata": {},
   "outputs": [],
   "source": [
    "def newton_iv(className, spot, strike, rate, dte, callprice=None, putprice=None):\n",
    "\n",
    "    x0 = 1                                          # initial guess\n",
    "    h = 0.001                                       # step size\n",
    "    tolerance = 1e-7                                # 7-digit accuracy is desired\n",
    "    epsilon = 1e-14                                 # do not divide by a number smaller than this, some kind of error/floor\n",
    "    maxiter = 200                                   # maximum number of iterations to execute\n",
    "    \n",
    "    # function whose root we are trying to find\n",
    "    if callprice:\n",
    "        # f(x) = Black Scholes Call price - Market Price - defining the f(x) here\n",
    "        f = lambda x: eval(className)(spot, strike, rate, dte, x).callPrice - callprice\n",
    "    if putprice:\n",
    "        f = lambda x: eval(className)(spot, strike, rate, dte, x).putPrice - putprice\n",
    "\n",
    "    for i in range(maxiter):\n",
    "        y = f(x0)                                   # starting with initial guess\n",
    "        yprime = (f(x0+h) - f(x0-h))/(2*h)          # central difference, the derivative of the function\n",
    "\n",
    "        if abs(yprime)<epsilon:                     # terminate if denominator is too small\n",
    "            break                                   # this is critial, because volatility cannot be negative\n",
    "        x1 = x0 - y/yprime                          # perform Newton's computation\n",
    "\n",
    "        if (abs(x1-x0) <= tolerance*abs(x1)):       # stop when the result is within the desired tolerance\n",
    "            break\n",
    "        x0=x1                                       # update x0 to start process again\n",
    "        \n",
    "    return x1                                       # x1 is a solution within tolerance and maximum number of iterations"
   ]
  },
  {
   "cell_type": "code",
   "execution_count": 6,
   "id": "239a56e6",
   "metadata": {},
   "outputs": [
    {
     "data": {
      "text/plain": [
       "0.17657213831399154"
      ]
     },
     "execution_count": 6,
     "metadata": {},
     "output_type": "execute_result"
    }
   ],
   "source": [
    "# newton iv\n",
    "newton_iv('BS',100,100,0.02,1,callprice=8)"
   ]
  },
  {
   "cell_type": "code",
   "execution_count": 7,
   "id": "8e57c129",
   "metadata": {},
   "outputs": [
    {
     "data": {
      "text/plain": [
       "8.916037278572539"
      ]
     },
     "execution_count": 7,
     "metadata": {},
     "output_type": "execute_result"
    }
   ],
   "source": [
    "opt = BS(100,100,0.02,1,0.2)\n",
    "opt.callPrice"
   ]
  },
  {
   "cell_type": "code",
   "execution_count": 8,
   "id": "f1923ebb",
   "metadata": {},
   "outputs": [
    {
     "data": {
      "text/plain": [
       "0.20000000000000015"
      ]
     },
     "execution_count": 8,
     "metadata": {},
     "output_type": "execute_result"
    }
   ],
   "source": [
    "newton_iv('BS',100,100,0.02,1,callprice=8.916037278572539)"
   ]
  },
  {
   "cell_type": "code",
   "execution_count": 21,
   "id": "09e72854",
   "metadata": {},
   "outputs": [
    {
     "data": {
      "text/plain": [
       "0.17657213831399154"
      ]
     },
     "execution_count": 21,
     "metadata": {},
     "output_type": "execute_result"
    }
   ],
   "source": [
    "newton_iv('BS',100,100,0.02,1,callprice=8)"
   ]
  },
  {
   "cell_type": "markdown",
   "id": "6e4132de",
   "metadata": {},
   "source": [
    "### 2.2 Bisection Method\n",
    "\n",
    "The bisection method is considered to be one of the simplest and robust root finding algorithm.\n",
    "\n",
    "Suppose, we know the two points of an interval $a$ and $b$, where $a<b$ and $f(a)<0$ and $f(b)>0$ lie along the continuous function and the mid-point of this interval $c=\\frac{a+b}{2}$, then we can evaluate the value as $f(c)$\n",
    "\n",
    "Iteratively, we replace $c$ as either $a$ or $b$, thereby shortening the interval to find the root. If \n",
    "$f(c)=0$ or within acceptable value, we have a root. Bisection methods are stable and guarantee to converge. As it does not require knowledge of the derivative, it takes more computational time."
   ]
  },
  {
   "cell_type": "code",
   "execution_count": 10,
   "id": "fbca1b79",
   "metadata": {},
   "outputs": [],
   "source": [
    "# Bisection Method\n",
    "def bisection_iv(className, spot, strike, rate, dte, callprice=None, putprice=None, high=500.0, low=0.0):\n",
    "    \n",
    "    # this is market price\n",
    "    if callprice:\n",
    "        price = callprice\n",
    "    if putprice and not callprice:\n",
    "        price = putprice\n",
    "        \n",
    "    tolerance = 1e-7\n",
    "        \n",
    "    for i in range(1000):\n",
    "        mid = (high + low) / 2              # c = (a+b)/2\n",
    "        if mid < tolerance:\n",
    "            mid = tolerance\n",
    "            \n",
    "        if callprice:\n",
    "            estimate = eval(className)(spot, strike, rate, dte, mid).callPrice # Blackscholes price\n",
    "        if putprice:\n",
    "            estimate = eval(className)(spot, strike, rate, dte, mid).putPrice\n",
    "        \n",
    "        if round(estimate,6) == price:\n",
    "            break\n",
    "        elif estimate > price: \n",
    "            high = mid                      # replace b = c\n",
    "        elif estimate < price: \n",
    "            low = mid                       # replace a = c\n",
    "    \n",
    "    return mid"
   ]
  },
  {
   "cell_type": "code",
   "execution_count": 11,
   "id": "7dbfea3a",
   "metadata": {},
   "outputs": [
    {
     "data": {
      "text/plain": [
       "0.17657213902566582"
      ]
     },
     "execution_count": 11,
     "metadata": {},
     "output_type": "execute_result"
    }
   ],
   "source": [
    "# bisection iv\n",
    "bisection_iv('BS',100,100,0.02,1,callprice=8.)"
   ]
  },
  {
   "cell_type": "code",
   "execution_count": 12,
   "id": "c336cac0",
   "metadata": {
    "scrolled": true
   },
   "outputs": [
    {
     "data": {
      "text/plain": [
       "0.20000000000000007"
      ]
     },
     "execution_count": 12,
     "metadata": {},
     "output_type": "execute_result"
    }
   ],
   "source": [
    "bisection_iv('BS',100,100,0.02,1,callprice=8.916037278572539)"
   ]
  },
  {
   "cell_type": "code",
   "execution_count": 22,
   "id": "e9dece31",
   "metadata": {},
   "outputs": [],
   "source": [
    "puts = BS(100,100,0.02,1,0.27842039708048105)"
   ]
  },
  {
   "cell_type": "code",
   "execution_count": 23,
   "id": "229a901e",
   "metadata": {},
   "outputs": [
    {
     "data": {
      "text/plain": [
       "(9.999999523228205, -0.41642646245947934, -0.012050734594015965)"
      ]
     },
     "execution_count": 23,
     "metadata": {},
     "output_type": "execute_result"
    }
   ],
   "source": [
    "puts.putPrice, puts.putDelta,  puts.putTheta"
   ]
  },
  {
   "cell_type": "markdown",
   "id": "ea1dd2ed",
   "metadata": {},
   "source": [
    "## 3 BS Implied Volatility\n",
    "\n",
    "Let's now update our Black Scholes' class to incorporate implied volatility."
   ]
  },
  {
   "cell_type": "code",
   "execution_count": 25,
   "id": "3d2997e8",
   "metadata": {},
   "outputs": [],
   "source": [
    "# Import updated blackscholes object\n",
    "from blackscholes_updated import BS"
   ]
  },
  {
   "cell_type": "code",
   "execution_count": 26,
   "id": "219c62bd",
   "metadata": {},
   "outputs": [
    {
     "name": "stdout",
     "output_type": "stream",
     "text": [
      "  Option Price     Delta     Gamma       Theta     Vega       Rho        IV\n",
      "--------------  --------  --------  ----------  -------  --------  --------\n",
      "       10.4506  0.636831  0.018762  -0.0175727  0.37524  0.532325  0.133776\n"
     ]
    }
   ],
   "source": [
    "# Initialize option\n",
    "option = BS(100,100,0.05,1,0.2, callprice=8)  # extra argument implied vol = 0.2\n",
    "\n",
    "header = ['Option Price', 'Delta', 'Gamma', 'Theta', 'Vega', 'Rho', 'IV']\n",
    "table = [[option.callPrice, option.callDelta, option.gamma, option.callTheta, option.vega, option.callRho, option.impvol]]\n",
    "\n",
    "print(tabulate(table,header))"
   ]
  },
  {
   "cell_type": "code",
   "execution_count": 27,
   "id": "a3598487",
   "metadata": {},
   "outputs": [
    {
     "data": {
      "text/plain": [
       "520.58"
      ]
     },
     "execution_count": 27,
     "metadata": {},
     "output_type": "execute_result"
    }
   ],
   "source": [
    "synthetic_future = 519+7.45-5.87\n",
    "synthetic_future"
   ]
  },
  {
   "cell_type": "code",
   "execution_count": 28,
   "id": "8923c264",
   "metadata": {},
   "outputs": [
    {
     "data": {
      "text/plain": [
       "0.31701859552413225"
      ]
     },
     "execution_count": 28,
     "metadata": {},
     "output_type": "execute_result"
    }
   ],
   "source": [
    "options = BS(100,100,0.05,1,0.2, putprice=10)\n",
    "options.impvol"
   ]
  },
  {
   "cell_type": "code",
   "execution_count": 29,
   "id": "6dcb43e7",
   "metadata": {},
   "outputs": [
    {
     "data": {
      "text/plain": [
       "0.13079651398584247"
      ]
     },
     "execution_count": 29,
     "metadata": {},
     "output_type": "execute_result"
    }
   ],
   "source": [
    "spy = BS(519,519, 0.0525, 0.06027397260273973, 0.2, callprice= 7.49)\n",
    "spy.impvol"
   ]
  },
  {
   "cell_type": "code",
   "execution_count": 30,
   "id": "7146b4b4",
   "metadata": {},
   "outputs": [
    {
     "data": {
      "text/plain": [
       "0.13102602679282427"
      ]
     },
     "execution_count": 30,
     "metadata": {},
     "output_type": "execute_result"
    }
   ],
   "source": [
    "spy = BS(synthetic_future,519, 0, 0.06027397260273973, 0.2, callprice= 7.49)\n",
    "spy.impvol"
   ]
  },
  {
   "cell_type": "code",
   "execution_count": 31,
   "id": "b66a67f0",
   "metadata": {},
   "outputs": [
    {
     "data": {
      "text/plain": [
       "0.14496638323180377"
      ]
     },
     "execution_count": 31,
     "metadata": {},
     "output_type": "execute_result"
    }
   ],
   "source": [
    "# date\n",
    "time_to_expiry = 22 / 365\n",
    "spyputs = BS(synthetic_future,519, 0.0525, time_to_expiry, 0.1, putprice= 5.87)\n",
    "spyputs.impvol"
   ]
  },
  {
   "cell_type": "code",
   "execution_count": 32,
   "id": "1f057433",
   "metadata": {},
   "outputs": [
    {
     "data": {
      "text/plain": [
       "0.1302367018070072"
      ]
     },
     "execution_count": 32,
     "metadata": {},
     "output_type": "execute_result"
    }
   ],
   "source": [
    "spyputs = BS(synthetic_future,519, 0, time_to_expiry, 0.1, putprice= 5.87)\n",
    "spyputs.impvol"
   ]
  },
  {
   "cell_type": "markdown",
   "id": "7a43f5f7",
   "metadata": {},
   "source": [
    "## 4 References\n",
    "\n",
    "* [Python Resources](https://github.com/kannansingaravelu/PythonResources)\n",
    "\n",
    "\n",
    "\n",
    "\n",
    "*Python Labs by  [Kannan Singaravelu](https://www.linkedin.com/in/kannansi/).*\n"
   ]
  },
  {
   "cell_type": "code",
   "execution_count": null,
   "id": "208b4d4a",
   "metadata": {},
   "outputs": [],
   "source": []
  }
 ],
 "metadata": {
  "kernelspec": {
   "display_name": "Python 3 (ipykernel)",
   "language": "python",
   "name": "python3"
  },
  "language_info": {
   "codemirror_mode": {
    "name": "ipython",
    "version": 3
   },
   "file_extension": ".py",
   "mimetype": "text/x-python",
   "name": "python",
   "nbconvert_exporter": "python",
   "pygments_lexer": "ipython3",
   "version": "3.11.5"
  },
  "toc": {
   "base_numbering": 1,
   "nav_menu": {},
   "number_sections": true,
   "sideBar": true,
   "skip_h1_title": false,
   "title_cell": "Table of Contents",
   "title_sidebar": "Contents",
   "toc_cell": false,
   "toc_position": {},
   "toc_section_display": true,
   "toc_window_display": false
  }
 },
 "nbformat": 4,
 "nbformat_minor": 5
}
