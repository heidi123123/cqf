{
 "cells": [
  {
   "cell_type": "markdown",
   "id": "3ee01e8e",
   "metadata": {},
   "source": [
    "# Exercise 3\n",
    "\n",
    "Generate a training dataset containing 30 observations with two predictors centered around -0.5 and 0.5 with a cluster standard deviation of 0.4 and one qualitative response variable. Define classes that takes \"Red\" when response variable is positive and \"Blue\" otherwise. Use this generated dataset to make a prediction for $y$ when $X1 = X2 = 0.25$ using $K$-nearest neighbours.\n",
    "\n",
    "a) Compute the Euclidean distance between each observations and the test points.\n",
    "\n",
    "b) What is the class prediction with $K = 1$?\n",
    "\n",
    "c) What is the class prediction with $K = 5$?\n",
    "\n",
    "d) Plot the classification points with decision boundary for $K = 5$."
   ]
  },
  {
   "cell_type": "markdown",
   "id": "672faabe",
   "metadata": {},
   "source": [
    "# Solution\n",
    "\n",
    "## KNN\n",
    "\n",
    "#### Generate dataset\n",
    "\n",
    "We use `scikit-learn` to generate datasets with centers [0.5,0.5], [-0.5,-0.5] and cluster standard deviation of 0.4.\n",
    "\n",
    "#### Finding the neighbors\n",
    "\n",
    "Distance can be thought of as a measure of similarity. Euclidean distance is the most commonly used but other distance metrics such as Manhattan work as well. The generalized distance metric is called the Minkowski distance, defined as,\n",
    "\n",
    "$$ d=\\bigg( \\sum_{n=i}^n |x_i=y_i|^p \\bigg)^{1/p} $$\n",
    "\n",
    "where $x_i$ and $y_i$ are the two observations for which distance $d$ is being calculated with a hyperparameter, integer $p$.\n",
    "\n",
    "When $p=1$, the Minkowski distance is the Manhattan distance and when $p=2$, the Minkowski distance is the just the standard Euclidean distance. With the $K$ neighbors identified using distance metrics, the algorithm can make a classification or prediction with the label values of the neighbors."
   ]
  },
  {
   "cell_type": "code",
   "execution_count": 1,
   "id": "b06a6522",
   "metadata": {},
   "outputs": [],
   "source": [
    "import numpy as np\n",
    "import pandas as pd\n",
    "\n",
    "import matplotlib.pyplot as plt\n",
    "\n",
    "from sklearn.preprocessing import StandardScaler\n",
    "from sklearn.pipeline import Pipeline\n",
    "\n",
    "from sklearn.datasets import make_blobs\n",
    "from sklearn.neighbors import KNeighborsClassifier\n",
    "from sklearn.metrics.pairwise import euclidean_distances"
   ]
  },
  {
   "cell_type": "code",
   "execution_count": 2,
   "id": "9283e5db",
   "metadata": {},
   "outputs": [],
   "source": [
    "X, y = make_blobs(n_samples=30, \n",
    "                  centers=[[0.5,0.5],[-0.5,-0.5]], \n",
    "                  cluster_std=0.4, \n",
    "                  random_state=110)"
   ]
  },
  {
   "cell_type": "code",
   "execution_count": 3,
   "id": "39a5b629",
   "metadata": {},
   "outputs": [],
   "source": [
    "df = pd.DataFrame({'X1':X[:, 0], \n",
    "                   'X2':X[:, 1], \n",
    "                   'Y':y})\n",
    "\n",
    "# specify the class\n",
    "df['Class'] = df['Y'].apply(lambda x: 'Red' if x>0 else 'Blue')"
   ]
  },
  {
   "cell_type": "markdown",
   "id": "44908798",
   "metadata": {},
   "source": [
    "### a)  Compute the Euclidean distance between each observations and the test points."
   ]
  },
  {
   "cell_type": "code",
   "execution_count": 4,
   "id": "40ff67a3",
   "metadata": {},
   "outputs": [
    {
     "data": {
      "text/plain": [
       "array([1.04733706, 0.8183411 , 0.93138861, 1.28750235, 1.02462777,\n",
       "       0.85018765, 0.28648156, 0.89127618, 0.55455989, 0.27842884,\n",
       "       0.70368494, 0.38753712, 0.84257862, 0.9471529 , 0.47235871,\n",
       "       0.19098565, 0.95638954, 1.00819387, 1.3023314 , 1.3134449 ,\n",
       "       0.3655316 , 1.17904817, 0.67913933, 1.02871351, 1.46123314,\n",
       "       1.05268573, 0.51941787, 1.15065779, 0.91075985, 0.4731966 ])"
      ]
     },
     "execution_count": 4,
     "metadata": {},
     "output_type": "execute_result"
    }
   ],
   "source": [
    "# calculate the distance of each row of X1 X2 to the point (0.25, 0.25)\n",
    "euclidean_distances(df[['X1', 'X2']], [[0.25, 0.25]]).reshape(-1)"
   ]
  },
  {
   "cell_type": "code",
   "execution_count": 5,
   "id": "ff58ea88",
   "metadata": {
    "scrolled": true
   },
   "outputs": [
    {
     "data": {
      "text/html": [
       "<div>\n",
       "<style scoped>\n",
       "    .dataframe tbody tr th:only-of-type {\n",
       "        vertical-align: middle;\n",
       "    }\n",
       "\n",
       "    .dataframe tbody tr th {\n",
       "        vertical-align: top;\n",
       "    }\n",
       "\n",
       "    .dataframe thead th {\n",
       "        text-align: right;\n",
       "    }\n",
       "</style>\n",
       "<table border=\"1\" class=\"dataframe\">\n",
       "  <thead>\n",
       "    <tr style=\"text-align: right;\">\n",
       "      <th></th>\n",
       "      <th>X1</th>\n",
       "      <th>X2</th>\n",
       "      <th>Y</th>\n",
       "      <th>Class</th>\n",
       "      <th>Euclidean</th>\n",
       "    </tr>\n",
       "  </thead>\n",
       "  <tbody>\n",
       "    <tr>\n",
       "      <th>0</th>\n",
       "      <td>-0.621282</td>\n",
       "      <td>-0.331191</td>\n",
       "      <td>1</td>\n",
       "      <td>Red</td>\n",
       "      <td>1.047337</td>\n",
       "    </tr>\n",
       "    <tr>\n",
       "      <th>1</th>\n",
       "      <td>0.410545</td>\n",
       "      <td>-0.552438</td>\n",
       "      <td>0</td>\n",
       "      <td>Blue</td>\n",
       "      <td>0.818341</td>\n",
       "    </tr>\n",
       "    <tr>\n",
       "      <th>2</th>\n",
       "      <td>-0.046838</td>\n",
       "      <td>-0.632821</td>\n",
       "      <td>1</td>\n",
       "      <td>Red</td>\n",
       "      <td>0.931389</td>\n",
       "    </tr>\n",
       "    <tr>\n",
       "      <th>3</th>\n",
       "      <td>-0.455832</td>\n",
       "      <td>-0.826784</td>\n",
       "      <td>1</td>\n",
       "      <td>Red</td>\n",
       "      <td>1.287502</td>\n",
       "    </tr>\n",
       "    <tr>\n",
       "      <th>4</th>\n",
       "      <td>-0.087054</td>\n",
       "      <td>1.217604</td>\n",
       "      <td>0</td>\n",
       "      <td>Blue</td>\n",
       "      <td>1.024628</td>\n",
       "    </tr>\n",
       "  </tbody>\n",
       "</table>\n",
       "</div>"
      ],
      "text/plain": [
       "         X1        X2  Y Class  Euclidean\n",
       "0 -0.621282 -0.331191  1   Red   1.047337\n",
       "1  0.410545 -0.552438  0  Blue   0.818341\n",
       "2 -0.046838 -0.632821  1   Red   0.931389\n",
       "3 -0.455832 -0.826784  1   Red   1.287502\n",
       "4 -0.087054  1.217604  0  Blue   1.024628"
      ]
     },
     "execution_count": 5,
     "metadata": {},
     "output_type": "execute_result"
    }
   ],
   "source": [
    "edist = pd.Series(euclidean_distances(df[['X1', 'X2']], \n",
    "                                      [[0.25, 0.25]]).reshape(-1), \n",
    "                  name='Euclidean') \n",
    "\n",
    "df = pd.concat([df, edist], axis=1) \n",
    "df.head()"
   ]
  },
  {
   "cell_type": "markdown",
   "id": "81037862",
   "metadata": {},
   "source": [
    "### b) What is the class prediction with K = 1?"
   ]
  },
  {
   "cell_type": "code",
   "execution_count": 6,
   "id": "c6bfeaeb",
   "metadata": {},
   "outputs": [
    {
     "data": {
      "text/html": [
       "<div>\n",
       "<style scoped>\n",
       "    .dataframe tbody tr th:only-of-type {\n",
       "        vertical-align: middle;\n",
       "    }\n",
       "\n",
       "    .dataframe tbody tr th {\n",
       "        vertical-align: top;\n",
       "    }\n",
       "\n",
       "    .dataframe thead th {\n",
       "        text-align: right;\n",
       "    }\n",
       "</style>\n",
       "<table border=\"1\" class=\"dataframe\">\n",
       "  <thead>\n",
       "    <tr style=\"text-align: right;\">\n",
       "      <th></th>\n",
       "      <th>X1</th>\n",
       "      <th>X2</th>\n",
       "      <th>Y</th>\n",
       "      <th>Class</th>\n",
       "      <th>Euclidean</th>\n",
       "    </tr>\n",
       "  </thead>\n",
       "  <tbody>\n",
       "    <tr>\n",
       "      <th>15</th>\n",
       "      <td>0.434864</td>\n",
       "      <td>0.202033</td>\n",
       "      <td>0</td>\n",
       "      <td>Blue</td>\n",
       "      <td>0.190986</td>\n",
       "    </tr>\n",
       "  </tbody>\n",
       "</table>\n",
       "</div>"
      ],
      "text/plain": [
       "          X1        X2  Y Class  Euclidean\n",
       "15  0.434864  0.202033  0  Blue   0.190986"
      ]
     },
     "execution_count": 6,
     "metadata": {},
     "output_type": "execute_result"
    }
   ],
   "source": [
    "df.nsmallest(1,'Euclidean')"
   ]
  },
  {
   "cell_type": "markdown",
   "id": "8a2c2ae5",
   "metadata": {},
   "source": [
    "### c) What is the class prediction with K = 5?"
   ]
  },
  {
   "cell_type": "code",
   "execution_count": 7,
   "id": "33e14009",
   "metadata": {},
   "outputs": [
    {
     "data": {
      "text/html": [
       "<div>\n",
       "<style scoped>\n",
       "    .dataframe tbody tr th:only-of-type {\n",
       "        vertical-align: middle;\n",
       "    }\n",
       "\n",
       "    .dataframe tbody tr th {\n",
       "        vertical-align: top;\n",
       "    }\n",
       "\n",
       "    .dataframe thead th {\n",
       "        text-align: right;\n",
       "    }\n",
       "</style>\n",
       "<table border=\"1\" class=\"dataframe\">\n",
       "  <thead>\n",
       "    <tr style=\"text-align: right;\">\n",
       "      <th></th>\n",
       "      <th>X1</th>\n",
       "      <th>X2</th>\n",
       "      <th>Y</th>\n",
       "      <th>Class</th>\n",
       "      <th>Euclidean</th>\n",
       "    </tr>\n",
       "  </thead>\n",
       "  <tbody>\n",
       "    <tr>\n",
       "      <th>15</th>\n",
       "      <td>0.434864</td>\n",
       "      <td>0.202033</td>\n",
       "      <td>0</td>\n",
       "      <td>Blue</td>\n",
       "      <td>0.190986</td>\n",
       "    </tr>\n",
       "    <tr>\n",
       "      <th>9</th>\n",
       "      <td>0.152672</td>\n",
       "      <td>0.510864</td>\n",
       "      <td>0</td>\n",
       "      <td>Blue</td>\n",
       "      <td>0.278429</td>\n",
       "    </tr>\n",
       "    <tr>\n",
       "      <th>6</th>\n",
       "      <td>0.518747</td>\n",
       "      <td>0.349231</td>\n",
       "      <td>0</td>\n",
       "      <td>Blue</td>\n",
       "      <td>0.286482</td>\n",
       "    </tr>\n",
       "    <tr>\n",
       "      <th>20</th>\n",
       "      <td>-0.107496</td>\n",
       "      <td>0.173775</td>\n",
       "      <td>0</td>\n",
       "      <td>Blue</td>\n",
       "      <td>0.365532</td>\n",
       "    </tr>\n",
       "    <tr>\n",
       "      <th>11</th>\n",
       "      <td>0.631439</td>\n",
       "      <td>0.181521</td>\n",
       "      <td>0</td>\n",
       "      <td>Blue</td>\n",
       "      <td>0.387537</td>\n",
       "    </tr>\n",
       "  </tbody>\n",
       "</table>\n",
       "</div>"
      ],
      "text/plain": [
       "          X1        X2  Y Class  Euclidean\n",
       "15  0.434864  0.202033  0  Blue   0.190986\n",
       "9   0.152672  0.510864  0  Blue   0.278429\n",
       "6   0.518747  0.349231  0  Blue   0.286482\n",
       "20 -0.107496  0.173775  0  Blue   0.365532\n",
       "11  0.631439  0.181521  0  Blue   0.387537"
      ]
     },
     "execution_count": 7,
     "metadata": {},
     "output_type": "execute_result"
    }
   ],
   "source": [
    "df.nsmallest(5,'Euclidean')"
   ]
  },
  {
   "cell_type": "markdown",
   "id": "f3a6d39d",
   "metadata": {},
   "source": [
    "### d) Draw decision doundary with K=5."
   ]
  },
  {
   "cell_type": "code",
   "execution_count": 10,
   "id": "5aa6cfbf",
   "metadata": {},
   "outputs": [
    {
     "data": {
      "image/png": "[encoded data removed]",
      "text/plain": [
       "<Figure size 640x480 with 1 Axes>"
      ]
     },
     "metadata": {},
     "output_type": "display_data"
    }
   ],
   "source": [
    "def plot_boundary(x, y, k):\n",
    "\n",
    "    # Instantiate the model object \n",
    "    knn = KNeighborsClassifier(n_neighbors=k)\n",
    "    \n",
    "    # Fits the model \n",
    "    knn.fit(x, y)\n",
    "\n",
    "    # Step size of the mesh \n",
    "    h = .02\n",
    "\n",
    "    # Plot the decision boundary.\n",
    "\n",
    "    x_min, x_max = x[:, 0].min() - 1, x[:, 0].max() + 1 \n",
    "    y_min, y_max = x[:, 1].min() - 1, x[:, 1].max() + 1\n",
    "\n",
    "    # Create Meshgrid \n",
    "    xx, yy = np.meshgrid(np.arange(x_min, x_max, h), np.arange(y_min, y_max, h))\n",
    "\n",
    "    # Predict labels for each point in mesh \n",
    "    Z = knn.predict(np.c_[xx.ravel(), yy.ravel()])\n",
    "\n",
    "    # Reshape to match dimensions \n",
    "    Z = Z.reshape(xx.shape)\n",
    "\n",
    "    # Plotting\n",
    "    plt.contour(xx, yy, Z, cmap=plt.cm.bwr, linestyles = 'dashed', linewidths=0.5) \n",
    "    plt.scatter(X[:, 0], X[:, 1], c=y, cmap=plt.cm.bwr) \n",
    "    plt.title(f'KNN Decision Boundary with {k} Nearest Neighbours') \n",
    "    plt.xlabel('$X_1$') \n",
    "    plt.ylabel('$X_2$', rotation='horizontal') \n",
    "    plt.show()\n",
    "    \n",
    "    \n",
    "# Plot KNN decision boundary with K=5 \n",
    "plot_boundary(X, y, 5)"
   ]
  },
  {
   "cell_type": "code",
   "execution_count": 11,
   "id": "23274acd",
   "metadata": {},
   "outputs": [
    {
     "data": {
      "image/png": "[encoded data removed]",
      "text/plain": [
       "<Figure size 640x480 with 1 Axes>"
      ]
     },
     "metadata": {},
     "output_type": "display_data"
    }
   ],
   "source": [
    "x = X.copy()\n",
    "k = 5\n",
    "\n",
    "# Instantiate the model object \n",
    "knn = KNeighborsClassifier(n_neighbors=k)\n",
    "\n",
    "# Fits the model \n",
    "knn.fit(X, y)\n",
    "\n",
    "# Step length of the meshgrid\n",
    "h = .02\n",
    "\n",
    "# Plot the decision boundary.\n",
    "\n",
    "x_min, x_max = x[:, 0].min() - 1, x[:, 0].max() + 1 \n",
    "y_min, y_max = x[:, 1].min() - 1, x[:, 1].max() + 1\n",
    "\n",
    "# Create Meshgrid \n",
    "# xx remains the same, but yy growth at the step length `h`\n",
    "xx, yy = np.meshgrid(np.arange(x_min, x_max, h), np.arange(y_min, y_max, h))\n",
    "\n",
    "# Predict labels for each point in mesh \n",
    "# use the knn model trained by X, y to draw a \n",
    "Z = knn.predict(np.c_[xx.ravel(), yy.ravel()])\n",
    "\n",
    "# Reshape to match dimensions \n",
    "Z = Z.reshape(xx.shape)\n",
    "\n",
    "# Plotting\n",
    "plt.contour(xx, yy, Z, cmap=plt.cm.bwr, linestyles = 'dashed', linewidths=0.5) \n",
    "plt.scatter(X[:, 0], X[:, 1], c=y, cmap=plt.cm.bwr) \n",
    "plt.title(f'KNN Decision Boundary with {k} Nearest Neighbours') \n",
    "plt.xlabel('$X_1$') \n",
    "plt.ylabel('$X_2$', rotation='horizontal') \n",
    "plt.show()"
   ]
  },
  {
   "cell_type": "markdown",
   "id": "8aed00df",
   "metadata": {},
   "source": [
    "# References\n",
    "* Scikit-learn GridSearchCV\n",
    "* Scikit-learn KNN\n",
    "* Python resources"
   ]
  },
  {
   "cell_type": "code",
   "execution_count": null,
   "id": "c95fbd0e",
   "metadata": {},
   "outputs": [],
   "source": []
  }
 ],
 "metadata": {
  "kernelspec": {
   "display_name": "Python 3 (ipykernel)",
   "language": "python",
   "name": "python3"
  },
  "language_info": {
   "codemirror_mode": {
    "name": "ipython",
    "version": 3
   },
   "file_extension": ".py",
   "mimetype": "text/x-python",
   "name": "python",
   "nbconvert_exporter": "python",
   "pygments_lexer": "ipython3",
   "version": "3.11.5"
  },
  "toc": {
   "base_numbering": 1,
   "nav_menu": {},
   "number_sections": true,
   "sideBar": true,
   "skip_h1_title": false,
   "title_cell": "Table of Contents",
   "title_sidebar": "Contents",
   "toc_cell": false,
   "toc_position": {},
   "toc_section_display": true,
   "toc_window_display": false
  }
 },
 "nbformat": 4,
 "nbformat_minor": 5
}
