{
 "cells": [
  {
   "cell_type": "markdown",
   "id": "b9e9af73",
   "metadata": {},
   "source": [
    "# Custom Estimators\n",
    "\n",
    "Scikit-learn provides dozens of machine learning models and transformers. However, our workflow sometimes requires us to specify the models or transformations; and such models or transformations should have the `fit`, and either `predict` or `transform` methods that are in compliance with scikit-learn so that we can leverage its functionalities such as Pipeline, GridSearchCV classes and such other features.\n",
    "\n",
    "In other words, we can define our own `class` of the ML algorithm, and then be piped into the `pipe` of `sklearn`.\n",
    "\n",
    "This is achieved with custom estimators. Scikit-learn has a base class called `BaseEstimator` that all estimators **inherit** and these models inherit additional classes such as `RegressorMixin`, `ClassifierMixin`, and `TransformerMixin`. We can thus customize our models by inheriting these classes that are in compliance with scikit-learn.\n",
    "\n",
    "Transformers are estimators which implement a `transform` method. \n",
    "Regressors are estimators that implement a predict method while classifiers implement `predict` method in addition to the probability output of the predictions using the `predict_proba` method. For this exercise, we will limit our discussion to transformers."
   ]
  },
  {
   "cell_type": "code",
   "execution_count": 10,
   "id": "e1294541",
   "metadata": {},
   "outputs": [],
   "source": [
    "import numpy as np\n",
    "import pandas as pd\n",
    "\n",
    "from sklearn.base import BaseEstimator, TransformerMixin"
   ]
  },
  {
   "cell_type": "markdown",
   "id": "4dc5c4dc",
   "metadata": {},
   "source": [
    "We will now specify the percentiles for the lower and upper bound and define our fit method that calculates values required to transform the outlier values.\n",
    "\n",
    "Here below is an example of creating an winsorisation tranformer."
   ]
  },
  {
   "cell_type": "code",
   "execution_count": 5,
   "id": "b793e054",
   "metadata": {},
   "outputs": [],
   "source": [
    "# Create custom transformer class \n",
    "# , by inheriting base and additional classes\n",
    "class OutlierTransform(BaseEstimator, TransformerMixin):\n",
    "\n",
    "    def __init__(self, q_lower, q_upper):\n",
    "        self.q_lower = q_lower \n",
    "        self.q_upper = q_upper\n",
    "\n",
    "    def fit(self, X, y=None):\n",
    "        self.lower = np.percentile(X, self.q_lower, axis=0) \n",
    "        self.upper = np.percentile(X, self.q_upper, axis=0)\n",
    "        return self \n",
    "    \n",
    "    def transform(self, X):\n",
    "        Xt = X.copy() \n",
    "        idx_lower = X < self.lower \n",
    "        idx_upper = X > self.upper\n",
    "        # winsorise, make values less or greater than that given percentile value equal to the percentile value\n",
    "        for i in range(X.shape[1]):\n",
    "            Xt[idx_lower[:,i], i] = self.lower[i]\n",
    "            Xt[idx_upper[:,i], i] = self.upper[i]\n",
    "\n",
    "        return Xt"
   ]
  },
  {
   "cell_type": "markdown",
   "id": "1f233ffc",
   "metadata": {},
   "source": [
    "Fit method always returns self, which is a copy of the fitted estimator. If self is not returned, this will not be fully compatibale with scikit-learn and will not work with the pipelines."
   ]
  },
  {
   "cell_type": "code",
   "execution_count": 6,
   "id": "d472d539",
   "metadata": {},
   "outputs": [
    {
     "name": "stderr",
     "output_type": "stream",
     "text": [
      "[*********************100%%**********************]  1 of 1 completed\n"
     ]
    },
    {
     "data": {
      "text/html": [
       "<div>\n",
       "<style scoped>\n",
       "    .dataframe tbody tr th:only-of-type {\n",
       "        vertical-align: middle;\n",
       "    }\n",
       "\n",
       "    .dataframe tbody tr th {\n",
       "        vertical-align: top;\n",
       "    }\n",
       "\n",
       "    .dataframe thead th {\n",
       "        text-align: right;\n",
       "    }\n",
       "</style>\n",
       "<table border=\"1\" class=\"dataframe\">\n",
       "  <thead>\n",
       "    <tr style=\"text-align: right;\">\n",
       "      <th></th>\n",
       "      <th>1D_RET</th>\n",
       "      <th>5D_RET</th>\n",
       "      <th>20D_RET</th>\n",
       "      <th>60D_RET</th>\n",
       "      <th>120D_RET</th>\n",
       "    </tr>\n",
       "    <tr>\n",
       "      <th>Date</th>\n",
       "      <th></th>\n",
       "      <th></th>\n",
       "      <th></th>\n",
       "      <th></th>\n",
       "      <th></th>\n",
       "    </tr>\n",
       "  </thead>\n",
       "  <tbody>\n",
       "    <tr>\n",
       "      <th>2015-06-25</th>\n",
       "      <td>-0.002974</td>\n",
       "      <td>-0.008924</td>\n",
       "      <td>-0.008714</td>\n",
       "      <td>0.016645</td>\n",
       "      <td>0.021431</td>\n",
       "    </tr>\n",
       "    <tr>\n",
       "      <th>2015-06-26</th>\n",
       "      <td>-0.000390</td>\n",
       "      <td>-0.004028</td>\n",
       "      <td>-0.002800</td>\n",
       "      <td>0.020294</td>\n",
       "      <td>0.040043</td>\n",
       "    </tr>\n",
       "  </tbody>\n",
       "</table>\n",
       "</div>"
      ],
      "text/plain": [
       "              1D_RET    5D_RET   20D_RET   60D_RET  120D_RET\n",
       "Date                                                        \n",
       "2015-06-25 -0.002974 -0.008924 -0.008714  0.016645  0.021431\n",
       "2015-06-26 -0.000390 -0.004028 -0.002800  0.020294  0.040043"
      ]
     },
     "execution_count": 6,
     "metadata": {},
     "output_type": "execute_result"
    }
   ],
   "source": [
    "import yfinance as yf\n",
    "\n",
    "spx = yf.download('^GSPC',start='2015-01-01')\n",
    "\n",
    "# Calculate returns and add it to existing DataFrame as a column \n",
    "rdict = {str(i)+'D_RET': \n",
    "         spx['Adj Close'].pct_change(i) for i in [1,5,20,60,120]}\n",
    "\n",
    "# Convert to dataframe \n",
    "rdf = pd.DataFrame(rdict).dropna()\n",
    "\n",
    "# Check the output \n",
    "rdf.head(2)"
   ]
  },
  {
   "cell_type": "code",
   "execution_count": 7,
   "id": "032e6d0d",
   "metadata": {},
   "outputs": [
    {
     "data": {
      "text/plain": [
       "array([[-2.97357430e-03, -8.92399338e-03, -8.71372466e-03,\n",
       "         1.66450671e-02,  2.14314005e-02],\n",
       "       [-3.90079644e-04, -4.02845513e-03, -2.79962543e-03,\n",
       "         2.02943404e-02,  4.00429757e-02],\n",
       "       [-2.08661939e-02, -3.07182335e-02, -2.56141118e-02,\n",
       "        -4.50907058e-03,  2.74790936e-02],\n",
       "       ...,\n",
       "       [ 1.34342982e-03,  3.01865793e-02, -4.26302187e-03,\n",
       "         3.20475104e-02,  1.75935992e-01],\n",
       "       [-5.83561817e-06,  3.37318902e-02,  5.23768068e-03,\n",
       "         3.30217775e-02,  1.53918121e-01],\n",
       "       [ 5.09094770e-03,  2.95959632e-02,  2.88898750e-03,\n",
       "         5.26753898e-02,  1.57943408e-01]])"
      ]
     },
     "execution_count": 7,
     "metadata": {},
     "output_type": "execute_result"
    }
   ],
   "source": [
    "# Convert to numpy array \n",
    "Xnew = rdf.values \n",
    "Xnew"
   ]
  },
  {
   "cell_type": "code",
   "execution_count": 8,
   "id": "e64cc354",
   "metadata": {},
   "outputs": [
    {
     "data": {
      "text/html": [
       "<div>\n",
       "<style scoped>\n",
       "    .dataframe tbody tr th:only-of-type {\n",
       "        vertical-align: middle;\n",
       "    }\n",
       "\n",
       "    .dataframe tbody tr th {\n",
       "        vertical-align: top;\n",
       "    }\n",
       "\n",
       "    .dataframe thead th {\n",
       "        text-align: right;\n",
       "    }\n",
       "</style>\n",
       "<table border=\"1\" class=\"dataframe\">\n",
       "  <thead>\n",
       "    <tr style=\"text-align: right;\">\n",
       "      <th></th>\n",
       "      <th>1D_RET</th>\n",
       "      <th>5D_RET</th>\n",
       "      <th>20D_RET</th>\n",
       "      <th>60D_RET</th>\n",
       "      <th>120D_RET</th>\n",
       "    </tr>\n",
       "  </thead>\n",
       "  <tbody>\n",
       "    <tr>\n",
       "      <th>count</th>\n",
       "      <td>2234.000000</td>\n",
       "      <td>2234.000000</td>\n",
       "      <td>2234.000000</td>\n",
       "      <td>2234.000000</td>\n",
       "      <td>2234.000000</td>\n",
       "    </tr>\n",
       "    <tr>\n",
       "      <th>mean</th>\n",
       "      <td>0.000473</td>\n",
       "      <td>0.002285</td>\n",
       "      <td>0.008998</td>\n",
       "      <td>0.026673</td>\n",
       "      <td>0.051331</td>\n",
       "    </tr>\n",
       "    <tr>\n",
       "      <th>std</th>\n",
       "      <td>0.011575</td>\n",
       "      <td>0.023528</td>\n",
       "      <td>0.045395</td>\n",
       "      <td>0.069961</td>\n",
       "      <td>0.090596</td>\n",
       "    </tr>\n",
       "    <tr>\n",
       "      <th>min</th>\n",
       "      <td>-0.119841</td>\n",
       "      <td>-0.179666</td>\n",
       "      <td>-0.309439</td>\n",
       "      <td>-0.305884</td>\n",
       "      <td>-0.248372</td>\n",
       "    </tr>\n",
       "    <tr>\n",
       "      <th>25%</th>\n",
       "      <td>-0.003773</td>\n",
       "      <td>-0.007325</td>\n",
       "      <td>-0.010798</td>\n",
       "      <td>-0.007555</td>\n",
       "      <td>-0.005627</td>\n",
       "    </tr>\n",
       "    <tr>\n",
       "      <th>50%</th>\n",
       "      <td>0.000606</td>\n",
       "      <td>0.004119</td>\n",
       "      <td>0.015222</td>\n",
       "      <td>0.036062</td>\n",
       "      <td>0.054079</td>\n",
       "    </tr>\n",
       "    <tr>\n",
       "      <th>75%</th>\n",
       "      <td>0.005860</td>\n",
       "      <td>0.014651</td>\n",
       "      <td>0.034453</td>\n",
       "      <td>0.068924</td>\n",
       "      <td>0.108265</td>\n",
       "    </tr>\n",
       "    <tr>\n",
       "      <th>max</th>\n",
       "      <td>0.093828</td>\n",
       "      <td>0.173974</td>\n",
       "      <td>0.224841</td>\n",
       "      <td>0.391566</td>\n",
       "      <td>0.493238</td>\n",
       "    </tr>\n",
       "  </tbody>\n",
       "</table>\n",
       "</div>"
      ],
      "text/plain": [
       "            1D_RET       5D_RET      20D_RET      60D_RET     120D_RET\n",
       "count  2234.000000  2234.000000  2234.000000  2234.000000  2234.000000\n",
       "mean      0.000473     0.002285     0.008998     0.026673     0.051331\n",
       "std       0.011575     0.023528     0.045395     0.069961     0.090596\n",
       "min      -0.119841    -0.179666    -0.309439    -0.305884    -0.248372\n",
       "25%      -0.003773    -0.007325    -0.010798    -0.007555    -0.005627\n",
       "50%       0.000606     0.004119     0.015222     0.036062     0.054079\n",
       "75%       0.005860     0.014651     0.034453     0.068924     0.108265\n",
       "max       0.093828     0.173974     0.224841     0.391566     0.493238"
      ]
     },
     "execution_count": 8,
     "metadata": {},
     "output_type": "execute_result"
    }
   ],
   "source": [
    "# Descriptive Statistics \n",
    "rdf.describe()"
   ]
  },
  {
   "cell_type": "code",
   "execution_count": 11,
   "id": "3f98b903",
   "metadata": {},
   "outputs": [
    {
     "data": {
      "text/html": [
       "<style>#sk-container-id-1 {color: black;}#sk-container-id-1 pre{padding: 0;}#sk-container-id-1 div.sk-toggleable {background-color: white;}#sk-container-id-1 label.sk-toggleable__label {cursor: pointer;display: block;width: 100%;margin-bottom: 0;padding: 0.3em;box-sizing: border-box;text-align: center;}#sk-container-id-1 label.sk-toggleable__label-arrow:before {content: \"▸\";float: left;margin-right: 0.25em;color: #696969;}#sk-container-id-1 label.sk-toggleable__label-arrow:hover:before {color: black;}#sk-container-id-1 div.sk-estimator:hover label.sk-toggleable__label-arrow:before {color: black;}#sk-container-id-1 div.sk-toggleable__content {max-height: 0;max-width: 0;overflow: hidden;text-align: left;background-color: #f0f8ff;}#sk-container-id-1 div.sk-toggleable__content pre {margin: 0.2em;color: black;border-radius: 0.25em;background-color: #f0f8ff;}#sk-container-id-1 input.sk-toggleable__control:checked~div.sk-toggleable__content {max-height: 200px;max-width: 100%;overflow: auto;}#sk-container-id-1 input.sk-toggleable__control:checked~label.sk-toggleable__label-arrow:before {content: \"▾\";}#sk-container-id-1 div.sk-estimator input.sk-toggleable__control:checked~label.sk-toggleable__label {background-color: #d4ebff;}#sk-container-id-1 div.sk-label input.sk-toggleable__control:checked~label.sk-toggleable__label {background-color: #d4ebff;}#sk-container-id-1 input.sk-hidden--visually {border: 0;clip: rect(1px 1px 1px 1px);clip: rect(1px, 1px, 1px, 1px);height: 1px;margin: -1px;overflow: hidden;padding: 0;position: absolute;width: 1px;}#sk-container-id-1 div.sk-estimator {font-family: monospace;background-color: #f0f8ff;border: 1px dotted black;border-radius: 0.25em;box-sizing: border-box;margin-bottom: 0.5em;}#sk-container-id-1 div.sk-estimator:hover {background-color: #d4ebff;}#sk-container-id-1 div.sk-parallel-item::after {content: \"\";width: 100%;border-bottom: 1px solid gray;flex-grow: 1;}#sk-container-id-1 div.sk-label:hover label.sk-toggleable__label {background-color: #d4ebff;}#sk-container-id-1 div.sk-serial::before {content: \"\";position: absolute;border-left: 1px solid gray;box-sizing: border-box;top: 0;bottom: 0;left: 50%;z-index: 0;}#sk-container-id-1 div.sk-serial {display: flex;flex-direction: column;align-items: center;background-color: white;padding-right: 0.2em;padding-left: 0.2em;position: relative;}#sk-container-id-1 div.sk-item {position: relative;z-index: 1;}#sk-container-id-1 div.sk-parallel {display: flex;align-items: stretch;justify-content: center;background-color: white;position: relative;}#sk-container-id-1 div.sk-item::before, #sk-container-id-1 div.sk-parallel-item::before {content: \"\";position: absolute;border-left: 1px solid gray;box-sizing: border-box;top: 0;bottom: 0;left: 50%;z-index: -1;}#sk-container-id-1 div.sk-parallel-item {display: flex;flex-direction: column;z-index: 1;position: relative;background-color: white;}#sk-container-id-1 div.sk-parallel-item:first-child::after {align-self: flex-end;width: 50%;}#sk-container-id-1 div.sk-parallel-item:last-child::after {align-self: flex-start;width: 50%;}#sk-container-id-1 div.sk-parallel-item:only-child::after {width: 0;}#sk-container-id-1 div.sk-dashed-wrapped {border: 1px dashed gray;margin: 0 0.4em 0.5em 0.4em;box-sizing: border-box;padding-bottom: 0.4em;background-color: white;}#sk-container-id-1 div.sk-label label {font-family: monospace;font-weight: bold;display: inline-block;line-height: 1.2em;}#sk-container-id-1 div.sk-label-container {text-align: center;}#sk-container-id-1 div.sk-container {/* jupyter's `normalize.less` sets `[hidden] { display: none; }` but bootstrap.min.css set `[hidden] { display: none !important; }` so we also need the `!important` here to be able to override the default hidden behavior on the sphinx rendered scikit-learn.org. See: https://github.com/scikit-learn/scikit-learn/issues/21755 */display: inline-block !important;position: relative;}#sk-container-id-1 div.sk-text-repr-fallback {display: none;}</style><div id=\"sk-container-id-1\" class=\"sk-top-container\"><div class=\"sk-text-repr-fallback\"><pre>OutlierTransform(q_lower=5, q_upper=95)</pre><b>In a Jupyter environment, please rerun this cell to show the HTML representation or trust the notebook. <br />On GitHub, the HTML representation is unable to render, please try loading this page with nbviewer.org.</b></div><div class=\"sk-container\" hidden><div class=\"sk-item\"><div class=\"sk-estimator sk-toggleable\"><input class=\"sk-toggleable__control sk-hidden--visually\" id=\"sk-estimator-id-1\" type=\"checkbox\" checked><label for=\"sk-estimator-id-1\" class=\"sk-toggleable__label sk-toggleable__label-arrow\">OutlierTransform</label><div class=\"sk-toggleable__content\"><pre>OutlierTransform(q_lower=5, q_upper=95)</pre></div></div></div></div></div>"
      ],
      "text/plain": [
       "OutlierTransform(q_lower=5, q_upper=95)"
      ]
     },
     "execution_count": 11,
     "metadata": {},
     "output_type": "execute_result"
    }
   ],
   "source": [
    "# create, fit and transform for 5 and 95 percentile \n",
    "data_transform = OutlierTransform(5,95) \n",
    "data_transform.fit(Xnew)"
   ]
  },
  {
   "cell_type": "code",
   "execution_count": 12,
   "id": "eeffc2cb",
   "metadata": {},
   "outputs": [
    {
     "data": {
      "text/plain": [
       "array([[-2.97357430e-03, -8.92399338e-03, -8.71372466e-03,\n",
       "         1.66450671e-02,  2.14314005e-02],\n",
       "       [-3.90079644e-04, -4.02845513e-03, -2.79962543e-03,\n",
       "         2.02943404e-02,  4.00429757e-02],\n",
       "       [-1.72941431e-02, -3.07182335e-02, -2.56141118e-02,\n",
       "        -4.50907058e-03,  2.74790936e-02],\n",
       "       ...,\n",
       "       [ 1.34342982e-03,  3.01865793e-02, -4.26302187e-03,\n",
       "         3.20475104e-02,  1.75935992e-01],\n",
       "       [-5.83561817e-06,  3.37318902e-02,  5.23768068e-03,\n",
       "         3.30217775e-02,  1.53918121e-01],\n",
       "       [ 5.09094770e-03,  2.95959632e-02,  2.88898750e-03,\n",
       "         5.26753898e-02,  1.57943408e-01]])"
      ]
     },
     "execution_count": 12,
     "metadata": {},
     "output_type": "execute_result"
    }
   ],
   "source": [
    "Xt = data_transform.transform(Xnew) \n",
    "Xt"
   ]
  },
  {
   "cell_type": "code",
   "execution_count": 13,
   "id": "2349821a",
   "metadata": {},
   "outputs": [
    {
     "data": {
      "text/html": [
       "<div>\n",
       "<style scoped>\n",
       "    .dataframe tbody tr th:only-of-type {\n",
       "        vertical-align: middle;\n",
       "    }\n",
       "\n",
       "    .dataframe tbody tr th {\n",
       "        vertical-align: top;\n",
       "    }\n",
       "\n",
       "    .dataframe thead th {\n",
       "        text-align: right;\n",
       "    }\n",
       "</style>\n",
       "<table border=\"1\" class=\"dataframe\">\n",
       "  <thead>\n",
       "    <tr style=\"text-align: right;\">\n",
       "      <th></th>\n",
       "      <th>0</th>\n",
       "      <th>1</th>\n",
       "      <th>2</th>\n",
       "      <th>3</th>\n",
       "      <th>4</th>\n",
       "    </tr>\n",
       "  </thead>\n",
       "  <tbody>\n",
       "    <tr>\n",
       "      <th>count</th>\n",
       "      <td>2234.000000</td>\n",
       "      <td>2234.000000</td>\n",
       "      <td>2234.000000</td>\n",
       "      <td>2234.000000</td>\n",
       "      <td>2234.000000</td>\n",
       "    </tr>\n",
       "    <tr>\n",
       "      <th>mean</th>\n",
       "      <td>0.000568</td>\n",
       "      <td>0.002656</td>\n",
       "      <td>0.009779</td>\n",
       "      <td>0.027431</td>\n",
       "      <td>0.051380</td>\n",
       "    </tr>\n",
       "    <tr>\n",
       "      <th>std</th>\n",
       "      <td>0.008385</td>\n",
       "      <td>0.018210</td>\n",
       "      <td>0.035690</td>\n",
       "      <td>0.058461</td>\n",
       "      <td>0.079275</td>\n",
       "    </tr>\n",
       "    <tr>\n",
       "      <th>min</th>\n",
       "      <td>-0.017294</td>\n",
       "      <td>-0.037332</td>\n",
       "      <td>-0.066871</td>\n",
       "      <td>-0.096127</td>\n",
       "      <td>-0.102622</td>\n",
       "    </tr>\n",
       "    <tr>\n",
       "      <th>25%</th>\n",
       "      <td>-0.003773</td>\n",
       "      <td>-0.007325</td>\n",
       "      <td>-0.010798</td>\n",
       "      <td>-0.007555</td>\n",
       "      <td>-0.005627</td>\n",
       "    </tr>\n",
       "    <tr>\n",
       "      <th>50%</th>\n",
       "      <td>0.000606</td>\n",
       "      <td>0.004119</td>\n",
       "      <td>0.015222</td>\n",
       "      <td>0.036062</td>\n",
       "      <td>0.054079</td>\n",
       "    </tr>\n",
       "    <tr>\n",
       "      <th>75%</th>\n",
       "      <td>0.005860</td>\n",
       "      <td>0.014651</td>\n",
       "      <td>0.034453</td>\n",
       "      <td>0.068924</td>\n",
       "      <td>0.108265</td>\n",
       "    </tr>\n",
       "    <tr>\n",
       "      <th>max</th>\n",
       "      <td>0.016076</td>\n",
       "      <td>0.035479</td>\n",
       "      <td>0.067423</td>\n",
       "      <td>0.118546</td>\n",
       "      <td>0.186551</td>\n",
       "    </tr>\n",
       "  </tbody>\n",
       "</table>\n",
       "</div>"
      ],
      "text/plain": [
       "                 0            1            2            3            4\n",
       "count  2234.000000  2234.000000  2234.000000  2234.000000  2234.000000\n",
       "mean      0.000568     0.002656     0.009779     0.027431     0.051380\n",
       "std       0.008385     0.018210     0.035690     0.058461     0.079275\n",
       "min      -0.017294    -0.037332    -0.066871    -0.096127    -0.102622\n",
       "25%      -0.003773    -0.007325    -0.010798    -0.007555    -0.005627\n",
       "50%       0.000606     0.004119     0.015222     0.036062     0.054079\n",
       "75%       0.005860     0.014651     0.034453     0.068924     0.108265\n",
       "max       0.016076     0.035479     0.067423     0.118546     0.186551"
      ]
     },
     "execution_count": 13,
     "metadata": {},
     "output_type": "execute_result"
    }
   ],
   "source": [
    "# Transformed Data \n",
    "pd.DataFrame(Xt).describe()"
   ]
  },
  {
   "cell_type": "code",
   "execution_count": 16,
   "id": "5e3b2c7d",
   "metadata": {},
   "outputs": [
    {
     "data": {
      "text/plain": [
       "<matplotlib.legend.Legend at 0x2c7ed490310>"
      ]
     },
     "execution_count": 16,
     "metadata": {},
     "output_type": "execute_result"
    },
    {
     "data": {
      "image/png": "[encoded data removed]",
      "text/plain": [
       "<Figure size 640x480 with 1 Axes>"
      ]
     },
     "metadata": {},
     "output_type": "display_data"
    }
   ],
   "source": [
    "# Import matplotlib for visualization\n",
    "import matplotlib\n",
    "import matplotlib.pyplot as plt\n",
    "# Plot settings\n",
    "import seaborn as sns\n",
    "sns.set()\n",
    "\n",
    "# Plot historgram of 1day returns\n",
    "_, bins, _ = plt.hist(Xnew[:, 0], density=True, bins=200, alpha=1, color=\"b\", label = \"Original\")\n",
    "plt.hist(Xt[:,0], density=True, bins=bins, alpha=1, color='r', label = \"Transformed\")\n",
    "# Set title\n",
    "plt.title(\"Original vs Transformed Distribution\")\n",
    "# Set x and y axis limits\n",
    "plt.xlim(-0.05, 0.05)\n",
    "# Set legends\n",
    "plt.legend()"
   ]
  },
  {
   "cell_type": "markdown",
   "id": "3e1999c6",
   "metadata": {},
   "source": [
    "## References\n",
    "\n",
    "* Scikit-learn features selection\n",
    "* SHAP documentation\n",
    "* Scikit-learn classes reference\n",
    "* Python resources"
   ]
  },
  {
   "cell_type": "code",
   "execution_count": null,
   "id": "9359df83",
   "metadata": {},
   "outputs": [],
   "source": []
  }
 ],
 "metadata": {
  "kernelspec": {
   "display_name": "Python 3 (ipykernel)",
   "language": "python",
   "name": "python3"
  },
  "language_info": {
   "codemirror_mode": {
    "name": "ipython",
    "version": 3
   },
   "file_extension": ".py",
   "mimetype": "text/x-python",
   "name": "python",
   "nbconvert_exporter": "python",
   "pygments_lexer": "ipython3",
   "version": "3.11.5"
  },
  "toc": {
   "base_numbering": 1,
   "nav_menu": {},
   "number_sections": true,
   "sideBar": true,
   "skip_h1_title": false,
   "title_cell": "Table of Contents",
   "title_sidebar": "Contents",
   "toc_cell": false,
   "toc_position": {},
   "toc_section_display": true,
   "toc_window_display": false
  }
 },
 "nbformat": 4,
 "nbformat_minor": 5
}
