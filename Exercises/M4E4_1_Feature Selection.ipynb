{
 "cells": [
  {
   "cell_type": "markdown",
   "id": "b4d7f5f2",
   "metadata": {},
   "source": [
    "# Exercise 1\n",
    "For the Boston housing dataset (https://raw.githubusercontent.com/kannansingaravelu/datasets/main/boston.csv), construct a dataframe with all features and target values. Perform feature selection to choose the most appropriate features using\n",
    "\n",
    "1. Variance Inflation Factor\n",
    "2. SelectKBest\n",
    "3. Recursive Feature Elimination\n",
    "4. Recursive Feature Elimination Cross validation\n",
    "5. Shapley Additive Explanations\n",
    "\n",
    "Fit the regressor and compare the results. How much better does the model perform? Use `scikit-learn` package to perform this task."
   ]
  },
  {
   "cell_type": "markdown",
   "id": "f6495332",
   "metadata": {},
   "source": [
    "# Solution\n",
    "\n",
    "### Features Selection\n",
    "\n",
    "Feature selection methods are approaches to reduce the number of input variables that are believed to be most useful to a model. \n",
    "\n",
    "**It is primarily focused on removing non-informative or redundant predictors from the model**. \n",
    "\n",
    "We’ll focus on five methods in relation to linear regression."
   ]
  },
  {
   "cell_type": "code",
   "execution_count": 1,
   "id": "c3124de4",
   "metadata": {},
   "outputs": [],
   "source": [
    "import numpy as np\n",
    "import pandas as pd\n",
    "import matplotlib.pyplot as plt\n",
    "\n",
    "from sklearn.preprocessing import StandardScaler\n",
    "from sklearn.pipeline import Pipeline\n",
    "\n",
    "from sklearn.linear_model import LinearRegression\n",
    "\n",
    "import shap"
   ]
  },
  {
   "cell_type": "code",
   "execution_count": 5,
   "id": "503b916d",
   "metadata": {},
   "outputs": [],
   "source": [
    "df = pd.read_csv(\"https://raw.githubusercontent.com/kannansingaravelu/datasets/main/boston.csv\")\n",
    "#df = pd.read_csv(\"M4E4_boston.csv\")\n",
    "df.columns = df.columns.str.upper()\n",
    "\n",
    "X = df.drop('MEDV', axis = 1)\n",
    "y = df['MEDV']"
   ]
  },
  {
   "cell_type": "code",
   "execution_count": 6,
   "id": "7b611769",
   "metadata": {},
   "outputs": [],
   "source": [
    "scaler = StandardScaler()\n",
    "\n",
    "# pipe in a stream\n",
    "# 1. standardise dataset\n",
    "# 2. run linear reg\n",
    "pipe = Pipeline([\n",
    "    ('scaler', StandardScaler()), \n",
    "    ('regressor', LinearRegression())\n",
    "])"
   ]
  },
  {
   "cell_type": "code",
   "execution_count": 7,
   "id": "fa042591",
   "metadata": {},
   "outputs": [
    {
     "name": "stdout",
     "output_type": "stream",
     "text": [
      "[30.00384338 25.02556238 30.56759672 28.60703649 27.94352423 25.25628446\n",
      " 23.00180827 19.53598843 11.52363685 18.92026211]\n",
      "R^2: 0.7406\n"
     ]
    }
   ],
   "source": [
    "pipe.fit(X,y)\n",
    "\n",
    "y_pred = pipe.predict(X)\n",
    "\n",
    "print(y_pred[:10])\n",
    "print(f'R^2: {pipe.score(X,y):0.4}')\n",
    "rbase = pipe.score(X,y)"
   ]
  },
  {
   "cell_type": "markdown",
   "id": "3f941acd",
   "metadata": {},
   "source": [
    "#### Method 1: Multicollinearity VIF\n",
    "\n",
    "Multicollinearity occurs when two or more independent variables are highly correlated with one another in a regression model. This means that an independent variable can be predicted from another independent variable in a regression model.\n",
    "\n",
    "Multicollinearity can be detected using various methods and one such method is Variable Inflation Factors (VIF). VIF determines the strength of the correlation between the independent variables (It is predicted by taking a variable and regressing it against every other variable).\n",
    "\n",
    "VIF score of an independent variable represents how well the variable is explained by other independent variables.\n",
    "\n",
    ">For example, for a set of regressors $X_1, X_2, \\cdots, X_k$. \n",
    "> We run $X_1$ on $X_2, X_3, \\cdots, X_k$\n",
    ">, and run $X_2$ on $X_1, X_3, \\cdots, X_k$\n",
    ">, repetitively.\n",
    "\n",
    "$R^2$ value is determined to find out how well an independent variable is described by the other independent variables. A high value of $R^2$ means that the variable is highly correlated with the other variables. This is captured by the VIF which is denoted below:\n",
    "\n",
    "$$VIF = \\frac{1}{1-R^2}$$\n",
    "\n",
    "- VIF starts at 1 and has no upper limit.\n",
    "- VIF = 1, no correlation between the independent variable and the other variables.\n",
    "- VIF exceeding 5 or 10 indicates high multicollinearity betwen this independent variable and the others."
   ]
  },
  {
   "cell_type": "code",
   "execution_count": 8,
   "id": "ac03fdc9",
   "metadata": {
    "scrolled": false
   },
   "outputs": [
    {
     "data": {
      "text/html": [
       "<div>\n",
       "<style scoped>\n",
       "    .dataframe tbody tr th:only-of-type {\n",
       "        vertical-align: middle;\n",
       "    }\n",
       "\n",
       "    .dataframe tbody tr th {\n",
       "        vertical-align: top;\n",
       "    }\n",
       "\n",
       "    .dataframe thead th {\n",
       "        text-align: right;\n",
       "    }\n",
       "</style>\n",
       "<table border=\"1\" class=\"dataframe\">\n",
       "  <thead>\n",
       "    <tr style=\"text-align: right;\">\n",
       "      <th></th>\n",
       "      <th>Feature</th>\n",
       "      <th>VIF_Factor</th>\n",
       "    </tr>\n",
       "  </thead>\n",
       "  <tbody>\n",
       "    <tr>\n",
       "      <th>3</th>\n",
       "      <td>CHAS</td>\n",
       "      <td>1.07</td>\n",
       "    </tr>\n",
       "    <tr>\n",
       "      <th>11</th>\n",
       "      <td>B</td>\n",
       "      <td>1.35</td>\n",
       "    </tr>\n",
       "    <tr>\n",
       "      <th>0</th>\n",
       "      <td>CRIM</td>\n",
       "      <td>1.79</td>\n",
       "    </tr>\n",
       "    <tr>\n",
       "      <th>10</th>\n",
       "      <td>PTRATIO</td>\n",
       "      <td>1.80</td>\n",
       "    </tr>\n",
       "    <tr>\n",
       "      <th>5</th>\n",
       "      <td>RM</td>\n",
       "      <td>1.93</td>\n",
       "    </tr>\n",
       "    <tr>\n",
       "      <th>1</th>\n",
       "      <td>ZN</td>\n",
       "      <td>2.30</td>\n",
       "    </tr>\n",
       "    <tr>\n",
       "      <th>12</th>\n",
       "      <td>LSTAT</td>\n",
       "      <td>2.94</td>\n",
       "    </tr>\n",
       "    <tr>\n",
       "      <th>6</th>\n",
       "      <td>AGE</td>\n",
       "      <td>3.10</td>\n",
       "    </tr>\n",
       "    <tr>\n",
       "      <th>7</th>\n",
       "      <td>DIS</td>\n",
       "      <td>3.96</td>\n",
       "    </tr>\n",
       "    <tr>\n",
       "      <th>2</th>\n",
       "      <td>INDUS</td>\n",
       "      <td>3.99</td>\n",
       "    </tr>\n",
       "    <tr>\n",
       "      <th>4</th>\n",
       "      <td>NOX</td>\n",
       "      <td>4.39</td>\n",
       "    </tr>\n",
       "    <tr>\n",
       "      <th>8</th>\n",
       "      <td>RAD</td>\n",
       "      <td>7.48</td>\n",
       "    </tr>\n",
       "    <tr>\n",
       "      <th>9</th>\n",
       "      <td>TAX</td>\n",
       "      <td>9.01</td>\n",
       "    </tr>\n",
       "  </tbody>\n",
       "</table>\n",
       "</div>"
      ],
      "text/plain": [
       "    Feature  VIF_Factor\n",
       "3      CHAS        1.07\n",
       "11        B        1.35\n",
       "0      CRIM        1.79\n",
       "10  PTRATIO        1.80\n",
       "5        RM        1.93\n",
       "1        ZN        2.30\n",
       "12    LSTAT        2.94\n",
       "6       AGE        3.10\n",
       "7       DIS        3.96\n",
       "2     INDUS        3.99\n",
       "4       NOX        4.39\n",
       "8       RAD        7.48\n",
       "9       TAX        9.01"
      ]
     },
     "execution_count": 8,
     "metadata": {},
     "output_type": "execute_result"
    }
   ],
   "source": [
    "from statsmodels.stats.outliers_influence import variance_inflation_factor\n",
    "\n",
    "def vif(X):\n",
    "    # standardise the dataset\n",
    "    xs = scaler.fit_transform(X)\n",
    "    \n",
    "    # subsume into a Dataframe\n",
    "    vif = pd.DataFrame()\n",
    "    vif['Feature'] = X.columns\n",
    "    vif['VIF_Factor'] = [variance_inflation_factor(xs, i) for i in range(xs.shape[1])]\n",
    "    \n",
    "    return vif\n",
    "\n",
    "vif(X).round(2).sort_values(by='VIF_Factor')"
   ]
  },
  {
   "cell_type": "code",
   "execution_count": 18,
   "id": "5db7d218",
   "metadata": {
    "scrolled": true
   },
   "outputs": [
    {
     "data": {
      "text/html": [
       "<div>\n",
       "<style scoped>\n",
       "    .dataframe tbody tr th:only-of-type {\n",
       "        vertical-align: middle;\n",
       "    }\n",
       "\n",
       "    .dataframe tbody tr th {\n",
       "        vertical-align: top;\n",
       "    }\n",
       "\n",
       "    .dataframe thead th {\n",
       "        text-align: right;\n",
       "    }\n",
       "</style>\n",
       "<table border=\"1\" class=\"dataframe\">\n",
       "  <thead>\n",
       "    <tr style=\"text-align: right;\">\n",
       "      <th></th>\n",
       "      <th>Feature</th>\n",
       "      <th>VIF_Factor</th>\n",
       "    </tr>\n",
       "  </thead>\n",
       "  <tbody>\n",
       "    <tr>\n",
       "      <th>3</th>\n",
       "      <td>CHAS</td>\n",
       "      <td>1.057805</td>\n",
       "    </tr>\n",
       "    <tr>\n",
       "      <th>9</th>\n",
       "      <td>B</td>\n",
       "      <td>1.316559</td>\n",
       "    </tr>\n",
       "    <tr>\n",
       "      <th>0</th>\n",
       "      <td>CRIM</td>\n",
       "      <td>1.478206</td>\n",
       "    </tr>\n",
       "    <tr>\n",
       "      <th>8</th>\n",
       "      <td>PTRATIO</td>\n",
       "      <td>1.496077</td>\n",
       "    </tr>\n",
       "    <tr>\n",
       "      <th>5</th>\n",
       "      <td>RM</td>\n",
       "      <td>1.872532</td>\n",
       "    </tr>\n",
       "    <tr>\n",
       "      <th>1</th>\n",
       "      <td>ZN</td>\n",
       "      <td>2.154483</td>\n",
       "    </tr>\n",
       "    <tr>\n",
       "      <th>10</th>\n",
       "      <td>LSTAT</td>\n",
       "      <td>2.936487</td>\n",
       "    </tr>\n",
       "    <tr>\n",
       "      <th>6</th>\n",
       "      <td>AGE</td>\n",
       "      <td>3.075755</td>\n",
       "    </tr>\n",
       "    <tr>\n",
       "      <th>2</th>\n",
       "      <td>INDUS</td>\n",
       "      <td>3.179166</td>\n",
       "    </tr>\n",
       "    <tr>\n",
       "      <th>4</th>\n",
       "      <td>NOX</td>\n",
       "      <td>3.901348</td>\n",
       "    </tr>\n",
       "    <tr>\n",
       "      <th>7</th>\n",
       "      <td>DIS</td>\n",
       "      <td>3.954443</td>\n",
       "    </tr>\n",
       "  </tbody>\n",
       "</table>\n",
       "</div>"
      ],
      "text/plain": [
       "    Feature  VIF_Factor\n",
       "3      CHAS    1.057805\n",
       "9         B    1.316559\n",
       "0      CRIM    1.478206\n",
       "8   PTRATIO    1.496077\n",
       "5        RM    1.872532\n",
       "1        ZN    2.154483\n",
       "10    LSTAT    2.936487\n",
       "6       AGE    3.075755\n",
       "2     INDUS    3.179166\n",
       "4       NOX    3.901348\n",
       "7       DIS    3.954443"
      ]
     },
     "execution_count": 18,
     "metadata": {},
     "output_type": "execute_result"
    }
   ],
   "source": [
    "# we find TAX & RAD might be highly correlated and might result in multicollinearity\n",
    "newX = X.drop(['TAX','RAD'], axis = 1)\n",
    "\n",
    "temp = vif(newX).sort_values(by = 'VIF_Factor')\n",
    "temp"
   ]
  },
  {
   "cell_type": "code",
   "execution_count": 10,
   "id": "b6bffa69",
   "metadata": {},
   "outputs": [],
   "source": [
    "# Filter the first six features\n",
    "\n",
    "X_method1 = X[temp['Feature'].values[:6]]"
   ]
  },
  {
   "cell_type": "code",
   "execution_count": 11,
   "id": "b3799813",
   "metadata": {},
   "outputs": [
    {
     "name": "stdout",
     "output_type": "stream",
     "text": [
      "[28.57799551 24.78825544 30.16715122 28.03678666 29.13085894 23.98038835\n",
      " 24.50415657 25.65810523 21.62521274 24.29070206]\n",
      "R^2: 0.6273\n"
     ]
    }
   ],
   "source": [
    "# reg X_method1 on y\n",
    "# X_method1 is when exclude multicollinearity\n",
    "pipe.fit(X_method1, y)\n",
    "\n",
    "y_pred1 = pipe.predict(X_method1)\n",
    "\n",
    "print(y_pred1[:10])\n",
    "print(f'R^2: {pipe.score(X_method1, y):0.4}')\n",
    "r1 = pipe.score(X_method1, y)"
   ]
  },
  {
   "cell_type": "markdown",
   "id": "dbba0a01",
   "metadata": {},
   "source": [
    "#### Method 2: SelectKBest\n",
    "\n",
    "Select features according to the $k$ highest scores. Univariate feature selection works by selecting the best features based on univariate statistical tests.\n",
    "\n",
    "`SelectKBest` is used to select `k` number of varialbes that have highest scores.\n",
    "\n",
    "`f_regression` is used to calculate the F-statistics of each var in X on y. `f_regression` is the **score function** for `SelectKBest`."
   ]
  },
  {
   "cell_type": "code",
   "execution_count": 12,
   "id": "e997c9bb",
   "metadata": {},
   "outputs": [],
   "source": [
    "from sklearn.feature_selection import (f_regression,  # ANOVA F-value between label/feature for classification tasks\n",
    "                                       SelectKBest, \n",
    "                                       SelectPercentile)"
   ]
  },
  {
   "cell_type": "code",
   "execution_count": 13,
   "id": "c599714f",
   "metadata": {},
   "outputs": [
    {
     "name": "stdout",
     "output_type": "stream",
     "text": [
      "F-score: 89.49 for feature CRIM\n",
      "F-score: 75.26 for feature ZN\n",
      "F-score: 154.0 for feature INDUS\n",
      "F-score: 15.97 for feature CHAS\n",
      "F-score: 112.6 for feature NOX\n",
      "F-score: 471.8 for feature RM\n",
      "F-score: 83.48 for feature AGE\n",
      "F-score: 33.58 for feature DIS\n",
      "F-score: 85.91 for feature RAD\n",
      "F-score: 141.8 for feature TAX\n",
      "F-score: 175.1 for feature PTRATIO\n",
      "F-score: 63.05 for feature B\n",
      "F-score: 601.6 for feature LSTAT\n"
     ]
    }
   ],
   "source": [
    "# initialise the class\n",
    "method2 = SelectKBest(f_regression, k=6)\n",
    "\n",
    "# fit the model\n",
    "method2.fit(X,y)\n",
    "\n",
    "# Iterate the score \n",
    "for f, s in zip(X.columns, method2.scores_):\n",
    "    print(f'F-score: {s:0.4} for feature {f}')"
   ]
  },
  {
   "cell_type": "code",
   "execution_count": 19,
   "id": "0e668b9b",
   "metadata": {
    "scrolled": true
   },
   "outputs": [
    {
     "name": "stdout",
     "output_type": "stream",
     "text": [
      "[ 2  4  5  9 10 12]\n"
     ]
    }
   ],
   "source": [
    "# Show selected features\n",
    "print(method2.get_support(indices=True))"
   ]
  },
  {
   "cell_type": "code",
   "execution_count": 20,
   "id": "d3d4d515",
   "metadata": {},
   "outputs": [],
   "source": [
    "# Filter six features with highest score\n",
    "X_method2 = X[['INDUS', 'NOX', 'RM', 'TAX', 'PTRATIO', 'LSTAT']]"
   ]
  },
  {
   "cell_type": "code",
   "execution_count": 21,
   "id": "e1bc31a2",
   "metadata": {},
   "outputs": [
    {
     "name": "stdout",
     "output_type": "stream",
     "text": [
      "[30.57014999 26.10398705 32.45084162 31.0219246  30.41087418 27.1380861\n",
      " 24.46192059 21.5381886  13.13415681 21.87515864]\n",
      "R^2: 0.681\n"
     ]
    }
   ],
   "source": [
    "# use those selected features to run the fit/train model \n",
    "pipe.fit(X_method2, y) \n",
    "\n",
    "# predict labels \n",
    "y_pred = pipe.predict(X_method2) \n",
    "\n",
    "print(y_pred[:10]) \n",
    "print(f'R^2: {pipe.score(X_method2, y):0.4}')\n",
    "r2 = pipe.score(X_method2, y)"
   ]
  },
  {
   "cell_type": "code",
   "execution_count": 22,
   "id": "ca0d6616",
   "metadata": {},
   "outputs": [
    {
     "data": {
      "text/plain": [
       "array([ 0.59754458, -0.39395547,  3.26810054, -0.48846049, -1.9764135 ,\n",
       "       -3.89469824])"
      ]
     },
     "execution_count": 22,
     "metadata": {},
     "output_type": "execute_result"
    }
   ],
   "source": [
    "# check the coefficients \n",
    "pipe['regressor'].coef_"
   ]
  },
  {
   "cell_type": "markdown",
   "id": "b79b1543",
   "metadata": {},
   "source": [
    "#### Method 3: RFE\n",
    "\n",
    "Feature ranking with **Recursive Feature Elimination (RFE)**. The goal is to select features by recursively considering smaller and smaller sets of features."
   ]
  },
  {
   "cell_type": "code",
   "execution_count": 23,
   "id": "cb04627c",
   "metadata": {},
   "outputs": [],
   "source": [
    "# Feature Selection using RFE \n",
    "from sklearn.feature_selection import RFE"
   ]
  },
  {
   "cell_type": "code",
   "execution_count": 24,
   "id": "129a6d26",
   "metadata": {},
   "outputs": [
    {
     "name": "stdout",
     "output_type": "stream",
     "text": [
      "[False False False  True  True  True False  True False False  True False\n",
      "  True]\n",
      "[3 5 4 1 1 1 8 1 2 6 1 7 1]\n"
     ]
    }
   ],
   "source": [
    "# Method 3 \n",
    "method3 = RFE(LinearRegression(), n_features_to_select=6, step=1) \n",
    "method3.fit(X,y)\n",
    "\n",
    "# Check the selected position, we select 6 features\n",
    "print(method3.support_)\n",
    "\n",
    "# Get the feature ranking \n",
    "print(method3.ranking_)"
   ]
  },
  {
   "cell_type": "code",
   "execution_count": 26,
   "id": "d6a676a7",
   "metadata": {
    "scrolled": true
   },
   "outputs": [
    {
     "data": {
      "text/plain": [
       "[3, 4, 5, 7, 10, 12]"
      ]
     },
     "execution_count": 26,
     "metadata": {},
     "output_type": "execute_result"
    }
   ],
   "source": [
    "# Select Six Features\n",
    "min_value = min(method3.ranking_)\n",
    "col = [i for i, x in enumerate(method3.ranking_) if x == min_value]\n",
    "col"
   ]
  },
  {
   "cell_type": "code",
   "execution_count": 27,
   "id": "7b32365b",
   "metadata": {},
   "outputs": [
    {
     "data": {
      "text/plain": [
       "[3, 4, 5, 7, 10, 12]"
      ]
     },
     "execution_count": 27,
     "metadata": {},
     "output_type": "execute_result"
    }
   ],
   "source": [
    "# Select Six Features\n",
    "min_value = min(method3.ranking_) \n",
    "\n",
    "# Select if the ranking == 1, as the target features\n",
    "col = [i for i, x in enumerate(method3.ranking_) if x == min_value] \n",
    "col"
   ]
  },
  {
   "cell_type": "code",
   "execution_count": 29,
   "id": "93587b82",
   "metadata": {},
   "outputs": [
    {
     "data": {
      "text/plain": [
       "Index(['CHAS', 'NOX', 'RM', 'DIS', 'PTRATIO', 'LSTAT'], dtype='object')"
      ]
     },
     "execution_count": 29,
     "metadata": {},
     "output_type": "execute_result"
    }
   ],
   "source": [
    "# Filter selected features \n",
    "X_method3 = X[X.columns[col]]\n",
    "\n",
    "# show those features\n",
    "X.columns[col]"
   ]
  },
  {
   "cell_type": "code",
   "execution_count": 30,
   "id": "b070e27c",
   "metadata": {},
   "outputs": [
    {
     "name": "stdout",
     "output_type": "stream",
     "text": [
      "[31.0142456  25.79278275 31.84611084 29.74856961 28.99930186 26.11951419\n",
      " 23.13348366 19.51563196 10.99759368 19.25866209]\n",
      "R^2: 0.7158\n"
     ]
    }
   ],
   "source": [
    "# fit/train model \n",
    "pipe.fit(X_method3, y)\n",
    "\n",
    "# predict labels \n",
    "y_pred3 = pipe.predict(X_method3) \n",
    "\n",
    "print(y_pred3[:10])\n",
    "print(f'R^2: {pipe.score(X_method3, y):0.4}')\n",
    "r3 = pipe.score(X_method3, y)"
   ]
  },
  {
   "cell_type": "code",
   "execution_count": 31,
   "id": "4b3ccc74",
   "metadata": {},
   "outputs": [
    {
     "data": {
      "text/plain": [
       "array([ 0.82321941, -2.16945087,  2.88617319, -2.40778286, -2.16874483,\n",
       "       -4.06526959])"
      ]
     },
     "execution_count": 31,
     "metadata": {},
     "output_type": "execute_result"
    }
   ],
   "source": [
    "# check the coefficients \n",
    "pipe['regressor'].coef_"
   ]
  },
  {
   "cell_type": "markdown",
   "id": "23f194a8",
   "metadata": {},
   "source": [
    "#### Method 4: RFECV\n",
    "\n",
    "RFECV means Recursive Feature Elimination with Cross-Validation.\n",
    "\n",
    "A recursive feature elimination with automatic tuning of the number of features selected with cross-validation."
   ]
  },
  {
   "cell_type": "code",
   "execution_count": 32,
   "id": "76dd6ece",
   "metadata": {},
   "outputs": [
    {
     "data": {
      "text/html": [
       "<style>#sk-container-id-1 {color: black;}#sk-container-id-1 pre{padding: 0;}#sk-container-id-1 div.sk-toggleable {background-color: white;}#sk-container-id-1 label.sk-toggleable__label {cursor: pointer;display: block;width: 100%;margin-bottom: 0;padding: 0.3em;box-sizing: border-box;text-align: center;}#sk-container-id-1 label.sk-toggleable__label-arrow:before {content: \"▸\";float: left;margin-right: 0.25em;color: #696969;}#sk-container-id-1 label.sk-toggleable__label-arrow:hover:before {color: black;}#sk-container-id-1 div.sk-estimator:hover label.sk-toggleable__label-arrow:before {color: black;}#sk-container-id-1 div.sk-toggleable__content {max-height: 0;max-width: 0;overflow: hidden;text-align: left;background-color: #f0f8ff;}#sk-container-id-1 div.sk-toggleable__content pre {margin: 0.2em;color: black;border-radius: 0.25em;background-color: #f0f8ff;}#sk-container-id-1 input.sk-toggleable__control:checked~div.sk-toggleable__content {max-height: 200px;max-width: 100%;overflow: auto;}#sk-container-id-1 input.sk-toggleable__control:checked~label.sk-toggleable__label-arrow:before {content: \"▾\";}#sk-container-id-1 div.sk-estimator input.sk-toggleable__control:checked~label.sk-toggleable__label {background-color: #d4ebff;}#sk-container-id-1 div.sk-label input.sk-toggleable__control:checked~label.sk-toggleable__label {background-color: #d4ebff;}#sk-container-id-1 input.sk-hidden--visually {border: 0;clip: rect(1px 1px 1px 1px);clip: rect(1px, 1px, 1px, 1px);height: 1px;margin: -1px;overflow: hidden;padding: 0;position: absolute;width: 1px;}#sk-container-id-1 div.sk-estimator {font-family: monospace;background-color: #f0f8ff;border: 1px dotted black;border-radius: 0.25em;box-sizing: border-box;margin-bottom: 0.5em;}#sk-container-id-1 div.sk-estimator:hover {background-color: #d4ebff;}#sk-container-id-1 div.sk-parallel-item::after {content: \"\";width: 100%;border-bottom: 1px solid gray;flex-grow: 1;}#sk-container-id-1 div.sk-label:hover label.sk-toggleable__label {background-color: #d4ebff;}#sk-container-id-1 div.sk-serial::before {content: \"\";position: absolute;border-left: 1px solid gray;box-sizing: border-box;top: 0;bottom: 0;left: 50%;z-index: 0;}#sk-container-id-1 div.sk-serial {display: flex;flex-direction: column;align-items: center;background-color: white;padding-right: 0.2em;padding-left: 0.2em;position: relative;}#sk-container-id-1 div.sk-item {position: relative;z-index: 1;}#sk-container-id-1 div.sk-parallel {display: flex;align-items: stretch;justify-content: center;background-color: white;position: relative;}#sk-container-id-1 div.sk-item::before, #sk-container-id-1 div.sk-parallel-item::before {content: \"\";position: absolute;border-left: 1px solid gray;box-sizing: border-box;top: 0;bottom: 0;left: 50%;z-index: -1;}#sk-container-id-1 div.sk-parallel-item {display: flex;flex-direction: column;z-index: 1;position: relative;background-color: white;}#sk-container-id-1 div.sk-parallel-item:first-child::after {align-self: flex-end;width: 50%;}#sk-container-id-1 div.sk-parallel-item:last-child::after {align-self: flex-start;width: 50%;}#sk-container-id-1 div.sk-parallel-item:only-child::after {width: 0;}#sk-container-id-1 div.sk-dashed-wrapped {border: 1px dashed gray;margin: 0 0.4em 0.5em 0.4em;box-sizing: border-box;padding-bottom: 0.4em;background-color: white;}#sk-container-id-1 div.sk-label label {font-family: monospace;font-weight: bold;display: inline-block;line-height: 1.2em;}#sk-container-id-1 div.sk-label-container {text-align: center;}#sk-container-id-1 div.sk-container {/* jupyter's `normalize.less` sets `[hidden] { display: none; }` but bootstrap.min.css set `[hidden] { display: none !important; }` so we also need the `!important` here to be able to override the default hidden behavior on the sphinx rendered scikit-learn.org. See: https://github.com/scikit-learn/scikit-learn/issues/21755 */display: inline-block !important;position: relative;}#sk-container-id-1 div.sk-text-repr-fallback {display: none;}</style><div id=\"sk-container-id-1\" class=\"sk-top-container\"><div class=\"sk-text-repr-fallback\"><pre>RFECV(cv=10, estimator=LinearRegression())</pre><b>In a Jupyter environment, please rerun this cell to show the HTML representation or trust the notebook. <br />On GitHub, the HTML representation is unable to render, please try loading this page with nbviewer.org.</b></div><div class=\"sk-container\" hidden><div class=\"sk-item sk-dashed-wrapped\"><div class=\"sk-label-container\"><div class=\"sk-label sk-toggleable\"><input class=\"sk-toggleable__control sk-hidden--visually\" id=\"sk-estimator-id-1\" type=\"checkbox\" ><label for=\"sk-estimator-id-1\" class=\"sk-toggleable__label sk-toggleable__label-arrow\">RFECV</label><div class=\"sk-toggleable__content\"><pre>RFECV(cv=10, estimator=LinearRegression())</pre></div></div></div><div class=\"sk-parallel\"><div class=\"sk-parallel-item\"><div class=\"sk-item\"><div class=\"sk-label-container\"><div class=\"sk-label sk-toggleable\"><input class=\"sk-toggleable__control sk-hidden--visually\" id=\"sk-estimator-id-2\" type=\"checkbox\" ><label for=\"sk-estimator-id-2\" class=\"sk-toggleable__label sk-toggleable__label-arrow\">estimator: LinearRegression</label><div class=\"sk-toggleable__content\"><pre>LinearRegression()</pre></div></div></div><div class=\"sk-serial\"><div class=\"sk-item\"><div class=\"sk-estimator sk-toggleable\"><input class=\"sk-toggleable__control sk-hidden--visually\" id=\"sk-estimator-id-3\" type=\"checkbox\" ><label for=\"sk-estimator-id-3\" class=\"sk-toggleable__label sk-toggleable__label-arrow\">LinearRegression</label><div class=\"sk-toggleable__content\"><pre>LinearRegression()</pre></div></div></div></div></div></div></div></div></div></div>"
      ],
      "text/plain": [
       "RFECV(cv=10, estimator=LinearRegression())"
      ]
     },
     "execution_count": 32,
     "metadata": {},
     "output_type": "execute_result"
    }
   ],
   "source": [
    "from sklearn.feature_selection import RFECV\n",
    "\n",
    "# Method 4 \n",
    "method4 = RFECV(LinearRegression(), cv=10) \n",
    "method4.fit(X,y)"
   ]
  },
  {
   "cell_type": "code",
   "execution_count": 33,
   "id": "51fd4771",
   "metadata": {
    "scrolled": true
   },
   "outputs": [
    {
     "name": "stdout",
     "output_type": "stream",
     "text": [
      "6\n",
      "[ 3  4  5  7 10 12]\n",
      "[False False False  True  True  True False  True False False  True False\n",
      "  True]\n",
      "[3 5 4 1 1 1 8 1 2 6 1 7 1]\n"
     ]
    }
   ],
   "source": [
    "# Get the selected features with CV \n",
    "print(method4.n_features_)\n",
    "\n",
    "# Get the index of the selected features \n",
    "print(method4.get_support(indices=True))\n",
    "\n",
    "# Check the selected position \n",
    "print(method4.support_)\n",
    "\n",
    "# Get the feature ranking \n",
    "print(method4.ranking_)\n",
    "\n",
    "# # Select Six Features \n",
    "# min_value = min(method4.ranking_) \n",
    "# col = [i for i, x in enumerate(method4.ranking_) if x == min_value] \n",
    "# col"
   ]
  },
  {
   "cell_type": "code",
   "execution_count": 34,
   "id": "258cd1b5",
   "metadata": {},
   "outputs": [
    {
     "name": "stdout",
     "output_type": "stream",
     "text": [
      "Index(['CHAS', 'NOX', 'RM', 'DIS', 'PTRATIO', 'LSTAT'], dtype='object')\n"
     ]
    }
   ],
   "source": [
    "# Filter selected features \n",
    "X_method4 = X[X.columns[col]]\n",
    "\n",
    "print(X.columns[col])"
   ]
  },
  {
   "cell_type": "code",
   "execution_count": 35,
   "id": "1bc09d6c",
   "metadata": {},
   "outputs": [
    {
     "name": "stdout",
     "output_type": "stream",
     "text": [
      "[31.0142456  25.79278275 31.84611084 29.74856961 28.99930186 26.11951419\n",
      " 23.13348366 19.51563196 10.99759368 19.25866209]\n",
      "R^2: 0.7158\n"
     ]
    }
   ],
   "source": [
    "# fit/train model \n",
    "pipe.fit(X_method4, y)\n",
    "\n",
    "# predict labels \n",
    "y_pred4 = pipe.predict(X_method4)\n",
    "\n",
    "print(y_pred4[:10]) \n",
    "print(f'R^2: {pipe.score(X_method4, y):0.4}')\n",
    "r4 = pipe.score(X_method4, y)"
   ]
  },
  {
   "cell_type": "code",
   "execution_count": 36,
   "id": "79de2354",
   "metadata": {},
   "outputs": [
    {
     "data": {
      "text/plain": [
       "array([ 0.82321941, -2.16945087,  2.88617319, -2.40778286, -2.16874483,\n",
       "       -4.06526959])"
      ]
     },
     "execution_count": 36,
     "metadata": {},
     "output_type": "execute_result"
    }
   ],
   "source": [
    "# check the coefficients \n",
    "pipe['regressor'].coef_"
   ]
  },
  {
   "cell_type": "markdown",
   "id": "5bb34cf9",
   "metadata": {},
   "source": [
    "#### Method 5: SHAP\n",
    "\n",
    "SHAP (SHapley Additive exPlanations) is a game theoretic approach to explain the output of any machine learning model. It connects optimal credit allocation with local explanations using the classic Shapley values from game theory and their related extensions.\n",
    "\n",
    "Shapley values are a widely used approach from cooperative game theory that come with desirable properties and is the average marginal contribution of a feature value across all possible coalitions."
   ]
  },
  {
   "cell_type": "code",
   "execution_count": 37,
   "id": "751fb94a",
   "metadata": {},
   "outputs": [
    {
     "data": {
      "text/html": [
       "<style>#sk-container-id-2 {color: black;}#sk-container-id-2 pre{padding: 0;}#sk-container-id-2 div.sk-toggleable {background-color: white;}#sk-container-id-2 label.sk-toggleable__label {cursor: pointer;display: block;width: 100%;margin-bottom: 0;padding: 0.3em;box-sizing: border-box;text-align: center;}#sk-container-id-2 label.sk-toggleable__label-arrow:before {content: \"▸\";float: left;margin-right: 0.25em;color: #696969;}#sk-container-id-2 label.sk-toggleable__label-arrow:hover:before {color: black;}#sk-container-id-2 div.sk-estimator:hover label.sk-toggleable__label-arrow:before {color: black;}#sk-container-id-2 div.sk-toggleable__content {max-height: 0;max-width: 0;overflow: hidden;text-align: left;background-color: #f0f8ff;}#sk-container-id-2 div.sk-toggleable__content pre {margin: 0.2em;color: black;border-radius: 0.25em;background-color: #f0f8ff;}#sk-container-id-2 input.sk-toggleable__control:checked~div.sk-toggleable__content {max-height: 200px;max-width: 100%;overflow: auto;}#sk-container-id-2 input.sk-toggleable__control:checked~label.sk-toggleable__label-arrow:before {content: \"▾\";}#sk-container-id-2 div.sk-estimator input.sk-toggleable__control:checked~label.sk-toggleable__label {background-color: #d4ebff;}#sk-container-id-2 div.sk-label input.sk-toggleable__control:checked~label.sk-toggleable__label {background-color: #d4ebff;}#sk-container-id-2 input.sk-hidden--visually {border: 0;clip: rect(1px 1px 1px 1px);clip: rect(1px, 1px, 1px, 1px);height: 1px;margin: -1px;overflow: hidden;padding: 0;position: absolute;width: 1px;}#sk-container-id-2 div.sk-estimator {font-family: monospace;background-color: #f0f8ff;border: 1px dotted black;border-radius: 0.25em;box-sizing: border-box;margin-bottom: 0.5em;}#sk-container-id-2 div.sk-estimator:hover {background-color: #d4ebff;}#sk-container-id-2 div.sk-parallel-item::after {content: \"\";width: 100%;border-bottom: 1px solid gray;flex-grow: 1;}#sk-container-id-2 div.sk-label:hover label.sk-toggleable__label {background-color: #d4ebff;}#sk-container-id-2 div.sk-serial::before {content: \"\";position: absolute;border-left: 1px solid gray;box-sizing: border-box;top: 0;bottom: 0;left: 50%;z-index: 0;}#sk-container-id-2 div.sk-serial {display: flex;flex-direction: column;align-items: center;background-color: white;padding-right: 0.2em;padding-left: 0.2em;position: relative;}#sk-container-id-2 div.sk-item {position: relative;z-index: 1;}#sk-container-id-2 div.sk-parallel {display: flex;align-items: stretch;justify-content: center;background-color: white;position: relative;}#sk-container-id-2 div.sk-item::before, #sk-container-id-2 div.sk-parallel-item::before {content: \"\";position: absolute;border-left: 1px solid gray;box-sizing: border-box;top: 0;bottom: 0;left: 50%;z-index: -1;}#sk-container-id-2 div.sk-parallel-item {display: flex;flex-direction: column;z-index: 1;position: relative;background-color: white;}#sk-container-id-2 div.sk-parallel-item:first-child::after {align-self: flex-end;width: 50%;}#sk-container-id-2 div.sk-parallel-item:last-child::after {align-self: flex-start;width: 50%;}#sk-container-id-2 div.sk-parallel-item:only-child::after {width: 0;}#sk-container-id-2 div.sk-dashed-wrapped {border: 1px dashed gray;margin: 0 0.4em 0.5em 0.4em;box-sizing: border-box;padding-bottom: 0.4em;background-color: white;}#sk-container-id-2 div.sk-label label {font-family: monospace;font-weight: bold;display: inline-block;line-height: 1.2em;}#sk-container-id-2 div.sk-label-container {text-align: center;}#sk-container-id-2 div.sk-container {/* jupyter's `normalize.less` sets `[hidden] { display: none; }` but bootstrap.min.css set `[hidden] { display: none !important; }` so we also need the `!important` here to be able to override the default hidden behavior on the sphinx rendered scikit-learn.org. See: https://github.com/scikit-learn/scikit-learn/issues/21755 */display: inline-block !important;position: relative;}#sk-container-id-2 div.sk-text-repr-fallback {display: none;}</style><div id=\"sk-container-id-2\" class=\"sk-top-container\"><div class=\"sk-text-repr-fallback\"><pre>Pipeline(steps=[(&#x27;scaler&#x27;, StandardScaler()),\n",
       "                (&#x27;regressor&#x27;, LinearRegression())])</pre><b>In a Jupyter environment, please rerun this cell to show the HTML representation or trust the notebook. <br />On GitHub, the HTML representation is unable to render, please try loading this page with nbviewer.org.</b></div><div class=\"sk-container\" hidden><div class=\"sk-item sk-dashed-wrapped\"><div class=\"sk-label-container\"><div class=\"sk-label sk-toggleable\"><input class=\"sk-toggleable__control sk-hidden--visually\" id=\"sk-estimator-id-4\" type=\"checkbox\" ><label for=\"sk-estimator-id-4\" class=\"sk-toggleable__label sk-toggleable__label-arrow\">Pipeline</label><div class=\"sk-toggleable__content\"><pre>Pipeline(steps=[(&#x27;scaler&#x27;, StandardScaler()),\n",
       "                (&#x27;regressor&#x27;, LinearRegression())])</pre></div></div></div><div class=\"sk-serial\"><div class=\"sk-item\"><div class=\"sk-estimator sk-toggleable\"><input class=\"sk-toggleable__control sk-hidden--visually\" id=\"sk-estimator-id-5\" type=\"checkbox\" ><label for=\"sk-estimator-id-5\" class=\"sk-toggleable__label sk-toggleable__label-arrow\">StandardScaler</label><div class=\"sk-toggleable__content\"><pre>StandardScaler()</pre></div></div></div><div class=\"sk-item\"><div class=\"sk-estimator sk-toggleable\"><input class=\"sk-toggleable__control sk-hidden--visually\" id=\"sk-estimator-id-6\" type=\"checkbox\" ><label for=\"sk-estimator-id-6\" class=\"sk-toggleable__label sk-toggleable__label-arrow\">LinearRegression</label><div class=\"sk-toggleable__content\"><pre>LinearRegression()</pre></div></div></div></div></div></div></div>"
      ],
      "text/plain": [
       "Pipeline(steps=[('scaler', StandardScaler()),\n",
       "                ('regressor', LinearRegression())])"
      ]
     },
     "execution_count": 37,
     "metadata": {},
     "output_type": "execute_result"
    }
   ],
   "source": [
    "# 100 instances for use as the background distribution \n",
    "X100 = shap.utils.sample(X, 100, random_state=42) \n",
    "pipe.fit(X, y)"
   ]
  },
  {
   "cell_type": "code",
   "execution_count": 38,
   "id": "d8ba3a86",
   "metadata": {},
   "outputs": [
    {
     "name": "stderr",
     "output_type": "stream",
     "text": [
      "PermutationExplainer explainer: 507it [00:16, 14.33it/s]                                                               \n"
     ]
    }
   ],
   "source": [
    "# compute the SHAP values for the linear model \n",
    "explainer = shap.Explainer(pipe.predict, X100) \n",
    "shap_values = explainer(X)"
   ]
  },
  {
   "cell_type": "code",
   "execution_count": 39,
   "id": "764244d3",
   "metadata": {},
   "outputs": [
    {
     "data": {
      "image/png": "[encoded data removed]",
      "text/plain": [
       "<Figure size 800x670 with 2 Axes>"
      ]
     },
     "metadata": {},
     "output_type": "display_data"
    }
   ],
   "source": [
    "shap.plots.beeswarm(shap_values, max_display=20)"
   ]
  },
  {
   "cell_type": "markdown",
   "id": "753ff864",
   "metadata": {},
   "source": [
    "The above plot shows the feature importance of a linear model, where the variables are ranked in descending order and the horizontal location shows whether the effect of that value is associated with a higher or lower prediction.\n",
    "\n",
    "- Color shows whether that variable is high (in red) or low (in blue) for that observation.\n",
    "- A high level has a high and positive impact on the quality rating.\n",
    "- Impact is shown on the X-axis."
   ]
  },
  {
   "cell_type": "code",
   "execution_count": 40,
   "id": "cc769b95",
   "metadata": {},
   "outputs": [],
   "source": [
    "# Filter selected features \n",
    "X_method5 = X[['LSTAT', 'DIS', 'RM', 'PTRATIO', 'CRIM']]"
   ]
  },
  {
   "cell_type": "code",
   "execution_count": 41,
   "id": "bf0695a2",
   "metadata": {},
   "outputs": [
    {
     "name": "stdout",
     "output_type": "stream",
     "text": [
      "[31.63761273 25.5236182  32.0243847  30.38600726 29.5358719  26.50795486\n",
      " 23.71933951 19.96956586 10.8068779  20.1215183 ]\n",
      "R^2: 0.6958\n"
     ]
    }
   ],
   "source": [
    "# use those selected features into the linear regression\n",
    "# fit/train model \n",
    "pipe.fit(X_method5, y)\n",
    "\n",
    "# predict labels\n",
    "\n",
    "y_pred5 = pipe.predict(X_method5)\n",
    "\n",
    "print(y_pred5[:10]) \n",
    "print(f'R^2: {pipe.score(X_method5, y):0.4}')\n",
    "r5 = pipe.score(X_method5, y)"
   ]
  },
  {
   "cell_type": "markdown",
   "id": "88611270",
   "metadata": {},
   "source": [
    "## Comparison\n",
    "\n",
    "Given the boston housing dataset is a processed data, there seems to be no improvement in the score on feature reduction.\n",
    "\n",
    "Alternatively, one might split the data into train and test sets to study the impact of over or under fitting of the model. The Recursive Feature Elimination is closer to the original scoring with just six features while the impact of each of these features is explained by the SHAP values."
   ]
  },
  {
   "cell_type": "code",
   "execution_count": 56,
   "id": "16cdc22e",
   "metadata": {
    "scrolled": true
   },
   "outputs": [
    {
     "data": {
      "text/html": [
       "<div>\n",
       "<style scoped>\n",
       "    .dataframe tbody tr th:only-of-type {\n",
       "        vertical-align: middle;\n",
       "    }\n",
       "\n",
       "    .dataframe tbody tr th {\n",
       "        vertical-align: top;\n",
       "    }\n",
       "\n",
       "    .dataframe thead th {\n",
       "        text-align: right;\n",
       "    }\n",
       "</style>\n",
       "<table border=\"1\" class=\"dataframe\">\n",
       "  <thead>\n",
       "    <tr style=\"text-align: right;\">\n",
       "      <th></th>\n",
       "      <th>R_Squared</th>\n",
       "      <th>Improvement</th>\n",
       "    </tr>\n",
       "    <tr>\n",
       "      <th>Feature Selection Method</th>\n",
       "      <th></th>\n",
       "      <th></th>\n",
       "    </tr>\n",
       "  </thead>\n",
       "  <tbody>\n",
       "    <tr>\n",
       "      <th>Original</th>\n",
       "      <td>0.7406</td>\n",
       "      <td>NaN</td>\n",
       "    </tr>\n",
       "    <tr>\n",
       "      <th>VIF</th>\n",
       "      <td>0.6273</td>\n",
       "      <td>-0.152984</td>\n",
       "    </tr>\n",
       "    <tr>\n",
       "      <th>SelectKBest</th>\n",
       "      <td>0.6810</td>\n",
       "      <td>0.085605</td>\n",
       "    </tr>\n",
       "    <tr>\n",
       "      <th>RFE</th>\n",
       "      <td>0.7158</td>\n",
       "      <td>0.051101</td>\n",
       "    </tr>\n",
       "    <tr>\n",
       "      <th>RFECV</th>\n",
       "      <td>0.7158</td>\n",
       "      <td>0.000000</td>\n",
       "    </tr>\n",
       "    <tr>\n",
       "      <th>SHAP</th>\n",
       "      <td>0.6958</td>\n",
       "      <td>-0.027941</td>\n",
       "    </tr>\n",
       "  </tbody>\n",
       "</table>\n",
       "</div>"
      ],
      "text/plain": [
       "                          R_Squared  Improvement\n",
       "Feature Selection Method                        \n",
       "Original                     0.7406          NaN\n",
       "VIF                          0.6273    -0.152984\n",
       "SelectKBest                  0.6810     0.085605\n",
       "RFE                          0.7158     0.051101\n",
       "RFECV                        0.7158     0.000000\n",
       "SHAP                         0.6958    -0.027941"
      ]
     },
     "execution_count": 56,
     "metadata": {},
     "output_type": "execute_result"
    }
   ],
   "source": [
    "df_show = pd.DataFrame()\n",
    "df_show['Feature Selection Method'] = ['Original', \n",
    "                                       'VIF', \n",
    "                                       'SelectKBest', \n",
    "                                       'RFE', \n",
    "                                       'RFECV', \n",
    "                                       'SHAP']\n",
    "df_show['R_Squared'] = np.round([rbase, r1, r2, r3, r4, r5],4)\n",
    "df_show.index = df_show['Feature Selection Method']\n",
    "df_show = df_show.drop('Feature Selection Method', axis = 1)\n",
    "df_show['Improvement'] = df_show.R_Squared.pct_change()\n",
    "df_show"
   ]
  },
  {
   "cell_type": "markdown",
   "id": "33b0105d",
   "metadata": {},
   "source": [
    "# References\n",
    "\n",
    "* Scikit-learn features selection\n",
    "* SHAP documentation\n",
    "* Scikit-learn classes reference\n",
    "* Python resources"
   ]
  },
  {
   "cell_type": "code",
   "execution_count": null,
   "id": "7b9004a1",
   "metadata": {},
   "outputs": [],
   "source": []
  }
 ],
 "metadata": {
  "kernelspec": {
   "display_name": "Python 3 (ipykernel)",
   "language": "python",
   "name": "python3"
  },
  "language_info": {
   "codemirror_mode": {
    "name": "ipython",
    "version": 3
   },
   "file_extension": ".py",
   "mimetype": "text/x-python",
   "name": "python",
   "nbconvert_exporter": "python",
   "pygments_lexer": "ipython3",
   "version": "3.11.5"
  },
  "toc": {
   "base_numbering": 1,
   "nav_menu": {},
   "number_sections": true,
   "sideBar": true,
   "skip_h1_title": false,
   "title_cell": "Table of Contents",
   "title_sidebar": "Contents",
   "toc_cell": false,
   "toc_position": {},
   "toc_section_display": true,
   "toc_window_display": false
  }
 },
 "nbformat": 4,
 "nbformat_minor": 5
}
