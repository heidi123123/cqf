{
 "cells": [
  {
   "cell_type": "markdown",
   "id": "25b13871",
   "metadata": {},
   "source": [
    "# CQF Exam One\n",
    "\n",
    "## January 2024 Cohort"
   ]
  },
  {
   "cell_type": "code",
   "execution_count": 1,
   "id": "343c01d8",
   "metadata": {},
   "outputs": [],
   "source": [
    "import warnings\n",
    "import math\n",
    "import matplotlib.pyplot as plt\n",
    "import numpy as np\n",
    "import pandas as pd\n",
    "from scipy.stats import norm\n",
    "\n",
    "\n",
    "np.set_printoptions(precision=3)\n",
    "pd.set_option('display.precision', 4)\n",
    "warnings.filterwarnings('ignore')"
   ]
  },
  {
   "cell_type": "markdown",
   "id": "d704af03",
   "metadata": {},
   "source": [
    "## Question 1\n",
    "\n",
    "Let us define the notation to be as follows:\n",
    "\n",
    "$$R = \\begin{pmatrix}\n",
    "1 & 0.3 & 0.3 & 0.3 \\\\\n",
    "0.3 & 1 & 0.6 & 0.6 \\\\\n",
    "0.3 & 0.6 & 1 & 0.6 \\\\\n",
    "0.3 & 0.6 & 0.6 & 1\n",
    "\\end{pmatrix}, \\quad\n",
    "\\mathbb{1} = \\begin{pmatrix}\n",
    "1 \\\\\n",
    "1 \\\\\n",
    "1 \\\\\n",
    "1\n",
    "\\end{pmatrix}, \\quad\n",
    "\\mu = \\begin{pmatrix}\n",
    "0.02 \\\\\n",
    "0.07 \\\\\n",
    "0.15 \\\\\n",
    "0.20\n",
    "\\end{pmatrix}, \\quad\n",
    "\\sigma = \\begin{pmatrix}\n",
    "0.05 \\\\\n",
    "0.12 \\\\\n",
    "0.17 \\\\\n",
    "0.25\n",
    "\\end{pmatrix}, \\quad\n",
    "S = \\begin{pmatrix}\n",
    "0.05 & 0 & 0 & 0 \\\\\n",
    "0 & 0.12 & 0 & 0 \\\\\n",
    "0 & 0 & 0.17 & 0 \\\\\n",
    "0 & 0 & 0 & 0.25\n",
    "\\end{pmatrix}, \\quad\n",
    "w = \\begin{pmatrix}\n",
    "w_1 \\\\\n",
    "w_2 \\\\\n",
    "w_3 \\\\\n",
    "w_4\n",
    "\\end{pmatrix}\n",
    "$$\n",
    "\n",
    "where $\\sum_{i=1}^{4} w_i = 1$."
   ]
  },
  {
   "cell_type": "markdown",
   "id": "39d0fa76",
   "metadata": {},
   "source": [
    "## Question 1.1\n",
    "Consider the min-variance-portfolio with target return $m$."
   ]
  },
  {
   "cell_type": "markdown",
   "id": "65ee462e",
   "metadata": {},
   "source": [
    "**1.1.1**: The Langrangian for this problem is defined by\n",
    "$$L(w, \\lambda, \\gamma) = \\frac{1}{2}w^T \\Sigma w + \\lambda \\left(m - w^T \\mu\\right) + \\gamma\\left(1-w^T\\mathbb{1}\\right)$$,\n",
    "where $\\Sigma = SRS$.\n",
    "The partial derivatives are given by\n",
    "$$\\frac{\\partial L}{\\partial w}=\\Sigma w -\\lambda\\mu - \\gamma\\mathbb{1}$$\n",
    "\n",
    "$$\\frac{\\partial L}{\\partial \\lambda}=m - w^T \\mu$$\n",
    "\n",
    "$$\\frac{\\partial L}{\\partial \\gamma}=1 - w^T \\mathbb{1}$$."
   ]
  },
  {
   "cell_type": "markdown",
   "id": "3b1e0b85",
   "metadata": {},
   "source": [
    "**1.1.2**: The optimal weight allocation vector $w^*$ (derived on sl. 66/142 ff. of the lecture notes \"Fundamentals of Optimimization and Application to Portfolio Selection\") is given by\n",
    "\n",
    "$$w^*=\\Sigma^{-1}\\left(\\lambda\\mu+\\gamma\\mathbb{1}\\right)$$,\n",
    "\n",
    "where\n",
    "$\\lambda = \\frac{Am-B}{AC-B^2}, \\gamma = \\frac{C-Bm}{AC-B^2}$\n",
    "for the real numbers\n",
    "$A=\\mathbb{1}^T\\Sigma^{-1}\\mathbb{1}, B=\\mu^T\\Sigma^{-1}\\mathbb{1}=\\mathbb{1}^T\\Sigma^{-1}\\mu, C=\\mu^T\\Sigma^{-1}\\mu$.\n",
    "\n",
    "$w^*$ can then also be written as\n",
    "\n",
    "$$w^*=\\frac{1}{AC-B^2}\\Sigma^{-1}\\left[\\left(A\\mu-B\\mathbb{1}\\right)m+C\\mathbb{1}-B\\mu\\right]$$."
   ]
  },
  {
   "cell_type": "markdown",
   "id": "91923408",
   "metadata": {},
   "source": [
    "**1.1.3**: Computing $w^*$ and $\\sigma_\\Pi=\\sqrt{w^T\\Sigma w}$ for $m=4.5\\%$:"
   ]
  },
  {
   "cell_type": "markdown",
   "id": "a06ed795",
   "metadata": {},
   "source": [
    "First, let us calculate $w^*$ using Python Numpy."
   ]
  },
  {
   "cell_type": "code",
   "execution_count": 2,
   "id": "08b50e9d",
   "metadata": {},
   "outputs": [
    {
     "data": {
      "text/plain": [
       "array([[0.014, 0.004, 0.005, 0.007],\n",
       "       [0.004, 0.014, 0.011, 0.014],\n",
       "       [0.005, 0.011, 0.022, 0.018],\n",
       "       [0.007, 0.014, 0.018, 0.04 ]])"
      ]
     },
     "execution_count": 2,
     "metadata": {},
     "output_type": "execute_result"
    }
   ],
   "source": [
    "mu = np.array([[0.08, 0.10, 0.10, 0.14]]).T\n",
    "ones = np.ones((4, 1))\n",
    "std_dev = np.array([0.12, 0.12, 0.15, 0.20]).T\n",
    "R = np.array([[1, 0.3, 0.3, 0.3],\n",
    "              [0.3, 1, 0.6, 0.6],\n",
    "              [0.3, 0.6, 1, 0.6],\n",
    "              [0.3, 0.6, 0.6, 1]])\n",
    "\n",
    "def get_covariance_matrix(rho):\n",
    "    return np.outer(std_dev, std_dev) * rho  # this is the same like std_dev * std_dev^T if std_dev is a column vector\n",
    "\n",
    "\n",
    "def get_inverse_covariance_matrix(covariance):\n",
    "    try:\n",
    "        return np.linalg.inv(covariance)\n",
    "    except np.linalg.LinAlgError as exc:\n",
    "        print(f\"Covariance matrix not invertible: {exc}\")\n",
    "\n",
    "\n",
    "def get_a_b_c(covariance_inv):  # slide 68\n",
    "    a = np.linalg.multi_dot([ones.T, covariance_inv, ones])\n",
    "    b = np.linalg.multi_dot([mu.T, covariance_inv, ones])\n",
    "    c = np.linalg.multi_dot([mu.T, covariance_inv, mu])\n",
    "    return a.item(), b.item(), c.item()  # item converts the np.array elements back into scalars\n",
    "\n",
    "\n",
    "def get_optimized_weights(rho, target_return):  # sl. 69\n",
    "    covariance = get_covariance_matrix(rho)\n",
    "    covariance_inv = get_inverse_covariance_matrix(covariance)\n",
    "    a, b, c = get_a_b_c(covariance_inv)\n",
    "    optimized_weights = np.dot(covariance_inv, (a * mu - b * ones) * target_return + c * ones - b * mu)\n",
    "    return optimized_weights / sum(optimized_weights)  # normalize weights so they sum up to 1\n",
    "\n",
    "\n",
    "cov = get_covariance_matrix(R)\n",
    "cov"
   ]
  },
  {
   "cell_type": "code",
   "execution_count": 3,
   "id": "8bc0e840",
   "metadata": {},
   "outputs": [
    {
     "data": {
      "text/plain": [
       "array([[ 79.159, -10.794,  -8.636,  -6.477],\n",
       "       [-10.794, 127.735, -36.701, -27.526],\n",
       "       [ -8.636, -36.701,  81.75 , -22.021],\n",
       "       [ -6.477, -27.526, -22.021,  45.984]])"
      ]
     },
     "execution_count": 3,
     "metadata": {},
     "output_type": "execute_result"
    }
   ],
   "source": [
    "cov_inv = get_inverse_covariance_matrix(cov)\n",
    "cov_inv"
   ]
  },
  {
   "cell_type": "code",
   "execution_count": 4,
   "id": "2c0e5dad",
   "metadata": {},
   "outputs": [],
   "source": [
    "weights = get_optimized_weights(R, 0.045)"
   ]
  },
  {
   "cell_type": "code",
   "execution_count": 5,
   "id": "5f0b9976",
   "metadata": {
    "scrolled": true
   },
   "outputs": [
    {
     "name": "stdout",
     "output_type": "stream",
     "text": [
      "The weight allocation vector is\n",
      "[[ 0.975]\n",
      " [ 0.558]\n",
      " [ 0.355]\n",
      " [-0.888]].\n"
     ]
    }
   ],
   "source": [
    "print(f\"The weight allocation vector is\\n{weights}.\")"
   ]
  },
  {
   "cell_type": "markdown",
   "id": "b56b552b",
   "metadata": {},
   "source": [
    "For the portfolio risk  $\\sigma_\\Pi=\\sqrt{w^T\\Sigma w}$, we obtain:"
   ]
  },
  {
   "cell_type": "code",
   "execution_count": 6,
   "id": "de42487b",
   "metadata": {},
   "outputs": [
    {
     "name": "stdout",
     "output_type": "stream",
     "text": [
      "The portfolio risk equals 0.1648132614178332.\n"
     ]
    }
   ],
   "source": [
    "sigma_pf = np.sqrt(np.linalg.multi_dot([np.transpose(weights), cov, weights]).item())\n",
    "print(f\"The portfolio risk equals {sigma_pf}.\")"
   ]
  },
  {
   "cell_type": "markdown",
   "id": "e3e07a82",
   "metadata": {},
   "source": [
    "## Question 1.2\n",
    "Calculate + plot portfolio risk and return for 700 random weight vectors."
   ]
  },
  {
   "cell_type": "code",
   "execution_count": 7,
   "id": "f3aa8d0f",
   "metadata": {},
   "outputs": [],
   "source": [
    "def generate_random_weights(number_of_assets, sample_size):\n",
    "    # generate a matrix with random weights of dimensions (number_of_assets) x (sample_size)\n",
    "    random_weights = np.random.rand(number_of_assets, sample_size)\n",
    "    # ensure the weights (column vectors of the matrix) all sum up to one by normalizing the last row of the matrix\n",
    "    random_weights[(number_of_assets-1), :] = 1 - random_weights[:(number_of_assets-1), :].sum(axis=0)\n",
    "    return random_weights\n",
    "\n",
    "\n",
    "def get_pf_risk_and_return(covariance_matrix, weights, mu):\n",
    "    pf_risk = np.sqrt(np.linalg.multi_dot([weights.T, covariance_matrix, weights]).item())\n",
    "    pf_return = np.dot(weights.T, mu)\n",
    "    return pf_risk, pf_return\n",
    "\n",
    "\n",
    "def calculate_efficient_frontier(rho, covariance_matrix, target_returns, mu):\n",
    "    pf_risks_ef = []\n",
    "    pf_returns_ef = []\n",
    "    for target_return in target_returns:\n",
    "        optimized_weight = get_optimized_weights(rho, target_return)\n",
    "        pf_risk_ef, pf_return_ef = get_pf_risk_and_return(covariance_matrix, optimized_weight, mu)\n",
    "        pf_risks_ef.append(pf_risk_ef)\n",
    "        pf_returns_ef.append(pf_return_ef)\n",
    "    return pf_risks_ef, pf_returns_ef"
   ]
  },
  {
   "cell_type": "code",
   "execution_count": 8,
   "id": "c2c44086",
   "metadata": {},
   "outputs": [],
   "source": [
    "# sample size\n",
    "N = 700\n",
    "number_of_assets = 4"
   ]
  },
  {
   "cell_type": "code",
   "execution_count": 9,
   "id": "ed53050e",
   "metadata": {},
   "outputs": [
    {
     "data": {
      "image/png": "[encoded data removed]",
      "text/plain": [
       "<Figure size 1000x800 with 1 Axes>"
      ]
     },
     "metadata": {},
     "output_type": "display_data"
    }
   ],
   "source": [
    "# calculate necessary plot arguments\n",
    "random_weights = generate_random_weights(number_of_assets, N)\n",
    "pf_risks = np.zeros(N)\n",
    "pf_returns = np.zeros(N)\n",
    "sharpe_ratio = 0.\n",
    "k_tangency = -1\n",
    "global_min_risk = 1000.\n",
    "k_global_min_risk = -1\n",
    "\n",
    "# calculate portfolio risk and returns, tangency pf + GMVP\n",
    "for k in range(N):\n",
    "    weights = random_weights[:, k]\n",
    "    pf_risks[k], pf_returns[k] = get_pf_risk_and_return(cov, weights, mu)\n",
    "    ratio = pf_returns[k] / pf_risks[k]\n",
    "    if ratio > sharpe_ratio:\n",
    "        sharpe_ratio = ratio\n",
    "        k_tangency = k\n",
    "    if pf_risks[k] < global_min_risk:\n",
    "        global_min_risk = pf_risks[k]\n",
    "        k_global_min_risk = k\n",
    "\n",
    "# calculate the efficient frontier\n",
    "ef_number_of_points = 100\n",
    "target_returns = np.linspace(pf_returns[k_global_min_risk], 0.2, ef_number_of_points)\n",
    "pf_risks_ef, pf_returns_ef = calculate_efficient_frontier(R, cov, target_returns, mu)\n",
    "\n",
    "\n",
    "# plot\n",
    "plt.figure(figsize=(10, 8))\n",
    "plt.plot(np.reshape(pf_risks_ef, (ef_number_of_points, )), np.reshape(pf_returns_ef, (ef_number_of_points, )),\n",
    "color=\"green\", label=\"Efficient Frontier\", linewidth=3, zorder=6)\n",
    "plt.scatter(x=pf_risks, y=pf_returns, marker=\"o\", s=15, zorder=5)\n",
    "plt.scatter(x=pf_risks[k_tangency], y=pf_returns[k_tangency],\n",
    "            marker=\"*\", color=\"red\", s=300, label=\"Tangency Portfolio for R=0\", zorder=10)\n",
    "plt.scatter(x=pf_risks[k_global_min_risk], y=pf_returns[k_global_min_risk],\n",
    "            marker=\"*\", color=\"black\", s=300, label=\"Global Minimum Variance Portfolio\", zorder=9)\n",
    "plt.xlabel(\"Portfolio risk sigma\")\n",
    "plt.ylabel(\"Portfolio returns mu\")\n",
    "plt.legend()\n",
    "plt.show()\n"
   ]
  },
  {
   "cell_type": "markdown",
   "id": "3111bf3c",
   "metadata": {},
   "source": [
    "_Discussion of above plot:_ Above plot displays all 700 coordinates of (x/y) = (portfolio_risk / portfolio_return) in a scatter plot. As a result, we see a hyperbola for the opportunity set of our four risky assets. As the weights were randomly generated, we can see that some of the random portfolio allocations do not make much sense economically, because one could choose a more optimal weight allocation of assets 1, 2, 3 and 4 with less risk at the same return (along horizontal lines of the plot) or same risk with more return (along vertical lines of the plot).\n",
    "\n",
    "I have also marked the portfolio with the best risk-to-return ratio with a red star and the portfolio coresponding to the least risky weight allocation with a black star (global minimum variance portfolio). The black one is the left-most point of all scattered coordinates.\n",
    "\n",
    "The black star point can be seen as the starting point (left-most point) of the efficient frontier line, which is the asymptotic line on the upper half of the hyperbola where the risk profile is always optimized for any given return (or vice versa). This line is also plotted in green."
   ]
  },
  {
   "cell_type": "markdown",
   "id": "14ab4f0d",
   "metadata": {},
   "source": [
    "## Question 2 - VaR + ES\n"
   ]
  },
  {
   "cell_type": "markdown",
   "id": "be50b92f",
   "metadata": {},
   "source": [
    "Denote the vector of partial derivatives by\n",
    "\n",
    "$$\\frac{\\partial\\text{VaR}(w)}{\\partial w} = \\begin{pmatrix}\n",
    "\\frac{\\partial\\text{VaR}(w)}{\\partial w_1},\n",
    "\\frac{\\partial\\text{VaR}(w)}{\\partial w_2},\n",
    "\\frac{\\partial\\text{VaR}(w)}{\\partial w_3}\n",
    "\\end{pmatrix}^T, \\quad\n",
    "\\frac{\\partial\\text{ES}(w)}{\\partial w} = \\begin{pmatrix}\n",
    "\\frac{\\partial\\text{ES}(w)}{\\partial w_1},\n",
    "\\frac{\\partial\\text{ES}(w)}{\\partial w_2},\n",
    "\\frac{\\partial\\text{ES}(w)}{\\partial w_3}\n",
    "\\end{pmatrix}^T.\n",
    "$$"
   ]
  },
  {
   "cell_type": "code",
   "execution_count": 10,
   "id": "3898d8a5",
   "metadata": {},
   "outputs": [],
   "source": [
    "# Define all vector + matrices\n",
    "mu = np.array([[0., 0., 0.]]).T\n",
    "std_dev = np.array([0.3, 0.2, 0.15]).T\n",
    "w = np.array([[0.5, 0.2, 0.3]]).T\n",
    "rho = np.array([[1, 0.8, 0.5],\n",
    "                [0.8, 1, 0.3],\n",
    "                [0.5, 0.3, 1]])\n",
    "\n",
    "# Calculating covariance\n",
    "covariance = np.outer(std_dev, std_dev) * rho\n",
    "\n",
    "# Confidence level\n",
    "alpha = 0.99\n",
    "factor = norm.ppf(1 - alpha)\n",
    "\n",
    "# Calculating VaR\n",
    "var = np.dot(w.T, mu) + np.dot(np.dot(factor, covariance), w) / np.sqrt(np.dot(np.dot(w.T, covariance), w))\n",
    "\n",
    "# Calculating ES\n",
    "es = np.dot(w.T, mu) - np.dot(np.dot(norm.pdf(factor), covariance), w) / (np.dot((1 - alpha), np.sqrt(np.dot(np.dot(w.T, covariance), w))))"
   ]
  },
  {
   "cell_type": "markdown",
   "id": "b26e77b6",
   "metadata": {},
   "source": [
    "Then, $\\frac{\\partial\\text{VaR}(w)}{\\partial w}$ and $\\frac{\\partial\\text{ES}(w)}{\\partial w}$ equal"
   ]
  },
  {
   "cell_type": "code",
   "execution_count": 11,
   "id": "81f710b9",
   "metadata": {},
   "outputs": [
    {
     "data": {
      "text/plain": [
       "array([[-0.684],\n",
       "       [-0.387],\n",
       "       [-0.221]])"
      ]
     },
     "execution_count": 11,
     "metadata": {},
     "output_type": "execute_result"
    }
   ],
   "source": [
    "var"
   ]
  },
  {
   "cell_type": "code",
   "execution_count": 12,
   "id": "8d3178f6",
   "metadata": {},
   "outputs": [
    {
     "data": {
      "text/plain": [
       "array([[-0.783],\n",
       "       [-0.443],\n",
       "       [-0.253]])"
      ]
     },
     "execution_count": 12,
     "metadata": {},
     "output_type": "execute_result"
    }
   ],
   "source": [
    "es"
   ]
  },
  {
   "cell_type": "markdown",
   "id": "58096b36",
   "metadata": {},
   "source": [
    "## Question 3 - Binomial Model\n",
    "\n",
    "Implement the multi-step binomial model with parameters $S=100, r=0.05$ continuously compounded for a European call option with strike $E=100$, maturity $T=1$."
   ]
  },
  {
   "cell_type": "markdown",
   "id": "a28df633",
   "metadata": {},
   "source": [
    "**3.1**: A suitable parametrizatio for $uS, vS$ using continuously compunded interest can be defined as\n",
    "$$uS = \\exp(\\sigma\\sqrt{\\delta t}) S,$$\n",
    "$$vS = \\exp(-\\sigma\\sqrt{\\delta t}) S.$$"
   ]
  },
  {
   "cell_type": "markdown",
   "id": "12db8de7",
   "metadata": {},
   "source": [
    "**3.2**: Following codes will be using (adjusted) snippets from the Python lab about Binomial Models, as well as make use of the knowledge gained from the lecture on Binomial Models"
   ]
  },
  {
   "cell_type": "code",
   "execution_count": 13,
   "id": "bcad217b",
   "metadata": {},
   "outputs": [],
   "source": [
    "# specify the required variables\n",
    "S = 100\n",
    "r = 0.05\n",
    "E = 100\n",
    "T = 1"
   ]
  },
  {
   "cell_type": "code",
   "execution_count": 14,
   "id": "6b9604b0",
   "metadata": {},
   "outputs": [],
   "source": [
    "# From Python Labs with Kannan, slightly adapted\n",
    "# Create a user defined function\n",
    "def binomial_option(spot: float, strike: float, rate: float, sigma: float, time: float, steps: int,\n",
    "                    output: int = 0) -> np.ndarray:\n",
    "    \"\"\"\n",
    "    binomial_option(spot, strike, rate, sigma, time, steps, output=0)\n",
    "    Function for building binomial option tree for european call option payoff\n",
    "    Params\n",
    "    ------\n",
    "    spot int or float - spot price\n",
    "    strike int or float - strike price\n",
    "    rate float - interest rate\n",
    "    sigma float - volatility\n",
    "    time int or float - expiration time\n",
    "    steps int - number of trees\n",
    "    output int - [0: price, 1: payoff, 2: option value, 3: option delta]\n",
    "    Returns\n",
    "    -------\n",
    "    out: ndarray\n",
    "    An array object of price, payoff, option value and delta specified by the output parameter\n",
    "    \"\"\"\n",
    "\n",
    "    # params\n",
    "    dt = time / steps\n",
    "    u = np.exp(sigma * np.sqrt(dt))\n",
    "    v = np.exp(-sigma * np.sqrt(dt))\n",
    "    p = 0.5 + rate * np.sqrt(dt) / (2 * sigma)\n",
    "    df = np.exp(-r * dt)\n",
    "\n",
    "    # initialize arrays\n",
    "\n",
    "    px = np.zeros((steps + 1, steps + 1))  # creates quadratic matrix of dimension steps+1 x steps+1 for the price\n",
    "    cp = np.zeros((steps + 1, steps + 1))  # for call payoff\n",
    "    V = np.zeros((steps + 1, steps + 1))  # for option price\n",
    "    d = np.zeros((steps + 1, steps + 1))  # for delta\n",
    "    # binomial loop\n",
    "    # forward loop\n",
    "    for j in range(steps + 1):\n",
    "        for i in range(j + 1):\n",
    "            px[i, j] = spot * np.power(v, i) * np.power(u, j - i)  # create asset path here\n",
    "            cp[i, j] = np.maximum(px[i, j] - strike, 0)\n",
    "    # reverse loop\n",
    "    for j in range(steps + 1, 0, -1):\n",
    "        for i in range(j):\n",
    "            if j == steps + 1:  # the end of the tree (i.e. if reversed loop, technically the beginning)\n",
    "                V[i, j - 1] = cp[i, j - 1]\n",
    "                d[i, j - 1] = 0  # delta\n",
    "            else:\n",
    "                V[i, j - 1] = df * (p * V[i, j] + (1 - p) * V[i + 1, j])\n",
    "                d[i, j - 1] = (V[i, j] - V[i + 1, j]) / (px[i, j] - px[i + 1, j])\n",
    "\n",
    "    results = np.around(px, 2), np.around(cp, 2), np.around(V, 2), np.around(d, 4)\n",
    "    return results[output]"
   ]
  },
  {
   "cell_type": "code",
   "execution_count": 15,
   "id": "1f175210",
   "metadata": {},
   "outputs": [
    {
     "data": {
      "image/png": "[encoded data removed]",
      "text/plain": [
       "<Figure size 1000x800 with 1 Axes>"
      ]
     },
     "metadata": {},
     "output_type": "display_data"
    }
   ],
   "source": [
    "# Option value is given by argument 2 as described in docstring\n",
    "vols = np.linspace(0.05, 0.80, 100)\n",
    "opt_values = []\n",
    "time_steps = 10\n",
    "# Calculate vector containing all option values for a given standard deviation\n",
    "for vol in vols:\n",
    "    sigma = np.sqrt(vol)\n",
    "    opt_values.append(binomial_option(S, E, r, sigma, T, time_steps, 2)[0, 0])\n",
    "\n",
    "# plot\n",
    "plt.figure(figsize=(10, 8))\n",
    "plt.scatter(x=vols, y=opt_values, marker=\"o\", s=10)\n",
    "plt.plot(vols, opt_values)  # line to connect the scatter plot\n",
    "plt.xlabel(\"Volatility\")\n",
    "plt.ylabel(\"Option Value\")\n",
    "plt.title(f\"European call option value\\nS={S}, K={E}, T={T}, multi-step binomial model with #TimeSteps = {time_steps}\")\n",
    "plt.show()"
   ]
  },
  {
   "cell_type": "markdown",
   "id": "15f6198f",
   "metadata": {},
   "source": [
    "**3.3**: As the time steps increase up to $50$ time steps, we observe convergence of the option value."
   ]
  },
  {
   "cell_type": "code",
   "execution_count": 16,
   "id": "3770412b",
   "metadata": {},
   "outputs": [
    {
     "data": {
      "image/png": "[encoded data removed]",
      "text/plain": [
       "<Figure size 1000x800 with 1 Axes>"
      ]
     },
     "metadata": {},
     "output_type": "display_data"
    }
   ],
   "source": [
    "sigma = 0.2\n",
    "opt_values = []\n",
    "\n",
    "for time_steps in range(4, 50+1):\n",
    "    opt_values.append(binomial_option(S, E, r, sigma, T, time_steps, 2)[0, 0])\n",
    "\n",
    "# plot\n",
    "plt.figure(figsize=(10, 8))\n",
    "plt.plot(range(4, 50+1), opt_values)\n",
    "plt.xlabel(\"#TimeSteps\")\n",
    "plt.ylabel(\"Option Value\")\n",
    "plt.title(f\"European call option value\\nS={S}, K={E}, sigma={sigma}, multi-step binomial model with #TimeSteps = {time_steps}\")\n",
    "plt.show()"
   ]
  },
  {
   "cell_type": "markdown",
   "id": "bd3fb6d2",
   "metadata": {},
   "source": [
    "## Question 4.1 - VaR + ES:\n",
    "Derive a formula for $\\text{ES}_c(X)$ for $X\\sim\\mathcal{N}(\\mu,\\sigma^2)$."
   ]
  },
  {
   "cell_type": "markdown",
   "id": "124d447e",
   "metadata": {},
   "source": [
    "$$\n",
    "\\text{ES}_c(X)  = \\mathbb{E}\\left[X|X\\leq\\text{VaR}_c(X)\\right]\\\\\n",
    "=\\frac{1}{1-c}\\int_{c}^{1}\\text{VaR}_u(X)du\\\\\n",
    "= \\frac{1}{1-c}\\int_{c}^{1}\\mu+\\sigma\\cdot\\underbrace{\\Phi^{-1}(1-u)}_{=-\\Phi(u)}du\\\\\n",
    "= \\frac{1}{1-c}\\left(\\mu\\cdot(1-c)-\\sigma\\int_{c}^{1}\\Phi^{-1}(u)du\\right)\\\\\n",
    "= \\mu-\\frac{\\sigma}{1-c}\\int_{c}^{1}\\Phi^{-1}(u)du\\\\\n",
    "\\overset{*}{=} \\mu-\\frac{\\sigma}{1-c}\\int_{\\Phi^{-1}(c)}^{\\Phi^{-1}(1)}\\Phi^{-1}(\\Phi(z))\\phi(z)dz\\\\\n",
    "= \\mu-\\frac{\\sigma}{1-c}\\int_{\\Phi^{-1}(c)}^{\\infty}z\\cdot\\phi(z)dz\\\\\n",
    "= \\mu-\\frac{\\sigma}{1-c}\\int_{\\Phi^{-1}(c)}^{\\infty}z\\cdot\\exp\\left(\\frac{-z^2}{2}\\right)dz\\\\\n",
    "= \\mu-\\frac{\\sigma}{1-c}\\left[-\\exp\\left(\\frac{-z^2}{2}\\right)\\right]_{\\Phi^{-1}(c)}^{\\infty}\\\\\n",
    "= \\mu-\\frac{\\sigma}{1-c}\\Bigg(-0+\\underbrace{\\exp\\left(\\frac{-\\Phi^{-1}(c)^2}{2}\\right)}_{=\\phi(\\Phi^{-1}(c))}\\Bigg)\n",
    "= \\mu-\\frac{\\sigma}{1-c}\\phi\\left(\\Phi^{-1}(c)\\right)\n",
    "$$\n",
    "\n",
    "\n",
    "where $*$ used the transformation $u=\\Phi(z), du=\\phi(z)dz$\n"
   ]
  },
  {
   "cell_type": "markdown",
   "id": "39e82cb9",
   "metadata": {},
   "source": [
    "Note that the last term can also be written as\n",
    "$$\\mu-\\frac{\\sigma}{1-c}\\phi\\left(\\Phi^{-1}(c)\\right) = \\mu+\\frac{\\sigma}{1-c}\\phi\\left(\\Phi^{-1}(1-c)\\right),$$ which is closer to what is given in question 4.2 below, but still with a sign flip for the second part of the formula. Depending on conventions whether a loss is defined as negative or positive, the formulas for ES and VaR could differ slightly.\n",
    "\n",
    "One could refer to a loss as \"-1000 USD\", but one could also refer to the same loss as \"a loss of 1000 USD\" with a positive sign. This can sometimes be confusing when reading literature, comparing lecture notes (Module 2, Lecture on VaR + ES, e.g. slide 39), exercise sheets for the same lecture, or exam formula from question 4.2 below."
   ]
  },
  {
   "cell_type": "markdown",
   "id": "b1890859",
   "metadata": {},
   "source": [
    "## Question 4.2 - ES\n",
    "\n",
    "Compute ES for a range of percentiles [99.95; 99.75; 99.5; 99.25; 99; 98.5; 98; 97.5]."
   ]
  },
  {
   "cell_type": "code",
   "execution_count": 17,
   "id": "e3686c97",
   "metadata": {},
   "outputs": [
    {
     "data": {
      "text/html": [
       "<div>\n",
       "<style scoped>\n",
       "    .dataframe tbody tr th:only-of-type {\n",
       "        vertical-align: middle;\n",
       "    }\n",
       "\n",
       "    .dataframe tbody tr th {\n",
       "        vertical-align: top;\n",
       "    }\n",
       "\n",
       "    .dataframe thead th {\n",
       "        text-align: right;\n",
       "    }\n",
       "</style>\n",
       "<table border=\"1\" class=\"dataframe\">\n",
       "  <thead>\n",
       "    <tr style=\"text-align: right;\">\n",
       "      <th></th>\n",
       "      <th>Percentile</th>\n",
       "      <th>Expected Shortfall for X~N(mu, sigma^2)</th>\n",
       "      <th>Expected Shortfall for X~N(0, 1)</th>\n",
       "    </tr>\n",
       "  </thead>\n",
       "  <tbody>\n",
       "    <tr>\n",
       "      <th>0</th>\n",
       "      <td>99.95</td>\n",
       "      <td>mu - sigma * 3.5543806938542857</td>\n",
       "      <td>-3.5544</td>\n",
       "    </tr>\n",
       "    <tr>\n",
       "      <th>1</th>\n",
       "      <td>99.75</td>\n",
       "      <td>mu - sigma * 3.104357363203606</td>\n",
       "      <td>-3.1044</td>\n",
       "    </tr>\n",
       "    <tr>\n",
       "      <th>2</th>\n",
       "      <td>99.50</td>\n",
       "      <td>mu - sigma * 2.8919486053834813</td>\n",
       "      <td>-2.8919</td>\n",
       "    </tr>\n",
       "    <tr>\n",
       "      <th>3</th>\n",
       "      <td>99.25</td>\n",
       "      <td>mu - sigma * 2.761239803172472</td>\n",
       "      <td>-2.7612</td>\n",
       "    </tr>\n",
       "    <tr>\n",
       "      <th>4</th>\n",
       "      <td>99.00</td>\n",
       "      <td>mu - sigma * 2.665214220345806</td>\n",
       "      <td>-2.6652</td>\n",
       "    </tr>\n",
       "    <tr>\n",
       "      <th>5</th>\n",
       "      <td>98.50</td>\n",
       "      <td>mu - sigma * 2.5246953986002407</td>\n",
       "      <td>-2.5247</td>\n",
       "    </tr>\n",
       "    <tr>\n",
       "      <th>6</th>\n",
       "      <td>98.00</td>\n",
       "      <td>mu - sigma * 2.4209067940371014</td>\n",
       "      <td>-2.4209</td>\n",
       "    </tr>\n",
       "    <tr>\n",
       "      <th>7</th>\n",
       "      <td>97.50</td>\n",
       "      <td>mu - sigma * 2.3378027922014133</td>\n",
       "      <td>-2.3378</td>\n",
       "    </tr>\n",
       "  </tbody>\n",
       "</table>\n",
       "</div>"
      ],
      "text/plain": [
       "   Percentile Expected Shortfall for X~N(mu, sigma^2)  \\\n",
       "0       99.95         mu - sigma * 3.5543806938542857   \n",
       "1       99.75          mu - sigma * 3.104357363203606   \n",
       "2       99.50         mu - sigma * 2.8919486053834813   \n",
       "3       99.25          mu - sigma * 2.761239803172472   \n",
       "4       99.00          mu - sigma * 2.665214220345806   \n",
       "5       98.50         mu - sigma * 2.5246953986002407   \n",
       "6       98.00         mu - sigma * 2.4209067940371014   \n",
       "7       97.50         mu - sigma * 2.3378027922014133   \n",
       "\n",
       "   Expected Shortfall for X~N(0, 1)  \n",
       "0                           -3.5544  \n",
       "1                           -3.1044  \n",
       "2                           -2.8919  \n",
       "3                           -2.7612  \n",
       "4                           -2.6652  \n",
       "5                           -2.5247  \n",
       "6                           -2.4209  \n",
       "7                           -2.3378  "
      ]
     },
     "execution_count": 17,
     "metadata": {},
     "output_type": "execute_result"
    }
   ],
   "source": [
    "percentiles = [99.95, 99.75, 99.5, 99.25, 99, 98.5, 98, 97.5]\n",
    "es_normal = []\n",
    "es_std_normal = []\n",
    "\n",
    "\n",
    "def get_factor_for_es(alpha):\n",
    "    return norm.pdf(norm.ppf(1 - alpha)) / (1 - alpha)\n",
    "\n",
    "\n",
    "def get_es(alpha, mu, sigma):\n",
    "    # calculates Expected Shortfall for confidence level alpha for a r.v. X~N(mu, sigma^2)\n",
    "    return mu - sigma * get_factor_for_es(alpha)\n",
    "\n",
    "\n",
    "for percentile in percentiles:\n",
    "    es_normal.append(f\"mu - sigma * {get_factor_for_es(percentile / 100)}\")\n",
    "    es_std_normal.append(get_es(percentile / 100, 0, 1))\n",
    "\n",
    "df = pd.DataFrame({\n",
    "    'Percentile': percentiles,\n",
    "    'Expected Shortfall for X~N(mu, sigma^2)': es_normal,\n",
    "    'Expected Shortfall for X~N(0, 1)': es_std_normal\n",
    "})\n",
    "\n",
    "df"
   ]
  },
  {
   "cell_type": "markdown",
   "id": "746237d1",
   "metadata": {},
   "source": [
    "## Question 5 - Backtest VaR\n",
    "\n",
    "Analyzes 10D-VaR for confidence level $\\alpha=99\\%$ S&P 500 index data."
   ]
  },
  {
   "cell_type": "code",
   "execution_count": 21,
   "id": "ff3e5c05",
   "metadata": {},
   "outputs": [
    {
     "data": {
      "text/html": [
       "<div>\n",
       "<style scoped>\n",
       "    .dataframe tbody tr th:only-of-type {\n",
       "        vertical-align: middle;\n",
       "    }\n",
       "\n",
       "    .dataframe tbody tr th {\n",
       "        vertical-align: top;\n",
       "    }\n",
       "\n",
       "    .dataframe thead th {\n",
       "        text-align: right;\n",
       "    }\n",
       "</style>\n",
       "<table border=\"1\" class=\"dataframe\">\n",
       "  <thead>\n",
       "    <tr style=\"text-align: right;\">\n",
       "      <th></th>\n",
       "      <th>SP500</th>\n",
       "    </tr>\n",
       "    <tr>\n",
       "      <th>Date</th>\n",
       "      <th></th>\n",
       "    </tr>\n",
       "  </thead>\n",
       "  <tbody>\n",
       "    <tr>\n",
       "      <th>2013-01-22</th>\n",
       "      <td>1492.5601</td>\n",
       "    </tr>\n",
       "    <tr>\n",
       "      <th>2013-01-23</th>\n",
       "      <td>1494.8101</td>\n",
       "    </tr>\n",
       "    <tr>\n",
       "      <th>2013-01-24</th>\n",
       "      <td>1494.8199</td>\n",
       "    </tr>\n",
       "    <tr>\n",
       "      <th>2013-01-25</th>\n",
       "      <td>1502.9600</td>\n",
       "    </tr>\n",
       "    <tr>\n",
       "      <th>2013-01-28</th>\n",
       "      <td>1500.1801</td>\n",
       "    </tr>\n",
       "    <tr>\n",
       "      <th>...</th>\n",
       "      <td>...</td>\n",
       "    </tr>\n",
       "    <tr>\n",
       "      <th>2017-12-29</th>\n",
       "      <td>2673.6101</td>\n",
       "    </tr>\n",
       "    <tr>\n",
       "      <th>2018-01-02</th>\n",
       "      <td>2695.8101</td>\n",
       "    </tr>\n",
       "    <tr>\n",
       "      <th>2018-01-03</th>\n",
       "      <td>2713.0601</td>\n",
       "    </tr>\n",
       "    <tr>\n",
       "      <th>2018-01-04</th>\n",
       "      <td>2723.9900</td>\n",
       "    </tr>\n",
       "    <tr>\n",
       "      <th>2018-01-05</th>\n",
       "      <td>2743.1499</td>\n",
       "    </tr>\n",
       "  </tbody>\n",
       "</table>\n",
       "<p>1250 rows × 1 columns</p>\n",
       "</div>"
      ],
      "text/plain": [
       "                SP500\n",
       "Date                 \n",
       "2013-01-22  1492.5601\n",
       "2013-01-23  1494.8101\n",
       "2013-01-24  1494.8199\n",
       "2013-01-25  1502.9600\n",
       "2013-01-28  1500.1801\n",
       "...               ...\n",
       "2017-12-29  2673.6101\n",
       "2018-01-02  2695.8101\n",
       "2018-01-03  2713.0601\n",
       "2018-01-04  2723.9900\n",
       "2018-01-05  2743.1499\n",
       "\n",
       "[1250 rows x 1 columns]"
      ]
     },
     "execution_count": 21,
     "metadata": {},
     "output_type": "execute_result"
    }
   ],
   "source": [
    "sp500_data_set = pd.read_csv(\"Jan 24 Exam 1 Data.csv\", sep=\",\", parse_dates=['Date'], index_col='Date')\n",
    "sp500_data_set"
   ]
  },
  {
   "cell_type": "code",
   "execution_count": 50,
   "id": "bf10efee",
   "metadata": {},
   "outputs": [
    {
     "name": "stdout",
     "output_type": "stream",
     "text": [
      "The 10D-VaR at confidence level 0.99 for the given dataset is -0.04481\n"
     ]
    }
   ],
   "source": [
    "def extend_data_set_with_return_data(data_set, time_period):\n",
    "    # data_set: pandas dataframe with dates + prices in column in 0\n",
    "    # time_period used to calculate VaR (required to calculate return information for this time period)\n",
    "\n",
    "    # Calculate daily returns + log returns\n",
    "    data_set['1D_Return'] = data_set.iloc[:, 0].pct_change()\n",
    "    data_set['1D_LogReturn'] = data_set['1D_Return'].apply(lambda x: math.log(x + 1))\n",
    "    # Log returns are summable, i.e. the N-day-log-return is the sum of N consecutive 1-day-log-returns\n",
    "    data_set['ND_LogReturn'] = data_set['1D_LogReturn'].rolling(window=time_period).sum()\n",
    "    return data_set\n",
    "\n",
    "\n",
    "def calculate_var(extended_data_set, confidence_level):\n",
    "    # extended_data_set: extended pandas dataframe with return information\n",
    "    # confidence_level: confidence interval, e.g. 0.99\n",
    "\n",
    "    mu = extended_data_set['ND_LogReturn'].mean()\n",
    "    sigma = extended_data_set['ND_LogReturn'].std()\n",
    "    return norm.ppf(1 - confidence_level, mu, sigma)  # scipy.stats way to do mu - sigma * norm.ppf(alpha)\n",
    "\n",
    "\n",
    "time_period = 10\n",
    "confidence_level = 0.99\n",
    "\n",
    "sp500_df = pd.read_csv(\"Jan 24 Exam 1 Data.csv\", sep=\",\", parse_dates=['Date'], index_col='Date')\n",
    "sp500_df = extend_data_set_with_return_data(sp500_df, time_period)\n",
    "\n",
    "# Calculating 10-D-VaR\n",
    "var_99_10d = calculate_var(sp500_df, confidence_level)\n",
    "print(f\"The {time_period}D-VaR at confidence level {confidence_level} for the given dataset is {round(var_99_10d, 5)}\")"
   ]
  },
  {
   "cell_type": "markdown",
   "id": "e9b8089b",
   "metadata": {},
   "source": [
    "**5a**: Count and percentage of VaR breaches:"
   ]
  },
  {
   "cell_type": "code",
   "execution_count": 56,
   "id": "7a1fdc3f",
   "metadata": {},
   "outputs": [
    {
     "name": "stdout",
     "output_type": "stream",
     "text": [
      "Number of VaR breaches: 26\n",
      "Percentage of VaR breaches: 2.08%\n"
     ]
    }
   ],
   "source": [
    "var_breaches = sp500_df['ND_LogReturn'] < var_99_10d\n",
    "print(f\"Number of VaR breaches: {var_breaches.sum()}\")\n",
    "print(f\"Percentage of VaR breaches: {var_breaches.sum() / var_breaches.count() * 100}%\")"
   ]
  },
  {
   "cell_type": "markdown",
   "id": "fc38712d",
   "metadata": {},
   "source": [
    "**5b**: Count and percentage of consecutive breaches:"
   ]
  },
  {
   "cell_type": "code",
   "execution_count": 57,
   "id": "67355454",
   "metadata": {},
   "outputs": [
    {
     "data": {
      "text/html": [
       "<div>\n",
       "<style scoped>\n",
       "    .dataframe tbody tr th:only-of-type {\n",
       "        vertical-align: middle;\n",
       "    }\n",
       "\n",
       "    .dataframe tbody tr th {\n",
       "        vertical-align: top;\n",
       "    }\n",
       "\n",
       "    .dataframe thead th {\n",
       "        text-align: right;\n",
       "    }\n",
       "</style>\n",
       "<table border=\"1\" class=\"dataframe\">\n",
       "  <thead>\n",
       "    <tr style=\"text-align: right;\">\n",
       "      <th></th>\n",
       "      <th>SP500</th>\n",
       "      <th>1D_Return</th>\n",
       "      <th>1D_LogReturn</th>\n",
       "      <th>ND_LogReturn</th>\n",
       "      <th>Counter</th>\n",
       "    </tr>\n",
       "    <tr>\n",
       "      <th>Date</th>\n",
       "      <th></th>\n",
       "      <th></th>\n",
       "      <th></th>\n",
       "      <th></th>\n",
       "      <th></th>\n",
       "    </tr>\n",
       "  </thead>\n",
       "  <tbody>\n",
       "    <tr>\n",
       "      <th>2014-02-03</th>\n",
       "      <td>1741.8900</td>\n",
       "      <td>-0.0228</td>\n",
       "      <td>-0.0231</td>\n",
       "      <td>-0.0541</td>\n",
       "      <td>260</td>\n",
       "    </tr>\n",
       "    <tr>\n",
       "      <th>2014-02-04</th>\n",
       "      <td>1755.2000</td>\n",
       "      <td>0.0076</td>\n",
       "      <td>0.0076</td>\n",
       "      <td>-0.0492</td>\n",
       "      <td>261</td>\n",
       "    </tr>\n",
       "    <tr>\n",
       "      <th>2014-02-05</th>\n",
       "      <td>1751.6400</td>\n",
       "      <td>-0.0020</td>\n",
       "      <td>-0.0020</td>\n",
       "      <td>-0.0519</td>\n",
       "      <td>262</td>\n",
       "    </tr>\n",
       "    <tr>\n",
       "      <th>2014-10-13</th>\n",
       "      <td>1874.7400</td>\n",
       "      <td>-0.0165</td>\n",
       "      <td>-0.0166</td>\n",
       "      <td>-0.0535</td>\n",
       "      <td>435</td>\n",
       "    </tr>\n",
       "    <tr>\n",
       "      <th>2014-10-14</th>\n",
       "      <td>1877.7000</td>\n",
       "      <td>0.0016</td>\n",
       "      <td>0.0016</td>\n",
       "      <td>-0.0491</td>\n",
       "      <td>436</td>\n",
       "    </tr>\n",
       "    <tr>\n",
       "      <th>2014-12-16</th>\n",
       "      <td>1972.7400</td>\n",
       "      <td>-0.0085</td>\n",
       "      <td>-0.0085</td>\n",
       "      <td>-0.0465</td>\n",
       "      <td>480</td>\n",
       "    </tr>\n",
       "    <tr>\n",
       "      <th>2015-08-21</th>\n",
       "      <td>1970.8900</td>\n",
       "      <td>-0.0319</td>\n",
       "      <td>-0.0324</td>\n",
       "      <td>-0.0527</td>\n",
       "      <td>651</td>\n",
       "    </tr>\n",
       "    <tr>\n",
       "      <th>2015-08-24</th>\n",
       "      <td>1893.2100</td>\n",
       "      <td>-0.0394</td>\n",
       "      <td>-0.0402</td>\n",
       "      <td>-0.1057</td>\n",
       "      <td>652</td>\n",
       "    </tr>\n",
       "    <tr>\n",
       "      <th>2015-08-25</th>\n",
       "      <td>1867.6100</td>\n",
       "      <td>-0.0135</td>\n",
       "      <td>-0.0136</td>\n",
       "      <td>-0.1097</td>\n",
       "      <td>653</td>\n",
       "    </tr>\n",
       "    <tr>\n",
       "      <th>2015-08-26</th>\n",
       "      <td>1940.5100</td>\n",
       "      <td>0.0390</td>\n",
       "      <td>0.0383</td>\n",
       "      <td>-0.0723</td>\n",
       "      <td>654</td>\n",
       "    </tr>\n",
       "    <tr>\n",
       "      <th>2015-08-27</th>\n",
       "      <td>1987.6600</td>\n",
       "      <td>0.0243</td>\n",
       "      <td>0.0240</td>\n",
       "      <td>-0.0470</td>\n",
       "      <td>655</td>\n",
       "    </tr>\n",
       "    <tr>\n",
       "      <th>2015-08-28</th>\n",
       "      <td>1988.8700</td>\n",
       "      <td>0.0006</td>\n",
       "      <td>0.0006</td>\n",
       "      <td>-0.0503</td>\n",
       "      <td>656</td>\n",
       "    </tr>\n",
       "    <tr>\n",
       "      <th>2015-08-31</th>\n",
       "      <td>1972.1801</td>\n",
       "      <td>-0.0084</td>\n",
       "      <td>-0.0084</td>\n",
       "      <td>-0.0640</td>\n",
       "      <td>657</td>\n",
       "    </tr>\n",
       "    <tr>\n",
       "      <th>2015-09-01</th>\n",
       "      <td>1913.8500</td>\n",
       "      <td>-0.0296</td>\n",
       "      <td>-0.0300</td>\n",
       "      <td>-0.0914</td>\n",
       "      <td>658</td>\n",
       "    </tr>\n",
       "    <tr>\n",
       "      <th>2015-09-02</th>\n",
       "      <td>1948.8600</td>\n",
       "      <td>0.0183</td>\n",
       "      <td>0.0181</td>\n",
       "      <td>-0.0649</td>\n",
       "      <td>659</td>\n",
       "    </tr>\n",
       "    <tr>\n",
       "      <th>2015-09-29</th>\n",
       "      <td>1884.0900</td>\n",
       "      <td>0.0012</td>\n",
       "      <td>0.0012</td>\n",
       "      <td>-0.0487</td>\n",
       "      <td>677</td>\n",
       "    </tr>\n",
       "    <tr>\n",
       "      <th>2016-01-07</th>\n",
       "      <td>1943.0900</td>\n",
       "      <td>-0.0237</td>\n",
       "      <td>-0.0240</td>\n",
       "      <td>-0.0482</td>\n",
       "      <td>746</td>\n",
       "    </tr>\n",
       "    <tr>\n",
       "      <th>2016-01-08</th>\n",
       "      <td>1922.0300</td>\n",
       "      <td>-0.0108</td>\n",
       "      <td>-0.0109</td>\n",
       "      <td>-0.0714</td>\n",
       "      <td>747</td>\n",
       "    </tr>\n",
       "    <tr>\n",
       "      <th>2016-01-11</th>\n",
       "      <td>1923.6700</td>\n",
       "      <td>0.0009</td>\n",
       "      <td>0.0009</td>\n",
       "      <td>-0.0690</td>\n",
       "      <td>748</td>\n",
       "    </tr>\n",
       "    <tr>\n",
       "      <th>2016-01-12</th>\n",
       "      <td>1938.6801</td>\n",
       "      <td>0.0078</td>\n",
       "      <td>0.0078</td>\n",
       "      <td>-0.0590</td>\n",
       "      <td>749</td>\n",
       "    </tr>\n",
       "    <tr>\n",
       "      <th>2016-01-13</th>\n",
       "      <td>1890.2800</td>\n",
       "      <td>-0.0250</td>\n",
       "      <td>-0.0253</td>\n",
       "      <td>-0.0949</td>\n",
       "      <td>750</td>\n",
       "    </tr>\n",
       "    <tr>\n",
       "      <th>2016-01-14</th>\n",
       "      <td>1921.8400</td>\n",
       "      <td>0.0167</td>\n",
       "      <td>0.0166</td>\n",
       "      <td>-0.0711</td>\n",
       "      <td>751</td>\n",
       "    </tr>\n",
       "    <tr>\n",
       "      <th>2016-01-15</th>\n",
       "      <td>1880.3300</td>\n",
       "      <td>-0.0216</td>\n",
       "      <td>-0.0218</td>\n",
       "      <td>-0.0834</td>\n",
       "      <td>752</td>\n",
       "    </tr>\n",
       "    <tr>\n",
       "      <th>2016-01-19</th>\n",
       "      <td>1881.3300</td>\n",
       "      <td>0.0005</td>\n",
       "      <td>0.0005</td>\n",
       "      <td>-0.0675</td>\n",
       "      <td>753</td>\n",
       "    </tr>\n",
       "    <tr>\n",
       "      <th>2016-01-20</th>\n",
       "      <td>1859.3300</td>\n",
       "      <td>-0.0117</td>\n",
       "      <td>-0.0118</td>\n",
       "      <td>-0.0813</td>\n",
       "      <td>754</td>\n",
       "    </tr>\n",
       "    <tr>\n",
       "      <th>2016-01-21</th>\n",
       "      <td>1868.9900</td>\n",
       "      <td>0.0052</td>\n",
       "      <td>0.0052</td>\n",
       "      <td>-0.0629</td>\n",
       "      <td>755</td>\n",
       "    </tr>\n",
       "  </tbody>\n",
       "</table>\n",
       "</div>"
      ],
      "text/plain": [
       "                SP500  1D_Return  1D_LogReturn  ND_LogReturn  Counter\n",
       "Date                                                                 \n",
       "2014-02-03  1741.8900    -0.0228       -0.0231       -0.0541      260\n",
       "2014-02-04  1755.2000     0.0076        0.0076       -0.0492      261\n",
       "2014-02-05  1751.6400    -0.0020       -0.0020       -0.0519      262\n",
       "2014-10-13  1874.7400    -0.0165       -0.0166       -0.0535      435\n",
       "2014-10-14  1877.7000     0.0016        0.0016       -0.0491      436\n",
       "2014-12-16  1972.7400    -0.0085       -0.0085       -0.0465      480\n",
       "2015-08-21  1970.8900    -0.0319       -0.0324       -0.0527      651\n",
       "2015-08-24  1893.2100    -0.0394       -0.0402       -0.1057      652\n",
       "2015-08-25  1867.6100    -0.0135       -0.0136       -0.1097      653\n",
       "2015-08-26  1940.5100     0.0390        0.0383       -0.0723      654\n",
       "2015-08-27  1987.6600     0.0243        0.0240       -0.0470      655\n",
       "2015-08-28  1988.8700     0.0006        0.0006       -0.0503      656\n",
       "2015-08-31  1972.1801    -0.0084       -0.0084       -0.0640      657\n",
       "2015-09-01  1913.8500    -0.0296       -0.0300       -0.0914      658\n",
       "2015-09-02  1948.8600     0.0183        0.0181       -0.0649      659\n",
       "2015-09-29  1884.0900     0.0012        0.0012       -0.0487      677\n",
       "2016-01-07  1943.0900    -0.0237       -0.0240       -0.0482      746\n",
       "2016-01-08  1922.0300    -0.0108       -0.0109       -0.0714      747\n",
       "2016-01-11  1923.6700     0.0009        0.0009       -0.0690      748\n",
       "2016-01-12  1938.6801     0.0078        0.0078       -0.0590      749\n",
       "2016-01-13  1890.2800    -0.0250       -0.0253       -0.0949      750\n",
       "2016-01-14  1921.8400     0.0167        0.0166       -0.0711      751\n",
       "2016-01-15  1880.3300    -0.0216       -0.0218       -0.0834      752\n",
       "2016-01-19  1881.3300     0.0005        0.0005       -0.0675      753\n",
       "2016-01-20  1859.3300    -0.0117       -0.0118       -0.0813      754\n",
       "2016-01-21  1868.9900     0.0052        0.0052       -0.0629      755"
      ]
     },
     "execution_count": 57,
     "metadata": {},
     "output_type": "execute_result"
    }
   ],
   "source": [
    "# add auxiliary column to dataframe to indexify the var breaches\n",
    "sp500_df['Counter'] = range(sp500_df['SP500'].count())\n",
    "# create new dataframe that contains only the var breaches now\n",
    "sp500_var_breaches_df = sp500_df[var_breaches]\n",
    "sp500_var_breaches_df"
   ]
  },
  {
   "cell_type": "code",
   "execution_count": 58,
   "id": "6585326a",
   "metadata": {},
   "outputs": [
    {
     "name": "stdout",
     "output_type": "stream",
     "text": [
      "Number of consecutive VaR breaches: 20\n",
      "Percentage of VaR breaches, that are also consecutive VaR breaches: 76.9231%\n"
     ]
    }
   ],
   "source": [
    "def count_consecutive(llist):\n",
    "    count = 0\n",
    "    for i in range(len(llist) - 1):\n",
    "        if llist[i] + 1 == llist[i + 1]:\n",
    "            count += 1\n",
    "    return count\n",
    "\n",
    "\n",
    "number_of_consecutive_var_breaches = count_consecutive(sp500_var_breaches_df['Counter'].to_list())\n",
    "percentage = number_of_consecutive_var_breaches / sp500_var_breaches_df['Counter'].count()\n",
    "\n",
    "print(f\"Number of consecutive VaR breaches: {number_of_consecutive_var_breaches}\")\n",
    "print(f\"Percentage of VaR breaches, that are also consecutive VaR breaches: {round(percentage * 100, 4)}%\")"
   ]
  },
  {
   "cell_type": "markdown",
   "id": "a1b3cf93",
   "metadata": {},
   "source": [
    "It turns out that VaR breaches often occur consecutively - 3/4 of all VaR breaches in this sample were actually consecutive breaches - which can be interpreted as a consequence of volatility clustering of asset prices."
   ]
  },
  {
   "cell_type": "code",
   "execution_count": null,
   "id": "73b36468",
   "metadata": {},
   "outputs": [],
   "source": []
  }
 ],
 "metadata": {
  "kernelspec": {
   "display_name": "Python 3 (ipykernel)",
   "language": "python",
   "name": "python3"
  },
  "language_info": {
   "codemirror_mode": {
    "name": "ipython",
    "version": 3
   },
   "file_extension": ".py",
   "mimetype": "text/x-python",
   "name": "python",
   "nbconvert_exporter": "python",
   "pygments_lexer": "ipython3",
   "version": "3.11.5"
  }
 },
 "nbformat": 4,
 "nbformat_minor": 5
}
