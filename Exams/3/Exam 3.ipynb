{
 "cells": [
  {
   "cell_type": "markdown",
   "id": "b71f99fc",
   "metadata": {},
   "source": [
    "# CQF Exam 3\n",
    "\n",
    "## January 2024 Cohort"
   ]
  },
  {
   "cell_type": "markdown",
   "id": "c9441a52",
   "metadata": {},
   "source": [
    "## Task 1\n",
    "\n",
    "What is the cost function of Logistic Regression? Explain in Detail."
   ]
  },
  {
   "cell_type": "markdown",
   "id": "89538359",
   "metadata": {},
   "source": [
    "**Answer**: This follows mostly [1] (p. 7-10, 25-26) and [2].\n",
    "\n",
    "Logistic regression is one of the most used machine learning methods for classification mapping qualitative data onto categorical variables, e.g. either 0 or 1. The cost function derived for logistic regression is the so-called Binary Cross Entropy cost function and can be derived as follows:\n",
    "\n",
    "#### 1. Logistic probability predictor via logit function\n",
    "To model the probability $p$ of the classification mapping to 1, we can invert the logit function that converts log-odds to probabilities $$logit(p) = \\log\\left(\\frac{p}{1 - p}\\right)=z,$$ solving for $$p=\\frac{1}{1 + e^{-z}}=:\\sigma(z).$$ This so-called sigmoid function can be used to model probabilities as it yields values between 0 and 1, as can seen per plot below:"
   ]
  },
  {
   "cell_type": "code",
   "execution_count": 1,
   "id": "c1ef171e",
   "metadata": {
    "scrolled": false
   },
   "outputs": [
    {
     "data": {
      "image/png": "[encoded data removed]",
      "text/plain": [
       "<Figure size 640x480 with 1 Axes>"
      ]
     },
     "metadata": {},
     "output_type": "display_data"
    }
   ],
   "source": [
    "import numpy as np\n",
    "import matplotlib.pyplot as plt\n",
    "\n",
    "\n",
    "def sigmoid(z):\n",
    "    return 1 / (1 + np.exp(-z))\n",
    "\n",
    "z = np.linspace(-10, 10, 100)\n",
    "p = sigmoid(z)\n",
    "\n",
    "plt.figure()\n",
    "plt.plot(z, p)\n",
    "plt.title('Sigmoid function $\\sigma(z)$')\n",
    "plt.xlabel('z')\n",
    "plt.ylabel('p')\n",
    "plt.show()"
   ]
  },
  {
   "cell_type": "markdown",
   "id": "f49a6110",
   "metadata": {},
   "source": [
    "Now, the predictor function for a training data point $(x,y)$ is given by the sigmoid function applied to the linear combination of input features:\n",
    "$$\\hat{y}=P(Y=1|X=x) = \\sigma(\\mathbf{w}\\cdot\\mathbf{x}).$$\n",
    "\n",
    "#### 2. Probability of the output $y$\n",
    "For a given input $x$ and its corresponding label $y$:\n",
    "$$P(Y=y|X=x)=\n",
    "\\begin{cases}\n",
    "\\hat{y} = \\sigma(\\mathbf{w}\\cdot\\mathbf{x}) & \\text{if } y=1\\\\\n",
    "1-\\hat{y} = 1-\\sigma(\\mathbf{w}\\cdot\\mathbf{x}) & \\text{if } y=0.\n",
    "\\end{cases}$$\n",
    "\n",
    "#### 3. Bernoulli distribution\n",
    "If $y$ can either take values 0 or 1, then $Y \\sim \\text{Ber}(p)$ follows a Bernoulli distribution with $p = \\sigma(\\mathbf{w} \\cdot \\mathbf{x})$. Hence:\n",
    "\\begin{align*}\n",
    "P(Y=y|X=x) &=p^y \\cdot (1-p)^{(1-y)}\\\\\n",
    "&=\\sigma(\\mathbf{w}\\cdot\\mathbf{x})^y \\cdot \\left(1-\\sigma(\\mathbf{w}\\cdot\\mathbf{x})\\right)^{(1-y)}\\\\\n",
    "&=\\hat{y}^y \\cdot \\left(1-\\hat{y}\\right)^{(1-y)}\n",
    "\\end{align*}\n",
    "\n",
    "#### 4. Log-likelihood\n",
    "Taking the natural logarithm of the probability of the above and applying logarithm laws yields\n",
    "$$\\log P(Y=y|X=x) = y\\log(\\hat{y}) + (1-y)\\log(1-\\hat{y}).$$\n",
    "\n",
    "#### 5. Cost function for one training data point $(x,y)$\n",
    "To convert this problem into a minimization problem, we consider the negative of the log-likelihood. For a single training example $(x,y)$, we obtain the cost function:\n",
    "$$L(\\hat{y}, y) = -\\log P(y|x) = -\\left(y\\log(\\hat{y}) + (1-y)\\log(1-\\hat{y})\\right)$$\n",
    "\n",
    "#### 6. Cost function for the entire dataset\n",
    "To get the cost function for the entire training dataset, we sum over all training examples and take the average. If we have $n$ training examples, the cost function called the *Binary Cross Entropy function* is then obtained as\n",
    "\\begin{align*}\n",
    "J(\\mathbf{w}) &= -\\frac{1}{n}\\sum_{i=1}^{n} \\left( y^{(i)}\\log(\\hat{y}^{(i)}) + (1-y^{(i)})\\log(1-\\hat{y}^{(i)})\\right)\\\\\n",
    " &= -\\frac{1}{n}\\sum_{i=1}^{n} \\left( y^{(i)}\\log(\\sigma(\\mathbf{w}\\cdot x^{(i)})) + (1-y^{(i)})\\log(1-\\sigma(\\mathbf{w}\\cdot x^{(i)}))\\right)\\\\\n",
    " &= -\\frac{1}{n}\\sum_{i=1}^{n} \\left( y^{(i)}\\log(\\hat{p}^{(i)}) + (1-y^{(i)})\\log(1-\\hat{p}^{(i)})\\right)\n",
    "\\end{align*}\n",
    "\n",
    "This cost function is minimized to train the logistic regression model, leading to optimal parameters $\\mathbf{w}$ that best fit the training data. Since the function is convex, we can use gradient descent to find the global minimum."
   ]
  },
  {
   "cell_type": "markdown",
   "id": "f667635e",
   "metadata": {},
   "source": [
    "## Task 2\n",
    "\n",
    "What are voting classifers in ensemble learning?"
   ]
  },
  {
   "cell_type": "code",
   "execution_count": null,
   "id": "36bb176f",
   "metadata": {},
   "outputs": [],
   "source": []
  },
  {
   "cell_type": "code",
   "execution_count": null,
   "id": "d01fe46c",
   "metadata": {},
   "outputs": [],
   "source": []
  },
  {
   "cell_type": "code",
   "execution_count": null,
   "id": "63d2df51",
   "metadata": {},
   "outputs": [],
   "source": []
  },
  {
   "cell_type": "markdown",
   "id": "6fd52536",
   "metadata": {},
   "source": [
    "## Task 3: Short-term asset return prediction\n",
    "\n",
    "Follow the 7-steps to model building for your selected ticker,\n",
    "\n",
    "* (a) produce a model to predict positive moves (up trend) using Support Vector Machine (SVM) model.\n",
    "* (b) tune hyperparameters for the estimator and present the best model.\n",
    "* (c) investigate the prediction quality using area under ROC curve, confusion matrix and classification report."
   ]
  },
  {
   "cell_type": "code",
   "execution_count": null,
   "id": "8fb427a1",
   "metadata": {},
   "outputs": [],
   "source": []
  },
  {
   "cell_type": "code",
   "execution_count": null,
   "id": "2b88d102",
   "metadata": {},
   "outputs": [],
   "source": []
  },
  {
   "cell_type": "markdown",
   "id": "ce07d131",
   "metadata": {},
   "source": [
    "## References\n",
    "\n",
    "* [1]: JA244.5: Lecture Notes on Supervised Learning II by Kannan Singaravelu, CQF Faculty\n",
    "* [2]: JA24P10: CQF Python Labs on Trend prediction using Logistic Regression by Kannan Singaravelu\n",
    "* [3]: Willmott, Paul - _Paul Willmott on Quantitative Finance_, Second Edition, Volume 2, p. 427-452, Wiley, 2006\n",
    "* [4]: JA243.5: Lecture Notes on Exotic Options by Dr. Riaz Ahmad, CQF Faculty, Head of Faculty\n",
    "* [5]: [Matplotlib documentation](https://matplotlib.org)"
   ]
  }
 ],
 "metadata": {
  "kernelspec": {
   "display_name": "Python 3 (ipykernel)",
   "language": "python",
   "name": "python3"
  },
  "language_info": {
   "codemirror_mode": {
    "name": "ipython",
    "version": 3
   },
   "file_extension": ".py",
   "mimetype": "text/x-python",
   "name": "python",
   "nbconvert_exporter": "python",
   "pygments_lexer": "ipython3",
   "version": "3.11.5"
  }
 },
 "nbformat": 4,
 "nbformat_minor": 5
}
