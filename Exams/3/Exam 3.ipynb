{
 "cells": [
  {
   "cell_type": "markdown",
   "id": "8db2d8f9",
   "metadata": {},
   "source": [
    "# CQF Exam 3\n",
    "\n",
    "## January 2024 Cohort"
   ]
  },
  {
   "cell_type": "markdown",
   "id": "cb8ad20b",
   "metadata": {},
   "source": [
    "## Task 1\n",
    "\n",
    "What is the cost function of Logistic Regression? Explain in Detail."
   ]
  },
  {
   "cell_type": "markdown",
   "id": "ef57e393",
   "metadata": {},
   "source": [
    "### Answer:\n",
    "This follows mostly [1] (p. 7-10, 25-26) and [2].\n",
    "\n",
    "Logistic regression is one of the most used machine learning methods for classification mapping qualitative data onto categorical variables, e.g. either 0 or 1. The cost function derived for logistic regression is the so-called Binary Cross Entropy cost function and can be derived as follows:\n",
    "\n",
    "***1. Logistic probability predictor via logit function***\n",
    "\n",
    "To model the probability $p$ of the classification mapping to 1, we can invert the logit function that converts log-odds to probabilities $$logit(p) = \\log\\left(\\frac{p}{1 - p}\\right)=z,$$ solving for $$p=\\frac{1}{1 + e^{-z}}=:\\sigma(z).$$ This so-called sigmoid function can be used to model probabilities as it yields values between 0 and 1, as can seen per plot below:"
   ]
  },
  {
   "cell_type": "code",
   "execution_count": 1,
   "id": "1ce3bbd7",
   "metadata": {
    "scrolled": false
   },
   "outputs": [
    {
     "data": {
      "image/png": "[encoded data removed]",
      "text/plain": [
       "<Figure size 640x480 with 1 Axes>"
      ]
     },
     "metadata": {},
     "output_type": "display_data"
    }
   ],
   "source": [
    "import numpy as np\n",
    "import matplotlib.pyplot as plt\n",
    "\n",
    "\n",
    "def sigmoid(z):\n",
    "    return 1 / (1 + np.exp(-z))\n",
    "\n",
    "z = np.linspace(-10, 10, 100)\n",
    "p = sigmoid(z)\n",
    "\n",
    "plt.figure()\n",
    "plt.plot(z, p)\n",
    "plt.title('Sigmoid function $\\sigma(z)$')\n",
    "plt.xlabel('z')\n",
    "plt.ylabel('p')\n",
    "plt.show()"
   ]
  },
  {
   "cell_type": "markdown",
   "id": "79c66d9d",
   "metadata": {},
   "source": [
    "Now, the predictor function for a training data point $(x,y)$ is given by the sigmoid function applied to the linear combination of input features:\n",
    "$$\\hat{y}=P(Y=1|X=x) = \\sigma(\\mathbf{w}\\cdot\\mathbf{x}).$$\n",
    "\n",
    "***2. Probability of the output $y$***\n",
    "\n",
    "For a given input $x$ and its corresponding label $y$:\n",
    "$$P(Y=y|X=x)=\n",
    "\\begin{cases}\n",
    "\\hat{y} = \\sigma(\\mathbf{w}\\cdot\\mathbf{x}) & \\text{if } y=1\\\\\n",
    "1-\\hat{y} = 1-\\sigma(\\mathbf{w}\\cdot\\mathbf{x}) & \\text{if } y=0.\n",
    "\\end{cases}$$\n",
    "\n",
    "***3. Bernoulli distribution***\n",
    "\n",
    "If $y$ can either take values 0 or 1, then $Y \\sim \\text{Ber}(p)$ follows a Bernoulli distribution with $p = \\sigma(\\mathbf{w} \\cdot \\mathbf{x})$. Hence:\n",
    "\\begin{align*}\n",
    "P(Y=y|X=x) &=p^y \\cdot (1-p)^{(1-y)}\\\\\n",
    "&=\\sigma(\\mathbf{w}\\cdot\\mathbf{x})^y \\cdot \\left(1-\\sigma(\\mathbf{w}\\cdot\\mathbf{x})\\right)^{(1-y)}\\\\\n",
    "&=\\hat{y}^y \\cdot \\left(1-\\hat{y}\\right)^{(1-y)}\n",
    "\\end{align*}\n",
    "\n",
    "***4. Log-likelihood***\n",
    "\n",
    "Taking the natural logarithm of the probability of the above and applying logarithm laws yields\n",
    "$$\\log P(Y=y|X=x) = y\\log(\\hat{y}) + (1-y)\\log(1-\\hat{y}).$$\n",
    "\n",
    "***5. Cost function for one training data point $(x,y)$***\n",
    "\n",
    "To convert this problem into a minimization problem, we consider the negative of the log-likelihood. For a single training example $(x,y)$, we obtain the cost function:\n",
    "$$L(\\hat{y}, y) = -\\log P(y|x) = -\\left(y\\log(\\hat{y}) + (1-y)\\log(1-\\hat{y})\\right)$$\n",
    "\n",
    "***6. Cost function for the entire dataset***\n",
    "\n",
    "To get the cost function for the entire training dataset, we sum over all training examples and take the average. If we have $n$ training examples, the cost function called the *Binary Cross Entropy function* is then obtained as\n",
    "\\begin{align*}\n",
    "J(\\mathbf{w}) &= -\\frac{1}{n}\\sum_{i=1}^{n} \\left( y^{(i)}\\log(\\hat{y}^{(i)}) + (1-y^{(i)})\\log(1-\\hat{y}^{(i)})\\right)\\\\\n",
    " &= -\\frac{1}{n}\\sum_{i=1}^{n} \\left( y^{(i)}\\log(\\sigma(\\mathbf{w}\\cdot x^{(i)})) + (1-y^{(i)})\\log(1-\\sigma(\\mathbf{w}\\cdot x^{(i)}))\\right)\\\\\n",
    " &= -\\frac{1}{n}\\sum_{i=1}^{n} \\left( y^{(i)}\\log(\\hat{p}^{(i)}) + (1-y^{(i)})\\log(1-\\hat{p}^{(i)})\\right)\n",
    "\\end{align*}\n",
    "\n",
    "This cost function is minimized to train the logistic regression model, leading to optimal parameters $\\mathbf{w}$ that best fit the training data. Since the function is convex, we can use gradient descent to find the global minimum."
   ]
  },
  {
   "cell_type": "markdown",
   "id": "7d42ab31",
   "metadata": {},
   "source": [
    "## Task 2\n",
    "\n",
    "What are voting classifers in ensemble learning?"
   ]
  },
  {
   "cell_type": "markdown",
   "id": "29e3605b",
   "metadata": {},
   "source": [
    "### Answer:\n",
    "This follows mostly [3] and [4].\n",
    "\n",
    "Ensemble models are machine learning models that combine multiple individual predictors to arrive at a prediction. A group of predictors forms an ensemble. The idea is that the collective of multiple models often produces better results than a single model in both efficiency and accuracy. To combine the various classifiers into a final predictor, there are different voting classifiers, such as:\n",
    "\n",
    "**1. Arithmetic averaging**: Each individual model makes a prediction. The final prediction determined by taking the arithmetic average over all individual predictions. This voting style is used in Bagging algorithms like Random Forests which use Decision Trees and can help to reduce variance (help with overfitting).\n",
    "\n",
    "As a prominent example, the final estimator to a regression problem employing Random Forests sampled into $M$ data sets from the original data set $\\mathcal{D}: \\mathcal{D}_1,...,\\mathcal{D}_M$ trained to maximum depth $f(x,\\mathcal{D}_i)$ is given by\n",
    "$$\\hat{f}(x) = \\frac{1}{M}\\sum_{i=1}^{M}f(x;\\mathcal{D}_i).$$\n",
    "\n",
    "**2. Weighted vote classifiers**: This approach is often used in Boosting algorithms with base models that are weak learning algorithms, i.e. only *slightly* better than chance (e.g. decision tree with low depth and high bias). Boosting algorithms are addititive models which are sequentially trained on smaller structures. Each model aims to correct the errors of its predecessor by adjusting weights used in the weighted average, while the metric to measure (and therefore correct) the error of the predecessor model may vary depending on loss function. Such Boosting algorithms like AdaBoost or Gradient Boosting can help to reduce bias.\n",
    "\n",
    "As a prominent example, the final estimator to a classification problem with $(x_i,y_i)\\in(X,\\pm 1)$ of AdaBoost sampled over $M$ weak learners $G_m(x_i)$ is given by the weighted sum\n",
    "$$\\hat{G}(x) = \\text{sign}\\left(\\sum_{m=1}^{M} \\alpha_m G_m(x)\\right).$$\n",
    "The weights $\\alpha_m = \\ln\\left(\\frac{1 - e_m}{e_m}\\right)$ will focus more on weak learners with high errors $$e_m = \\frac{\\sum_{i=1}^{N} w_i \\mathbb{1}_{y_i\\neq G(x_i)}}{\\sum_{i=1}^{N} w_i}$$\n",
    "in an attempt to improve the weakest weak learners. The data points $(x_i,y_i)$ are then re-weighted to finally obtain the final ensemble prediction.\n",
    "\n",
    "**3. Hard voting**: This is a majority voting classifier where the final predictor will be determined by choosing the prediction with the most votes among the individual models. It is often used in classification algorithms, according to Dr. Panos Parpas' lecture, this is e.g. used in Bagging algorithms tailored for classification rather than regression problems. In this method, each model casts a vote for a class, and the class with the most votes is chosen as the final prediction.\n",
    "\n",
    "**4. Soft Voting**: Unlike hard voting which counts the votes of each classifier in the ensemble and selects the class with the most votes, soft voting calculates the average predicted probabilities of each class for all classifiers and selects the class with the highest average probability. This can provide a more accurate prediction because soft voting also considers the confidence of each model."
   ]
  },
  {
   "cell_type": "markdown",
   "id": "07089a95",
   "metadata": {},
   "source": [
    "## Task 3: Short-term asset return prediction\n",
    "\n",
    "Follow the 7-steps to model building for your selected ticker,\n",
    "\n",
    "* (a) produce a model to predict positive moves (up trend) using Support Vector Machine (SVM) model.\n",
    "* (b) tune hyperparameters for the estimator and present the best model.\n",
    "* (c) investigate the prediction quality using area under ROC curve, confusion matrix and classification report."
   ]
  },
  {
   "cell_type": "markdown",
   "id": "cac85ff7",
   "metadata": {},
   "source": [
    "### Answer:\n",
    "The 7 steps to model building are explained in [5] as follows:\n",
    "\n",
    "1. Understand the problem\n",
    "2. Collect data\n",
    "3. Explore data (visualization!)\n",
    "4. Clean data (pre-process)\n",
    "5. Transform data (normalization)\n",
    "6. Select the appropriate model + train\n",
    "7. Validate the model\n",
    "\n",
    "We shall now implement these on S&P 500 data following mostly the approach from Python Labs [2] with some adjustments."
   ]
  },
  {
   "cell_type": "code",
   "execution_count": 62,
   "id": "7c06b0a6",
   "metadata": {},
   "outputs": [],
   "source": [
    "import pandas as pd\n",
    "\n",
    "# Ignore warnings\n",
    "import warnings\n",
    "warnings.filterwarnings('ignore')\n",
    "\n",
    "import yfinance as yf"
   ]
  },
  {
   "cell_type": "code",
   "execution_count": 63,
   "id": "93e7e43c",
   "metadata": {
    "scrolled": true
   },
   "outputs": [
    {
     "name": "stderr",
     "output_type": "stream",
     "text": [
      "[*********************100%%**********************]  1 of 1 completed\n"
     ]
    },
    {
     "data": {
      "text/html": [
       "<div>\n",
       "<style scoped>\n",
       "    .dataframe tbody tr th:only-of-type {\n",
       "        vertical-align: middle;\n",
       "    }\n",
       "\n",
       "    .dataframe tbody tr th {\n",
       "        vertical-align: top;\n",
       "    }\n",
       "\n",
       "    .dataframe thead th {\n",
       "        text-align: right;\n",
       "    }\n",
       "</style>\n",
       "<table border=\"1\" class=\"dataframe\">\n",
       "  <thead>\n",
       "    <tr style=\"text-align: right;\">\n",
       "      <th></th>\n",
       "      <th>Open</th>\n",
       "      <th>High</th>\n",
       "      <th>Low</th>\n",
       "      <th>Close</th>\n",
       "      <th>Adj Close</th>\n",
       "      <th>Volume</th>\n",
       "      <th>Return</th>\n",
       "    </tr>\n",
       "    <tr>\n",
       "      <th>Date</th>\n",
       "      <th></th>\n",
       "      <th></th>\n",
       "      <th></th>\n",
       "      <th></th>\n",
       "      <th></th>\n",
       "      <th></th>\n",
       "      <th></th>\n",
       "    </tr>\n",
       "  </thead>\n",
       "  <tbody>\n",
       "    <tr>\n",
       "      <th>2018-01-02</th>\n",
       "      <td>2683.729980</td>\n",
       "      <td>2695.889893</td>\n",
       "      <td>2682.360107</td>\n",
       "      <td>2695.810059</td>\n",
       "      <td>2695.810059</td>\n",
       "      <td>3397430000</td>\n",
       "      <td>NaN</td>\n",
       "    </tr>\n",
       "    <tr>\n",
       "      <th>2018-01-03</th>\n",
       "      <td>2697.850098</td>\n",
       "      <td>2714.370117</td>\n",
       "      <td>2697.770020</td>\n",
       "      <td>2713.060059</td>\n",
       "      <td>2713.060059</td>\n",
       "      <td>3544030000</td>\n",
       "      <td>0.006399</td>\n",
       "    </tr>\n",
       "    <tr>\n",
       "      <th>2018-01-04</th>\n",
       "      <td>2719.310059</td>\n",
       "      <td>2729.290039</td>\n",
       "      <td>2719.070068</td>\n",
       "      <td>2723.989990</td>\n",
       "      <td>2723.989990</td>\n",
       "      <td>3697340000</td>\n",
       "      <td>0.004029</td>\n",
       "    </tr>\n",
       "    <tr>\n",
       "      <th>2018-01-05</th>\n",
       "      <td>2731.330078</td>\n",
       "      <td>2743.449951</td>\n",
       "      <td>2727.919922</td>\n",
       "      <td>2743.149902</td>\n",
       "      <td>2743.149902</td>\n",
       "      <td>3239280000</td>\n",
       "      <td>0.007034</td>\n",
       "    </tr>\n",
       "    <tr>\n",
       "      <th>2018-01-08</th>\n",
       "      <td>2742.669922</td>\n",
       "      <td>2748.510010</td>\n",
       "      <td>2737.600098</td>\n",
       "      <td>2747.709961</td>\n",
       "      <td>2747.709961</td>\n",
       "      <td>3246160000</td>\n",
       "      <td>0.001662</td>\n",
       "    </tr>\n",
       "  </tbody>\n",
       "</table>\n",
       "</div>"
      ],
      "text/plain": [
       "                   Open         High          Low        Close    Adj Close  \\\n",
       "Date                                                                          \n",
       "2018-01-02  2683.729980  2695.889893  2682.360107  2695.810059  2695.810059   \n",
       "2018-01-03  2697.850098  2714.370117  2697.770020  2713.060059  2713.060059   \n",
       "2018-01-04  2719.310059  2729.290039  2719.070068  2723.989990  2723.989990   \n",
       "2018-01-05  2731.330078  2743.449951  2727.919922  2743.149902  2743.149902   \n",
       "2018-01-08  2742.669922  2748.510010  2737.600098  2747.709961  2747.709961   \n",
       "\n",
       "                Volume    Return  \n",
       "Date                              \n",
       "2018-01-02  3397430000       NaN  \n",
       "2018-01-03  3544030000  0.006399  \n",
       "2018-01-04  3697340000  0.004029  \n",
       "2018-01-05  3239280000  0.007034  \n",
       "2018-01-08  3246160000  0.001662  "
      ]
     },
     "execution_count": 63,
     "metadata": {},
     "output_type": "execute_result"
    }
   ],
   "source": [
    "df = yf.download('^GSPC', start=\"2018-01-01\")\n",
    "df['Return'] = df['Close'].pct_change()\n",
    "df.head()"
   ]
  },
  {
   "cell_type": "code",
   "execution_count": 64,
   "id": "13c833ae",
   "metadata": {
    "scrolled": true
   },
   "outputs": [
    {
     "name": "stdout",
     "output_type": "stream",
     "text": [
      "<class 'pandas.core.frame.DataFrame'>\n",
      "DatetimeIndex: 1608 entries, 2018-01-02 to 2024-05-22\n",
      "Data columns (total 7 columns):\n",
      " #   Column     Non-Null Count  Dtype  \n",
      "---  ------     --------------  -----  \n",
      " 0   Open       1608 non-null   float64\n",
      " 1   High       1608 non-null   float64\n",
      " 2   Low        1608 non-null   float64\n",
      " 3   Close      1608 non-null   float64\n",
      " 4   Adj Close  1608 non-null   float64\n",
      " 5   Volume     1608 non-null   int64  \n",
      " 6   Return     1607 non-null   float64\n",
      "dtypes: float64(6), int64(1)\n",
      "memory usage: 100.5 KB\n"
     ]
    }
   ],
   "source": [
    "# Get Info\n",
    "df.info()"
   ]
  },
  {
   "cell_type": "code",
   "execution_count": 65,
   "id": "0654b04a",
   "metadata": {},
   "outputs": [
    {
     "data": {
      "text/html": [
       "<div>\n",
       "<style scoped>\n",
       "    .dataframe tbody tr th:only-of-type {\n",
       "        vertical-align: middle;\n",
       "    }\n",
       "\n",
       "    .dataframe tbody tr th {\n",
       "        vertical-align: top;\n",
       "    }\n",
       "\n",
       "    .dataframe thead th {\n",
       "        text-align: right;\n",
       "    }\n",
       "</style>\n",
       "<table border=\"1\" class=\"dataframe\">\n",
       "  <thead>\n",
       "    <tr style=\"text-align: right;\">\n",
       "      <th></th>\n",
       "      <th>Open</th>\n",
       "      <th>High</th>\n",
       "      <th>Low</th>\n",
       "      <th>Close</th>\n",
       "      <th>Adj Close</th>\n",
       "      <th>Volume</th>\n",
       "      <th>Return</th>\n",
       "    </tr>\n",
       "    <tr>\n",
       "      <th>Date</th>\n",
       "      <th></th>\n",
       "      <th></th>\n",
       "      <th></th>\n",
       "      <th></th>\n",
       "      <th></th>\n",
       "      <th></th>\n",
       "      <th></th>\n",
       "    </tr>\n",
       "  </thead>\n",
       "  <tbody>\n",
       "    <tr>\n",
       "      <th>2018-01-02</th>\n",
       "      <td>2683.729980</td>\n",
       "      <td>2695.889893</td>\n",
       "      <td>2682.360107</td>\n",
       "      <td>2695.810059</td>\n",
       "      <td>2695.810059</td>\n",
       "      <td>3397430000</td>\n",
       "      <td>NaN</td>\n",
       "    </tr>\n",
       "    <tr>\n",
       "      <th>2018-01-03</th>\n",
       "      <td>2697.850098</td>\n",
       "      <td>2714.370117</td>\n",
       "      <td>2697.770020</td>\n",
       "      <td>2713.060059</td>\n",
       "      <td>2713.060059</td>\n",
       "      <td>3544030000</td>\n",
       "      <td>0.006399</td>\n",
       "    </tr>\n",
       "    <tr>\n",
       "      <th>2018-01-04</th>\n",
       "      <td>2719.310059</td>\n",
       "      <td>2729.290039</td>\n",
       "      <td>2719.070068</td>\n",
       "      <td>2723.989990</td>\n",
       "      <td>2723.989990</td>\n",
       "      <td>3697340000</td>\n",
       "      <td>0.004029</td>\n",
       "    </tr>\n",
       "    <tr>\n",
       "      <th>2018-01-05</th>\n",
       "      <td>2731.330078</td>\n",
       "      <td>2743.449951</td>\n",
       "      <td>2727.919922</td>\n",
       "      <td>2743.149902</td>\n",
       "      <td>2743.149902</td>\n",
       "      <td>3239280000</td>\n",
       "      <td>0.007034</td>\n",
       "    </tr>\n",
       "    <tr>\n",
       "      <th>2018-01-08</th>\n",
       "      <td>2742.669922</td>\n",
       "      <td>2748.510010</td>\n",
       "      <td>2737.600098</td>\n",
       "      <td>2747.709961</td>\n",
       "      <td>2747.709961</td>\n",
       "      <td>3246160000</td>\n",
       "      <td>0.001662</td>\n",
       "    </tr>\n",
       "  </tbody>\n",
       "</table>\n",
       "</div>"
      ],
      "text/plain": [
       "                   Open         High          Low        Close    Adj Close  \\\n",
       "Date                                                                          \n",
       "2018-01-02  2683.729980  2695.889893  2682.360107  2695.810059  2695.810059   \n",
       "2018-01-03  2697.850098  2714.370117  2697.770020  2713.060059  2713.060059   \n",
       "2018-01-04  2719.310059  2729.290039  2719.070068  2723.989990  2723.989990   \n",
       "2018-01-05  2731.330078  2743.449951  2727.919922  2743.149902  2743.149902   \n",
       "2018-01-08  2742.669922  2748.510010  2737.600098  2747.709961  2747.709961   \n",
       "\n",
       "                Volume    Return  \n",
       "Date                              \n",
       "2018-01-02  3397430000       NaN  \n",
       "2018-01-03  3544030000  0.006399  \n",
       "2018-01-04  3697340000  0.004029  \n",
       "2018-01-05  3239280000  0.007034  \n",
       "2018-01-08  3246160000  0.001662  "
      ]
     },
     "execution_count": 65,
     "metadata": {},
     "output_type": "execute_result"
    }
   ],
   "source": [
    "df.head()"
   ]
  },
  {
   "cell_type": "code",
   "execution_count": 66,
   "id": "996ea4ba",
   "metadata": {},
   "outputs": [
    {
     "data": {
      "image/png": "[encoded data removed]",
      "text/plain": [
       "<Figure size 1100x400 with 1 Axes>"
      ]
     },
     "metadata": {},
     "output_type": "display_data"
    }
   ],
   "source": [
    "# Visualize the return data\n",
    "plt.figure(figsize=(11, 4))\n",
    "plt.plot(df['Return'], label='Return')\n",
    "plt.title('Relative Return of Close Prices of S&P 500')\n",
    "plt.xlabel('Time')\n",
    "plt.ylabel('Return')\n",
    "plt.legend()\n",
    "plt.show()"
   ]
  },
  {
   "cell_type": "code",
   "execution_count": 67,
   "id": "29f75dc0",
   "metadata": {
    "scrolled": true
   },
   "outputs": [
    {
     "data": {
      "text/html": [
       "<div>\n",
       "<style scoped>\n",
       "    .dataframe tbody tr th:only-of-type {\n",
       "        vertical-align: middle;\n",
       "    }\n",
       "\n",
       "    .dataframe tbody tr th {\n",
       "        vertical-align: top;\n",
       "    }\n",
       "\n",
       "    .dataframe thead th {\n",
       "        text-align: right;\n",
       "    }\n",
       "</style>\n",
       "<table border=\"1\" class=\"dataframe\">\n",
       "  <thead>\n",
       "    <tr style=\"text-align: right;\">\n",
       "      <th></th>\n",
       "      <th>count</th>\n",
       "      <th>mean</th>\n",
       "      <th>std</th>\n",
       "      <th>min</th>\n",
       "      <th>25%</th>\n",
       "      <th>50%</th>\n",
       "      <th>75%</th>\n",
       "      <th>max</th>\n",
       "    </tr>\n",
       "  </thead>\n",
       "  <tbody>\n",
       "    <tr>\n",
       "      <th>Open</th>\n",
       "      <td>1608.0</td>\n",
       "      <td>3.677670e+03</td>\n",
       "      <td>7.576691e+02</td>\n",
       "      <td>2.290710e+03</td>\n",
       "      <td>2.909722e+03</td>\n",
       "      <td>3.793095e+03</td>\n",
       "      <td>4.327302e+03</td>\n",
       "      <td>5.319280e+03</td>\n",
       "    </tr>\n",
       "    <tr>\n",
       "      <th>High</th>\n",
       "      <td>1608.0</td>\n",
       "      <td>3.699071e+03</td>\n",
       "      <td>7.600131e+02</td>\n",
       "      <td>2.300730e+03</td>\n",
       "      <td>2.920995e+03</td>\n",
       "      <td>3.828065e+03</td>\n",
       "      <td>4.359100e+03</td>\n",
       "      <td>5.325490e+03</td>\n",
       "    </tr>\n",
       "    <tr>\n",
       "      <th>Low</th>\n",
       "      <td>1608.0</td>\n",
       "      <td>3.654851e+03</td>\n",
       "      <td>7.559315e+02</td>\n",
       "      <td>2.191860e+03</td>\n",
       "      <td>2.895690e+03</td>\n",
       "      <td>3.757215e+03</td>\n",
       "      <td>4.289650e+03</td>\n",
       "      <td>5.302400e+03</td>\n",
       "    </tr>\n",
       "    <tr>\n",
       "      <th>Close</th>\n",
       "      <td>1608.0</td>\n",
       "      <td>3.678279e+03</td>\n",
       "      <td>7.582725e+02</td>\n",
       "      <td>2.237400e+03</td>\n",
       "      <td>2.906863e+03</td>\n",
       "      <td>3.796535e+03</td>\n",
       "      <td>4.327315e+03</td>\n",
       "      <td>5.321410e+03</td>\n",
       "    </tr>\n",
       "    <tr>\n",
       "      <th>Adj Close</th>\n",
       "      <td>1608.0</td>\n",
       "      <td>3.678279e+03</td>\n",
       "      <td>7.582725e+02</td>\n",
       "      <td>2.237400e+03</td>\n",
       "      <td>2.906863e+03</td>\n",
       "      <td>3.796535e+03</td>\n",
       "      <td>4.327315e+03</td>\n",
       "      <td>5.321410e+03</td>\n",
       "    </tr>\n",
       "    <tr>\n",
       "      <th>Volume</th>\n",
       "      <td>1608.0</td>\n",
       "      <td>4.181293e+09</td>\n",
       "      <td>1.021056e+09</td>\n",
       "      <td>1.296530e+09</td>\n",
       "      <td>3.561815e+09</td>\n",
       "      <td>3.958595e+09</td>\n",
       "      <td>4.542580e+09</td>\n",
       "      <td>9.976520e+09</td>\n",
       "    </tr>\n",
       "    <tr>\n",
       "      <th>Return</th>\n",
       "      <td>1607.0</td>\n",
       "      <td>5.030780e-04</td>\n",
       "      <td>1.273843e-02</td>\n",
       "      <td>-1.198406e-01</td>\n",
       "      <td>-4.771070e-03</td>\n",
       "      <td>8.370427e-04</td>\n",
       "      <td>6.887255e-03</td>\n",
       "      <td>9.382774e-02</td>\n",
       "    </tr>\n",
       "  </tbody>\n",
       "</table>\n",
       "</div>"
      ],
      "text/plain": [
       "            count          mean           std           min           25%  \\\n",
       "Open       1608.0  3.677670e+03  7.576691e+02  2.290710e+03  2.909722e+03   \n",
       "High       1608.0  3.699071e+03  7.600131e+02  2.300730e+03  2.920995e+03   \n",
       "Low        1608.0  3.654851e+03  7.559315e+02  2.191860e+03  2.895690e+03   \n",
       "Close      1608.0  3.678279e+03  7.582725e+02  2.237400e+03  2.906863e+03   \n",
       "Adj Close  1608.0  3.678279e+03  7.582725e+02  2.237400e+03  2.906863e+03   \n",
       "Volume     1608.0  4.181293e+09  1.021056e+09  1.296530e+09  3.561815e+09   \n",
       "Return     1607.0  5.030780e-04  1.273843e-02 -1.198406e-01 -4.771070e-03   \n",
       "\n",
       "                    50%           75%           max  \n",
       "Open       3.793095e+03  4.327302e+03  5.319280e+03  \n",
       "High       3.828065e+03  4.359100e+03  5.325490e+03  \n",
       "Low        3.757215e+03  4.289650e+03  5.302400e+03  \n",
       "Close      3.796535e+03  4.327315e+03  5.321410e+03  \n",
       "Adj Close  3.796535e+03  4.327315e+03  5.321410e+03  \n",
       "Volume     3.958595e+09  4.542580e+09  9.976520e+09  \n",
       "Return     8.370427e-04  6.887255e-03  9.382774e-02  "
      ]
     },
     "execution_count": 67,
     "metadata": {},
     "output_type": "execute_result"
    }
   ],
   "source": [
    "# Descriptive statistics\n",
    "df.describe().T"
   ]
  },
  {
   "cell_type": "markdown",
   "id": "01984864",
   "metadata": {},
   "source": [
    "Check if original data needs cleaning + clean appropriately"
   ]
  },
  {
   "cell_type": "code",
   "execution_count": 68,
   "id": "d43f1b35",
   "metadata": {},
   "outputs": [
    {
     "data": {
      "text/plain": [
       "Open         0\n",
       "High         0\n",
       "Low          0\n",
       "Close        0\n",
       "Adj Close    0\n",
       "Volume       0\n",
       "Return       1\n",
       "dtype: int64"
      ]
     },
     "execution_count": 68,
     "metadata": {},
     "output_type": "execute_result"
    }
   ],
   "source": [
    " # Check for missing values\n",
    "df.isnull().sum()"
   ]
  },
  {
   "cell_type": "markdown",
   "id": "7430546d",
   "metadata": {},
   "source": [
    "Clean the data + remove NaN value from \"Return\" column:"
   ]
  },
  {
   "cell_type": "code",
   "execution_count": 69,
   "id": "c2aa579c",
   "metadata": {},
   "outputs": [
    {
     "data": {
      "text/plain": [
       "Open         0\n",
       "High         0\n",
       "Low          0\n",
       "Close        0\n",
       "Adj Close    0\n",
       "Volume       0\n",
       "Return       0\n",
       "dtype: int64"
      ]
     },
     "execution_count": 69,
     "metadata": {},
     "output_type": "execute_result"
    }
   ],
   "source": [
    "df = df.dropna()  # drop NaN values\n",
    "df.isnull().sum()"
   ]
  },
  {
   "cell_type": "markdown",
   "id": "7fb5021e",
   "metadata": {},
   "source": [
    "#### Feature engineering\n",
    "\n",
    "Features are independent variables which are used to determine the value of the target variable. We will generate a set of features from the downloaded dataset. Some feature engineering follows [2], consisting of statistical measures, spreads, moving averages of various other quantifiers on the downloaded data set. An additional interesting feature could be the Moving Average Convergence Divergence (MACD) [6], calculated as the difference between the 12-day EMA and the 26-day EMA. This MACD is often used in trend analysis of stock markets. Some of the generated features will likely be correlated, but we can analyze in the following."
   ]
  },
  {
   "cell_type": "code",
   "execution_count": 70,
   "id": "ea270caf",
   "metadata": {},
   "outputs": [
    {
     "data": {
      "text/html": [
       "<div>\n",
       "<style scoped>\n",
       "    .dataframe tbody tr th:only-of-type {\n",
       "        vertical-align: middle;\n",
       "    }\n",
       "\n",
       "    .dataframe tbody tr th {\n",
       "        vertical-align: top;\n",
       "    }\n",
       "\n",
       "    .dataframe thead th {\n",
       "        text-align: right;\n",
       "    }\n",
       "</style>\n",
       "<table border=\"1\" class=\"dataframe\">\n",
       "  <thead>\n",
       "    <tr style=\"text-align: right;\">\n",
       "      <th></th>\n",
       "      <th>Adj Close</th>\n",
       "      <th>Return</th>\n",
       "      <th>O-C</th>\n",
       "      <th>H-L</th>\n",
       "      <th>Sign</th>\n",
       "      <th>Past Return_1</th>\n",
       "      <th>Past Return_2</th>\n",
       "      <th>Past Return_3</th>\n",
       "      <th>Past Return_5</th>\n",
       "      <th>Past Return_10</th>\n",
       "      <th>Past Return_30</th>\n",
       "      <th>Momentum</th>\n",
       "      <th>SMA</th>\n",
       "      <th>EMA</th>\n",
       "    </tr>\n",
       "    <tr>\n",
       "      <th>Date</th>\n",
       "      <th></th>\n",
       "      <th></th>\n",
       "      <th></th>\n",
       "      <th></th>\n",
       "      <th></th>\n",
       "      <th></th>\n",
       "      <th></th>\n",
       "      <th></th>\n",
       "      <th></th>\n",
       "      <th></th>\n",
       "      <th></th>\n",
       "      <th></th>\n",
       "      <th></th>\n",
       "      <th></th>\n",
       "    </tr>\n",
       "  </thead>\n",
       "  <tbody>\n",
       "    <tr>\n",
       "      <th>2018-02-15</th>\n",
       "      <td>2731.199951</td>\n",
       "      <td>0.012069</td>\n",
       "      <td>-17.739990</td>\n",
       "      <td>41.689941</td>\n",
       "      <td>1.0</td>\n",
       "      <td>0.013402</td>\n",
       "      <td>0.002613</td>\n",
       "      <td>0.013915</td>\n",
       "      <td>-0.037536</td>\n",
       "      <td>-0.000648</td>\n",
       "      <td>0.006399</td>\n",
       "      <td>18.139893</td>\n",
       "      <td>2757.872648</td>\n",
       "      <td>2731.731264</td>\n",
       "    </tr>\n",
       "    <tr>\n",
       "      <th>2018-02-16</th>\n",
       "      <td>2732.219971</td>\n",
       "      <td>0.000373</td>\n",
       "      <td>-5.080078</td>\n",
       "      <td>29.309814</td>\n",
       "      <td>1.0</td>\n",
       "      <td>0.012069</td>\n",
       "      <td>0.013402</td>\n",
       "      <td>0.002613</td>\n",
       "      <td>0.014936</td>\n",
       "      <td>-0.021209</td>\n",
       "      <td>0.004029</td>\n",
       "      <td>8.229980</td>\n",
       "      <td>2758.146981</td>\n",
       "      <td>2731.762794</td>\n",
       "    </tr>\n",
       "    <tr>\n",
       "      <th>2018-02-20</th>\n",
       "      <td>2716.260010</td>\n",
       "      <td>-0.005841</td>\n",
       "      <td>6.729980</td>\n",
       "      <td>30.840088</td>\n",
       "      <td>-1.0</td>\n",
       "      <td>0.000373</td>\n",
       "      <td>0.012069</td>\n",
       "      <td>0.013402</td>\n",
       "      <td>0.013915</td>\n",
       "      <td>-0.040979</td>\n",
       "      <td>0.007034</td>\n",
       "      <td>-26.889893</td>\n",
       "      <td>2757.250651</td>\n",
       "      <td>2730.762614</td>\n",
       "    </tr>\n",
       "    <tr>\n",
       "      <th>2018-02-21</th>\n",
       "      <td>2701.330078</td>\n",
       "      <td>-0.005497</td>\n",
       "      <td>19.199951</td>\n",
       "      <td>46.459961</td>\n",
       "      <td>-1.0</td>\n",
       "      <td>-0.005841</td>\n",
       "      <td>0.000373</td>\n",
       "      <td>0.012069</td>\n",
       "      <td>0.002613</td>\n",
       "      <td>0.017441</td>\n",
       "      <td>0.001662</td>\n",
       "      <td>-46.379883</td>\n",
       "      <td>2755.704655</td>\n",
       "      <td>2728.863741</td>\n",
       "    </tr>\n",
       "    <tr>\n",
       "      <th>2018-02-22</th>\n",
       "      <td>2703.959961</td>\n",
       "      <td>0.000974</td>\n",
       "      <td>6.459961</td>\n",
       "      <td>33.489990</td>\n",
       "      <td>1.0</td>\n",
       "      <td>-0.005497</td>\n",
       "      <td>-0.005841</td>\n",
       "      <td>0.000373</td>\n",
       "      <td>0.013402</td>\n",
       "      <td>-0.005002</td>\n",
       "      <td>0.001303</td>\n",
       "      <td>-47.330078</td>\n",
       "      <td>2754.126986</td>\n",
       "      <td>2727.257045</td>\n",
       "    </tr>\n",
       "  </tbody>\n",
       "</table>\n",
       "</div>"
      ],
      "text/plain": [
       "              Adj Close    Return        O-C        H-L  Sign  Past Return_1  \\\n",
       "Date                                                                           \n",
       "2018-02-15  2731.199951  0.012069 -17.739990  41.689941   1.0       0.013402   \n",
       "2018-02-16  2732.219971  0.000373  -5.080078  29.309814   1.0       0.012069   \n",
       "2018-02-20  2716.260010 -0.005841   6.729980  30.840088  -1.0       0.000373   \n",
       "2018-02-21  2701.330078 -0.005497  19.199951  46.459961  -1.0      -0.005841   \n",
       "2018-02-22  2703.959961  0.000974   6.459961  33.489990   1.0      -0.005497   \n",
       "\n",
       "            Past Return_2  Past Return_3  Past Return_5  Past Return_10  \\\n",
       "Date                                                                      \n",
       "2018-02-15       0.002613       0.013915      -0.037536       -0.000648   \n",
       "2018-02-16       0.013402       0.002613       0.014936       -0.021209   \n",
       "2018-02-20       0.012069       0.013402       0.013915       -0.040979   \n",
       "2018-02-21       0.000373       0.012069       0.002613        0.017441   \n",
       "2018-02-22      -0.005841       0.000373       0.013402       -0.005002   \n",
       "\n",
       "            Past Return_30   Momentum          SMA          EMA  \n",
       "Date                                                             \n",
       "2018-02-15        0.006399  18.139893  2757.872648  2731.731264  \n",
       "2018-02-16        0.004029   8.229980  2758.146981  2731.762794  \n",
       "2018-02-20        0.007034 -26.889893  2757.250651  2730.762614  \n",
       "2018-02-21        0.001662 -46.379883  2755.704655  2728.863741  \n",
       "2018-02-22        0.001303 -47.330078  2754.126986  2727.257045  "
      ]
     },
     "execution_count": 70,
     "metadata": {},
     "output_type": "execute_result"
    }
   ],
   "source": [
    "def get_features(df):\n",
    "    df['O-C'] = df['Open'] - df['Close']  # difference between open and close prices, measuring intraday movement range\n",
    "    df['H-L'] = df['High'] - df['Low']  # difference between high and low prices, measuring intraday range\n",
    "    df['Sign'] = np.sign(np.log(df['Close'] / df['Close'].shift(1)))  # sign of return\n",
    "\n",
    "    for lag in [1, 2, 3, 5, 10, 30]:  # lagged returns for different lag periods\n",
    "        df[f'Past Return_{lag}'] = df['Return'].shift(lag)\n",
    "\n",
    "    for momentum_period in [1, 2, 3, 5, 10, 30]:  # price change over different momentum periods\n",
    "        df['Momentum'] = df['Close'] - df['Close'].shift(momentum_period)\n",
    "\n",
    "    for sma_period in [1, 2, 3, 5, 10, 30]:  # simple moving average over various time periods\n",
    "        df['SMA'] = df['Close'].rolling(window=sma_period).mean()\n",
    "\n",
    "    for ema_period in [1, 2, 3, 5, 10, 30]:  # exponential moving average over various time periods\n",
    "        df['EMA'] = df['Close'].ewm(span=ema_period, adjust=False).mean()\n",
    "\n",
    "    df.dropna(inplace=True)\n",
    "    features = df.drop(['Open', 'High', 'Low', 'Close', 'Volume'], axis=1)\n",
    "    return features\n",
    "\n",
    "\n",
    "features = get_features(df)\n",
    "features.head()"
   ]
  },
  {
   "cell_type": "markdown",
   "id": "e3121c93",
   "metadata": {},
   "source": [
    "#### Label specification\n",
    "\n",
    "For general trend analysis, we would like to include slight drops of up to 0.25% in the closing price of S&P500 still part of the positive class (1), so we design our target variable as follows:"
   ]
  },
  {
   "cell_type": "code",
   "execution_count": 71,
   "id": "8dba3e26",
   "metadata": {},
   "outputs": [],
   "source": [
    "def get_target(df):\n",
    "    # for trend prediction, contain days with small decrease (< 0.25%) in asset close price also within positive class\n",
    "    return np.where(df['Close'].shift(-1) > 0.9975 * df['Close'], 1, 0)"
   ]
  },
  {
   "cell_type": "code",
   "execution_count": 72,
   "id": "ce2a3bf8",
   "metadata": {},
   "outputs": [
    {
     "data": {
      "text/plain": [
       "1    1054\n",
       "0     523\n",
       "Name: count, dtype: int64"
      ]
     },
     "execution_count": 72,
     "metadata": {},
     "output_type": "execute_result"
    }
   ],
   "source": [
    "X = features.values\n",
    "y = get_target(df)\n",
    "\n",
    "# Check Class Imbalance\n",
    "pd.Series(y).value_counts()"
   ]
  },
  {
   "cell_type": "markdown",
   "id": "0276b8a2",
   "metadata": {},
   "source": [
    "We observe that the number of days where the S&P closed positively w.r.t. our definition (i.e. at least at 99.75% of the previous day's closing price; class variable 1) are higher than the number of days where the index closed negatively (class variable 0)."
   ]
  },
  {
   "cell_type": "markdown",
   "id": "c37e43b3",
   "metadata": {},
   "source": [
    "#### Split data\n",
    "\n",
    "Before we dive deeper into feature selection, we want to split our data into testing and training data."
   ]
  },
  {
   "cell_type": "code",
   "execution_count": 73,
   "id": "ff90fdba",
   "metadata": {},
   "outputs": [],
   "source": [
    "from sklearn.model_selection import train_test_split\n",
    "\n",
    "X_train, X_test, y_train, y_test = train_test_split(X, y, test_size=0.2, shuffle=False)"
   ]
  },
  {
   "cell_type": "code",
   "execution_count": null,
   "id": "e909900f",
   "metadata": {},
   "outputs": [],
   "source": []
  },
  {
   "cell_type": "code",
   "execution_count": null,
   "id": "43b5d613",
   "metadata": {},
   "outputs": [],
   "source": []
  },
  {
   "cell_type": "code",
   "execution_count": null,
   "id": "6046d40b",
   "metadata": {},
   "outputs": [],
   "source": []
  },
  {
   "cell_type": "code",
   "execution_count": null,
   "id": "ca46f09c",
   "metadata": {},
   "outputs": [],
   "source": []
  },
  {
   "cell_type": "code",
   "execution_count": null,
   "id": "620b57cb",
   "metadata": {},
   "outputs": [],
   "source": []
  },
  {
   "cell_type": "code",
   "execution_count": null,
   "id": "e7e4b18e",
   "metadata": {},
   "outputs": [],
   "source": []
  },
  {
   "cell_type": "code",
   "execution_count": null,
   "id": "39d660d6",
   "metadata": {},
   "outputs": [],
   "source": []
  },
  {
   "cell_type": "code",
   "execution_count": null,
   "id": "5c4653b6",
   "metadata": {},
   "outputs": [],
   "source": []
  },
  {
   "cell_type": "code",
   "execution_count": 53,
   "id": "0f33d7cb",
   "metadata": {},
   "outputs": [
    {
     "name": "stdout",
     "output_type": "stream",
     "text": [
      "Accuracy: 0.5506329113924051\n",
      "Classification Report:\n",
      "              precision    recall  f1-score   support\n",
      "\n",
      "           0       0.00      0.00      0.00       142\n",
      "           1       0.55      1.00      0.71       174\n",
      "\n",
      "    accuracy                           0.55       316\n",
      "   macro avg       0.28      0.50      0.36       316\n",
      "weighted avg       0.30      0.55      0.39       316\n",
      "\n"
     ]
    }
   ],
   "source": [
    "from sklearn.model_selection import train_test_split\n",
    "from sklearn.svm import SVC\n",
    "from sklearn.metrics import classification_report, accuracy_score\n",
    "\n",
    "\n",
    "# Step 3: Create a target variable for uptrends\n",
    "df['Up Trend'] = np.where(df['Return'] > 0, 1, 0)\n",
    "\n",
    "# Step 4: Drop NaN values (first row will have NaN return)\n",
    "df = df.dropna()\n",
    "\n",
    "# Step 5: Prepare features and target variable\n",
    "X = df[['Return']]  # Using 'Return' as the only feature\n",
    "y = df['Up Trend']\n",
    "\n",
    "# Step 6: Split the data into training and testing sets\n",
    "X_train, X_test, y_train, y_test = train_test_split(X, y, test_size=0.2, shuffle=False)\n",
    "\n",
    "# Step 7: Train the SVM model\n",
    "model = SVC(kernel='linear')  # Using a linear kernel\n",
    "model.fit(X_train, y_train)\n",
    "\n",
    "# Step 8: Predict on the testing set\n",
    "y_pred = model.predict(X_test)\n",
    "\n",
    "# Step 9: Evaluate the model\n",
    "accuracy = accuracy_score(y_test, y_pred)\n",
    "report = classification_report(y_test, y_pred)\n",
    "\n",
    "print(\"Accuracy:\", accuracy)\n",
    "print(\"Classification Report:\")\n",
    "print(report)\n"
   ]
  },
  {
   "cell_type": "code",
   "execution_count": null,
   "id": "b987090b",
   "metadata": {},
   "outputs": [],
   "source": []
  },
  {
   "cell_type": "code",
   "execution_count": null,
   "id": "b1d3810a",
   "metadata": {},
   "outputs": [],
   "source": []
  },
  {
   "cell_type": "code",
   "execution_count": null,
   "id": "93f35cde",
   "metadata": {},
   "outputs": [],
   "source": []
  },
  {
   "cell_type": "markdown",
   "id": "f81de29b",
   "metadata": {},
   "source": [
    "## References\n",
    "\n",
    "* [1]: JA244.5: Lecture Notes on Supervised Learning II by Kannan Singaravelu, CQF Faculty\n",
    "* [2]: JA24P10: CQF Python Labs on Trend prediction using Logistic Regression by Kannan Singaravelu\n",
    "* [3]: JA244.6: Lecture Notes on Decision Trees & Ensemble Models by Dr. Panos Parpas, CQF Associate Faculty\n",
    "* [4]: JA24P11: CQF Python Labs on Gradient Boosting for Price Prediction by Kannan Singaravelu\n",
    "* [5]: JA244.4: Lecture Notes on Supervised Learning I by Kannan Singaravelu, CQF Faculty\n",
    "* [6]: [Investopedia explanation of MACD](https://www.investopedia.com/terms/m/macd.asp)"
   ]
  },
  {
   "cell_type": "code",
   "execution_count": null,
   "id": "747d7399",
   "metadata": {},
   "outputs": [],
   "source": []
  }
 ],
 "metadata": {
  "kernelspec": {
   "display_name": "Python 3 (ipykernel)",
   "language": "python",
   "name": "python3"
  },
  "language_info": {
   "codemirror_mode": {
    "name": "ipython",
    "version": 3
   },
   "file_extension": ".py",
   "mimetype": "text/x-python",
   "name": "python",
   "nbconvert_exporter": "python",
   "pygments_lexer": "ipython3",
   "version": "3.11.5"
  }
 },
 "nbformat": 4,
 "nbformat_minor": 5
}
