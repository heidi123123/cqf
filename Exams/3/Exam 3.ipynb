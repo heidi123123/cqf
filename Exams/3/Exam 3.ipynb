{
 "cells": [
  {
   "cell_type": "markdown",
   "id": "8db2d8f9",
   "metadata": {},
   "source": [
    "# CQF Exam 3\n",
    "\n",
    "## January 2024 Cohort"
   ]
  },
  {
   "cell_type": "markdown",
   "id": "cb8ad20b",
   "metadata": {},
   "source": [
    "## Task 1\n",
    "\n",
    "What is the cost function of Logistic Regression? Explain in Detail."
   ]
  },
  {
   "cell_type": "markdown",
   "id": "ef57e393",
   "metadata": {},
   "source": [
    "### Answer:\n",
    "This follows mostly [1] (p. 7-10, 25-26) and [2].\n",
    "\n",
    "Logistic regression is one of the most used machine learning methods for classification mapping qualitative data onto categorical variables, e.g. either 0 or 1. The cost function derived for logistic regression is the so-called Binary Cross Entropy cost function and can be derived as follows:\n",
    "\n",
    "***1. Logistic probability predictor via logit function***\n",
    "\n",
    "To model the probability $p$ of the classification mapping to 1, we can invert the logit function that converts log-odds to probabilities $$logit(p) = \\log\\left(\\frac{p}{1 - p}\\right)=z,$$ solving for $$p=\\frac{1}{1 + e^{-z}}=:\\sigma(z).$$ This so-called sigmoid function can be used to model probabilities as it yields values between 0 and 1, as can seen per plot below:"
   ]
  },
  {
   "cell_type": "code",
   "execution_count": 496,
   "id": "1ce3bbd7",
   "metadata": {
    "scrolled": false
   },
   "outputs": [
    {
     "data": {
      "image/png": "[encoded data removed]",
      "text/plain": [
       "<Figure size 640x480 with 1 Axes>"
      ]
     },
     "metadata": {},
     "output_type": "display_data"
    }
   ],
   "source": [
    "import numpy as np\n",
    "import matplotlib.pyplot as plt\n",
    "\n",
    "\n",
    "def sigmoid(z):\n",
    "    return 1 / (1 + np.exp(-z))\n",
    "\n",
    "z = np.linspace(-10, 10, 100)\n",
    "p = sigmoid(z)\n",
    "\n",
    "plt.figure()\n",
    "plt.plot(z, p)\n",
    "plt.title('Sigmoid function $\\sigma(z)$')\n",
    "plt.xlabel('z')\n",
    "plt.ylabel('p')\n",
    "plt.show()"
   ]
  },
  {
   "cell_type": "markdown",
   "id": "79c66d9d",
   "metadata": {},
   "source": [
    "Now, the predictor function for a training data point $(x,y)$ is given by the sigmoid function applied to the linear combination of input features:\n",
    "$$\\hat{y}=P(Y=1|X=x) = \\sigma(\\mathbf{w}\\cdot\\mathbf{x}).$$\n",
    "\n",
    "***2. Probability of the output $y$***\n",
    "\n",
    "For a given input $x$ and its corresponding label $y$:\n",
    "$$P(Y=y|X=x)=\n",
    "\\begin{cases}\n",
    "\\hat{y} = \\sigma(\\mathbf{w}\\cdot\\mathbf{x}) & \\text{if } y=1\\\\\n",
    "1-\\hat{y} = 1-\\sigma(\\mathbf{w}\\cdot\\mathbf{x}) & \\text{if } y=0.\n",
    "\\end{cases}$$\n",
    "\n",
    "***3. Bernoulli distribution***\n",
    "\n",
    "If $y$ can either take values 0 or 1, then $Y \\sim \\text{Ber}(p)$ follows a Bernoulli distribution with $p = \\sigma(\\mathbf{w} \\cdot \\mathbf{x})$. Hence:\n",
    "\\begin{align*}\n",
    "P(Y=y|X=x) &=p^y \\cdot (1-p)^{(1-y)}\\\\\n",
    "&=\\sigma(\\mathbf{w}\\cdot\\mathbf{x})^y \\cdot \\left(1-\\sigma(\\mathbf{w}\\cdot\\mathbf{x})\\right)^{(1-y)}\\\\\n",
    "&=\\hat{y}^y \\cdot \\left(1-\\hat{y}\\right)^{(1-y)}\n",
    "\\end{align*}\n",
    "\n",
    "***4. Log-likelihood***\n",
    "\n",
    "Taking the natural logarithm of the probability of the above and applying logarithm laws yields\n",
    "$$\\log P(Y=y|X=x) = y\\log(\\hat{y}) + (1-y)\\log(1-\\hat{y}).$$\n",
    "\n",
    "***5. Cost function for one training data point $(x,y)$***\n",
    "\n",
    "To convert this problem into a minimization problem, we consider the negative of the log-likelihood. For a single training example $(x,y)$, we obtain the cost function:\n",
    "$$L(\\hat{y}, y) = -\\log P(y|x) = -\\left(y\\log(\\hat{y}) + (1-y)\\log(1-\\hat{y})\\right)$$\n",
    "\n",
    "***6. Cost function for the entire dataset***\n",
    "\n",
    "To get the cost function for the entire training dataset, we sum over all training examples and take the average. If we have $n$ training examples, the cost function called the *Binary Cross Entropy function* is then obtained as\n",
    "\\begin{align*}\n",
    "J(\\mathbf{w}) &= -\\frac{1}{n}\\sum_{i=1}^{n} \\left( y^{(i)}\\log(\\hat{y}^{(i)}) + (1-y^{(i)})\\log(1-\\hat{y}^{(i)})\\right)\\\\\n",
    " &= -\\frac{1}{n}\\sum_{i=1}^{n} \\left( y^{(i)}\\log(\\sigma(\\mathbf{w}\\cdot x^{(i)})) + (1-y^{(i)})\\log(1-\\sigma(\\mathbf{w}\\cdot x^{(i)}))\\right)\\\\\n",
    " &= -\\frac{1}{n}\\sum_{i=1}^{n} \\left( y^{(i)}\\log(\\hat{p}^{(i)}) + (1-y^{(i)})\\log(1-\\hat{p}^{(i)})\\right)\n",
    "\\end{align*}\n",
    "\n",
    "This cost function is minimized to train the logistic regression model, leading to optimal parameters $\\mathbf{w}$ that best fit the training data. Since the function is convex, we can use gradient descent to find the global minimum."
   ]
  },
  {
   "cell_type": "markdown",
   "id": "7d42ab31",
   "metadata": {},
   "source": [
    "## Task 2\n",
    "\n",
    "What are voting classifers in ensemble learning?"
   ]
  },
  {
   "cell_type": "markdown",
   "id": "29e3605b",
   "metadata": {},
   "source": [
    "### Answer:\n",
    "This follows mostly [3] and [4].\n",
    "\n",
    "Ensemble models are machine learning models that combine multiple individual predictors to arrive at a prediction. A group of predictors forms an ensemble. The idea is that the collective of multiple models often produces better results than a single model in both efficiency and accuracy. To combine the various classifiers into a final predictor, there are different voting classifiers, such as:\n",
    "\n",
    "**1. Arithmetic averaging**: Each individual model makes a prediction. The final prediction determined by taking the arithmetic average over all individual predictions. This voting style is used in Bagging algorithms like Random Forests which use Decision Trees and can help to reduce variance (help with overfitting).\n",
    "\n",
    "As a prominent example, the final estimator to a regression problem employing Random Forests sampled into $M$ data sets from the original data set $\\mathcal{D}: \\mathcal{D}_1,...,\\mathcal{D}_M$ trained to maximum depth $f(x,\\mathcal{D}_i)$ is given by\n",
    "$$\\hat{f}(x) = \\frac{1}{M}\\sum_{i=1}^{M}f(x;\\mathcal{D}_i).$$\n",
    "\n",
    "**2. Weighted vote classifiers**: This approach is often used in Boosting algorithms with base models that are weak learning algorithms, i.e. only *slightly* better than chance (e.g. decision tree with low depth and high bias). Boosting algorithms are addititive models which are sequentially trained on smaller structures. Each model aims to correct the errors of its predecessor by adjusting weights used in the weighted average, while the metric to measure (and therefore correct) the error of the predecessor model may vary depending on loss function. Such Boosting algorithms like AdaBoost or Gradient Boosting can help to reduce bias.\n",
    "\n",
    "As a prominent example, the final estimator to a classification problem with $(x_i,y_i)\\in(X,\\pm 1)$ of AdaBoost sampled over $M$ weak learners $G_m(x_i)$ is given by the weighted sum\n",
    "$$\\hat{G}(x) = \\text{sign}\\left(\\sum_{m=1}^{M} \\alpha_m G_m(x)\\right).$$\n",
    "The weights $\\alpha_m = \\ln\\left(\\frac{1 - e_m}{e_m}\\right)$ will focus more on weak learners with high errors $$e_m = \\frac{\\sum_{i=1}^{N} w_i \\mathbb{1}_{y_i\\neq G(x_i)}}{\\sum_{i=1}^{N} w_i}$$\n",
    "in an attempt to improve the weakest weak learners. The data points $(x_i,y_i)$ are then re-weighted to finally obtain the final ensemble prediction.\n",
    "\n",
    "**3. Hard voting**: This is a majority voting classifier where the final predictor will be determined by choosing the prediction with the most votes among the individual models. It is often used in classification algorithms, according to Dr. Panos Parpas' lecture, this is e.g. used in Bagging algorithms tailored for classification rather than regression problems. In this method, each model casts a vote for a class, and the class with the most votes is chosen as the final prediction.\n",
    "\n",
    "**4. Soft Voting**: Unlike hard voting which counts the votes of each classifier in the ensemble and selects the class with the most votes, soft voting calculates the average predicted probabilities of each class for all classifiers and selects the class with the highest average probability. This can provide a more accurate prediction because soft voting also considers the confidence of each model."
   ]
  },
  {
   "cell_type": "markdown",
   "id": "07089a95",
   "metadata": {},
   "source": [
    "## Task 3: Short-term asset return prediction\n",
    "\n",
    "Follow the 7-steps to model building for your selected ticker,\n",
    "\n",
    "* (a) produce a model to predict positive moves (up trend) using Support Vector Machine (SVM) model.\n",
    "* (b) tune hyperparameters for the estimator and present the best model.\n",
    "* (c) investigate the prediction quality using area under ROC curve, confusion matrix and classification report."
   ]
  },
  {
   "cell_type": "markdown",
   "id": "cac85ff7",
   "metadata": {},
   "source": [
    "### Answer:\n",
    "The 7 steps to model building are explained in [5] as follows:\n",
    "\n",
    "1. Understand the problem\n",
    "2. Collect data\n",
    "3. Explore data (visualization!)\n",
    "4. Clean data (pre-process)\n",
    "5. Transform data (normalization)\n",
    "6. Select the appropriate model + train\n",
    "7. Validate the model\n",
    "\n",
    "We shall now implement these on the asset price of Tesla (ticker: TSLA) following mostly the approach from Python Labs [2] with some adjustments."
   ]
  },
  {
   "cell_type": "code",
   "execution_count": 515,
   "id": "7c06b0a6",
   "metadata": {},
   "outputs": [],
   "source": [
    "# Ignore warnings\n",
    "import warnings\n",
    "warnings.filterwarnings('ignore')\n",
    "\n",
    "import matplotlib.pyplot as plt\n",
    "import numpy as np\n",
    "import pandas as pd\n",
    "import seaborn as sns\n",
    "import yfinance as yf\n",
    "from sklearn.ensemble import RandomForestClassifier\n",
    "from sklearn.feature_selection import SelectKBest, f_classif, RFECV\n",
    "from sklearn.metrics import roc_curve, confusion_matrix, accuracy_score, RocCurveDisplay, classification_report\n",
    "from sklearn.model_selection import train_test_split, TimeSeriesSplit, GridSearchCV\n",
    "from sklearn.svm import SVC\n",
    "from statsmodels.stats.outliers_influence import variance_inflation_factor"
   ]
  },
  {
   "cell_type": "code",
   "execution_count": 516,
   "id": "97464d27",
   "metadata": {},
   "outputs": [],
   "source": [
    "ticker = \"TSLA\"  # specify ticker"
   ]
  },
  {
   "cell_type": "code",
   "execution_count": 517,
   "id": "93e7e43c",
   "metadata": {
    "scrolled": true
   },
   "outputs": [
    {
     "name": "stderr",
     "output_type": "stream",
     "text": [
      "[*********************100%%**********************]  1 of 1 completed\n"
     ]
    },
    {
     "data": {
      "text/html": [
       "<div>\n",
       "<style scoped>\n",
       "    .dataframe tbody tr th:only-of-type {\n",
       "        vertical-align: middle;\n",
       "    }\n",
       "\n",
       "    .dataframe tbody tr th {\n",
       "        vertical-align: top;\n",
       "    }\n",
       "\n",
       "    .dataframe thead th {\n",
       "        text-align: right;\n",
       "    }\n",
       "</style>\n",
       "<table border=\"1\" class=\"dataframe\">\n",
       "  <thead>\n",
       "    <tr style=\"text-align: right;\">\n",
       "      <th></th>\n",
       "      <th>Open</th>\n",
       "      <th>High</th>\n",
       "      <th>Low</th>\n",
       "      <th>Close</th>\n",
       "      <th>Adj Close</th>\n",
       "      <th>Volume</th>\n",
       "      <th>Return</th>\n",
       "    </tr>\n",
       "    <tr>\n",
       "      <th>Date</th>\n",
       "      <th></th>\n",
       "      <th></th>\n",
       "      <th></th>\n",
       "      <th></th>\n",
       "      <th></th>\n",
       "      <th></th>\n",
       "      <th></th>\n",
       "    </tr>\n",
       "  </thead>\n",
       "  <tbody>\n",
       "    <tr>\n",
       "      <th>2018-01-02</th>\n",
       "      <td>20.799999</td>\n",
       "      <td>21.474001</td>\n",
       "      <td>20.733334</td>\n",
       "      <td>21.368668</td>\n",
       "      <td>21.368668</td>\n",
       "      <td>65283000</td>\n",
       "      <td>NaN</td>\n",
       "    </tr>\n",
       "    <tr>\n",
       "      <th>2018-01-03</th>\n",
       "      <td>21.400000</td>\n",
       "      <td>21.683332</td>\n",
       "      <td>21.036667</td>\n",
       "      <td>21.150000</td>\n",
       "      <td>21.150000</td>\n",
       "      <td>67822500</td>\n",
       "      <td>-0.010233</td>\n",
       "    </tr>\n",
       "    <tr>\n",
       "      <th>2018-01-04</th>\n",
       "      <td>20.858000</td>\n",
       "      <td>21.236668</td>\n",
       "      <td>20.378668</td>\n",
       "      <td>20.974667</td>\n",
       "      <td>20.974667</td>\n",
       "      <td>149194500</td>\n",
       "      <td>-0.008290</td>\n",
       "    </tr>\n",
       "    <tr>\n",
       "      <th>2018-01-05</th>\n",
       "      <td>21.108000</td>\n",
       "      <td>21.149332</td>\n",
       "      <td>20.799999</td>\n",
       "      <td>21.105333</td>\n",
       "      <td>21.105333</td>\n",
       "      <td>68868000</td>\n",
       "      <td>0.006230</td>\n",
       "    </tr>\n",
       "    <tr>\n",
       "      <th>2018-01-08</th>\n",
       "      <td>21.066668</td>\n",
       "      <td>22.468000</td>\n",
       "      <td>21.033333</td>\n",
       "      <td>22.427334</td>\n",
       "      <td>22.427334</td>\n",
       "      <td>147891000</td>\n",
       "      <td>0.062638</td>\n",
       "    </tr>\n",
       "  </tbody>\n",
       "</table>\n",
       "</div>"
      ],
      "text/plain": [
       "                 Open       High        Low      Close  Adj Close     Volume  \\\n",
       "Date                                                                           \n",
       "2018-01-02  20.799999  21.474001  20.733334  21.368668  21.368668   65283000   \n",
       "2018-01-03  21.400000  21.683332  21.036667  21.150000  21.150000   67822500   \n",
       "2018-01-04  20.858000  21.236668  20.378668  20.974667  20.974667  149194500   \n",
       "2018-01-05  21.108000  21.149332  20.799999  21.105333  21.105333   68868000   \n",
       "2018-01-08  21.066668  22.468000  21.033333  22.427334  22.427334  147891000   \n",
       "\n",
       "              Return  \n",
       "Date                  \n",
       "2018-01-02       NaN  \n",
       "2018-01-03 -0.010233  \n",
       "2018-01-04 -0.008290  \n",
       "2018-01-05  0.006230  \n",
       "2018-01-08  0.062638  "
      ]
     },
     "execution_count": 517,
     "metadata": {},
     "output_type": "execute_result"
    }
   ],
   "source": [
    "df = yf.download(ticker, start=\"2018-01-01\")\n",
    "df['Return'] = df['Close'].pct_change()\n",
    "df.head()"
   ]
  },
  {
   "cell_type": "code",
   "execution_count": 518,
   "id": "13c833ae",
   "metadata": {
    "scrolled": true
   },
   "outputs": [
    {
     "name": "stdout",
     "output_type": "stream",
     "text": [
      "<class 'pandas.core.frame.DataFrame'>\n",
      "DatetimeIndex: 1610 entries, 2018-01-02 to 2024-05-24\n",
      "Data columns (total 7 columns):\n",
      " #   Column     Non-Null Count  Dtype  \n",
      "---  ------     --------------  -----  \n",
      " 0   Open       1610 non-null   float64\n",
      " 1   High       1610 non-null   float64\n",
      " 2   Low        1610 non-null   float64\n",
      " 3   Close      1610 non-null   float64\n",
      " 4   Adj Close  1610 non-null   float64\n",
      " 5   Volume     1610 non-null   int64  \n",
      " 6   Return     1609 non-null   float64\n",
      "dtypes: float64(6), int64(1)\n",
      "memory usage: 100.6 KB\n"
     ]
    }
   ],
   "source": [
    "# Get Info\n",
    "df.info()"
   ]
  },
  {
   "cell_type": "code",
   "execution_count": 519,
   "id": "0654b04a",
   "metadata": {},
   "outputs": [
    {
     "data": {
      "text/html": [
       "<div>\n",
       "<style scoped>\n",
       "    .dataframe tbody tr th:only-of-type {\n",
       "        vertical-align: middle;\n",
       "    }\n",
       "\n",
       "    .dataframe tbody tr th {\n",
       "        vertical-align: top;\n",
       "    }\n",
       "\n",
       "    .dataframe thead th {\n",
       "        text-align: right;\n",
       "    }\n",
       "</style>\n",
       "<table border=\"1\" class=\"dataframe\">\n",
       "  <thead>\n",
       "    <tr style=\"text-align: right;\">\n",
       "      <th></th>\n",
       "      <th>Open</th>\n",
       "      <th>High</th>\n",
       "      <th>Low</th>\n",
       "      <th>Close</th>\n",
       "      <th>Adj Close</th>\n",
       "      <th>Volume</th>\n",
       "      <th>Return</th>\n",
       "    </tr>\n",
       "    <tr>\n",
       "      <th>Date</th>\n",
       "      <th></th>\n",
       "      <th></th>\n",
       "      <th></th>\n",
       "      <th></th>\n",
       "      <th></th>\n",
       "      <th></th>\n",
       "      <th></th>\n",
       "    </tr>\n",
       "  </thead>\n",
       "  <tbody>\n",
       "    <tr>\n",
       "      <th>2018-01-02</th>\n",
       "      <td>20.799999</td>\n",
       "      <td>21.474001</td>\n",
       "      <td>20.733334</td>\n",
       "      <td>21.368668</td>\n",
       "      <td>21.368668</td>\n",
       "      <td>65283000</td>\n",
       "      <td>NaN</td>\n",
       "    </tr>\n",
       "    <tr>\n",
       "      <th>2018-01-03</th>\n",
       "      <td>21.400000</td>\n",
       "      <td>21.683332</td>\n",
       "      <td>21.036667</td>\n",
       "      <td>21.150000</td>\n",
       "      <td>21.150000</td>\n",
       "      <td>67822500</td>\n",
       "      <td>-0.010233</td>\n",
       "    </tr>\n",
       "    <tr>\n",
       "      <th>2018-01-04</th>\n",
       "      <td>20.858000</td>\n",
       "      <td>21.236668</td>\n",
       "      <td>20.378668</td>\n",
       "      <td>20.974667</td>\n",
       "      <td>20.974667</td>\n",
       "      <td>149194500</td>\n",
       "      <td>-0.008290</td>\n",
       "    </tr>\n",
       "    <tr>\n",
       "      <th>2018-01-05</th>\n",
       "      <td>21.108000</td>\n",
       "      <td>21.149332</td>\n",
       "      <td>20.799999</td>\n",
       "      <td>21.105333</td>\n",
       "      <td>21.105333</td>\n",
       "      <td>68868000</td>\n",
       "      <td>0.006230</td>\n",
       "    </tr>\n",
       "    <tr>\n",
       "      <th>2018-01-08</th>\n",
       "      <td>21.066668</td>\n",
       "      <td>22.468000</td>\n",
       "      <td>21.033333</td>\n",
       "      <td>22.427334</td>\n",
       "      <td>22.427334</td>\n",
       "      <td>147891000</td>\n",
       "      <td>0.062638</td>\n",
       "    </tr>\n",
       "  </tbody>\n",
       "</table>\n",
       "</div>"
      ],
      "text/plain": [
       "                 Open       High        Low      Close  Adj Close     Volume  \\\n",
       "Date                                                                           \n",
       "2018-01-02  20.799999  21.474001  20.733334  21.368668  21.368668   65283000   \n",
       "2018-01-03  21.400000  21.683332  21.036667  21.150000  21.150000   67822500   \n",
       "2018-01-04  20.858000  21.236668  20.378668  20.974667  20.974667  149194500   \n",
       "2018-01-05  21.108000  21.149332  20.799999  21.105333  21.105333   68868000   \n",
       "2018-01-08  21.066668  22.468000  21.033333  22.427334  22.427334  147891000   \n",
       "\n",
       "              Return  \n",
       "Date                  \n",
       "2018-01-02       NaN  \n",
       "2018-01-03 -0.010233  \n",
       "2018-01-04 -0.008290  \n",
       "2018-01-05  0.006230  \n",
       "2018-01-08  0.062638  "
      ]
     },
     "execution_count": 519,
     "metadata": {},
     "output_type": "execute_result"
    }
   ],
   "source": [
    "df.head()"
   ]
  },
  {
   "cell_type": "code",
   "execution_count": 520,
   "id": "996ea4ba",
   "metadata": {
    "scrolled": false
   },
   "outputs": [
    {
     "data": {
      "image/png": "[encoded data removed]",
      "text/plain": [
       "<Figure size 1100x400 with 1 Axes>"
      ]
     },
     "metadata": {},
     "output_type": "display_data"
    }
   ],
   "source": [
    "# Visualize the return data\n",
    "plt.figure(figsize=(11, 4))\n",
    "plt.plot(df['Return'], label='Return')\n",
    "plt.title(f'Relative Return of Close Prices of {ticker} stock')\n",
    "plt.xlabel('Time')\n",
    "plt.ylabel('Return')\n",
    "plt.legend()\n",
    "plt.show()"
   ]
  },
  {
   "cell_type": "code",
   "execution_count": 521,
   "id": "bee95c9a",
   "metadata": {
    "scrolled": false
   },
   "outputs": [
    {
     "data": {
      "image/png": "[encoded data removed]",
      "text/plain": [
       "<Figure size 900x400 with 1 Axes>"
      ]
     },
     "metadata": {},
     "output_type": "display_data"
    }
   ],
   "source": [
    "# Compare to normal distribution\n",
    "mu = df['Return'].mean()\n",
    "sigma = df['Return'].std()\n",
    "kurtosis = stats.kurtosis(df['Return'].dropna())\n",
    "plt.figure(figsize=(9, 4))\n",
    "plt.hist(df['Return'], density=True, bins=80, label=f\"Returns\\nKurtosis={kurtosis:.4f}\", alpha=0.5)\n",
    "\n",
    "# following 68–95–99.7 rule, 3 stdevs from mean contain 99.7% of normally distributed values\n",
    "x = np.linspace(mu - 3*sigma, mu + 3*sigma, 100)\n",
    "plt.plot(x, stats.norm(mu, sigma).pdf(x), label=f\"Normal PDF for\\n$N(\\mu=${mu:.4f}$, \\sigma^2=${sigma**2:.4f})\")\n",
    "\n",
    "plt.xlabel(\"Returns\")\n",
    "plt.ylabel(\"Frequency\")\n",
    "plt.title(\"Return Histogram vs. Normal Distribution\")\n",
    "plt.legend()\n",
    "\n",
    "xticks = np.linspace(mu - 3*sigma, mu + 3*sigma, 7)\n",
    "plt.xticks(xticks, labels=[f\"{i}$\\sigma$\" for i in range(-3, 4)])\n",
    "plt.grid()\n",
    "plt.show()"
   ]
  },
  {
   "cell_type": "markdown",
   "id": "4a4aa0ce",
   "metadata": {},
   "source": [
    "Our plot shows a pattern often observed for financial returns (also explained in e.g. [7]): The returns of our considered asset are not normally distributed with kurtosis $>3$, implying higher peaks and fatter tails than normal distribution."
   ]
  },
  {
   "cell_type": "code",
   "execution_count": 522,
   "id": "29f75dc0",
   "metadata": {
    "scrolled": true
   },
   "outputs": [
    {
     "data": {
      "text/html": [
       "<div>\n",
       "<style scoped>\n",
       "    .dataframe tbody tr th:only-of-type {\n",
       "        vertical-align: middle;\n",
       "    }\n",
       "\n",
       "    .dataframe tbody tr th {\n",
       "        vertical-align: top;\n",
       "    }\n",
       "\n",
       "    .dataframe thead th {\n",
       "        text-align: right;\n",
       "    }\n",
       "</style>\n",
       "<table border=\"1\" class=\"dataframe\">\n",
       "  <thead>\n",
       "    <tr style=\"text-align: right;\">\n",
       "      <th></th>\n",
       "      <th>count</th>\n",
       "      <th>mean</th>\n",
       "      <th>std</th>\n",
       "      <th>min</th>\n",
       "      <th>25%</th>\n",
       "      <th>50%</th>\n",
       "      <th>75%</th>\n",
       "      <th>max</th>\n",
       "    </tr>\n",
       "  </thead>\n",
       "  <tbody>\n",
       "    <tr>\n",
       "      <th>Open</th>\n",
       "      <td>1610.0</td>\n",
       "      <td>1.485260e+02</td>\n",
       "      <td>1.105961e+02</td>\n",
       "      <td>1.207333e+01</td>\n",
       "      <td>2.261767e+01</td>\n",
       "      <td>1.724550e+02</td>\n",
       "      <td>2.386650e+02</td>\n",
       "      <td>4.114700e+02</td>\n",
       "    </tr>\n",
       "    <tr>\n",
       "      <th>High</th>\n",
       "      <td>1610.0</td>\n",
       "      <td>1.518209e+02</td>\n",
       "      <td>1.129848e+02</td>\n",
       "      <td>1.244533e+01</td>\n",
       "      <td>2.313150e+01</td>\n",
       "      <td>1.753667e+02</td>\n",
       "      <td>2.437592e+02</td>\n",
       "      <td>4.144967e+02</td>\n",
       "    </tr>\n",
       "    <tr>\n",
       "      <th>Low</th>\n",
       "      <td>1610.0</td>\n",
       "      <td>1.449756e+02</td>\n",
       "      <td>1.079156e+02</td>\n",
       "      <td>1.179933e+01</td>\n",
       "      <td>2.222217e+01</td>\n",
       "      <td>1.677700e+02</td>\n",
       "      <td>2.339975e+02</td>\n",
       "      <td>4.056667e+02</td>\n",
       "    </tr>\n",
       "    <tr>\n",
       "      <th>Close</th>\n",
       "      <td>1610.0</td>\n",
       "      <td>1.484736e+02</td>\n",
       "      <td>1.104616e+02</td>\n",
       "      <td>1.193133e+01</td>\n",
       "      <td>2.258000e+01</td>\n",
       "      <td>1.720250e+02</td>\n",
       "      <td>2.386875e+02</td>\n",
       "      <td>4.099700e+02</td>\n",
       "    </tr>\n",
       "    <tr>\n",
       "      <th>Adj Close</th>\n",
       "      <td>1610.0</td>\n",
       "      <td>1.484736e+02</td>\n",
       "      <td>1.104616e+02</td>\n",
       "      <td>1.193133e+01</td>\n",
       "      <td>2.258000e+01</td>\n",
       "      <td>1.720250e+02</td>\n",
       "      <td>2.386875e+02</td>\n",
       "      <td>4.099700e+02</td>\n",
       "    </tr>\n",
       "    <tr>\n",
       "      <th>Volume</th>\n",
       "      <td>1610.0</td>\n",
       "      <td>1.311884e+08</td>\n",
       "      <td>8.164680e+07</td>\n",
       "      <td>2.940180e+07</td>\n",
       "      <td>8.137665e+07</td>\n",
       "      <td>1.073670e+08</td>\n",
       "      <td>1.507046e+08</td>\n",
       "      <td>9.140820e+08</td>\n",
       "    </tr>\n",
       "    <tr>\n",
       "      <th>Return</th>\n",
       "      <td>1609.0</td>\n",
       "      <td>2.115541e-03</td>\n",
       "      <td>3.989257e-02</td>\n",
       "      <td>-2.106282e-01</td>\n",
       "      <td>-1.916253e-02</td>\n",
       "      <td>1.535081e-03</td>\n",
       "      <td>2.063317e-02</td>\n",
       "      <td>1.989486e-01</td>\n",
       "    </tr>\n",
       "  </tbody>\n",
       "</table>\n",
       "</div>"
      ],
      "text/plain": [
       "            count          mean           std           min           25%  \\\n",
       "Open       1610.0  1.485260e+02  1.105961e+02  1.207333e+01  2.261767e+01   \n",
       "High       1610.0  1.518209e+02  1.129848e+02  1.244533e+01  2.313150e+01   \n",
       "Low        1610.0  1.449756e+02  1.079156e+02  1.179933e+01  2.222217e+01   \n",
       "Close      1610.0  1.484736e+02  1.104616e+02  1.193133e+01  2.258000e+01   \n",
       "Adj Close  1610.0  1.484736e+02  1.104616e+02  1.193133e+01  2.258000e+01   \n",
       "Volume     1610.0  1.311884e+08  8.164680e+07  2.940180e+07  8.137665e+07   \n",
       "Return     1609.0  2.115541e-03  3.989257e-02 -2.106282e-01 -1.916253e-02   \n",
       "\n",
       "                    50%           75%           max  \n",
       "Open       1.724550e+02  2.386650e+02  4.114700e+02  \n",
       "High       1.753667e+02  2.437592e+02  4.144967e+02  \n",
       "Low        1.677700e+02  2.339975e+02  4.056667e+02  \n",
       "Close      1.720250e+02  2.386875e+02  4.099700e+02  \n",
       "Adj Close  1.720250e+02  2.386875e+02  4.099700e+02  \n",
       "Volume     1.073670e+08  1.507046e+08  9.140820e+08  \n",
       "Return     1.535081e-03  2.063317e-02  1.989486e-01  "
      ]
     },
     "execution_count": 522,
     "metadata": {},
     "output_type": "execute_result"
    }
   ],
   "source": [
    "# Descriptive statistics\n",
    "df.describe().T"
   ]
  },
  {
   "cell_type": "markdown",
   "id": "01984864",
   "metadata": {},
   "source": [
    "Check if original data needs cleaning + clean appropriately"
   ]
  },
  {
   "cell_type": "code",
   "execution_count": 523,
   "id": "d43f1b35",
   "metadata": {},
   "outputs": [
    {
     "data": {
      "text/plain": [
       "Open         0\n",
       "High         0\n",
       "Low          0\n",
       "Close        0\n",
       "Adj Close    0\n",
       "Volume       0\n",
       "Return       1\n",
       "dtype: int64"
      ]
     },
     "execution_count": 523,
     "metadata": {},
     "output_type": "execute_result"
    }
   ],
   "source": [
    " # Check for missing values\n",
    "df.isnull().sum()"
   ]
  },
  {
   "cell_type": "markdown",
   "id": "7430546d",
   "metadata": {},
   "source": [
    "Clean the data + remove NaN value from \"Return\" column:"
   ]
  },
  {
   "cell_type": "code",
   "execution_count": 524,
   "id": "c2aa579c",
   "metadata": {},
   "outputs": [
    {
     "data": {
      "text/plain": [
       "Open         0\n",
       "High         0\n",
       "Low          0\n",
       "Close        0\n",
       "Adj Close    0\n",
       "Volume       0\n",
       "Return       0\n",
       "dtype: int64"
      ]
     },
     "execution_count": 524,
     "metadata": {},
     "output_type": "execute_result"
    }
   ],
   "source": [
    "df = df.dropna()  # drop NaN values\n",
    "df.isnull().sum()"
   ]
  },
  {
   "cell_type": "markdown",
   "id": "7fb5021e",
   "metadata": {},
   "source": [
    "#### Feature engineering\n",
    "\n",
    "Features are independent variables which are used to determine the value of the target variable. We will generate a set of features from the downloaded dataset according to the definition from the exam paper."
   ]
  },
  {
   "cell_type": "code",
   "execution_count": 525,
   "id": "ea270caf",
   "metadata": {},
   "outputs": [
    {
     "data": {
      "text/html": [
       "<div>\n",
       "<style scoped>\n",
       "    .dataframe tbody tr th:only-of-type {\n",
       "        vertical-align: middle;\n",
       "    }\n",
       "\n",
       "    .dataframe tbody tr th {\n",
       "        vertical-align: top;\n",
       "    }\n",
       "\n",
       "    .dataframe thead th {\n",
       "        text-align: right;\n",
       "    }\n",
       "</style>\n",
       "<table border=\"1\" class=\"dataframe\">\n",
       "  <thead>\n",
       "    <tr style=\"text-align: right;\">\n",
       "      <th></th>\n",
       "      <th>Adj Close</th>\n",
       "      <th>Return</th>\n",
       "      <th>O-C</th>\n",
       "      <th>H-L</th>\n",
       "      <th>Sign</th>\n",
       "      <th>Past Return_1</th>\n",
       "      <th>Past Return_3</th>\n",
       "      <th>Past Return_5</th>\n",
       "      <th>Past Return_10</th>\n",
       "      <th>Past Return_21</th>\n",
       "      <th>...</th>\n",
       "      <th>SMA_1</th>\n",
       "      <th>SMA_3</th>\n",
       "      <th>SMA_5</th>\n",
       "      <th>SMA_10</th>\n",
       "      <th>SMA_21</th>\n",
       "      <th>EMA_1</th>\n",
       "      <th>EMA_3</th>\n",
       "      <th>EMA_5</th>\n",
       "      <th>EMA_10</th>\n",
       "      <th>EMA_21</th>\n",
       "    </tr>\n",
       "    <tr>\n",
       "      <th>Date</th>\n",
       "      <th></th>\n",
       "      <th></th>\n",
       "      <th></th>\n",
       "      <th></th>\n",
       "      <th></th>\n",
       "      <th></th>\n",
       "      <th></th>\n",
       "      <th></th>\n",
       "      <th></th>\n",
       "      <th></th>\n",
       "      <th></th>\n",
       "      <th></th>\n",
       "      <th></th>\n",
       "      <th></th>\n",
       "      <th></th>\n",
       "      <th></th>\n",
       "      <th></th>\n",
       "      <th></th>\n",
       "      <th></th>\n",
       "      <th></th>\n",
       "      <th></th>\n",
       "    </tr>\n",
       "  </thead>\n",
       "  <tbody>\n",
       "    <tr>\n",
       "      <th>2018-02-02</th>\n",
       "      <td>22.916668</td>\n",
       "      <td>-0.015748</td>\n",
       "      <td>0.312666</td>\n",
       "      <td>0.762667</td>\n",
       "      <td>-1.0</td>\n",
       "      <td>-0.014281</td>\n",
       "      <td>-0.010614</td>\n",
       "      <td>0.015431</td>\n",
       "      <td>0.015817</td>\n",
       "      <td>-0.010233</td>\n",
       "      <td>...</td>\n",
       "      <td>22.916668</td>\n",
       "      <td>23.273556</td>\n",
       "      <td>23.235467</td>\n",
       "      <td>23.155933</td>\n",
       "      <td>22.747524</td>\n",
       "      <td>22.916668</td>\n",
       "      <td>23.115321</td>\n",
       "      <td>23.142489</td>\n",
       "      <td>23.071941</td>\n",
       "      <td>22.733514</td>\n",
       "    </tr>\n",
       "    <tr>\n",
       "      <th>2018-02-05</th>\n",
       "      <td>22.208668</td>\n",
       "      <td>-0.030895</td>\n",
       "      <td>0.322666</td>\n",
       "      <td>0.764666</td>\n",
       "      <td>-1.0</td>\n",
       "      <td>-0.015748</td>\n",
       "      <td>0.024550</td>\n",
       "      <td>0.019484</td>\n",
       "      <td>0.004400</td>\n",
       "      <td>-0.008290</td>\n",
       "      <td>...</td>\n",
       "      <td>22.208668</td>\n",
       "      <td>22.802890</td>\n",
       "      <td>23.016800</td>\n",
       "      <td>23.033067</td>\n",
       "      <td>22.806286</td>\n",
       "      <td>22.208668</td>\n",
       "      <td>22.661994</td>\n",
       "      <td>22.831215</td>\n",
       "      <td>22.914982</td>\n",
       "      <td>22.685801</td>\n",
       "    </tr>\n",
       "    <tr>\n",
       "      <th>2018-02-06</th>\n",
       "      <td>22.264668</td>\n",
       "      <td>0.002522</td>\n",
       "      <td>-0.584000</td>\n",
       "      <td>0.848000</td>\n",
       "      <td>1.0</td>\n",
       "      <td>-0.030895</td>\n",
       "      <td>-0.014281</td>\n",
       "      <td>-0.010614</td>\n",
       "      <td>0.003499</td>\n",
       "      <td>0.006230</td>\n",
       "      <td>...</td>\n",
       "      <td>22.264668</td>\n",
       "      <td>22.463334</td>\n",
       "      <td>22.858801</td>\n",
       "      <td>22.907600</td>\n",
       "      <td>22.861492</td>\n",
       "      <td>22.264668</td>\n",
       "      <td>22.463331</td>\n",
       "      <td>22.642366</td>\n",
       "      <td>22.796743</td>\n",
       "      <td>22.647516</td>\n",
       "    </tr>\n",
       "    <tr>\n",
       "      <th>2018-02-07</th>\n",
       "      <td>23.000000</td>\n",
       "      <td>0.033027</td>\n",
       "      <td>-0.400667</td>\n",
       "      <td>0.689335</td>\n",
       "      <td>1.0</td>\n",
       "      <td>0.002522</td>\n",
       "      <td>-0.015748</td>\n",
       "      <td>0.024550</td>\n",
       "      <td>-0.019558</td>\n",
       "      <td>0.062638</td>\n",
       "      <td>...</td>\n",
       "      <td>23.000000</td>\n",
       "      <td>22.491112</td>\n",
       "      <td>22.734667</td>\n",
       "      <td>22.901667</td>\n",
       "      <td>22.888762</td>\n",
       "      <td>23.000000</td>\n",
       "      <td>22.731665</td>\n",
       "      <td>22.761577</td>\n",
       "      <td>22.833699</td>\n",
       "      <td>22.679560</td>\n",
       "    </tr>\n",
       "    <tr>\n",
       "      <th>2018-02-08</th>\n",
       "      <td>21.015333</td>\n",
       "      <td>-0.086290</td>\n",
       "      <td>1.872000</td>\n",
       "      <td>2.268000</td>\n",
       "      <td>-1.0</td>\n",
       "      <td>0.033027</td>\n",
       "      <td>-0.030895</td>\n",
       "      <td>-0.014281</td>\n",
       "      <td>-0.023852</td>\n",
       "      <td>-0.008085</td>\n",
       "      <td>...</td>\n",
       "      <td>21.015333</td>\n",
       "      <td>22.093334</td>\n",
       "      <td>22.281067</td>\n",
       "      <td>22.752267</td>\n",
       "      <td>22.830159</td>\n",
       "      <td>21.015333</td>\n",
       "      <td>21.873499</td>\n",
       "      <td>22.179496</td>\n",
       "      <td>22.503087</td>\n",
       "      <td>22.528267</td>\n",
       "    </tr>\n",
       "  </tbody>\n",
       "</table>\n",
       "<p>5 rows × 25 columns</p>\n",
       "</div>"
      ],
      "text/plain": [
       "            Adj Close    Return       O-C       H-L  Sign  Past Return_1  \\\n",
       "Date                                                                       \n",
       "2018-02-02  22.916668 -0.015748  0.312666  0.762667  -1.0      -0.014281   \n",
       "2018-02-05  22.208668 -0.030895  0.322666  0.764666  -1.0      -0.015748   \n",
       "2018-02-06  22.264668  0.002522 -0.584000  0.848000   1.0      -0.030895   \n",
       "2018-02-07  23.000000  0.033027 -0.400667  0.689335   1.0       0.002522   \n",
       "2018-02-08  21.015333 -0.086290  1.872000  2.268000  -1.0       0.033027   \n",
       "\n",
       "            Past Return_3  Past Return_5  Past Return_10  Past Return_21  ...  \\\n",
       "Date                                                                      ...   \n",
       "2018-02-02      -0.010614       0.015431        0.015817       -0.010233  ...   \n",
       "2018-02-05       0.024550       0.019484        0.004400       -0.008290  ...   \n",
       "2018-02-06      -0.014281      -0.010614        0.003499        0.006230  ...   \n",
       "2018-02-07      -0.015748       0.024550       -0.019558        0.062638  ...   \n",
       "2018-02-08      -0.030895      -0.014281       -0.023852       -0.008085  ...   \n",
       "\n",
       "                SMA_1      SMA_3      SMA_5     SMA_10     SMA_21      EMA_1  \\\n",
       "Date                                                                           \n",
       "2018-02-02  22.916668  23.273556  23.235467  23.155933  22.747524  22.916668   \n",
       "2018-02-05  22.208668  22.802890  23.016800  23.033067  22.806286  22.208668   \n",
       "2018-02-06  22.264668  22.463334  22.858801  22.907600  22.861492  22.264668   \n",
       "2018-02-07  23.000000  22.491112  22.734667  22.901667  22.888762  23.000000   \n",
       "2018-02-08  21.015333  22.093334  22.281067  22.752267  22.830159  21.015333   \n",
       "\n",
       "                EMA_3      EMA_5     EMA_10     EMA_21  \n",
       "Date                                                    \n",
       "2018-02-02  23.115321  23.142489  23.071941  22.733514  \n",
       "2018-02-05  22.661994  22.831215  22.914982  22.685801  \n",
       "2018-02-06  22.463331  22.642366  22.796743  22.647516  \n",
       "2018-02-07  22.731665  22.761577  22.833699  22.679560  \n",
       "2018-02-08  21.873499  22.179496  22.503087  22.528267  \n",
       "\n",
       "[5 rows x 25 columns]"
      ]
     },
     "execution_count": 525,
     "metadata": {},
     "output_type": "execute_result"
    }
   ],
   "source": [
    "def get_features(df):\n",
    "    df['O-C'] = df['Open'] - df['Close']\n",
    "    df['H-L'] = df['High'] - df['Low']\n",
    "    df['Sign'] = np.sign(np.log(df['Close'] / df['Close'].shift(1)))\n",
    "\n",
    "    for lag in [1, 3, 5, 10, 21]:\n",
    "        df[f'Past Return_{lag}'] = df['Return'].shift(lag)\n",
    "\n",
    "    for momentum_period in [1, 3, 5, 10, 21]:\n",
    "        df[f'Momentum_{momentum_period}'] = df['Close'] - df['Close'].shift(momentum_period)\n",
    "\n",
    "    for sma_period in [1, 3, 5, 10, 21]:\n",
    "        df[f'SMA_{sma_period}'] = df['Close'].rolling(window=sma_period).mean()\n",
    "\n",
    "    for ema_period in [1, 3, 5, 10, 21]:\n",
    "        df[f'EMA_{ema_period}'] = df['Close'].ewm(span=ema_period, adjust=False).mean()\n",
    "\n",
    "    df.dropna(inplace=True)\n",
    "    features = df.drop(['Open', 'High', 'Low', 'Close', 'Volume'], axis=1)\n",
    "    return features\n",
    "\n",
    "\n",
    "features = get_features(df)\n",
    "features.head()"
   ]
  },
  {
   "cell_type": "markdown",
   "id": "e3121c93",
   "metadata": {},
   "source": [
    "#### Label specification\n",
    "\n",
    "For general trend analysis, we would like to include slight drops of up to 0.25% in the closing price of TSLA still part of the positive class (1), so we design our target variable as follows:"
   ]
  },
  {
   "cell_type": "code",
   "execution_count": 526,
   "id": "8dba3e26",
   "metadata": {},
   "outputs": [],
   "source": [
    "def get_target(df):\n",
    "    # for trend prediction, contain days with small decrease (< 0.25%) in asset close price also within positive class\n",
    "    return np.where(df['Close'].shift(-1) > 0.9975 * df['Close'], 1, 0)"
   ]
  },
  {
   "cell_type": "code",
   "execution_count": 527,
   "id": "ce2a3bf8",
   "metadata": {},
   "outputs": [
    {
     "data": {
      "text/plain": [
       "1    882\n",
       "0    706\n",
       "Name: count, dtype: int64"
      ]
     },
     "execution_count": 527,
     "metadata": {},
     "output_type": "execute_result"
    }
   ],
   "source": [
    "X = features\n",
    "y = get_target(df)\n",
    "\n",
    "# Check Class Imbalance\n",
    "pd.Series(y).value_counts()"
   ]
  },
  {
   "cell_type": "markdown",
   "id": "0276b8a2",
   "metadata": {},
   "source": [
    "We observe that the number of days where the TSLA closed positively w.r.t. our definition (i.e. at least at 99.75% of the previous day's closing price; class variable 1) are higher than the number of days where the index closed negatively (class variable 0).\n",
    "\n",
    "Also note that this target specification makes our problem a typical **classification** problem."
   ]
  },
  {
   "cell_type": "markdown",
   "id": "c37e43b3",
   "metadata": {},
   "source": [
    "#### Split data\n",
    "\n",
    "Before we dive deeper into feature selection, we want to split our data into testing and training data."
   ]
  },
  {
   "cell_type": "code",
   "execution_count": 528,
   "id": "ff90fdba",
   "metadata": {},
   "outputs": [],
   "source": [
    "X_train, X_test, y_train, y_test = train_test_split(X, y, test_size=0.2)"
   ]
  },
  {
   "cell_type": "markdown",
   "id": "1be54816",
   "metadata": {},
   "source": [
    "#### Feature selection\n",
    "\n",
    "This follows mostly [6], Exercise 1 that discussed various feature selection methods. We currently have quite many suggested features which might make the model less accuracte and more performant.\n",
    "\n",
    "Current number of features:"
   ]
  },
  {
   "cell_type": "code",
   "execution_count": 529,
   "id": "a6df9d79",
   "metadata": {},
   "outputs": [
    {
     "data": {
      "text/plain": [
       "25"
      ]
     },
     "execution_count": 529,
     "metadata": {},
     "output_type": "execute_result"
    }
   ],
   "source": [
    "len(features.columns)"
   ]
  },
  {
   "cell_type": "markdown",
   "id": "e8f21529",
   "metadata": {},
   "source": [
    "Let us first look at the so-called `SelectKBest` method, a frequently applied feature selection algorithm that selects the top $k$ features with the highest scores based on statistical testing. In our case, we use the `f_classif` test based on the ANOVA F-value test and select the 16 best features (`f_classif` is the default implementation of `SelectKBest` according to [8]).\n",
    "\n",
    "Since we start with 26 features and I do not want to limit the model too quickly (we will later combine other selection methods to narrow the feature number down), let us look at the 16 best features (opposed to the default implementation of `SelectKBest` narrowing down to the 10 best features)."
   ]
  },
  {
   "cell_type": "code",
   "execution_count": 530,
   "id": "0c248a4e",
   "metadata": {},
   "outputs": [
    {
     "name": "stdout",
     "output_type": "stream",
     "text": [
      "SelectKBest selected features:\n",
      " Index(['Return', 'O-C', 'H-L', 'Past Return_1', 'Past Return_3',\n",
      "       'Past Return_5', 'Past Return_10', 'Past Return_21', 'Momentum_1',\n",
      "       'Momentum_5', 'Momentum_10', 'Momentum_21', 'SMA_10', 'SMA_21',\n",
      "       'EMA_10', 'EMA_21'],\n",
      "      dtype='object')\n"
     ]
    }
   ],
   "source": [
    "def select_k_best(X_train, X_test, y_train, k=10):\n",
    "    selector = SelectKBest(f_classif, k=k)\n",
    "    X_train_selected = selector.fit_transform(X_train, y_train)\n",
    "    X_test_selected = selector.transform(X_test)\n",
    "    selected_features = X_train.columns[selector.get_support()]\n",
    "    return selected_features, X_train_selected, X_test_selected\n",
    "\n",
    "\n",
    "selected_features_kbest, X_train_kbest, X_test_kbest = select_k_best(X_train, X_test, y_train, k=16)\n",
    "\n",
    "print(\"SelectKBest selected features:\\n\", selected_features_kbest)"
   ]
  },
  {
   "cell_type": "markdown",
   "id": "a3bc8522",
   "metadata": {},
   "source": [
    "Next, we attempt to further refine our feature selection by employing a recursive feature elimination with cross-validation `RFECV`. Recursive feature elimination means that this selector iteratively removes the least important feature according to an importance ranking. Moreover, cross-validation is applied to ensure the selected features behave well with respect to test data. This can help with overfitting.\n",
    "\n",
    "Unlike the exercise sheets [6], we will use `RandomForestClassifier()` instead of `LinearRegression()` for our model within the RFECV framework since our analysis revolves around a binary classification problem. (Remark: I tried using different classifiers including `LogisticClassifier()` and `RandomForestClassifier()` with various hyper-parameters and my solution below yielded the best overall results.) `RandomForestClassifier()` [9] employs random forests fitting a number of decision trees on different subsets of the training data. It is an ensemble method. The interplay of ensemble learning and decision trees can improve the accuracy of the model and reduce its variance."
   ]
  },
  {
   "cell_type": "code",
   "execution_count": 531,
   "id": "eb2762e5",
   "metadata": {},
   "outputs": [
    {
     "name": "stdout",
     "output_type": "stream",
     "text": [
      "           Feature  Ranking\n",
      "3    Past Return_1        1\n",
      "4    Past Return_3        1\n",
      "7   Past Return_21        1\n",
      "8       Momentum_1        1\n",
      "9       Momentum_5        1\n",
      "11     Momentum_21        1\n",
      "15          EMA_21        1\n",
      "6   Past Return_10        2\n",
      "2              H-L        3\n",
      "5    Past Return_5        4\n",
      "1              O-C        5\n",
      "10     Momentum_10        6\n",
      "0           Return        7\n",
      "12          SMA_10        8\n",
      "13          SMA_21        9\n",
      "14          EMA_10       10\n",
      "\n",
      "RFECV selected features: Index(['Past Return_1', 'Past Return_3', 'Past Return_21', 'Momentum_1',\n",
      "       'Momentum_5', 'Momentum_21', 'EMA_21'],\n",
      "      dtype='object')\n"
     ]
    }
   ],
   "source": [
    "def rfecv_method(X_train, X_test, y_train, display_dataframe=0):\n",
    "    model = RandomForestClassifier(n_estimators=50, random_state=42)\n",
    "    rfecv = RFECV(estimator=model, cv=5, scoring='accuracy')\n",
    "    rfecv.fit(X_train, y_train)\n",
    "    X_train_selected = rfecv.transform(X_train)\n",
    "    X_test_selected = rfecv.transform(X_test)\n",
    "    selected_features = X_train.columns[rfecv.get_support()]\n",
    "    if display_dataframe:\n",
    "        rankings_df = pd.DataFrame({'Feature': X_train.columns,\n",
    "                                    'Ranking': rfecv.ranking_})\n",
    "        print(rankings_df.sort_values(by='Ranking'))\n",
    "    return X_train_selected, X_test_selected, selected_features\n",
    "\n",
    "\n",
    "X_train_rfecv, X_test_rfecv, selected_features_rfecv = rfecv_method(\n",
    "    pd.DataFrame(X_train_kbest, columns=selected_features_kbest),\n",
    "    pd.DataFrame(X_test_kbest, columns=selected_features_kbest), y_train, display_dataframe=1)\n",
    "\n",
    "print(\"\")\n",
    "print(\"RFECV selected features:\", selected_features_rfecv)"
   ]
  },
  {
   "cell_type": "markdown",
   "id": "04abe239",
   "metadata": {},
   "source": [
    "The ranking table above shows which features where removed first (at the bottom of the dataframe). The ones with ranking 1 on top are being kept."
   ]
  },
  {
   "cell_type": "markdown",
   "id": "888dfecb",
   "metadata": {},
   "source": [
    "Let us now analyze multicollinearity would lead to redundancy in our trend analysis among the remaining features. A way to check for correlation between features is to use the correlation matrix computing the Pearson correlation $$\\rho_{ij} = \\frac{\\text{cov}(X_i, X_j)}{\\sigma_{X_i} \\sigma_{X_j}}$$ pairwisely between feature $X_i$ and feature $X_j$. High correlation or high anti-correlation are indicators to discard one of both correlated features."
   ]
  },
  {
   "cell_type": "code",
   "execution_count": 542,
   "id": "75057fbc",
   "metadata": {},
   "outputs": [
    {
     "data": {
      "image/png": "[encoded data removed]",
      "text/plain": [
       "<Figure size 800x500 with 2 Axes>"
      ]
     },
     "metadata": {},
     "output_type": "display_data"
    }
   ],
   "source": [
    "corr_matrix = pd.DataFrame(X_train_rfecv, columns=selected_features_rfecv).corr()\n",
    "plt.figure(figsize=(8, 5))\n",
    "sns.heatmap(corr_matrix, annot=True, fmt='.2f', cmap=\"viridis\")\n",
    "plt.title(\"Correlation Matrix of all Features\")\n",
    "plt.show()"
   ]
  },
  {
   "cell_type": "markdown",
   "id": "9df697ec",
   "metadata": {},
   "source": [
    "This table indicates that both moving averages are extremely highly correlated with each other at 0.99. This is an indicator that we can drop one of the moving averages to reduce linear dependency among features. Since they are so correlated, we can drop either and not lose relevant information. We will drop the exponential moving average EMA_21.\n",
    "Similar argument can be used to drop Momentum_1 which is highly correlated with O-C.\n",
    "\n",
    "\n",
    "# POTENTIALLY CHANGE THIS: No very high correlations or anti-correlations can be spotted from the correlation matrix, i.e. it is possible our data is already sufficiently linearly independent."
   ]
  },
  {
   "cell_type": "code",
   "execution_count": 536,
   "id": "39d660d6",
   "metadata": {
    "scrolled": false
   },
   "outputs": [],
   "source": [
    "# X_train_corr = pd.DataFrame(X_train_rfecv, columns=selected_features_rfecv).drop(columns=[\"Momentum_1\", \"EMA_21\"])\n",
    "# X_test_corr = pd.DataFrame(X_test_rfecv, columns=selected_features_rfecv).drop(columns=[\"Momentum_1\", \"EMA_21\"])"
   ]
  },
  {
   "cell_type": "markdown",
   "id": "a9d0346e",
   "metadata": {},
   "source": [
    "To further improve the significance of the chosen features, we will conduct a Variance Inflation Factor (VIF) analysis for each feature, calculating its $$\\text{VIF}_i =\\frac{1}{1-R_i^2},$$ where $R_i^2$ determines how well feature $i$ is being regressed against by all other features. The feature is more correlated with the other features, the higher the value of $R_i^2$ is. According to [6], a VIF-value exceeding 5 indicates high multicollinearity."
   ]
  },
  {
   "cell_type": "code",
   "execution_count": 543,
   "id": "0f33d7cb",
   "metadata": {
    "scrolled": true
   },
   "outputs": [
    {
     "data": {
      "text/html": [
       "<div>\n",
       "<style scoped>\n",
       "    .dataframe tbody tr th:only-of-type {\n",
       "        vertical-align: middle;\n",
       "    }\n",
       "\n",
       "    .dataframe tbody tr th {\n",
       "        vertical-align: top;\n",
       "    }\n",
       "\n",
       "    .dataframe thead th {\n",
       "        text-align: right;\n",
       "    }\n",
       "</style>\n",
       "<table border=\"1\" class=\"dataframe\">\n",
       "  <thead>\n",
       "    <tr style=\"text-align: right;\">\n",
       "      <th></th>\n",
       "      <th>feature</th>\n",
       "      <th>VIF</th>\n",
       "    </tr>\n",
       "  </thead>\n",
       "  <tbody>\n",
       "    <tr>\n",
       "      <th>3</th>\n",
       "      <td>Momentum_5</td>\n",
       "      <td>1.64</td>\n",
       "    </tr>\n",
       "    <tr>\n",
       "      <th>4</th>\n",
       "      <td>Momentum_21</td>\n",
       "      <td>1.34</td>\n",
       "    </tr>\n",
       "    <tr>\n",
       "      <th>1</th>\n",
       "      <td>Past Return_3</td>\n",
       "      <td>1.16</td>\n",
       "    </tr>\n",
       "    <tr>\n",
       "      <th>0</th>\n",
       "      <td>Past Return_1</td>\n",
       "      <td>1.13</td>\n",
       "    </tr>\n",
       "    <tr>\n",
       "      <th>2</th>\n",
       "      <td>Past Return_21</td>\n",
       "      <td>1.00</td>\n",
       "    </tr>\n",
       "  </tbody>\n",
       "</table>\n",
       "</div>"
      ],
      "text/plain": [
       "          feature   VIF\n",
       "3      Momentum_5  1.64\n",
       "4     Momentum_21  1.34\n",
       "1   Past Return_3  1.16\n",
       "0   Past Return_1  1.13\n",
       "2  Past Return_21  1.00"
      ]
     },
     "execution_count": 543,
     "metadata": {},
     "output_type": "execute_result"
    }
   ],
   "source": [
    "def variance_inflation_factor_analysis(X):\n",
    "    vif_data = pd.DataFrame()\n",
    "    vif_data[\"feature\"] = X.columns\n",
    "    vif_data[\"VIF\"] = [variance_inflation_factor(X.values, i) for i in range(len(X.columns))]\n",
    "    return vif_data\n",
    "\n",
    "\n",
    "vif_data = variance_inflation_factor_analysis(pd.DataFrame(X_train_rfecv, columns=selected_features_rfecv).drop(columns=[\"Momentum_1\", \"EMA_21\"]))\n",
    "vif_data.round(2).sort_values(by=\"VIF\", ascending=False)"
   ]
  },
  {
   "cell_type": "markdown",
   "id": "b835981e",
   "metadata": {},
   "source": [
    "The features are not majorly correlated anymore and seem an appropriate selection to continue."
   ]
  },
  {
   "cell_type": "code",
   "execution_count": 544,
   "id": "b3864c4d",
   "metadata": {},
   "outputs": [],
   "source": [
    "X_train_selected = pd.DataFrame(X_train_rfecv, columns=selected_features_rfecv)\n",
    "X_test_selected = pd.DataFrame(X_test_rfecv, columns=selected_features_rfecv)"
   ]
  },
  {
   "cell_type": "markdown",
   "id": "21c6a36c",
   "metadata": {},
   "source": [
    "#### Hyperparameter Tuning for SVM\n",
    "\n",
    "The following part follows again [2] and utilizes `optuna` library for hyper-parameter optimization."
   ]
  },
  {
   "cell_type": "code",
   "execution_count": 559,
   "id": "655158a1",
   "metadata": {},
   "outputs": [],
   "source": [
    "import optuna\n",
    "from sklearn.svm import SVC\n",
    "from sklearn.preprocessing import StandardScaler, MinMaxScaler\n",
    "from sklearn.pipeline import Pipeline\n",
    "from sklearn.model_selection import TimeSeriesSplit, cross_val_score\n",
    "from sklearn.metrics import log_loss\n",
    "\n",
    "\n",
    "def objective(trial, X, y):\n",
    "    # define hyper-parameter space\n",
    "    scaler_name = trial.suggest_categorical('scaler', ['standard', 'minmax'])\n",
    "    C = trial.suggest_loguniform('C', 1e-4, 1e2)\n",
    "    gamma = trial.suggest_loguniform('gamma', 1e-4, 1e0)\n",
    "    kernel = trial.suggest_categorical('kernel', ['rbf', 'linear', 'sigmoid'])\n",
    "\n",
    "    # create pipeline\n",
    "    pipeline = Pipeline([\n",
    "        ('scaler', StandardScaler() if scaler_name == 'standard' else MinMaxScaler()),\n",
    "        ('svm', SVC(C=C, gamma=gamma, kernel=kernel, probability=True))\n",
    "    ])\n",
    "\n",
    "    # define TimeSeriesSplit for CrossValidation\n",
    "    tscv = TimeSeriesSplit(n_splits=5)\n",
    "\n",
    "    # use log-loss function for every TimeSeriesSplit to measure performance of hyper-params\n",
    "    log_losses = []\n",
    "    for train_idx, test_idx in tscv.split(X):\n",
    "        X_train, X_test = X[train_idx], X[test_idx]\n",
    "        y_train, y_test = y[train_idx], y[test_idx]\n",
    "        pipeline.fit(X_train, y_train)\n",
    "        preds = pipeline.predict_proba(X_test)\n",
    "        log_losses.append(log_loss(y_test, preds))\n",
    "    return -1.0 * np.mean(log_losses)\n",
    "\n",
    "\n",
    "def optimize_hyperparameters(X_train, y_train, n_trials=100):\n",
    "    # study setup\n",
    "    study = optuna.create_study(direction='maximize')\n",
    "\n",
    "    # optimization\n",
    "    study.optimize(lambda trial: objective(trial, X_train, y_train), n_trials=n_trials)\n",
    "    best_params = study.best_trial.params\n",
    "    print(\"Best Parameters:\", best_params)\n",
    "\n",
    "    # create best pipeline\n",
    "    scaler = StandardScaler() if best_params['scaler'] == 'standard' else MinMaxScaler()\n",
    "    best_pipeline = Pipeline([\n",
    "        ('scaler', scaler),\n",
    "        ('svm', SVC(C=best_params['C'], gamma=best_params['gamma'], kernel=best_params['kernel'], probability=True))\n",
    "    ])\n",
    "    return best_pipeline, best_params"
   ]
  },
  {
   "cell_type": "code",
   "execution_count": 560,
   "id": "9d08b1c4",
   "metadata": {},
   "outputs": [
    {
     "name": "stderr",
     "output_type": "stream",
     "text": [
      "[I 2024-05-26 02:37:09,382] A new study created in memory with name: no-name-b2fed36e-ada9-43d6-b782-f0db9e3eba7b\n",
      "[W 2024-05-26 02:37:09,389] Trial 0 failed with parameters: {'scaler': 'standard', 'C': 44.15166534416313, 'gamma': 0.0010635050468091427, 'kernel': 'rbf'} because of the following error: KeyError(\"None of [Index([  0,   1,   2,   3,   4,   5,   6,   7,   8,   9,\\n       ...\\n       205, 206, 207, 208, 209, 210, 211, 212, 213, 214],\\n      dtype='int32', length=215)] are in the [columns]\").\n",
      "Traceback (most recent call last):\n",
      "  File \"C:\\Users\\heidi\\anaconda3\\Lib\\site-packages\\optuna\\study\\_optimize.py\", line 196, in _run_trial\n",
      "    value_or_values = func(trial)\n",
      "                      ^^^^^^^^^^^\n",
      "  File \"C:\\Users\\heidi\\AppData\\Local\\Temp\\ipykernel_30732\\1602633017.py\", line 41, in <lambda>\n",
      "    study.optimize(lambda trial: objective(trial, X_train, y_train), n_trials=n_trials)\n",
      "                                 ^^^^^^^^^^^^^^^^^^^^^^^^^^^^^^^^^^\n",
      "  File \"C:\\Users\\heidi\\AppData\\Local\\Temp\\ipykernel_30732\\1602633017.py\", line 28, in objective\n",
      "    X_train, X_test = X[train_idx], X[test_idx]\n",
      "                      ~^^^^^^^^^^^\n",
      "  File \"C:\\Users\\heidi\\anaconda3\\Lib\\site-packages\\pandas\\core\\frame.py\", line 3767, in __getitem__\n",
      "    indexer = self.columns._get_indexer_strict(key, \"columns\")[1]\n",
      "              ^^^^^^^^^^^^^^^^^^^^^^^^^^^^^^^^^^^^^^^^^^^^^^^^\n",
      "  File \"C:\\Users\\heidi\\anaconda3\\Lib\\site-packages\\pandas\\core\\indexes\\base.py\", line 5877, in _get_indexer_strict\n",
      "    self._raise_if_missing(keyarr, indexer, axis_name)\n",
      "  File \"C:\\Users\\heidi\\anaconda3\\Lib\\site-packages\\pandas\\core\\indexes\\base.py\", line 5938, in _raise_if_missing\n",
      "    raise KeyError(f\"None of [{key}] are in the [{axis_name}]\")\n",
      "KeyError: \"None of [Index([  0,   1,   2,   3,   4,   5,   6,   7,   8,   9,\\n       ...\\n       205, 206, 207, 208, 209, 210, 211, 212, 213, 214],\\n      dtype='int32', length=215)] are in the [columns]\"\n",
      "[W 2024-05-26 02:37:09,393] Trial 0 failed with value None.\n"
     ]
    },
    {
     "ename": "KeyError",
     "evalue": "\"None of [Index([  0,   1,   2,   3,   4,   5,   6,   7,   8,   9,\\n       ...\\n       205, 206, 207, 208, 209, 210, 211, 212, 213, 214],\\n      dtype='int32', length=215)] are in the [columns]\"",
     "output_type": "error",
     "traceback": [
      "\u001b[1;31m---------------------------------------------------------------------------\u001b[0m",
      "\u001b[1;31mKeyError\u001b[0m                                  Traceback (most recent call last)",
      "Cell \u001b[1;32mIn[560], line 1\u001b[0m\n\u001b[1;32m----> 1\u001b[0m best_pipeline, best_params \u001b[38;5;241m=\u001b[39m optimize_hyperparameters(X_train_selected, y_train, n_trials\u001b[38;5;241m=\u001b[39m\u001b[38;5;241m100\u001b[39m)\n",
      "Cell \u001b[1;32mIn[559], line 41\u001b[0m, in \u001b[0;36moptimize_hyperparameters\u001b[1;34m(X_train, y_train, n_trials)\u001b[0m\n\u001b[0;32m     38\u001b[0m study \u001b[38;5;241m=\u001b[39m optuna\u001b[38;5;241m.\u001b[39mcreate_study(direction\u001b[38;5;241m=\u001b[39m\u001b[38;5;124m'\u001b[39m\u001b[38;5;124mmaximize\u001b[39m\u001b[38;5;124m'\u001b[39m)\n\u001b[0;32m     40\u001b[0m \u001b[38;5;66;03m# optimization\u001b[39;00m\n\u001b[1;32m---> 41\u001b[0m study\u001b[38;5;241m.\u001b[39moptimize(\u001b[38;5;28;01mlambda\u001b[39;00m trial: objective(trial, X_train, y_train), n_trials\u001b[38;5;241m=\u001b[39mn_trials)\n\u001b[0;32m     42\u001b[0m best_params \u001b[38;5;241m=\u001b[39m study\u001b[38;5;241m.\u001b[39mbest_trial\u001b[38;5;241m.\u001b[39mparams\n\u001b[0;32m     43\u001b[0m \u001b[38;5;28mprint\u001b[39m(\u001b[38;5;124m\"\u001b[39m\u001b[38;5;124mBest Parameters:\u001b[39m\u001b[38;5;124m\"\u001b[39m, best_params)\n",
      "File \u001b[1;32m~\\anaconda3\\Lib\\site-packages\\optuna\\study\\study.py:451\u001b[0m, in \u001b[0;36mStudy.optimize\u001b[1;34m(self, func, n_trials, timeout, n_jobs, catch, callbacks, gc_after_trial, show_progress_bar)\u001b[0m\n\u001b[0;32m    348\u001b[0m \u001b[38;5;28;01mdef\u001b[39;00m \u001b[38;5;21moptimize\u001b[39m(\n\u001b[0;32m    349\u001b[0m     \u001b[38;5;28mself\u001b[39m,\n\u001b[0;32m    350\u001b[0m     func: ObjectiveFuncType,\n\u001b[1;32m   (...)\u001b[0m\n\u001b[0;32m    357\u001b[0m     show_progress_bar: \u001b[38;5;28mbool\u001b[39m \u001b[38;5;241m=\u001b[39m \u001b[38;5;28;01mFalse\u001b[39;00m,\n\u001b[0;32m    358\u001b[0m ) \u001b[38;5;241m-\u001b[39m\u001b[38;5;241m>\u001b[39m \u001b[38;5;28;01mNone\u001b[39;00m:\n\u001b[0;32m    359\u001b[0m \u001b[38;5;250m    \u001b[39m\u001b[38;5;124;03m\"\"\"Optimize an objective function.\u001b[39;00m\n\u001b[0;32m    360\u001b[0m \n\u001b[0;32m    361\u001b[0m \u001b[38;5;124;03m    Optimization is done by choosing a suitable set of hyperparameter values from a given\u001b[39;00m\n\u001b[1;32m   (...)\u001b[0m\n\u001b[0;32m    449\u001b[0m \u001b[38;5;124;03m            If nested invocation of this method occurs.\u001b[39;00m\n\u001b[0;32m    450\u001b[0m \u001b[38;5;124;03m    \"\"\"\u001b[39;00m\n\u001b[1;32m--> 451\u001b[0m     _optimize(\n\u001b[0;32m    452\u001b[0m         study\u001b[38;5;241m=\u001b[39m\u001b[38;5;28mself\u001b[39m,\n\u001b[0;32m    453\u001b[0m         func\u001b[38;5;241m=\u001b[39mfunc,\n\u001b[0;32m    454\u001b[0m         n_trials\u001b[38;5;241m=\u001b[39mn_trials,\n\u001b[0;32m    455\u001b[0m         timeout\u001b[38;5;241m=\u001b[39mtimeout,\n\u001b[0;32m    456\u001b[0m         n_jobs\u001b[38;5;241m=\u001b[39mn_jobs,\n\u001b[0;32m    457\u001b[0m         catch\u001b[38;5;241m=\u001b[39m\u001b[38;5;28mtuple\u001b[39m(catch) \u001b[38;5;28;01mif\u001b[39;00m \u001b[38;5;28misinstance\u001b[39m(catch, Iterable) \u001b[38;5;28;01melse\u001b[39;00m (catch,),\n\u001b[0;32m    458\u001b[0m         callbacks\u001b[38;5;241m=\u001b[39mcallbacks,\n\u001b[0;32m    459\u001b[0m         gc_after_trial\u001b[38;5;241m=\u001b[39mgc_after_trial,\n\u001b[0;32m    460\u001b[0m         show_progress_bar\u001b[38;5;241m=\u001b[39mshow_progress_bar,\n\u001b[0;32m    461\u001b[0m     )\n",
      "File \u001b[1;32m~\\anaconda3\\Lib\\site-packages\\optuna\\study\\_optimize.py:62\u001b[0m, in \u001b[0;36m_optimize\u001b[1;34m(study, func, n_trials, timeout, n_jobs, catch, callbacks, gc_after_trial, show_progress_bar)\u001b[0m\n\u001b[0;32m     60\u001b[0m \u001b[38;5;28;01mtry\u001b[39;00m:\n\u001b[0;32m     61\u001b[0m     \u001b[38;5;28;01mif\u001b[39;00m n_jobs \u001b[38;5;241m==\u001b[39m \u001b[38;5;241m1\u001b[39m:\n\u001b[1;32m---> 62\u001b[0m         _optimize_sequential(\n\u001b[0;32m     63\u001b[0m             study,\n\u001b[0;32m     64\u001b[0m             func,\n\u001b[0;32m     65\u001b[0m             n_trials,\n\u001b[0;32m     66\u001b[0m             timeout,\n\u001b[0;32m     67\u001b[0m             catch,\n\u001b[0;32m     68\u001b[0m             callbacks,\n\u001b[0;32m     69\u001b[0m             gc_after_trial,\n\u001b[0;32m     70\u001b[0m             reseed_sampler_rng\u001b[38;5;241m=\u001b[39m\u001b[38;5;28;01mFalse\u001b[39;00m,\n\u001b[0;32m     71\u001b[0m             time_start\u001b[38;5;241m=\u001b[39m\u001b[38;5;28;01mNone\u001b[39;00m,\n\u001b[0;32m     72\u001b[0m             progress_bar\u001b[38;5;241m=\u001b[39mprogress_bar,\n\u001b[0;32m     73\u001b[0m         )\n\u001b[0;32m     74\u001b[0m     \u001b[38;5;28;01melse\u001b[39;00m:\n\u001b[0;32m     75\u001b[0m         \u001b[38;5;28;01mif\u001b[39;00m n_jobs \u001b[38;5;241m==\u001b[39m \u001b[38;5;241m-\u001b[39m\u001b[38;5;241m1\u001b[39m:\n",
      "File \u001b[1;32m~\\anaconda3\\Lib\\site-packages\\optuna\\study\\_optimize.py:159\u001b[0m, in \u001b[0;36m_optimize_sequential\u001b[1;34m(study, func, n_trials, timeout, catch, callbacks, gc_after_trial, reseed_sampler_rng, time_start, progress_bar)\u001b[0m\n\u001b[0;32m    156\u001b[0m         \u001b[38;5;28;01mbreak\u001b[39;00m\n\u001b[0;32m    158\u001b[0m \u001b[38;5;28;01mtry\u001b[39;00m:\n\u001b[1;32m--> 159\u001b[0m     frozen_trial \u001b[38;5;241m=\u001b[39m _run_trial(study, func, catch)\n\u001b[0;32m    160\u001b[0m \u001b[38;5;28;01mfinally\u001b[39;00m:\n\u001b[0;32m    161\u001b[0m     \u001b[38;5;66;03m# The following line mitigates memory problems that can be occurred in some\u001b[39;00m\n\u001b[0;32m    162\u001b[0m     \u001b[38;5;66;03m# environments (e.g., services that use computing containers such as GitHub Actions).\u001b[39;00m\n\u001b[0;32m    163\u001b[0m     \u001b[38;5;66;03m# Please refer to the following PR for further details:\u001b[39;00m\n\u001b[0;32m    164\u001b[0m     \u001b[38;5;66;03m# https://github.com/optuna/optuna/pull/325.\u001b[39;00m\n\u001b[0;32m    165\u001b[0m     \u001b[38;5;28;01mif\u001b[39;00m gc_after_trial:\n",
      "File \u001b[1;32m~\\anaconda3\\Lib\\site-packages\\optuna\\study\\_optimize.py:247\u001b[0m, in \u001b[0;36m_run_trial\u001b[1;34m(study, func, catch)\u001b[0m\n\u001b[0;32m    240\u001b[0m         \u001b[38;5;28;01massert\u001b[39;00m \u001b[38;5;28;01mFalse\u001b[39;00m, \u001b[38;5;124m\"\u001b[39m\u001b[38;5;124mShould not reach.\u001b[39m\u001b[38;5;124m\"\u001b[39m\n\u001b[0;32m    242\u001b[0m \u001b[38;5;28;01mif\u001b[39;00m (\n\u001b[0;32m    243\u001b[0m     frozen_trial\u001b[38;5;241m.\u001b[39mstate \u001b[38;5;241m==\u001b[39m TrialState\u001b[38;5;241m.\u001b[39mFAIL\n\u001b[0;32m    244\u001b[0m     \u001b[38;5;129;01mand\u001b[39;00m func_err \u001b[38;5;129;01mis\u001b[39;00m \u001b[38;5;129;01mnot\u001b[39;00m \u001b[38;5;28;01mNone\u001b[39;00m\n\u001b[0;32m    245\u001b[0m     \u001b[38;5;129;01mand\u001b[39;00m \u001b[38;5;129;01mnot\u001b[39;00m \u001b[38;5;28misinstance\u001b[39m(func_err, catch)\n\u001b[0;32m    246\u001b[0m ):\n\u001b[1;32m--> 247\u001b[0m     \u001b[38;5;28;01mraise\u001b[39;00m func_err\n\u001b[0;32m    248\u001b[0m \u001b[38;5;28;01mreturn\u001b[39;00m frozen_trial\n",
      "File \u001b[1;32m~\\anaconda3\\Lib\\site-packages\\optuna\\study\\_optimize.py:196\u001b[0m, in \u001b[0;36m_run_trial\u001b[1;34m(study, func, catch)\u001b[0m\n\u001b[0;32m    194\u001b[0m \u001b[38;5;28;01mwith\u001b[39;00m get_heartbeat_thread(trial\u001b[38;5;241m.\u001b[39m_trial_id, study\u001b[38;5;241m.\u001b[39m_storage):\n\u001b[0;32m    195\u001b[0m     \u001b[38;5;28;01mtry\u001b[39;00m:\n\u001b[1;32m--> 196\u001b[0m         value_or_values \u001b[38;5;241m=\u001b[39m func(trial)\n\u001b[0;32m    197\u001b[0m     \u001b[38;5;28;01mexcept\u001b[39;00m exceptions\u001b[38;5;241m.\u001b[39mTrialPruned \u001b[38;5;28;01mas\u001b[39;00m e:\n\u001b[0;32m    198\u001b[0m         \u001b[38;5;66;03m# TODO(mamu): Handle multi-objective cases.\u001b[39;00m\n\u001b[0;32m    199\u001b[0m         state \u001b[38;5;241m=\u001b[39m TrialState\u001b[38;5;241m.\u001b[39mPRUNED\n",
      "Cell \u001b[1;32mIn[559], line 41\u001b[0m, in \u001b[0;36moptimize_hyperparameters.<locals>.<lambda>\u001b[1;34m(trial)\u001b[0m\n\u001b[0;32m     38\u001b[0m study \u001b[38;5;241m=\u001b[39m optuna\u001b[38;5;241m.\u001b[39mcreate_study(direction\u001b[38;5;241m=\u001b[39m\u001b[38;5;124m'\u001b[39m\u001b[38;5;124mmaximize\u001b[39m\u001b[38;5;124m'\u001b[39m)\n\u001b[0;32m     40\u001b[0m \u001b[38;5;66;03m# optimization\u001b[39;00m\n\u001b[1;32m---> 41\u001b[0m study\u001b[38;5;241m.\u001b[39moptimize(\u001b[38;5;28;01mlambda\u001b[39;00m trial: objective(trial, X_train, y_train), n_trials\u001b[38;5;241m=\u001b[39mn_trials)\n\u001b[0;32m     42\u001b[0m best_params \u001b[38;5;241m=\u001b[39m study\u001b[38;5;241m.\u001b[39mbest_trial\u001b[38;5;241m.\u001b[39mparams\n\u001b[0;32m     43\u001b[0m \u001b[38;5;28mprint\u001b[39m(\u001b[38;5;124m\"\u001b[39m\u001b[38;5;124mBest Parameters:\u001b[39m\u001b[38;5;124m\"\u001b[39m, best_params)\n",
      "Cell \u001b[1;32mIn[559], line 28\u001b[0m, in \u001b[0;36mobjective\u001b[1;34m(trial, X, y)\u001b[0m\n\u001b[0;32m     26\u001b[0m log_losses \u001b[38;5;241m=\u001b[39m []\n\u001b[0;32m     27\u001b[0m \u001b[38;5;28;01mfor\u001b[39;00m train_idx, test_idx \u001b[38;5;129;01min\u001b[39;00m tscv\u001b[38;5;241m.\u001b[39msplit(X):\n\u001b[1;32m---> 28\u001b[0m     X_train, X_test \u001b[38;5;241m=\u001b[39m X[train_idx], X[test_idx]\n\u001b[0;32m     29\u001b[0m     y_train, y_test \u001b[38;5;241m=\u001b[39m y[train_idx], y[test_idx]\n\u001b[0;32m     30\u001b[0m     pipeline\u001b[38;5;241m.\u001b[39mfit(X_train, y_train)\n",
      "File \u001b[1;32m~\\anaconda3\\Lib\\site-packages\\pandas\\core\\frame.py:3767\u001b[0m, in \u001b[0;36mDataFrame.__getitem__\u001b[1;34m(self, key)\u001b[0m\n\u001b[0;32m   3765\u001b[0m     \u001b[38;5;28;01mif\u001b[39;00m is_iterator(key):\n\u001b[0;32m   3766\u001b[0m         key \u001b[38;5;241m=\u001b[39m \u001b[38;5;28mlist\u001b[39m(key)\n\u001b[1;32m-> 3767\u001b[0m     indexer \u001b[38;5;241m=\u001b[39m \u001b[38;5;28mself\u001b[39m\u001b[38;5;241m.\u001b[39mcolumns\u001b[38;5;241m.\u001b[39m_get_indexer_strict(key, \u001b[38;5;124m\"\u001b[39m\u001b[38;5;124mcolumns\u001b[39m\u001b[38;5;124m\"\u001b[39m)[\u001b[38;5;241m1\u001b[39m]\n\u001b[0;32m   3769\u001b[0m \u001b[38;5;66;03m# take() does not accept boolean indexers\u001b[39;00m\n\u001b[0;32m   3770\u001b[0m \u001b[38;5;28;01mif\u001b[39;00m \u001b[38;5;28mgetattr\u001b[39m(indexer, \u001b[38;5;124m\"\u001b[39m\u001b[38;5;124mdtype\u001b[39m\u001b[38;5;124m\"\u001b[39m, \u001b[38;5;28;01mNone\u001b[39;00m) \u001b[38;5;241m==\u001b[39m \u001b[38;5;28mbool\u001b[39m:\n",
      "File \u001b[1;32m~\\anaconda3\\Lib\\site-packages\\pandas\\core\\indexes\\base.py:5877\u001b[0m, in \u001b[0;36mIndex._get_indexer_strict\u001b[1;34m(self, key, axis_name)\u001b[0m\n\u001b[0;32m   5874\u001b[0m \u001b[38;5;28;01melse\u001b[39;00m:\n\u001b[0;32m   5875\u001b[0m     keyarr, indexer, new_indexer \u001b[38;5;241m=\u001b[39m \u001b[38;5;28mself\u001b[39m\u001b[38;5;241m.\u001b[39m_reindex_non_unique(keyarr)\n\u001b[1;32m-> 5877\u001b[0m \u001b[38;5;28mself\u001b[39m\u001b[38;5;241m.\u001b[39m_raise_if_missing(keyarr, indexer, axis_name)\n\u001b[0;32m   5879\u001b[0m keyarr \u001b[38;5;241m=\u001b[39m \u001b[38;5;28mself\u001b[39m\u001b[38;5;241m.\u001b[39mtake(indexer)\n\u001b[0;32m   5880\u001b[0m \u001b[38;5;28;01mif\u001b[39;00m \u001b[38;5;28misinstance\u001b[39m(key, Index):\n\u001b[0;32m   5881\u001b[0m     \u001b[38;5;66;03m# GH 42790 - Preserve name from an Index\u001b[39;00m\n",
      "File \u001b[1;32m~\\anaconda3\\Lib\\site-packages\\pandas\\core\\indexes\\base.py:5938\u001b[0m, in \u001b[0;36mIndex._raise_if_missing\u001b[1;34m(self, key, indexer, axis_name)\u001b[0m\n\u001b[0;32m   5936\u001b[0m     \u001b[38;5;28;01mif\u001b[39;00m use_interval_msg:\n\u001b[0;32m   5937\u001b[0m         key \u001b[38;5;241m=\u001b[39m \u001b[38;5;28mlist\u001b[39m(key)\n\u001b[1;32m-> 5938\u001b[0m     \u001b[38;5;28;01mraise\u001b[39;00m \u001b[38;5;167;01mKeyError\u001b[39;00m(\u001b[38;5;124mf\u001b[39m\u001b[38;5;124m\"\u001b[39m\u001b[38;5;124mNone of [\u001b[39m\u001b[38;5;132;01m{\u001b[39;00mkey\u001b[38;5;132;01m}\u001b[39;00m\u001b[38;5;124m] are in the [\u001b[39m\u001b[38;5;132;01m{\u001b[39;00maxis_name\u001b[38;5;132;01m}\u001b[39;00m\u001b[38;5;124m]\u001b[39m\u001b[38;5;124m\"\u001b[39m)\n\u001b[0;32m   5940\u001b[0m not_found \u001b[38;5;241m=\u001b[39m \u001b[38;5;28mlist\u001b[39m(ensure_index(key)[missing_mask\u001b[38;5;241m.\u001b[39mnonzero()[\u001b[38;5;241m0\u001b[39m]]\u001b[38;5;241m.\u001b[39munique())\n\u001b[0;32m   5941\u001b[0m \u001b[38;5;28;01mraise\u001b[39;00m \u001b[38;5;167;01mKeyError\u001b[39;00m(\u001b[38;5;124mf\u001b[39m\u001b[38;5;124m\"\u001b[39m\u001b[38;5;132;01m{\u001b[39;00mnot_found\u001b[38;5;132;01m}\u001b[39;00m\u001b[38;5;124m not in index\u001b[39m\u001b[38;5;124m\"\u001b[39m)\n",
      "\u001b[1;31mKeyError\u001b[0m: \"None of [Index([  0,   1,   2,   3,   4,   5,   6,   7,   8,   9,\\n       ...\\n       205, 206, 207, 208, 209, 210, 211, 212, 213, 214],\\n      dtype='int32', length=215)] are in the [columns]\""
     ]
    }
   ],
   "source": [
    "best_pipeline, best_params = optimize_hyperparameters(X_train_selected, y_train, n_trials=100)"
   ]
  },
  {
   "cell_type": "code",
   "execution_count": null,
   "id": "6363cdec",
   "metadata": {},
   "outputs": [],
   "source": []
  },
  {
   "cell_type": "code",
   "execution_count": null,
   "id": "baa12463",
   "metadata": {},
   "outputs": [],
   "source": []
  },
  {
   "cell_type": "code",
   "execution_count": null,
   "id": "f6622a35",
   "metadata": {},
   "outputs": [],
   "source": []
  },
  {
   "cell_type": "code",
   "execution_count": null,
   "id": "1c205e01",
   "metadata": {},
   "outputs": [],
   "source": []
  },
  {
   "cell_type": "code",
   "execution_count": null,
   "id": "7b3227b8",
   "metadata": {},
   "outputs": [],
   "source": []
  },
  {
   "cell_type": "code",
   "execution_count": null,
   "id": "bcbc3040",
   "metadata": {},
   "outputs": [],
   "source": []
  },
  {
   "cell_type": "markdown",
   "id": "f81de29b",
   "metadata": {},
   "source": [
    "## References\n",
    "\n",
    "* [1]: JA244.5: Lecture Notes on *Supervised Learning II\" by Kannan Singaravelu, CQF Faculty\n",
    "* [2]: JA24P10: CQF Python Labs on *Trend prediction using Logistic Regression* by Kannan Singaravelu\n",
    "* [3]: JA244.6: Lecture Notes on *Decision Trees & Ensemble Models* by Dr. Panos Parpas, CQF Associate Faculty\n",
    "* [4]: JA24P11: CQF Python Labs on *Gradient Boosting for Price Prediction* by Kannan Singaravelu\n",
    "* [5]: JA244.4: Lecture Notes on *Supervised Learning I* by Kannan Singaravelu, CQF Faculty\n",
    "* [6]: JA244.4: Solutions on *Supervised Learning I* by Kannan Singaravelu, CQF Faculty\n",
    "* [7]: JA242.4: Lecture Notes on *Asset Returns: Key Imperial Stylized Facts* by Prof. Stephen Taylor, CQF Associate Faculty\n",
    "* [8]: [`sklearn.feature_selection.SelectKBest` documentation](https://scikit-learn.org/stable/modules/generated/sklearn.feature_selection.SelectKBest.html): retrieved on 2024-05-24\n",
    "* [9]: [`sklearn.ensemble.RandomForestClassifier` documentation](https://scikit-learn.org/stable/modules/generated/sklearn.ensemble.RandomForestClassifier.html): retrieved on 2024-05-25\n"
   ]
  },
  {
   "cell_type": "code",
   "execution_count": null,
   "id": "bf067cdc",
   "metadata": {},
   "outputs": [],
   "source": []
  }
 ],
 "metadata": {
  "kernelspec": {
   "display_name": "Python 3 (ipykernel)",
   "language": "python",
   "name": "python3"
  },
  "language_info": {
   "codemirror_mode": {
    "name": "ipython",
    "version": 3
   },
   "file_extension": ".py",
   "mimetype": "text/x-python",
   "name": "python",
   "nbconvert_exporter": "python",
   "pygments_lexer": "ipython3",
   "version": "3.11.5"
  }
 },
 "nbformat": 4,
 "nbformat_minor": 5
}
